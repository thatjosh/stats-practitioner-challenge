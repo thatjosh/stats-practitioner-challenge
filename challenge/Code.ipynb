{
 "cells": [
  {
   "cell_type": "code",
   "execution_count": null,
   "metadata": {},
   "outputs": [],
   "source": [
    "import pandas as pd\n",
    "import os\n",
    "\n",
    "# pip install python-dotenv\n",
    "\n",
    "file_path = os.getenv(\"FILE_PATH\")\n",
    "file_path"
   ]
  },
  {
   "cell_type": "code",
   "execution_count": 6,
   "metadata": {},
   "outputs": [
    {
     "name": "stdout",
     "output_type": "stream",
     "text": [
      "         Date   S&P 500 Index\n",
      "0  2024-12-31         5881.63\n",
      "1  2024-12-30         5906.94\n",
      "2  2024-12-27         5970.84\n",
      "3  2024-12-26         6037.59\n",
      "4  2024-12-24         6040.04\n"
     ]
    }
   ],
   "source": [
    "# Load the CSV file into a Pandas DataFrame\n",
    "file_path = ''\n",
    "SNP = pd.read_csv(f'{file_path}S&P 500 Index.csv')\n",
    "\n",
    "# Display the first few rows\n",
    "print(SNP.head())"
   ]
  }
 ],
 "metadata": {
  "kernelspec": {
   "display_name": "base",
   "language": "python",
   "name": "python3"
  },
  "language_info": {
   "codemirror_mode": {
    "name": "ipython",
    "version": 3
   },
   "file_extension": ".py",
   "mimetype": "text/x-python",
   "name": "python",
   "nbconvert_exporter": "python",
   "pygments_lexer": "ipython3",
   "version": "3.9.12"
  }
 },
 "nbformat": 4,
 "nbformat_minor": 2
}
