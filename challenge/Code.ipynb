{
 "cells": [
  {
   "cell_type": "code",
   "execution_count": 29,
   "metadata": {},
   "outputs": [
    {
     "data": {
      "text/plain": [
       "'/Users/benjaminang/prac2025/stats-practitioner-challenge/challenge'"
      ]
     },
     "execution_count": 29,
     "metadata": {},
     "output_type": "execute_result"
    }
   ],
   "source": [
    "import pandas as pd\n",
    "import numpy as np\n",
    "import os\n",
    "from dotenv import load_dotenv\n",
    "\n",
    "load_dotenv()\n",
    "file_path = os.getenv(\"FILE_PATH\")\n",
    "file_path"
   ]
  },
  {
   "cell_type": "code",
   "execution_count": 30,
   "metadata": {},
   "outputs": [],
   "source": [
    "SNP_prices_file = f'{file_path}/S&P 500 Index.csv'\n",
    "SNP_VIX_file = f'{file_path}/S&P 500 VIX.csv'"
   ]
  },
  {
   "cell_type": "markdown",
   "metadata": {},
   "source": [
    "### S&P500 Prices"
   ]
  },
  {
   "cell_type": "code",
   "execution_count": 31,
   "metadata": {},
   "outputs": [
    {
     "data": {
      "text/html": [
       "<div>\n",
       "<style scoped>\n",
       "    .dataframe tbody tr th:only-of-type {\n",
       "        vertical-align: middle;\n",
       "    }\n",
       "\n",
       "    .dataframe tbody tr th {\n",
       "        vertical-align: top;\n",
       "    }\n",
       "\n",
       "    .dataframe thead th {\n",
       "        text-align: right;\n",
       "    }\n",
       "</style>\n",
       "<table border=\"1\" class=\"dataframe\">\n",
       "  <thead>\n",
       "    <tr style=\"text-align: right;\">\n",
       "      <th></th>\n",
       "      <th>price</th>\n",
       "      <th>log_returns</th>\n",
       "    </tr>\n",
       "    <tr>\n",
       "      <th>date</th>\n",
       "      <th></th>\n",
       "      <th></th>\n",
       "    </tr>\n",
       "  </thead>\n",
       "  <tbody>\n",
       "    <tr>\n",
       "      <th>2015-01-05</th>\n",
       "      <td>2020.58</td>\n",
       "      <td>-0.018447</td>\n",
       "    </tr>\n",
       "    <tr>\n",
       "      <th>2015-01-06</th>\n",
       "      <td>2002.61</td>\n",
       "      <td>-0.008933</td>\n",
       "    </tr>\n",
       "    <tr>\n",
       "      <th>2015-01-07</th>\n",
       "      <td>2025.90</td>\n",
       "      <td>0.011563</td>\n",
       "    </tr>\n",
       "    <tr>\n",
       "      <th>2015-01-08</th>\n",
       "      <td>2062.14</td>\n",
       "      <td>0.017730</td>\n",
       "    </tr>\n",
       "    <tr>\n",
       "      <th>2015-01-09</th>\n",
       "      <td>2044.81</td>\n",
       "      <td>-0.008439</td>\n",
       "    </tr>\n",
       "  </tbody>\n",
       "</table>\n",
       "</div>"
      ],
      "text/plain": [
       "              price  log_returns\n",
       "date                            \n",
       "2015-01-05  2020.58    -0.018447\n",
       "2015-01-06  2002.61    -0.008933\n",
       "2015-01-07  2025.90     0.011563\n",
       "2015-01-08  2062.14     0.017730\n",
       "2015-01-09  2044.81    -0.008439"
      ]
     },
     "execution_count": 31,
     "metadata": {},
     "output_type": "execute_result"
    }
   ],
   "source": [
    "# Load the CSV file into df\n",
    "SNP = pd.read_csv(SNP_prices_file)\n",
    "SNP.columns = [\"date\", \"price\"]\n",
    "SNP[\"date\"] = pd.to_datetime(SNP[\"date\"])\n",
    "SNP = SNP.set_index(\"date\")\n",
    "SNP = SNP.sort_index(ascending=True)\n",
    "\n",
    "# Calculating log prices\n",
    "SNP[\"log_returns\"] = np.log(SNP[\"price\"]/ SNP[\"price\"].shift(1))\n",
    "SNP = SNP[1:]\n",
    "SNP.head()"
   ]
  },
  {
   "cell_type": "code",
   "execution_count": 32,
   "metadata": {},
   "outputs": [],
   "source": [
    "# import plotly.express as px\n",
    "# import plotly.graph_objects as go\n",
    "\n",
    "# # Assuming SNP is your DataFrame with 'date' and 'log_returns' columns\n",
    "# fig = go.Figure()\n",
    "\n",
    "# fig.add_trace(go.Scatter(\n",
    "#     x=SNP[\"date\"], \n",
    "#     y=SNP[\"log_returns\"], \n",
    "#     mode='lines+markers', \n",
    "#     name=\"S&P 500 Index\"\n",
    "# ))\n",
    "\n",
    "# fig.update_layout(\n",
    "#     title=\"S&P 500 Index Time Series\",\n",
    "#     xaxis_title=\"Date\",\n",
    "#     yaxis_title=\"Index Value\",\n",
    "#     xaxis=dict(rangeslider=dict(visible=True)),  # Adds a range slider for better navigation\n",
    "#     template=\"plotly_white\"  # Clean background\n",
    "# )\n",
    "\n",
    "# fig.show()"
   ]
  },
  {
   "cell_type": "code",
   "execution_count": 33,
   "metadata": {},
   "outputs": [
    {
     "data": {
      "text/html": [
       "<div>\n",
       "<style scoped>\n",
       "    .dataframe tbody tr th:only-of-type {\n",
       "        vertical-align: middle;\n",
       "    }\n",
       "\n",
       "    .dataframe tbody tr th {\n",
       "        vertical-align: top;\n",
       "    }\n",
       "\n",
       "    .dataframe thead th {\n",
       "        text-align: right;\n",
       "    }\n",
       "</style>\n",
       "<table border=\"1\" class=\"dataframe\">\n",
       "  <thead>\n",
       "    <tr style=\"text-align: right;\">\n",
       "      <th></th>\n",
       "      <th>price</th>\n",
       "      <th>log_returns</th>\n",
       "    </tr>\n",
       "    <tr>\n",
       "      <th>date</th>\n",
       "      <th></th>\n",
       "      <th></th>\n",
       "    </tr>\n",
       "  </thead>\n",
       "  <tbody>\n",
       "    <tr>\n",
       "      <th>2015-01-05</th>\n",
       "      <td>2020.58</td>\n",
       "      <td>-0.018447</td>\n",
       "    </tr>\n",
       "    <tr>\n",
       "      <th>2015-01-06</th>\n",
       "      <td>2002.61</td>\n",
       "      <td>-0.008933</td>\n",
       "    </tr>\n",
       "    <tr>\n",
       "      <th>2015-01-07</th>\n",
       "      <td>2025.90</td>\n",
       "      <td>0.011563</td>\n",
       "    </tr>\n",
       "    <tr>\n",
       "      <th>2015-01-08</th>\n",
       "      <td>2062.14</td>\n",
       "      <td>0.017730</td>\n",
       "    </tr>\n",
       "    <tr>\n",
       "      <th>2015-01-09</th>\n",
       "      <td>2044.81</td>\n",
       "      <td>-0.008439</td>\n",
       "    </tr>\n",
       "  </tbody>\n",
       "</table>\n",
       "</div>"
      ],
      "text/plain": [
       "              price  log_returns\n",
       "date                            \n",
       "2015-01-05  2020.58    -0.018447\n",
       "2015-01-06  2002.61    -0.008933\n",
       "2015-01-07  2025.90     0.011563\n",
       "2015-01-08  2062.14     0.017730\n",
       "2015-01-09  2044.81    -0.008439"
      ]
     },
     "execution_count": 33,
     "metadata": {},
     "output_type": "execute_result"
    }
   ],
   "source": [
    "# Define start and end dates\n",
    "SNP_training_start, SNP_training_end = \"2015-01-02\", \"2022-12-31\"\n",
    "SNP_testing_start, SNP_testing_end = \"2023-01-03\", \"2023-02-01\"\n",
    "\n",
    "# Filter the DataFrame\n",
    "SNP_training_df = SNP[(SNP.index >= SNP_training_start) & (SNP.index <= SNP_training_end)]\n",
    "SNP_testing_df = SNP[(SNP.index >= SNP_testing_start) & (SNP.index <= SNP_testing_end)]\n",
    "SNP_training_df.head()"
   ]
  },
  {
   "cell_type": "code",
   "execution_count": 34,
   "metadata": {},
   "outputs": [
    {
     "name": "stdout",
     "output_type": "stream",
     "text": [
      "Augmented Dickey-Fuller Test Results:\n",
      "ADF Statistic: -15.7254\n",
      "p-value: 0.0000\n",
      "Critical Values:\n",
      "   1%: -3.4330\n",
      "   5%: -2.8627\n",
      "   10%: -2.5674\n",
      "➡ Stationary\n",
      "\n",
      "==================================================\n",
      "\n",
      "KPSS Test Results:\n",
      "KPSS Statistic: 0.0495\n",
      "p-value: 0.1000\n",
      "Critical Values:\n",
      "   10%: 0.3470\n",
      "   5%: 0.4630\n",
      "   2.5%: 0.5740\n",
      "   1%: 0.7390\n",
      "➡ Stationary\n"
     ]
    },
    {
     "name": "stderr",
     "output_type": "stream",
     "text": [
      "/Users/benjaminang/anaconda3/lib/python3.10/site-packages/statsmodels/tsa/stattools.py:2022: InterpolationWarning: The test statistic is outside of the range of p-values available in the\n",
      "look-up table. The actual p-value is greater than the p-value returned.\n",
      "\n",
      "  warnings.warn(\n"
     ]
    }
   ],
   "source": [
    "import statsmodels.api as sm\n",
    "from statsmodels.tsa.stattools import adfuller, kpss\n",
    "\n",
    "def stationarity_tests(series):\n",
    "    \"\"\"\n",
    "    Performs ADF and KPSS tests on a time series.\n",
    "\n",
    "    Parameters:\n",
    "        series (pd.Series): The time series data.\n",
    "\n",
    "    Returns:\n",
    "        None (Prints test results)\n",
    "    \"\"\"\n",
    "    # Augmented Dickey-Fuller Test (ADF)\n",
    "    adf_result = adfuller(series, autolag='AIC')\n",
    "    print(\"Augmented Dickey-Fuller Test Results:\")\n",
    "    print(f\"ADF Statistic: {adf_result[0]:.4f}\")\n",
    "    print(f\"p-value: {adf_result[1]:.4f}\")\n",
    "    print(\"Critical Values:\")\n",
    "    for key, value in adf_result[4].items():\n",
    "        print(f\"   {key}: {value:.4f}\")\n",
    "    print(\"➡ Stationary\" if adf_result[1] < 0.05 else \"➡ Non-Stationary\")\n",
    "\n",
    "    print(\"\\n\" + \"=\"*50 + \"\\n\")\n",
    "\n",
    "    # KPSS Test\n",
    "    kpss_result = kpss(series, regression='c', nlags=\"auto\")  # 'c' = constant (level stationarity)\n",
    "    print(\"KPSS Test Results:\")\n",
    "    print(f\"KPSS Statistic: {kpss_result[0]:.4f}\")\n",
    "    print(f\"p-value: {kpss_result[1]:.4f}\")\n",
    "    print(\"Critical Values:\")\n",
    "    for key, value in kpss_result[3].items():\n",
    "        print(f\"   {key}: {value:.4f}\")\n",
    "    print(\"➡ Non-Stationary\" if kpss_result[1] < 0.05 else \"➡ Stationary\")\n",
    "\n",
    "# Run the tests on S&P 500 log returns\n",
    "stationarity_tests(SNP[\"log_returns\"])"
   ]
  },
  {
   "cell_type": "code",
   "execution_count": 35,
   "metadata": {},
   "outputs": [
    {
     "name": "stdout",
     "output_type": "stream",
     "text": [
      "Estimated Hurst Exponent: 0.5614\n"
     ]
    }
   ],
   "source": [
    "from hurst import compute_Hc\n",
    "\n",
    "SNP_hurst_est, c, data = compute_Hc(SNP_training_df[\"log_returns\"], kind='change', simplified=True)\n",
    "print(f\"Estimated Hurst Exponent: {SNP_hurst_est:.4f}\")"
   ]
  },
  {
   "cell_type": "code",
   "execution_count": 36,
   "metadata": {},
   "outputs": [
    {
     "data": {
      "application/vnd.plotly.v1+json": {
       "config": {
        "plotlyServerURL": "https://plot.ly"
       },
       "data": [
        {
         "line": {
          "color": "blue"
         },
         "mode": "lines",
         "name": "Actual Price",
         "type": "scatter",
         "x": [
          "2023-01-03T00:00:00",
          "2023-01-04T00:00:00",
          "2023-01-05T00:00:00",
          "2023-01-06T00:00:00",
          "2023-01-09T00:00:00",
          "2023-01-10T00:00:00",
          "2023-01-11T00:00:00",
          "2023-01-12T00:00:00",
          "2023-01-13T00:00:00",
          "2023-01-17T00:00:00",
          "2023-01-18T00:00:00",
          "2023-01-19T00:00:00",
          "2023-01-20T00:00:00",
          "2023-01-23T00:00:00",
          "2023-01-24T00:00:00",
          "2023-01-25T00:00:00",
          "2023-01-26T00:00:00",
          "2023-01-27T00:00:00",
          "2023-01-30T00:00:00",
          "2023-01-31T00:00:00",
          "2023-02-01T00:00:00"
         ],
         "y": [
          3824.14,
          3852.97,
          3808.1,
          3895.08,
          3892.09,
          3919.25,
          3969.61,
          3983.17,
          3999.09,
          3990.97,
          3928.86,
          3898.85,
          3972.61,
          4019.81,
          4016.95,
          4016.22,
          4060.43,
          4070.56,
          4017.77,
          4076.6,
          4119.21
         ]
        },
        {
         "line": {
          "color": "red",
          "dash": "dash"
         },
         "mode": "lines",
         "name": "Forecasted Price (fBM)",
         "type": "scatter",
         "x": [
          "2023-01-03T00:00:00",
          "2023-01-04T00:00:00",
          "2023-01-05T00:00:00",
          "2023-01-06T00:00:00",
          "2023-01-09T00:00:00",
          "2023-01-10T00:00:00",
          "2023-01-11T00:00:00",
          "2023-01-12T00:00:00",
          "2023-01-13T00:00:00",
          "2023-01-17T00:00:00",
          "2023-01-18T00:00:00",
          "2023-01-19T00:00:00",
          "2023-01-20T00:00:00",
          "2023-01-23T00:00:00",
          "2023-01-24T00:00:00",
          "2023-01-25T00:00:00",
          "2023-01-26T00:00:00",
          "2023-01-27T00:00:00",
          "2023-01-30T00:00:00",
          "2023-01-31T00:00:00",
          "2023-02-01T00:00:00"
         ],
         "y": [
          3839.5,
          3847.061077218673,
          3850.474913994701,
          3767.0213370950673,
          3763.733671428564,
          3795.8445221357892,
          3884.167224733328,
          3855.4088007631453,
          3880.5461100292337,
          3844.261797413008,
          3842.7464201768134,
          3842.4905615132484,
          3903.7835424896057,
          3837.754530760656,
          3880.8579135391956,
          3887.201131201905,
          3899.7115180289074,
          3846.66778858599,
          3902.1621014102247,
          3920.3098494007713,
          3963.0859831645434
         ]
        }
       ],
       "layout": {
        "template": {
         "data": {
          "bar": [
           {
            "error_x": {
             "color": "#2a3f5f"
            },
            "error_y": {
             "color": "#2a3f5f"
            },
            "marker": {
             "line": {
              "color": "white",
              "width": 0.5
             },
             "pattern": {
              "fillmode": "overlay",
              "size": 10,
              "solidity": 0.2
             }
            },
            "type": "bar"
           }
          ],
          "barpolar": [
           {
            "marker": {
             "line": {
              "color": "white",
              "width": 0.5
             },
             "pattern": {
              "fillmode": "overlay",
              "size": 10,
              "solidity": 0.2
             }
            },
            "type": "barpolar"
           }
          ],
          "carpet": [
           {
            "aaxis": {
             "endlinecolor": "#2a3f5f",
             "gridcolor": "#C8D4E3",
             "linecolor": "#C8D4E3",
             "minorgridcolor": "#C8D4E3",
             "startlinecolor": "#2a3f5f"
            },
            "baxis": {
             "endlinecolor": "#2a3f5f",
             "gridcolor": "#C8D4E3",
             "linecolor": "#C8D4E3",
             "minorgridcolor": "#C8D4E3",
             "startlinecolor": "#2a3f5f"
            },
            "type": "carpet"
           }
          ],
          "choropleth": [
           {
            "colorbar": {
             "outlinewidth": 0,
             "ticks": ""
            },
            "type": "choropleth"
           }
          ],
          "contour": [
           {
            "colorbar": {
             "outlinewidth": 0,
             "ticks": ""
            },
            "colorscale": [
             [
              0,
              "#0d0887"
             ],
             [
              0.1111111111111111,
              "#46039f"
             ],
             [
              0.2222222222222222,
              "#7201a8"
             ],
             [
              0.3333333333333333,
              "#9c179e"
             ],
             [
              0.4444444444444444,
              "#bd3786"
             ],
             [
              0.5555555555555556,
              "#d8576b"
             ],
             [
              0.6666666666666666,
              "#ed7953"
             ],
             [
              0.7777777777777778,
              "#fb9f3a"
             ],
             [
              0.8888888888888888,
              "#fdca26"
             ],
             [
              1,
              "#f0f921"
             ]
            ],
            "type": "contour"
           }
          ],
          "contourcarpet": [
           {
            "colorbar": {
             "outlinewidth": 0,
             "ticks": ""
            },
            "type": "contourcarpet"
           }
          ],
          "heatmap": [
           {
            "colorbar": {
             "outlinewidth": 0,
             "ticks": ""
            },
            "colorscale": [
             [
              0,
              "#0d0887"
             ],
             [
              0.1111111111111111,
              "#46039f"
             ],
             [
              0.2222222222222222,
              "#7201a8"
             ],
             [
              0.3333333333333333,
              "#9c179e"
             ],
             [
              0.4444444444444444,
              "#bd3786"
             ],
             [
              0.5555555555555556,
              "#d8576b"
             ],
             [
              0.6666666666666666,
              "#ed7953"
             ],
             [
              0.7777777777777778,
              "#fb9f3a"
             ],
             [
              0.8888888888888888,
              "#fdca26"
             ],
             [
              1,
              "#f0f921"
             ]
            ],
            "type": "heatmap"
           }
          ],
          "heatmapgl": [
           {
            "colorbar": {
             "outlinewidth": 0,
             "ticks": ""
            },
            "colorscale": [
             [
              0,
              "#0d0887"
             ],
             [
              0.1111111111111111,
              "#46039f"
             ],
             [
              0.2222222222222222,
              "#7201a8"
             ],
             [
              0.3333333333333333,
              "#9c179e"
             ],
             [
              0.4444444444444444,
              "#bd3786"
             ],
             [
              0.5555555555555556,
              "#d8576b"
             ],
             [
              0.6666666666666666,
              "#ed7953"
             ],
             [
              0.7777777777777778,
              "#fb9f3a"
             ],
             [
              0.8888888888888888,
              "#fdca26"
             ],
             [
              1,
              "#f0f921"
             ]
            ],
            "type": "heatmapgl"
           }
          ],
          "histogram": [
           {
            "marker": {
             "pattern": {
              "fillmode": "overlay",
              "size": 10,
              "solidity": 0.2
             }
            },
            "type": "histogram"
           }
          ],
          "histogram2d": [
           {
            "colorbar": {
             "outlinewidth": 0,
             "ticks": ""
            },
            "colorscale": [
             [
              0,
              "#0d0887"
             ],
             [
              0.1111111111111111,
              "#46039f"
             ],
             [
              0.2222222222222222,
              "#7201a8"
             ],
             [
              0.3333333333333333,
              "#9c179e"
             ],
             [
              0.4444444444444444,
              "#bd3786"
             ],
             [
              0.5555555555555556,
              "#d8576b"
             ],
             [
              0.6666666666666666,
              "#ed7953"
             ],
             [
              0.7777777777777778,
              "#fb9f3a"
             ],
             [
              0.8888888888888888,
              "#fdca26"
             ],
             [
              1,
              "#f0f921"
             ]
            ],
            "type": "histogram2d"
           }
          ],
          "histogram2dcontour": [
           {
            "colorbar": {
             "outlinewidth": 0,
             "ticks": ""
            },
            "colorscale": [
             [
              0,
              "#0d0887"
             ],
             [
              0.1111111111111111,
              "#46039f"
             ],
             [
              0.2222222222222222,
              "#7201a8"
             ],
             [
              0.3333333333333333,
              "#9c179e"
             ],
             [
              0.4444444444444444,
              "#bd3786"
             ],
             [
              0.5555555555555556,
              "#d8576b"
             ],
             [
              0.6666666666666666,
              "#ed7953"
             ],
             [
              0.7777777777777778,
              "#fb9f3a"
             ],
             [
              0.8888888888888888,
              "#fdca26"
             ],
             [
              1,
              "#f0f921"
             ]
            ],
            "type": "histogram2dcontour"
           }
          ],
          "mesh3d": [
           {
            "colorbar": {
             "outlinewidth": 0,
             "ticks": ""
            },
            "type": "mesh3d"
           }
          ],
          "parcoords": [
           {
            "line": {
             "colorbar": {
              "outlinewidth": 0,
              "ticks": ""
             }
            },
            "type": "parcoords"
           }
          ],
          "pie": [
           {
            "automargin": true,
            "type": "pie"
           }
          ],
          "scatter": [
           {
            "fillpattern": {
             "fillmode": "overlay",
             "size": 10,
             "solidity": 0.2
            },
            "type": "scatter"
           }
          ],
          "scatter3d": [
           {
            "line": {
             "colorbar": {
              "outlinewidth": 0,
              "ticks": ""
             }
            },
            "marker": {
             "colorbar": {
              "outlinewidth": 0,
              "ticks": ""
             }
            },
            "type": "scatter3d"
           }
          ],
          "scattercarpet": [
           {
            "marker": {
             "colorbar": {
              "outlinewidth": 0,
              "ticks": ""
             }
            },
            "type": "scattercarpet"
           }
          ],
          "scattergeo": [
           {
            "marker": {
             "colorbar": {
              "outlinewidth": 0,
              "ticks": ""
             }
            },
            "type": "scattergeo"
           }
          ],
          "scattergl": [
           {
            "marker": {
             "colorbar": {
              "outlinewidth": 0,
              "ticks": ""
             }
            },
            "type": "scattergl"
           }
          ],
          "scattermapbox": [
           {
            "marker": {
             "colorbar": {
              "outlinewidth": 0,
              "ticks": ""
             }
            },
            "type": "scattermapbox"
           }
          ],
          "scatterpolar": [
           {
            "marker": {
             "colorbar": {
              "outlinewidth": 0,
              "ticks": ""
             }
            },
            "type": "scatterpolar"
           }
          ],
          "scatterpolargl": [
           {
            "marker": {
             "colorbar": {
              "outlinewidth": 0,
              "ticks": ""
             }
            },
            "type": "scatterpolargl"
           }
          ],
          "scatterternary": [
           {
            "marker": {
             "colorbar": {
              "outlinewidth": 0,
              "ticks": ""
             }
            },
            "type": "scatterternary"
           }
          ],
          "surface": [
           {
            "colorbar": {
             "outlinewidth": 0,
             "ticks": ""
            },
            "colorscale": [
             [
              0,
              "#0d0887"
             ],
             [
              0.1111111111111111,
              "#46039f"
             ],
             [
              0.2222222222222222,
              "#7201a8"
             ],
             [
              0.3333333333333333,
              "#9c179e"
             ],
             [
              0.4444444444444444,
              "#bd3786"
             ],
             [
              0.5555555555555556,
              "#d8576b"
             ],
             [
              0.6666666666666666,
              "#ed7953"
             ],
             [
              0.7777777777777778,
              "#fb9f3a"
             ],
             [
              0.8888888888888888,
              "#fdca26"
             ],
             [
              1,
              "#f0f921"
             ]
            ],
            "type": "surface"
           }
          ],
          "table": [
           {
            "cells": {
             "fill": {
              "color": "#EBF0F8"
             },
             "line": {
              "color": "white"
             }
            },
            "header": {
             "fill": {
              "color": "#C8D4E3"
             },
             "line": {
              "color": "white"
             }
            },
            "type": "table"
           }
          ]
         },
         "layout": {
          "annotationdefaults": {
           "arrowcolor": "#2a3f5f",
           "arrowhead": 0,
           "arrowwidth": 1
          },
          "autotypenumbers": "strict",
          "coloraxis": {
           "colorbar": {
            "outlinewidth": 0,
            "ticks": ""
           }
          },
          "colorscale": {
           "diverging": [
            [
             0,
             "#8e0152"
            ],
            [
             0.1,
             "#c51b7d"
            ],
            [
             0.2,
             "#de77ae"
            ],
            [
             0.3,
             "#f1b6da"
            ],
            [
             0.4,
             "#fde0ef"
            ],
            [
             0.5,
             "#f7f7f7"
            ],
            [
             0.6,
             "#e6f5d0"
            ],
            [
             0.7,
             "#b8e186"
            ],
            [
             0.8,
             "#7fbc41"
            ],
            [
             0.9,
             "#4d9221"
            ],
            [
             1,
             "#276419"
            ]
           ],
           "sequential": [
            [
             0,
             "#0d0887"
            ],
            [
             0.1111111111111111,
             "#46039f"
            ],
            [
             0.2222222222222222,
             "#7201a8"
            ],
            [
             0.3333333333333333,
             "#9c179e"
            ],
            [
             0.4444444444444444,
             "#bd3786"
            ],
            [
             0.5555555555555556,
             "#d8576b"
            ],
            [
             0.6666666666666666,
             "#ed7953"
            ],
            [
             0.7777777777777778,
             "#fb9f3a"
            ],
            [
             0.8888888888888888,
             "#fdca26"
            ],
            [
             1,
             "#f0f921"
            ]
           ],
           "sequentialminus": [
            [
             0,
             "#0d0887"
            ],
            [
             0.1111111111111111,
             "#46039f"
            ],
            [
             0.2222222222222222,
             "#7201a8"
            ],
            [
             0.3333333333333333,
             "#9c179e"
            ],
            [
             0.4444444444444444,
             "#bd3786"
            ],
            [
             0.5555555555555556,
             "#d8576b"
            ],
            [
             0.6666666666666666,
             "#ed7953"
            ],
            [
             0.7777777777777778,
             "#fb9f3a"
            ],
            [
             0.8888888888888888,
             "#fdca26"
            ],
            [
             1,
             "#f0f921"
            ]
           ]
          },
          "colorway": [
           "#636efa",
           "#EF553B",
           "#00cc96",
           "#ab63fa",
           "#FFA15A",
           "#19d3f3",
           "#FF6692",
           "#B6E880",
           "#FF97FF",
           "#FECB52"
          ],
          "font": {
           "color": "#2a3f5f"
          },
          "geo": {
           "bgcolor": "white",
           "lakecolor": "white",
           "landcolor": "white",
           "showlakes": true,
           "showland": true,
           "subunitcolor": "#C8D4E3"
          },
          "hoverlabel": {
           "align": "left"
          },
          "hovermode": "closest",
          "mapbox": {
           "style": "light"
          },
          "paper_bgcolor": "white",
          "plot_bgcolor": "white",
          "polar": {
           "angularaxis": {
            "gridcolor": "#EBF0F8",
            "linecolor": "#EBF0F8",
            "ticks": ""
           },
           "bgcolor": "white",
           "radialaxis": {
            "gridcolor": "#EBF0F8",
            "linecolor": "#EBF0F8",
            "ticks": ""
           }
          },
          "scene": {
           "xaxis": {
            "backgroundcolor": "white",
            "gridcolor": "#DFE8F3",
            "gridwidth": 2,
            "linecolor": "#EBF0F8",
            "showbackground": true,
            "ticks": "",
            "zerolinecolor": "#EBF0F8"
           },
           "yaxis": {
            "backgroundcolor": "white",
            "gridcolor": "#DFE8F3",
            "gridwidth": 2,
            "linecolor": "#EBF0F8",
            "showbackground": true,
            "ticks": "",
            "zerolinecolor": "#EBF0F8"
           },
           "zaxis": {
            "backgroundcolor": "white",
            "gridcolor": "#DFE8F3",
            "gridwidth": 2,
            "linecolor": "#EBF0F8",
            "showbackground": true,
            "ticks": "",
            "zerolinecolor": "#EBF0F8"
           }
          },
          "shapedefaults": {
           "line": {
            "color": "#2a3f5f"
           }
          },
          "ternary": {
           "aaxis": {
            "gridcolor": "#DFE8F3",
            "linecolor": "#A2B1C6",
            "ticks": ""
           },
           "baxis": {
            "gridcolor": "#DFE8F3",
            "linecolor": "#A2B1C6",
            "ticks": ""
           },
           "bgcolor": "white",
           "caxis": {
            "gridcolor": "#DFE8F3",
            "linecolor": "#A2B1C6",
            "ticks": ""
           }
          },
          "title": {
           "x": 0.05
          },
          "xaxis": {
           "automargin": true,
           "gridcolor": "#EBF0F8",
           "linecolor": "#EBF0F8",
           "ticks": "",
           "title": {
            "standoff": 15
           },
           "zerolinecolor": "#EBF0F8",
           "zerolinewidth": 2
          },
          "yaxis": {
           "automargin": true,
           "gridcolor": "#EBF0F8",
           "linecolor": "#EBF0F8",
           "ticks": "",
           "title": {
            "standoff": 15
           },
           "zerolinecolor": "#EBF0F8",
           "zerolinewidth": 2
          }
         }
        },
        "title": {
         "text": "Stock Price Forecast using fBM (H=0.5613756839648871)"
        },
        "xaxis": {
         "title": {
          "text": "Date"
         }
        },
        "yaxis": {
         "title": {
          "text": "Stock Price"
         }
        }
       }
      }
     },
     "metadata": {},
     "output_type": "display_data"
    }
   ],
   "source": [
    "from stochastic.processes.continuous import FractionalBrownianMotion\n",
    "import numpy as np\n",
    "import random\n",
    "import plotly.graph_objects as go\n",
    "\n",
    "def simulate_fbm_prices(train_data, test_data, H):\n",
    "    \"\"\"\n",
    "    Simulate future stock prices using a geometric fractional Brownian motion model.\n",
    "    \n",
    "    Parameters:\n",
    "        train_data (DataFrame): Training data containing columns 'price' and 'log_returns'.\n",
    "        test_data (DataFrame): Testing data (used to determine the forecast horizon).\n",
    "        H (float): Hurst exponent for the fBM model.\n",
    "    \n",
    "    Returns:\n",
    "        np.ndarray: Array of simulated future prices.\n",
    "    \"\"\"\n",
    "    # Set a fixed seed for reproducibility\n",
    "    random.seed(42)\n",
    "    np.random.seed(42)\n",
    "    \n",
    "    # Calculate drift (μ) and volatility (σ) from training log returns\n",
    "    mu = train_data[\"log_returns\"].mean()\n",
    "    sigma = train_data[\"log_returns\"].std()\n",
    "\n",
    "    # Define Fractional Brownian Motion (fBM) model\n",
    "    n_days = len(test_data)\n",
    "    fbm = FractionalBrownianMotion(hurst=H, t=n_days - 1)\n",
    "    fbm_values = fbm.sample(n=n_days - 1)\n",
    "    \n",
    "    # Use the last known price from training data as the starting point\n",
    "    S0 = train_data['price'].iloc[-1]\n",
    "    simulated_prices = S0 * np.exp(mu * np.arange(n_days) + sigma * fbm_values)\n",
    "    \n",
    "    return simulated_prices\n",
    "\n",
    "def plot_actual_vs_simulated(test_data, simulated_prices, H):\n",
    "    \"\"\"\n",
    "    Create an interactive Plotly plot comparing the actual prices with simulated prices.\n",
    "    \n",
    "    Parameters:\n",
    "        test_data (DataFrame): DataFrame containing the actual price data with its index as dates.\n",
    "        simulated_prices (np.ndarray): Array of simulated prices.\n",
    "        H (float): Hurst exponent used in the simulation (for plot title).\n",
    "    \"\"\"\n",
    "    # Create a Plotly figure\n",
    "    fig = go.Figure()\n",
    "\n",
    "    # Add actual price trace\n",
    "    fig.add_trace(go.Scatter(\n",
    "        x=test_data.index,\n",
    "        y=test_data[\"price\"],\n",
    "        mode='lines',\n",
    "        name='Actual Price',\n",
    "        line=dict(color='blue')\n",
    "    ))\n",
    "\n",
    "    # Add simulated (forecasted) price trace\n",
    "    fig.add_trace(go.Scatter(\n",
    "        x=test_data.index,\n",
    "        y=simulated_prices,\n",
    "        mode='lines',\n",
    "        name='Forecasted Price (fBM)',\n",
    "        line=dict(color='red', dash='dash')\n",
    "    ))\n",
    "\n",
    "    # Update layout of the plot\n",
    "    fig.update_layout(\n",
    "        title=f\"Stock Price Forecast using fBM (H={H})\",\n",
    "        xaxis_title=\"Date\",\n",
    "        yaxis_title=\"Stock Price\",\n",
    "        template=\"plotly_white\"\n",
    "    )\n",
    "    \n",
    "    # Display the plot\n",
    "    fig.show()\n",
    "\n",
    "# Example usage:\n",
    "simulated_prices = simulate_fbm_prices(SNP_training_df, SNP_testing_df, SNP_hurst_est)\n",
    "plot_actual_vs_simulated(SNP_testing_df, simulated_prices, SNP_hurst_est)"
   ]
  },
  {
   "cell_type": "code",
   "execution_count": 37,
   "metadata": {},
   "outputs": [
    {
     "data": {
      "application/vnd.plotly.v1+json": {
       "config": {
        "plotlyServerURL": "https://plot.ly"
       },
       "data": [
        {
         "line": {
          "color": "rgba(255, 0, 0, 0.1)"
         },
         "mode": "lines",
         "name": "Simulation 1",
         "showlegend": false,
         "type": "scatter",
         "x": [
          "2023-01-03T00:00:00",
          "2023-01-04T00:00:00",
          "2023-01-05T00:00:00",
          "2023-01-06T00:00:00",
          "2023-01-09T00:00:00",
          "2023-01-10T00:00:00",
          "2023-01-11T00:00:00",
          "2023-01-12T00:00:00",
          "2023-01-13T00:00:00",
          "2023-01-17T00:00:00",
          "2023-01-18T00:00:00",
          "2023-01-19T00:00:00",
          "2023-01-20T00:00:00",
          "2023-01-23T00:00:00",
          "2023-01-24T00:00:00",
          "2023-01-25T00:00:00",
          "2023-01-26T00:00:00",
          "2023-01-27T00:00:00",
          "2023-01-30T00:00:00",
          "2023-01-31T00:00:00",
          "2023-02-01T00:00:00"
         ],
         "y": [
          3839.5,
          3840.68943801637,
          3835.852955382865,
          3788.21031621675,
          3710.3034396645753,
          3692.2960052605886,
          3721.400804466759,
          3786.3220599143747,
          3786.3648756540883,
          3840.742580010656,
          3957.997801123783,
          3978.2534458888927,
          3977.2788456126887,
          4042.892305760406,
          4090.0807467144737,
          4105.126054117282,
          4152.072450922847,
          4086.155595505959,
          4126.009908320948,
          4169.300835617996,
          4200.343707900992
         ]
        },
        {
         "line": {
          "color": "rgba(255, 0, 0, 0.1)"
         },
         "mode": "lines",
         "name": "Simulation 2",
         "showlegend": false,
         "type": "scatter",
         "x": [
          "2023-01-03T00:00:00",
          "2023-01-04T00:00:00",
          "2023-01-05T00:00:00",
          "2023-01-06T00:00:00",
          "2023-01-09T00:00:00",
          "2023-01-10T00:00:00",
          "2023-01-11T00:00:00",
          "2023-01-12T00:00:00",
          "2023-01-13T00:00:00",
          "2023-01-17T00:00:00",
          "2023-01-18T00:00:00",
          "2023-01-19T00:00:00",
          "2023-01-20T00:00:00",
          "2023-01-23T00:00:00",
          "2023-01-24T00:00:00",
          "2023-01-25T00:00:00",
          "2023-01-26T00:00:00",
          "2023-01-27T00:00:00",
          "2023-01-30T00:00:00",
          "2023-01-31T00:00:00",
          "2023-02-01T00:00:00"
         ],
         "y": [
          3839.5,
          3840.68943801637,
          3818.099174739427,
          3823.1954299223016,
          3788.4502823271564,
          3818.6753081860793,
          3817.209337288276,
          3779.9150884500905,
          3804.7680918093515,
          3807.819094776214,
          3868.3775229107814,
          3888.713775016201,
          3865.322476604679,
          3894.957533325615,
          3871.313958942644,
          3814.3713434483457,
          3777.9442221595755,
          3803.8277146272762,
          3813.73344601235,
          3909.348676959734,
          3910.171959258605
         ]
        },
        {
         "line": {
          "color": "rgba(255, 0, 0, 0.1)"
         },
         "mode": "lines",
         "name": "Simulation 3",
         "showlegend": false,
         "type": "scatter",
         "x": [
          "2023-01-03T00:00:00",
          "2023-01-04T00:00:00",
          "2023-01-05T00:00:00",
          "2023-01-06T00:00:00",
          "2023-01-09T00:00:00",
          "2023-01-10T00:00:00",
          "2023-01-11T00:00:00",
          "2023-01-12T00:00:00",
          "2023-01-13T00:00:00",
          "2023-01-17T00:00:00",
          "2023-01-18T00:00:00",
          "2023-01-19T00:00:00",
          "2023-01-20T00:00:00",
          "2023-01-23T00:00:00",
          "2023-01-24T00:00:00",
          "2023-01-25T00:00:00",
          "2023-01-26T00:00:00",
          "2023-01-27T00:00:00",
          "2023-01-30T00:00:00",
          "2023-01-31T00:00:00",
          "2023-02-01T00:00:00"
         ],
         "y": [
          3839.5,
          3840.68943801637,
          3907.2109473219343,
          3856.0918748753843,
          3793.5405251488082,
          3827.9734191625853,
          3793.667203413119,
          3749.0018358160023,
          3724.2576126944846,
          3658.4653842875905,
          3639.9833206115563,
          3613.2042161578656,
          3657.042306655967,
          3708.725792128189,
          3731.499730974628,
          3737.721745788585,
          3673.5026696004784,
          3576.8508691437664,
          3525.353486241487,
          3489.6998158283536,
          3484.328518949758
         ]
        },
        {
         "line": {
          "color": "rgba(255, 0, 0, 0.1)"
         },
         "mode": "lines",
         "name": "Simulation 4",
         "showlegend": false,
         "type": "scatter",
         "x": [
          "2023-01-03T00:00:00",
          "2023-01-04T00:00:00",
          "2023-01-05T00:00:00",
          "2023-01-06T00:00:00",
          "2023-01-09T00:00:00",
          "2023-01-10T00:00:00",
          "2023-01-11T00:00:00",
          "2023-01-12T00:00:00",
          "2023-01-13T00:00:00",
          "2023-01-17T00:00:00",
          "2023-01-18T00:00:00",
          "2023-01-19T00:00:00",
          "2023-01-20T00:00:00",
          "2023-01-23T00:00:00",
          "2023-01-24T00:00:00",
          "2023-01-25T00:00:00",
          "2023-01-26T00:00:00",
          "2023-01-27T00:00:00",
          "2023-01-30T00:00:00",
          "2023-01-31T00:00:00",
          "2023-02-01T00:00:00"
         ],
         "y": [
          3839.5,
          3840.68943801637,
          3817.197460388973,
          3820.9982863716587,
          3821.2113921027694,
          3800.697741935672,
          3888.1221917033213,
          3844.708866662974,
          3849.2430396278896,
          3875.8021076088776,
          3876.625598952734,
          3788.5122811788137,
          3814.464162702149,
          3818.940323525539,
          3808.9894547547196,
          3843.304317405138,
          3862.0997216120268,
          3926.015201184892,
          3966.17339175729,
          3930.828081847195,
          3975.2502179161484
         ]
        },
        {
         "line": {
          "color": "rgba(255, 0, 0, 0.1)"
         },
         "mode": "lines",
         "name": "Simulation 5",
         "showlegend": false,
         "type": "scatter",
         "x": [
          "2023-01-03T00:00:00",
          "2023-01-04T00:00:00",
          "2023-01-05T00:00:00",
          "2023-01-06T00:00:00",
          "2023-01-09T00:00:00",
          "2023-01-10T00:00:00",
          "2023-01-11T00:00:00",
          "2023-01-12T00:00:00",
          "2023-01-13T00:00:00",
          "2023-01-17T00:00:00",
          "2023-01-18T00:00:00",
          "2023-01-19T00:00:00",
          "2023-01-20T00:00:00",
          "2023-01-23T00:00:00",
          "2023-01-24T00:00:00",
          "2023-01-25T00:00:00",
          "2023-01-26T00:00:00",
          "2023-01-27T00:00:00",
          "2023-01-30T00:00:00",
          "2023-01-31T00:00:00",
          "2023-02-01T00:00:00"
         ],
         "y": [
          3839.5,
          3840.68943801637,
          3781.880400692336,
          3759.779766127668,
          3752.400218098972,
          3730.9030478150557,
          3758.427028667998,
          3764.014125688685,
          3831.87130335233,
          3879.703562246865,
          3911.807019017116,
          3908.5730654843737,
          3940.0780501720105,
          3925.836968206339,
          3890.7136191995096,
          3879.1264632825196,
          3922.550610029901,
          3861.8734615643248,
          3815.7181008571547,
          3779.330399682061,
          3808.0652756805157
         ]
        },
        {
         "line": {
          "color": "rgba(255, 0, 0, 0.1)"
         },
         "mode": "lines",
         "name": "Simulation 6",
         "showlegend": false,
         "type": "scatter",
         "x": [
          "2023-01-03T00:00:00",
          "2023-01-04T00:00:00",
          "2023-01-05T00:00:00",
          "2023-01-06T00:00:00",
          "2023-01-09T00:00:00",
          "2023-01-10T00:00:00",
          "2023-01-11T00:00:00",
          "2023-01-12T00:00:00",
          "2023-01-13T00:00:00",
          "2023-01-17T00:00:00",
          "2023-01-18T00:00:00",
          "2023-01-19T00:00:00",
          "2023-01-20T00:00:00",
          "2023-01-23T00:00:00",
          "2023-01-24T00:00:00",
          "2023-01-25T00:00:00",
          "2023-01-26T00:00:00",
          "2023-01-27T00:00:00",
          "2023-01-30T00:00:00",
          "2023-01-31T00:00:00",
          "2023-02-01T00:00:00"
         ],
         "y": [
          3839.5,
          3840.68943801637,
          3860.707523950875,
          3822.8691250027327,
          3787.8165664087323,
          3828.377445094578,
          3838.300707439785,
          3814.1453325900234,
          3831.8261366206834,
          3841.5653708096615,
          3850.503481835303,
          3804.778565717237,
          3790.5480088859795,
          3860.3754488036384,
          3851.5880100278837,
          3786.031140342755,
          3840.777788840277,
          3866.5419477485752,
          3908.130657593147,
          3970.9397435394644,
          4007.4386681272763
         ]
        },
        {
         "line": {
          "color": "rgba(255, 0, 0, 0.1)"
         },
         "mode": "lines",
         "name": "Simulation 7",
         "showlegend": false,
         "type": "scatter",
         "x": [
          "2023-01-03T00:00:00",
          "2023-01-04T00:00:00",
          "2023-01-05T00:00:00",
          "2023-01-06T00:00:00",
          "2023-01-09T00:00:00",
          "2023-01-10T00:00:00",
          "2023-01-11T00:00:00",
          "2023-01-12T00:00:00",
          "2023-01-13T00:00:00",
          "2023-01-17T00:00:00",
          "2023-01-18T00:00:00",
          "2023-01-19T00:00:00",
          "2023-01-20T00:00:00",
          "2023-01-23T00:00:00",
          "2023-01-24T00:00:00",
          "2023-01-25T00:00:00",
          "2023-01-26T00:00:00",
          "2023-01-27T00:00:00",
          "2023-01-30T00:00:00",
          "2023-01-31T00:00:00",
          "2023-02-01T00:00:00"
         ],
         "y": [
          3839.5,
          3840.68943801637,
          3826.676395644084,
          3811.8215513128416,
          3812.3793236594183,
          3800.5868404635817,
          3750.6640249298207,
          3859.149101115987,
          3880.255708485537,
          3940.4107235797437,
          3903.146150534407,
          3892.8624444825687,
          3843.367112018266,
          3739.2096559838837,
          3779.1308767757637,
          3815.6886566859826,
          3771.270357623634,
          3822.342040985303,
          3849.0312366689177,
          3861.5061622716016,
          3840.9055297325035
         ]
        },
        {
         "line": {
          "color": "rgba(255, 0, 0, 0.1)"
         },
         "mode": "lines",
         "name": "Simulation 8",
         "showlegend": false,
         "type": "scatter",
         "x": [
          "2023-01-03T00:00:00",
          "2023-01-04T00:00:00",
          "2023-01-05T00:00:00",
          "2023-01-06T00:00:00",
          "2023-01-09T00:00:00",
          "2023-01-10T00:00:00",
          "2023-01-11T00:00:00",
          "2023-01-12T00:00:00",
          "2023-01-13T00:00:00",
          "2023-01-17T00:00:00",
          "2023-01-18T00:00:00",
          "2023-01-19T00:00:00",
          "2023-01-20T00:00:00",
          "2023-01-23T00:00:00",
          "2023-01-24T00:00:00",
          "2023-01-25T00:00:00",
          "2023-01-26T00:00:00",
          "2023-01-27T00:00:00",
          "2023-01-30T00:00:00",
          "2023-01-31T00:00:00",
          "2023-02-01T00:00:00"
         ],
         "y": [
          3839.5,
          3840.68943801637,
          3895.1626418750534,
          3990.590310527236,
          3976.6309226378467,
          3997.8885080629916,
          3945.992601806059,
          3931.912070263145,
          3833.8125811844398,
          3836.834546898224,
          3907.863513192033,
          3917.4450048018016,
          3945.5317188032686,
          3847.518517062887,
          3808.803497741656,
          3810.034643118594,
          3795.4043560197238,
          3880.652234036419,
          3908.0682696298804,
          3958.0669041906763,
          3957.361840385546
         ]
        },
        {
         "line": {
          "color": "rgba(255, 0, 0, 0.1)"
         },
         "mode": "lines",
         "name": "Simulation 9",
         "showlegend": false,
         "type": "scatter",
         "x": [
          "2023-01-03T00:00:00",
          "2023-01-04T00:00:00",
          "2023-01-05T00:00:00",
          "2023-01-06T00:00:00",
          "2023-01-09T00:00:00",
          "2023-01-10T00:00:00",
          "2023-01-11T00:00:00",
          "2023-01-12T00:00:00",
          "2023-01-13T00:00:00",
          "2023-01-17T00:00:00",
          "2023-01-18T00:00:00",
          "2023-01-19T00:00:00",
          "2023-01-20T00:00:00",
          "2023-01-23T00:00:00",
          "2023-01-24T00:00:00",
          "2023-01-25T00:00:00",
          "2023-01-26T00:00:00",
          "2023-01-27T00:00:00",
          "2023-01-30T00:00:00",
          "2023-01-31T00:00:00",
          "2023-02-01T00:00:00"
         ],
         "y": [
          3839.5,
          3840.68943801637,
          3852.511263616981,
          3851.9137712971683,
          3916.7078960217577,
          3926.503499695507,
          3966.299886053972,
          3934.330912084808,
          3888.7933656041996,
          3898.684680497973,
          3856.7379883320023,
          3790.5517805450313,
          3694.6806945858507,
          3630.6110931185035,
          3585.8660542721523,
          3612.5177612707444,
          3588.8069783970277,
          3626.79271572209,
          3683.6840333380096,
          3672.2179013266637,
          3744.6951122959244
         ]
        },
        {
         "line": {
          "color": "rgba(255, 0, 0, 0.1)"
         },
         "mode": "lines",
         "name": "Simulation 10",
         "showlegend": false,
         "type": "scatter",
         "x": [
          "2023-01-03T00:00:00",
          "2023-01-04T00:00:00",
          "2023-01-05T00:00:00",
          "2023-01-06T00:00:00",
          "2023-01-09T00:00:00",
          "2023-01-10T00:00:00",
          "2023-01-11T00:00:00",
          "2023-01-12T00:00:00",
          "2023-01-13T00:00:00",
          "2023-01-17T00:00:00",
          "2023-01-18T00:00:00",
          "2023-01-19T00:00:00",
          "2023-01-20T00:00:00",
          "2023-01-23T00:00:00",
          "2023-01-24T00:00:00",
          "2023-01-25T00:00:00",
          "2023-01-26T00:00:00",
          "2023-01-27T00:00:00",
          "2023-01-30T00:00:00",
          "2023-01-31T00:00:00",
          "2023-02-01T00:00:00"
         ],
         "y": [
          3839.5,
          3840.68943801637,
          3762.144408723171,
          3692.594356554203,
          3630.0897252748455,
          3675.4713820984093,
          3696.716540173308,
          3650.192225635674,
          3638.5415336512838,
          3568.646963899841,
          3601.5308341865807,
          3630.7528462925493,
          3722.7365643651992,
          3752.4843784526324,
          3827.6779163489523,
          3788.6768072746872,
          3709.9042263344045,
          3706.055266859339,
          3707.6582618302527,
          3775.585120039481,
          3747.50085909568
         ]
        },
        {
         "line": {
          "color": "rgba(255, 0, 0, 0.1)"
         },
         "mode": "lines",
         "name": "Simulation 11",
         "showlegend": false,
         "type": "scatter",
         "x": [
          "2023-01-03T00:00:00",
          "2023-01-04T00:00:00",
          "2023-01-05T00:00:00",
          "2023-01-06T00:00:00",
          "2023-01-09T00:00:00",
          "2023-01-10T00:00:00",
          "2023-01-11T00:00:00",
          "2023-01-12T00:00:00",
          "2023-01-13T00:00:00",
          "2023-01-17T00:00:00",
          "2023-01-18T00:00:00",
          "2023-01-19T00:00:00",
          "2023-01-20T00:00:00",
          "2023-01-23T00:00:00",
          "2023-01-24T00:00:00",
          "2023-01-25T00:00:00",
          "2023-01-26T00:00:00",
          "2023-01-27T00:00:00",
          "2023-01-30T00:00:00",
          "2023-01-31T00:00:00",
          "2023-02-01T00:00:00"
         ],
         "y": [
          3839.5,
          3840.68943801637,
          3835.486558520551,
          3914.2949996668435,
          3923.014313995367,
          3886.92342218334,
          3904.988632955864,
          3856.474388143034,
          3800.230376222347,
          3808.935427597835,
          3849.71123110061,
          3858.5015442391546,
          3925.4830383621666,
          3966.949923014752,
          3997.187948867845,
          3955.7415715311954,
          3941.46813653976,
          3872.7254321691,
          3805.392488739542,
          3779.9894946475647,
          3782.9290634493423
         ]
        },
        {
         "line": {
          "color": "rgba(255, 0, 0, 0.1)"
         },
         "mode": "lines",
         "name": "Simulation 12",
         "showlegend": false,
         "type": "scatter",
         "x": [
          "2023-01-03T00:00:00",
          "2023-01-04T00:00:00",
          "2023-01-05T00:00:00",
          "2023-01-06T00:00:00",
          "2023-01-09T00:00:00",
          "2023-01-10T00:00:00",
          "2023-01-11T00:00:00",
          "2023-01-12T00:00:00",
          "2023-01-13T00:00:00",
          "2023-01-17T00:00:00",
          "2023-01-18T00:00:00",
          "2023-01-19T00:00:00",
          "2023-01-20T00:00:00",
          "2023-01-23T00:00:00",
          "2023-01-24T00:00:00",
          "2023-01-25T00:00:00",
          "2023-01-26T00:00:00",
          "2023-01-27T00:00:00",
          "2023-01-30T00:00:00",
          "2023-01-31T00:00:00",
          "2023-02-01T00:00:00"
         ],
         "y": [
          3839.5,
          3840.68943801637,
          3802.579808180689,
          3798.137096733013,
          3858.5978840557573,
          3914.1820236962544,
          3887.463552680177,
          3855.0553577143473,
          3864.6353747361804,
          3858.009429989387,
          3841.4443589598563,
          3836.9258231024432,
          3859.061367556941,
          3755.383423062213,
          3706.0432394733944,
          3703.0973815560715,
          3761.9574157650964,
          3739.458080381145,
          3688.9655567048812,
          3704.7530468778255,
          3690.197040026334
         ]
        },
        {
         "line": {
          "color": "rgba(255, 0, 0, 0.1)"
         },
         "mode": "lines",
         "name": "Simulation 13",
         "showlegend": false,
         "type": "scatter",
         "x": [
          "2023-01-03T00:00:00",
          "2023-01-04T00:00:00",
          "2023-01-05T00:00:00",
          "2023-01-06T00:00:00",
          "2023-01-09T00:00:00",
          "2023-01-10T00:00:00",
          "2023-01-11T00:00:00",
          "2023-01-12T00:00:00",
          "2023-01-13T00:00:00",
          "2023-01-17T00:00:00",
          "2023-01-18T00:00:00",
          "2023-01-19T00:00:00",
          "2023-01-20T00:00:00",
          "2023-01-23T00:00:00",
          "2023-01-24T00:00:00",
          "2023-01-25T00:00:00",
          "2023-01-26T00:00:00",
          "2023-01-27T00:00:00",
          "2023-01-30T00:00:00",
          "2023-01-31T00:00:00",
          "2023-02-01T00:00:00"
         ],
         "y": [
          3839.5,
          3840.68943801637,
          3860.786392118213,
          3806.51974413809,
          3800.0267721725972,
          3732.8423597067663,
          3698.577965200461,
          3649.3268426364707,
          3614.817917960331,
          3646.434691202779,
          3608.311888280347,
          3611.3170475123306,
          3629.656297046039,
          3673.0552050235456,
          3667.554412757778,
          3586.0216036312136,
          3543.5577727266323,
          3531.894978478602,
          3453.8277239586573,
          3469.63311384189,
          3354.4294837631332
         ]
        },
        {
         "line": {
          "color": "rgba(255, 0, 0, 0.1)"
         },
         "mode": "lines",
         "name": "Simulation 14",
         "showlegend": false,
         "type": "scatter",
         "x": [
          "2023-01-03T00:00:00",
          "2023-01-04T00:00:00",
          "2023-01-05T00:00:00",
          "2023-01-06T00:00:00",
          "2023-01-09T00:00:00",
          "2023-01-10T00:00:00",
          "2023-01-11T00:00:00",
          "2023-01-12T00:00:00",
          "2023-01-13T00:00:00",
          "2023-01-17T00:00:00",
          "2023-01-18T00:00:00",
          "2023-01-19T00:00:00",
          "2023-01-20T00:00:00",
          "2023-01-23T00:00:00",
          "2023-01-24T00:00:00",
          "2023-01-25T00:00:00",
          "2023-01-26T00:00:00",
          "2023-01-27T00:00:00",
          "2023-01-30T00:00:00",
          "2023-01-31T00:00:00",
          "2023-02-01T00:00:00"
         ],
         "y": [
          3839.5,
          3840.68943801637,
          3892.7200707465986,
          3892.7194657084615,
          3927.5556904570067,
          3993.016007577838,
          4032.3067427526057,
          3961.3833414576775,
          3989.185809612647,
          3975.875099786207,
          4003.8142782331975,
          4040.753798640621,
          3983.8934781699386,
          3895.828163859689,
          3859.5769363767786,
          3764.162201426286,
          3736.5491707224946,
          3753.0646004503083,
          3777.2883367781837,
          3800.5041619638687,
          3787.366951709464
         ]
        },
        {
         "line": {
          "color": "rgba(255, 0, 0, 0.1)"
         },
         "mode": "lines",
         "name": "Simulation 15",
         "showlegend": false,
         "type": "scatter",
         "x": [
          "2023-01-03T00:00:00",
          "2023-01-04T00:00:00",
          "2023-01-05T00:00:00",
          "2023-01-06T00:00:00",
          "2023-01-09T00:00:00",
          "2023-01-10T00:00:00",
          "2023-01-11T00:00:00",
          "2023-01-12T00:00:00",
          "2023-01-13T00:00:00",
          "2023-01-17T00:00:00",
          "2023-01-18T00:00:00",
          "2023-01-19T00:00:00",
          "2023-01-20T00:00:00",
          "2023-01-23T00:00:00",
          "2023-01-24T00:00:00",
          "2023-01-25T00:00:00",
          "2023-01-26T00:00:00",
          "2023-01-27T00:00:00",
          "2023-01-30T00:00:00",
          "2023-01-31T00:00:00",
          "2023-02-01T00:00:00"
         ],
         "y": [
          3839.5,
          3840.68943801637,
          3868.533328235742,
          3905.6407950835255,
          3955.2189200012017,
          3942.421259413027,
          3924.5874570252613,
          3941.3136833036847,
          3955.765570035328,
          3831.6860161986215,
          3863.563137481195,
          3871.734492041707,
          3836.561162172028,
          3879.5193004332828,
          3853.212633953067,
          3789.097382953232,
          3744.59845492979,
          3763.133864278692,
          3818.6503538112165,
          3839.1621300043457,
          3850.798266763402
         ]
        },
        {
         "line": {
          "color": "rgba(255, 0, 0, 0.1)"
         },
         "mode": "lines",
         "name": "Simulation 16",
         "showlegend": false,
         "type": "scatter",
         "x": [
          "2023-01-03T00:00:00",
          "2023-01-04T00:00:00",
          "2023-01-05T00:00:00",
          "2023-01-06T00:00:00",
          "2023-01-09T00:00:00",
          "2023-01-10T00:00:00",
          "2023-01-11T00:00:00",
          "2023-01-12T00:00:00",
          "2023-01-13T00:00:00",
          "2023-01-17T00:00:00",
          "2023-01-18T00:00:00",
          "2023-01-19T00:00:00",
          "2023-01-20T00:00:00",
          "2023-01-23T00:00:00",
          "2023-01-24T00:00:00",
          "2023-01-25T00:00:00",
          "2023-01-26T00:00:00",
          "2023-01-27T00:00:00",
          "2023-01-30T00:00:00",
          "2023-01-31T00:00:00",
          "2023-02-01T00:00:00"
         ],
         "y": [
          3839.5,
          3840.68943801637,
          3809.1989952358526,
          3859.3551432557006,
          3868.595516204028,
          3890.1385654354526,
          3884.9974655317596,
          3909.1076321864293,
          3931.3252892827195,
          3922.5051489515977,
          3896.2162734817784,
          3921.9486242457456,
          3943.730969381882,
          3946.342263653433,
          4002.573284018826,
          4034.5498008322666,
          4071.9937152207845,
          4015.408104409173,
          4051.794711818152,
          4117.077377169591,
          4131.798215446164
         ]
        },
        {
         "line": {
          "color": "rgba(255, 0, 0, 0.1)"
         },
         "mode": "lines",
         "name": "Simulation 17",
         "showlegend": false,
         "type": "scatter",
         "x": [
          "2023-01-03T00:00:00",
          "2023-01-04T00:00:00",
          "2023-01-05T00:00:00",
          "2023-01-06T00:00:00",
          "2023-01-09T00:00:00",
          "2023-01-10T00:00:00",
          "2023-01-11T00:00:00",
          "2023-01-12T00:00:00",
          "2023-01-13T00:00:00",
          "2023-01-17T00:00:00",
          "2023-01-18T00:00:00",
          "2023-01-19T00:00:00",
          "2023-01-20T00:00:00",
          "2023-01-23T00:00:00",
          "2023-01-24T00:00:00",
          "2023-01-25T00:00:00",
          "2023-01-26T00:00:00",
          "2023-01-27T00:00:00",
          "2023-01-30T00:00:00",
          "2023-01-31T00:00:00",
          "2023-02-01T00:00:00"
         ],
         "y": [
          3839.5,
          3840.68943801637,
          3849.273142505982,
          3861.8322789851773,
          3935.878261888249,
          3918.2460971467067,
          3894.0567048711105,
          3966.5473234820647,
          3962.5027997139155,
          3932.6405655611884,
          3879.291413701592,
          3887.945745597714,
          3919.646328849806,
          3929.96525570623,
          3959.755337994214,
          3991.2439123699714,
          3938.348529739417,
          3969.6883254666845,
          3926.1811256133187,
          3962.683682184197,
          4042.3590675139094
         ]
        },
        {
         "line": {
          "color": "rgba(255, 0, 0, 0.1)"
         },
         "mode": "lines",
         "name": "Simulation 18",
         "showlegend": false,
         "type": "scatter",
         "x": [
          "2023-01-03T00:00:00",
          "2023-01-04T00:00:00",
          "2023-01-05T00:00:00",
          "2023-01-06T00:00:00",
          "2023-01-09T00:00:00",
          "2023-01-10T00:00:00",
          "2023-01-11T00:00:00",
          "2023-01-12T00:00:00",
          "2023-01-13T00:00:00",
          "2023-01-17T00:00:00",
          "2023-01-18T00:00:00",
          "2023-01-19T00:00:00",
          "2023-01-20T00:00:00",
          "2023-01-23T00:00:00",
          "2023-01-24T00:00:00",
          "2023-01-25T00:00:00",
          "2023-01-26T00:00:00",
          "2023-01-27T00:00:00",
          "2023-01-30T00:00:00",
          "2023-01-31T00:00:00",
          "2023-02-01T00:00:00"
         ],
         "y": [
          3839.5,
          3840.68943801637,
          3844.9146711573117,
          3917.3764602515093,
          3909.8698149759084,
          3879.116297588406,
          3830.1426315561066,
          3798.632257765501,
          3826.33938446804,
          3756.816989554262,
          3693.370036345932,
          3675.1183426104044,
          3688.040753077685,
          3680.2976894646486,
          3712.7046407167236,
          3712.8574708266083,
          3659.1399126823067,
          3713.8072470907164,
          3711.873050304052,
          3824.9394119300373,
          3802.176074091332
         ]
        },
        {
         "line": {
          "color": "rgba(255, 0, 0, 0.1)"
         },
         "mode": "lines",
         "name": "Simulation 19",
         "showlegend": false,
         "type": "scatter",
         "x": [
          "2023-01-03T00:00:00",
          "2023-01-04T00:00:00",
          "2023-01-05T00:00:00",
          "2023-01-06T00:00:00",
          "2023-01-09T00:00:00",
          "2023-01-10T00:00:00",
          "2023-01-11T00:00:00",
          "2023-01-12T00:00:00",
          "2023-01-13T00:00:00",
          "2023-01-17T00:00:00",
          "2023-01-18T00:00:00",
          "2023-01-19T00:00:00",
          "2023-01-20T00:00:00",
          "2023-01-23T00:00:00",
          "2023-01-24T00:00:00",
          "2023-01-25T00:00:00",
          "2023-01-26T00:00:00",
          "2023-01-27T00:00:00",
          "2023-01-30T00:00:00",
          "2023-01-31T00:00:00",
          "2023-02-01T00:00:00"
         ],
         "y": [
          3839.5,
          3840.68943801637,
          3834.216753317085,
          3762.839098835577,
          3778.0654097592733,
          3721.036862273186,
          3720.4260798846426,
          3697.930659476559,
          3667.8667388689273,
          3694.940938569283,
          3738.8456616644207,
          3776.318135862058,
          3808.958983323688,
          3796.441251967348,
          3773.1931939044666,
          3787.951515832439,
          3842.3786995799783,
          3841.1953578396237,
          3885.5155669692863,
          3868.790241008826,
          3875.8789024227945
         ]
        },
        {
         "line": {
          "color": "rgba(255, 0, 0, 0.1)"
         },
         "mode": "lines",
         "name": "Simulation 20",
         "showlegend": false,
         "type": "scatter",
         "x": [
          "2023-01-03T00:00:00",
          "2023-01-04T00:00:00",
          "2023-01-05T00:00:00",
          "2023-01-06T00:00:00",
          "2023-01-09T00:00:00",
          "2023-01-10T00:00:00",
          "2023-01-11T00:00:00",
          "2023-01-12T00:00:00",
          "2023-01-13T00:00:00",
          "2023-01-17T00:00:00",
          "2023-01-18T00:00:00",
          "2023-01-19T00:00:00",
          "2023-01-20T00:00:00",
          "2023-01-23T00:00:00",
          "2023-01-24T00:00:00",
          "2023-01-25T00:00:00",
          "2023-01-26T00:00:00",
          "2023-01-27T00:00:00",
          "2023-01-30T00:00:00",
          "2023-01-31T00:00:00",
          "2023-02-01T00:00:00"
         ],
         "y": [
          3839.5,
          3840.68943801637,
          3807.2917600095434,
          3804.674850781206,
          3826.090431823913,
          3880.5686591274307,
          3813.0409340627148,
          3852.351958736538,
          3829.2120343145125,
          3866.6766486540228,
          3900.1660781719042,
          3919.6685275120562,
          3872.3750015516525,
          3863.762794289195,
          3849.15534527593,
          3909.606143538794,
          3902.628200799388,
          3962.688616735803,
          3934.442162106029,
          3980.59699473727,
          4047.6145651171614
         ]
        },
        {
         "line": {
          "color": "rgba(255, 0, 0, 0.1)"
         },
         "mode": "lines",
         "name": "Simulation 21",
         "showlegend": false,
         "type": "scatter",
         "x": [
          "2023-01-03T00:00:00",
          "2023-01-04T00:00:00",
          "2023-01-05T00:00:00",
          "2023-01-06T00:00:00",
          "2023-01-09T00:00:00",
          "2023-01-10T00:00:00",
          "2023-01-11T00:00:00",
          "2023-01-12T00:00:00",
          "2023-01-13T00:00:00",
          "2023-01-17T00:00:00",
          "2023-01-18T00:00:00",
          "2023-01-19T00:00:00",
          "2023-01-20T00:00:00",
          "2023-01-23T00:00:00",
          "2023-01-24T00:00:00",
          "2023-01-25T00:00:00",
          "2023-01-26T00:00:00",
          "2023-01-27T00:00:00",
          "2023-01-30T00:00:00",
          "2023-01-31T00:00:00",
          "2023-02-01T00:00:00"
         ],
         "y": [
          3839.5,
          3840.68943801637,
          3916.1374478192074,
          3917.7397084293348,
          3902.1848522645732,
          3883.7095074583804,
          3814.777935163556,
          3825.1733083338886,
          3817.3207997740506,
          3794.064850850607,
          3763.128599874808,
          3837.806733143909,
          3893.551183088171,
          3919.7661505447118,
          3996.1036012080845,
          4064.366745466405,
          4038.6062182262935,
          4118.040046962831,
          4117.454046932059,
          4134.3543921502505,
          4083.317649340093
         ]
        },
        {
         "line": {
          "color": "rgba(255, 0, 0, 0.1)"
         },
         "mode": "lines",
         "name": "Simulation 22",
         "showlegend": false,
         "type": "scatter",
         "x": [
          "2023-01-03T00:00:00",
          "2023-01-04T00:00:00",
          "2023-01-05T00:00:00",
          "2023-01-06T00:00:00",
          "2023-01-09T00:00:00",
          "2023-01-10T00:00:00",
          "2023-01-11T00:00:00",
          "2023-01-12T00:00:00",
          "2023-01-13T00:00:00",
          "2023-01-17T00:00:00",
          "2023-01-18T00:00:00",
          "2023-01-19T00:00:00",
          "2023-01-20T00:00:00",
          "2023-01-23T00:00:00",
          "2023-01-24T00:00:00",
          "2023-01-25T00:00:00",
          "2023-01-26T00:00:00",
          "2023-01-27T00:00:00",
          "2023-01-30T00:00:00",
          "2023-01-31T00:00:00",
          "2023-02-01T00:00:00"
         ],
         "y": [
          3839.5,
          3840.68943801637,
          3803.497719327509,
          3846.012242604011,
          3804.1289241607096,
          3852.8823977298107,
          3824.4554058913063,
          3915.5234916694226,
          3852.841519932286,
          3846.332851466334,
          3843.697935673815,
          3863.2463277961415,
          3906.828978374636,
          3817.808277250113,
          3824.868932054153,
          3803.4190128766713,
          3735.0631304536823,
          3670.6434298448435,
          3639.0519579208353,
          3677.6278825412523,
          3634.2633480195764
         ]
        },
        {
         "line": {
          "color": "rgba(255, 0, 0, 0.1)"
         },
         "mode": "lines",
         "name": "Simulation 23",
         "showlegend": false,
         "type": "scatter",
         "x": [
          "2023-01-03T00:00:00",
          "2023-01-04T00:00:00",
          "2023-01-05T00:00:00",
          "2023-01-06T00:00:00",
          "2023-01-09T00:00:00",
          "2023-01-10T00:00:00",
          "2023-01-11T00:00:00",
          "2023-01-12T00:00:00",
          "2023-01-13T00:00:00",
          "2023-01-17T00:00:00",
          "2023-01-18T00:00:00",
          "2023-01-19T00:00:00",
          "2023-01-20T00:00:00",
          "2023-01-23T00:00:00",
          "2023-01-24T00:00:00",
          "2023-01-25T00:00:00",
          "2023-01-26T00:00:00",
          "2023-01-27T00:00:00",
          "2023-01-30T00:00:00",
          "2023-01-31T00:00:00",
          "2023-02-01T00:00:00"
         ],
         "y": [
          3839.5,
          3840.68943801637,
          3845.5930106600695,
          3863.08387063569,
          3874.354875939563,
          3947.183617687498,
          3886.5764910675325,
          3913.7415983520273,
          3940.4720555130034,
          3967.415941993236,
          3979.694956620589,
          4014.7352884929182,
          4046.684406615611,
          4095.3519361520703,
          4120.339497595731,
          4164.137899807534,
          4170.798520434822,
          4220.717577637909,
          4166.974233748213,
          4136.463831336952,
          4110.638591799624
         ]
        },
        {
         "line": {
          "color": "rgba(255, 0, 0, 0.1)"
         },
         "mode": "lines",
         "name": "Simulation 24",
         "showlegend": false,
         "type": "scatter",
         "x": [
          "2023-01-03T00:00:00",
          "2023-01-04T00:00:00",
          "2023-01-05T00:00:00",
          "2023-01-06T00:00:00",
          "2023-01-09T00:00:00",
          "2023-01-10T00:00:00",
          "2023-01-11T00:00:00",
          "2023-01-12T00:00:00",
          "2023-01-13T00:00:00",
          "2023-01-17T00:00:00",
          "2023-01-18T00:00:00",
          "2023-01-19T00:00:00",
          "2023-01-20T00:00:00",
          "2023-01-23T00:00:00",
          "2023-01-24T00:00:00",
          "2023-01-25T00:00:00",
          "2023-01-26T00:00:00",
          "2023-01-27T00:00:00",
          "2023-01-30T00:00:00",
          "2023-01-31T00:00:00",
          "2023-02-01T00:00:00"
         ],
         "y": [
          3839.5,
          3840.68943801637,
          3905.987915281783,
          3988.329457528319,
          4040.5678064113526,
          4101.132850783697,
          4112.01018797305,
          4100.644542960852,
          4135.572148375017,
          4192.681739676624,
          4246.988372098866,
          4254.999410777011,
          4294.943057508756,
          4300.742527804959,
          4200.261931420033,
          4047.7177165122303,
          4039.167398793691,
          4007.4417219465527,
          4018.3491115945662,
          4120.610288596712,
          4129.601696994394
         ]
        },
        {
         "line": {
          "color": "rgba(255, 0, 0, 0.1)"
         },
         "mode": "lines",
         "name": "Simulation 25",
         "showlegend": false,
         "type": "scatter",
         "x": [
          "2023-01-03T00:00:00",
          "2023-01-04T00:00:00",
          "2023-01-05T00:00:00",
          "2023-01-06T00:00:00",
          "2023-01-09T00:00:00",
          "2023-01-10T00:00:00",
          "2023-01-11T00:00:00",
          "2023-01-12T00:00:00",
          "2023-01-13T00:00:00",
          "2023-01-17T00:00:00",
          "2023-01-18T00:00:00",
          "2023-01-19T00:00:00",
          "2023-01-20T00:00:00",
          "2023-01-23T00:00:00",
          "2023-01-24T00:00:00",
          "2023-01-25T00:00:00",
          "2023-01-26T00:00:00",
          "2023-01-27T00:00:00",
          "2023-01-30T00:00:00",
          "2023-01-31T00:00:00",
          "2023-02-01T00:00:00"
         ],
         "y": [
          3839.5,
          3840.68943801637,
          3837.38853692441,
          3831.401598686404,
          3807.350655426454,
          3847.7530190672787,
          3850.119934361608,
          3829.360650352848,
          3785.3575052451574,
          3808.0436922568683,
          3863.690383776083,
          3878.3240622184203,
          3866.4807260289836,
          3889.4812401409863,
          3841.183254214118,
          3772.7777410132258,
          3758.377088106075,
          3781.0821483566033,
          3811.8181922213216,
          3788.9451849620314,
          3746.024954824388
         ]
        },
        {
         "line": {
          "color": "rgba(255, 0, 0, 0.1)"
         },
         "mode": "lines",
         "name": "Simulation 26",
         "showlegend": false,
         "type": "scatter",
         "x": [
          "2023-01-03T00:00:00",
          "2023-01-04T00:00:00",
          "2023-01-05T00:00:00",
          "2023-01-06T00:00:00",
          "2023-01-09T00:00:00",
          "2023-01-10T00:00:00",
          "2023-01-11T00:00:00",
          "2023-01-12T00:00:00",
          "2023-01-13T00:00:00",
          "2023-01-17T00:00:00",
          "2023-01-18T00:00:00",
          "2023-01-19T00:00:00",
          "2023-01-20T00:00:00",
          "2023-01-23T00:00:00",
          "2023-01-24T00:00:00",
          "2023-01-25T00:00:00",
          "2023-01-26T00:00:00",
          "2023-01-27T00:00:00",
          "2023-01-30T00:00:00",
          "2023-01-31T00:00:00",
          "2023-02-01T00:00:00"
         ],
         "y": [
          3839.5,
          3840.68943801637,
          3779.7724740582407,
          3705.5020060048682,
          3702.7130674792547,
          3662.6799365056395,
          3640.0312214799014,
          3618.6745196296492,
          3688.4595644445094,
          3670.9464260031386,
          3700.808245888821,
          3730.52676149468,
          3741.5119365176374,
          3773.9837598612603,
          3741.1433413956875,
          3751.1569390102236,
          3758.8181303904657,
          3720.339221752383,
          3597.2542167425368,
          3695.7496065387877,
          3734.9634368224088
         ]
        },
        {
         "line": {
          "color": "rgba(255, 0, 0, 0.1)"
         },
         "mode": "lines",
         "name": "Simulation 27",
         "showlegend": false,
         "type": "scatter",
         "x": [
          "2023-01-03T00:00:00",
          "2023-01-04T00:00:00",
          "2023-01-05T00:00:00",
          "2023-01-06T00:00:00",
          "2023-01-09T00:00:00",
          "2023-01-10T00:00:00",
          "2023-01-11T00:00:00",
          "2023-01-12T00:00:00",
          "2023-01-13T00:00:00",
          "2023-01-17T00:00:00",
          "2023-01-18T00:00:00",
          "2023-01-19T00:00:00",
          "2023-01-20T00:00:00",
          "2023-01-23T00:00:00",
          "2023-01-24T00:00:00",
          "2023-01-25T00:00:00",
          "2023-01-26T00:00:00",
          "2023-01-27T00:00:00",
          "2023-01-30T00:00:00",
          "2023-01-31T00:00:00",
          "2023-02-01T00:00:00"
         ],
         "y": [
          3839.5,
          3840.68943801637,
          3840.0854133126277,
          3922.0987110920028,
          3932.5313766693,
          3966.5207516111223,
          3972.7248343879596,
          3957.465064477411,
          3928.7611201752748,
          3907.816181336623,
          3886.0027332075033,
          3906.33988266816,
          3863.804621417736,
          3825.007640051316,
          3843.6780836675775,
          3806.1678164106265,
          3856.3706609232395,
          3810.8970040042527,
          3836.5623946400024,
          3878.4517302163435,
          3900.829671316433
         ]
        },
        {
         "line": {
          "color": "rgba(255, 0, 0, 0.1)"
         },
         "mode": "lines",
         "name": "Simulation 28",
         "showlegend": false,
         "type": "scatter",
         "x": [
          "2023-01-03T00:00:00",
          "2023-01-04T00:00:00",
          "2023-01-05T00:00:00",
          "2023-01-06T00:00:00",
          "2023-01-09T00:00:00",
          "2023-01-10T00:00:00",
          "2023-01-11T00:00:00",
          "2023-01-12T00:00:00",
          "2023-01-13T00:00:00",
          "2023-01-17T00:00:00",
          "2023-01-18T00:00:00",
          "2023-01-19T00:00:00",
          "2023-01-20T00:00:00",
          "2023-01-23T00:00:00",
          "2023-01-24T00:00:00",
          "2023-01-25T00:00:00",
          "2023-01-26T00:00:00",
          "2023-01-27T00:00:00",
          "2023-01-30T00:00:00",
          "2023-01-31T00:00:00",
          "2023-02-01T00:00:00"
         ],
         "y": [
          3839.5,
          3840.68943801637,
          3844.929929328769,
          3805.3760390686393,
          3778.842631462679,
          3742.5680547277925,
          3814.4808715679796,
          3805.964632344097,
          3808.453283956337,
          3849.2202025752117,
          3824.9843879818745,
          3808.131030805358,
          3789.8121383727084,
          3858.456525435291,
          3897.894611313423,
          3864.388766095792,
          3921.218463547988,
          3861.0819445063653,
          3844.3636211260937,
          3912.5873285630373,
          3923.140551953209
         ]
        },
        {
         "line": {
          "color": "rgba(255, 0, 0, 0.1)"
         },
         "mode": "lines",
         "name": "Simulation 29",
         "showlegend": false,
         "type": "scatter",
         "x": [
          "2023-01-03T00:00:00",
          "2023-01-04T00:00:00",
          "2023-01-05T00:00:00",
          "2023-01-06T00:00:00",
          "2023-01-09T00:00:00",
          "2023-01-10T00:00:00",
          "2023-01-11T00:00:00",
          "2023-01-12T00:00:00",
          "2023-01-13T00:00:00",
          "2023-01-17T00:00:00",
          "2023-01-18T00:00:00",
          "2023-01-19T00:00:00",
          "2023-01-20T00:00:00",
          "2023-01-23T00:00:00",
          "2023-01-24T00:00:00",
          "2023-01-25T00:00:00",
          "2023-01-26T00:00:00",
          "2023-01-27T00:00:00",
          "2023-01-30T00:00:00",
          "2023-01-31T00:00:00",
          "2023-02-01T00:00:00"
         ],
         "y": [
          3839.5,
          3840.68943801637,
          3876.5708848780623,
          3903.846059282313,
          3871.600407798508,
          3931.043373037363,
          3898.8946178567303,
          3923.823281231435,
          3854.168151097808,
          3859.6311816131406,
          3888.7507693045586,
          3845.4236611386477,
          3724.13820741273,
          3726.332810644283,
          3676.0860569799115,
          3710.42471447935,
          3706.1008597800264,
          3746.8646174597666,
          3742.747937752309,
          3658.745292575578,
          3693.7469667216847
         ]
        },
        {
         "line": {
          "color": "rgba(255, 0, 0, 0.1)"
         },
         "mode": "lines",
         "name": "Simulation 30",
         "showlegend": false,
         "type": "scatter",
         "x": [
          "2023-01-03T00:00:00",
          "2023-01-04T00:00:00",
          "2023-01-05T00:00:00",
          "2023-01-06T00:00:00",
          "2023-01-09T00:00:00",
          "2023-01-10T00:00:00",
          "2023-01-11T00:00:00",
          "2023-01-12T00:00:00",
          "2023-01-13T00:00:00",
          "2023-01-17T00:00:00",
          "2023-01-18T00:00:00",
          "2023-01-19T00:00:00",
          "2023-01-20T00:00:00",
          "2023-01-23T00:00:00",
          "2023-01-24T00:00:00",
          "2023-01-25T00:00:00",
          "2023-01-26T00:00:00",
          "2023-01-27T00:00:00",
          "2023-01-30T00:00:00",
          "2023-01-31T00:00:00",
          "2023-02-01T00:00:00"
         ],
         "y": [
          3839.5,
          3840.68943801637,
          3880.3140813341342,
          3912.7565845198806,
          3945.5821742293724,
          3987.901502483637,
          4055.3051897452538,
          4076.981417413193,
          4109.496185639061,
          4102.671111723323,
          4104.41361242715,
          4109.020913981168,
          4072.473992759826,
          4038.2263672609943,
          4113.163257668282,
          4179.108899013248,
          4224.061693157028,
          4249.489815460635,
          4219.22524780676,
          4233.5120931558085,
          4209.073843721674
         ]
        },
        {
         "line": {
          "color": "rgba(255, 0, 0, 0.1)"
         },
         "mode": "lines",
         "name": "Simulation 31",
         "showlegend": false,
         "type": "scatter",
         "x": [
          "2023-01-03T00:00:00",
          "2023-01-04T00:00:00",
          "2023-01-05T00:00:00",
          "2023-01-06T00:00:00",
          "2023-01-09T00:00:00",
          "2023-01-10T00:00:00",
          "2023-01-11T00:00:00",
          "2023-01-12T00:00:00",
          "2023-01-13T00:00:00",
          "2023-01-17T00:00:00",
          "2023-01-18T00:00:00",
          "2023-01-19T00:00:00",
          "2023-01-20T00:00:00",
          "2023-01-23T00:00:00",
          "2023-01-24T00:00:00",
          "2023-01-25T00:00:00",
          "2023-01-26T00:00:00",
          "2023-01-27T00:00:00",
          "2023-01-30T00:00:00",
          "2023-01-31T00:00:00",
          "2023-02-01T00:00:00"
         ],
         "y": [
          3839.5,
          3840.68943801637,
          3852.220347409622,
          3825.8299482607913,
          3864.7212189774473,
          3895.517336326255,
          3961.6010971503238,
          3866.483066484469,
          3877.344497927775,
          3899.3908052540173,
          3901.361191150382,
          3873.9635416551146,
          3766.123575566627,
          3722.6895913608455,
          3758.531450781944,
          3752.2337977495004,
          3786.029814258905,
          3822.4471036007,
          3867.197693988674,
          3916.306105440357,
          3965.64587473659
         ]
        },
        {
         "line": {
          "color": "rgba(255, 0, 0, 0.1)"
         },
         "mode": "lines",
         "name": "Simulation 32",
         "showlegend": false,
         "type": "scatter",
         "x": [
          "2023-01-03T00:00:00",
          "2023-01-04T00:00:00",
          "2023-01-05T00:00:00",
          "2023-01-06T00:00:00",
          "2023-01-09T00:00:00",
          "2023-01-10T00:00:00",
          "2023-01-11T00:00:00",
          "2023-01-12T00:00:00",
          "2023-01-13T00:00:00",
          "2023-01-17T00:00:00",
          "2023-01-18T00:00:00",
          "2023-01-19T00:00:00",
          "2023-01-20T00:00:00",
          "2023-01-23T00:00:00",
          "2023-01-24T00:00:00",
          "2023-01-25T00:00:00",
          "2023-01-26T00:00:00",
          "2023-01-27T00:00:00",
          "2023-01-30T00:00:00",
          "2023-01-31T00:00:00",
          "2023-02-01T00:00:00"
         ],
         "y": [
          3839.5,
          3840.68943801637,
          3749.3505081035796,
          3691.659480471696,
          3720.493343285909,
          3721.6664692055574,
          3707.3602332195946,
          3742.631864913045,
          3792.1353265565367,
          3772.1272321028314,
          3779.1129680998824,
          3729.236774121095,
          3728.240190479396,
          3764.7586684383377,
          3796.3386882932873,
          3713.569603268207,
          3718.4869560189286,
          3647.3991959426257,
          3623.1434189618344,
          3587.886440349405,
          3585.3514102851523
         ]
        },
        {
         "line": {
          "color": "rgba(255, 0, 0, 0.1)"
         },
         "mode": "lines",
         "name": "Simulation 33",
         "showlegend": false,
         "type": "scatter",
         "x": [
          "2023-01-03T00:00:00",
          "2023-01-04T00:00:00",
          "2023-01-05T00:00:00",
          "2023-01-06T00:00:00",
          "2023-01-09T00:00:00",
          "2023-01-10T00:00:00",
          "2023-01-11T00:00:00",
          "2023-01-12T00:00:00",
          "2023-01-13T00:00:00",
          "2023-01-17T00:00:00",
          "2023-01-18T00:00:00",
          "2023-01-19T00:00:00",
          "2023-01-20T00:00:00",
          "2023-01-23T00:00:00",
          "2023-01-24T00:00:00",
          "2023-01-25T00:00:00",
          "2023-01-26T00:00:00",
          "2023-01-27T00:00:00",
          "2023-01-30T00:00:00",
          "2023-01-31T00:00:00",
          "2023-02-01T00:00:00"
         ],
         "y": [
          3839.5,
          3840.68943801637,
          3880.3122597195384,
          3838.8229048417156,
          3809.7174368349433,
          3735.811520158054,
          3808.916947368792,
          3807.393550170683,
          3806.154606914413,
          3820.4333272823246,
          3959.51510064741,
          3922.68134676184,
          3886.1504430690434,
          3926.3604342054546,
          3948.452315159755,
          3989.2224806075747,
          4011.948651466058,
          4004.606805745865,
          4007.2755144998127,
          3965.950612613938,
          4016.4211646821623
         ]
        },
        {
         "line": {
          "color": "rgba(255, 0, 0, 0.1)"
         },
         "mode": "lines",
         "name": "Simulation 34",
         "showlegend": false,
         "type": "scatter",
         "x": [
          "2023-01-03T00:00:00",
          "2023-01-04T00:00:00",
          "2023-01-05T00:00:00",
          "2023-01-06T00:00:00",
          "2023-01-09T00:00:00",
          "2023-01-10T00:00:00",
          "2023-01-11T00:00:00",
          "2023-01-12T00:00:00",
          "2023-01-13T00:00:00",
          "2023-01-17T00:00:00",
          "2023-01-18T00:00:00",
          "2023-01-19T00:00:00",
          "2023-01-20T00:00:00",
          "2023-01-23T00:00:00",
          "2023-01-24T00:00:00",
          "2023-01-25T00:00:00",
          "2023-01-26T00:00:00",
          "2023-01-27T00:00:00",
          "2023-01-30T00:00:00",
          "2023-01-31T00:00:00",
          "2023-02-01T00:00:00"
         ],
         "y": [
          3839.5,
          3840.68943801637,
          3811.502290808049,
          3804.1782077868966,
          3904.1240411398767,
          3985.0523843076026,
          3942.898947720141,
          3869.9002118037456,
          3821.112960714378,
          3778.192391661598,
          3778.32523177837,
          3696.2129699698935,
          3604.4193811543314,
          3473.0017871865966,
          3443.6977079750573,
          3423.146475519127,
          3483.1922682278414,
          3495.6175057698442,
          3507.189437910661,
          3471.9895554716854,
          3431.4128341287224
         ]
        },
        {
         "line": {
          "color": "rgba(255, 0, 0, 0.1)"
         },
         "mode": "lines",
         "name": "Simulation 35",
         "showlegend": false,
         "type": "scatter",
         "x": [
          "2023-01-03T00:00:00",
          "2023-01-04T00:00:00",
          "2023-01-05T00:00:00",
          "2023-01-06T00:00:00",
          "2023-01-09T00:00:00",
          "2023-01-10T00:00:00",
          "2023-01-11T00:00:00",
          "2023-01-12T00:00:00",
          "2023-01-13T00:00:00",
          "2023-01-17T00:00:00",
          "2023-01-18T00:00:00",
          "2023-01-19T00:00:00",
          "2023-01-20T00:00:00",
          "2023-01-23T00:00:00",
          "2023-01-24T00:00:00",
          "2023-01-25T00:00:00",
          "2023-01-26T00:00:00",
          "2023-01-27T00:00:00",
          "2023-01-30T00:00:00",
          "2023-01-31T00:00:00",
          "2023-02-01T00:00:00"
         ],
         "y": [
          3839.5,
          3840.68943801637,
          3824.833725598847,
          3786.904528520858,
          3770.791900284559,
          3757.1321465074966,
          3688.960593670537,
          3705.676794671964,
          3659.9056288544443,
          3660.066228120798,
          3575.0562211290276,
          3648.4831864420007,
          3716.508024123295,
          3732.5152039506756,
          3738.142879881986,
          3809.1665957532164,
          3835.375743070209,
          3884.344373618773,
          3870.4828877751734,
          3957.458786067124,
          3905.903798631207
         ]
        },
        {
         "line": {
          "color": "rgba(255, 0, 0, 0.1)"
         },
         "mode": "lines",
         "name": "Simulation 36",
         "showlegend": false,
         "type": "scatter",
         "x": [
          "2023-01-03T00:00:00",
          "2023-01-04T00:00:00",
          "2023-01-05T00:00:00",
          "2023-01-06T00:00:00",
          "2023-01-09T00:00:00",
          "2023-01-10T00:00:00",
          "2023-01-11T00:00:00",
          "2023-01-12T00:00:00",
          "2023-01-13T00:00:00",
          "2023-01-17T00:00:00",
          "2023-01-18T00:00:00",
          "2023-01-19T00:00:00",
          "2023-01-20T00:00:00",
          "2023-01-23T00:00:00",
          "2023-01-24T00:00:00",
          "2023-01-25T00:00:00",
          "2023-01-26T00:00:00",
          "2023-01-27T00:00:00",
          "2023-01-30T00:00:00",
          "2023-01-31T00:00:00",
          "2023-02-01T00:00:00"
         ],
         "y": [
          3839.5,
          3840.68943801637,
          3826.2521524668746,
          3899.1174881736406,
          3887.7226415598,
          3928.659130645929,
          3949.1277802811114,
          3864.5589146950683,
          3919.3434040191755,
          3930.332102137481,
          3894.2929150769837,
          4031.377132204211,
          4043.6345253570867,
          4060.5685267865088,
          4122.422251976231,
          4105.129559414202,
          4141.136451023662,
          4202.6959018816615,
          4204.2398722707085,
          4191.556731820366,
          4169.943112096481
         ]
        },
        {
         "line": {
          "color": "rgba(255, 0, 0, 0.1)"
         },
         "mode": "lines",
         "name": "Simulation 37",
         "showlegend": false,
         "type": "scatter",
         "x": [
          "2023-01-03T00:00:00",
          "2023-01-04T00:00:00",
          "2023-01-05T00:00:00",
          "2023-01-06T00:00:00",
          "2023-01-09T00:00:00",
          "2023-01-10T00:00:00",
          "2023-01-11T00:00:00",
          "2023-01-12T00:00:00",
          "2023-01-13T00:00:00",
          "2023-01-17T00:00:00",
          "2023-01-18T00:00:00",
          "2023-01-19T00:00:00",
          "2023-01-20T00:00:00",
          "2023-01-23T00:00:00",
          "2023-01-24T00:00:00",
          "2023-01-25T00:00:00",
          "2023-01-26T00:00:00",
          "2023-01-27T00:00:00",
          "2023-01-30T00:00:00",
          "2023-01-31T00:00:00",
          "2023-02-01T00:00:00"
         ],
         "y": [
          3839.5,
          3840.68943801637,
          3792.8796443246,
          3795.053400424709,
          3776.499870632889,
          3775.885342228177,
          3759.4595162283413,
          3792.0462165806775,
          3828.832285444324,
          3859.9213917384,
          3937.0474020581464,
          3909.6958780147493,
          3966.3671972017264,
          3939.3783972670794,
          4045.494451995113,
          4076.816770528404,
          4160.45240089262,
          4147.619509132728,
          4089.2642445319934,
          4074.7468922411813,
          4052.424794762487
         ]
        },
        {
         "line": {
          "color": "rgba(255, 0, 0, 0.1)"
         },
         "mode": "lines",
         "name": "Simulation 38",
         "showlegend": false,
         "type": "scatter",
         "x": [
          "2023-01-03T00:00:00",
          "2023-01-04T00:00:00",
          "2023-01-05T00:00:00",
          "2023-01-06T00:00:00",
          "2023-01-09T00:00:00",
          "2023-01-10T00:00:00",
          "2023-01-11T00:00:00",
          "2023-01-12T00:00:00",
          "2023-01-13T00:00:00",
          "2023-01-17T00:00:00",
          "2023-01-18T00:00:00",
          "2023-01-19T00:00:00",
          "2023-01-20T00:00:00",
          "2023-01-23T00:00:00",
          "2023-01-24T00:00:00",
          "2023-01-25T00:00:00",
          "2023-01-26T00:00:00",
          "2023-01-27T00:00:00",
          "2023-01-30T00:00:00",
          "2023-01-31T00:00:00",
          "2023-02-01T00:00:00"
         ],
         "y": [
          3839.5,
          3840.68943801637,
          3849.8429182477894,
          3836.572976169802,
          3874.062282944369,
          3902.6141683826154,
          3878.688988775884,
          3903.400870124238,
          3874.576707026435,
          3837.7418423489435,
          3734.840620444295,
          3776.545035708083,
          3761.7190486550276,
          3712.370274459771,
          3735.7183655927206,
          3733.046784826709,
          3703.005319891474,
          3698.6220910258767,
          3646.2096883901872,
          3594.4436054676144,
          3600.0498837568225
         ]
        },
        {
         "line": {
          "color": "rgba(255, 0, 0, 0.1)"
         },
         "mode": "lines",
         "name": "Simulation 39",
         "showlegend": false,
         "type": "scatter",
         "x": [
          "2023-01-03T00:00:00",
          "2023-01-04T00:00:00",
          "2023-01-05T00:00:00",
          "2023-01-06T00:00:00",
          "2023-01-09T00:00:00",
          "2023-01-10T00:00:00",
          "2023-01-11T00:00:00",
          "2023-01-12T00:00:00",
          "2023-01-13T00:00:00",
          "2023-01-17T00:00:00",
          "2023-01-18T00:00:00",
          "2023-01-19T00:00:00",
          "2023-01-20T00:00:00",
          "2023-01-23T00:00:00",
          "2023-01-24T00:00:00",
          "2023-01-25T00:00:00",
          "2023-01-26T00:00:00",
          "2023-01-27T00:00:00",
          "2023-01-30T00:00:00",
          "2023-01-31T00:00:00",
          "2023-02-01T00:00:00"
         ],
         "y": [
          3839.5,
          3840.68943801637,
          3920.0654315415936,
          3925.8189011897894,
          4013.8107375152813,
          4050.208405467379,
          4113.372826327349,
          4144.280713933085,
          4103.58016849225,
          4123.844095612685,
          4056.601326861773,
          4062.5585585353188,
          4054.234492902317,
          3946.9056677941394,
          4020.0934036972403,
          4028.792110256984,
          4024.1009727412934,
          4051.9092468662216,
          4097.979341260887,
          4064.3853682105705,
          4029.801002471175
         ]
        },
        {
         "line": {
          "color": "rgba(255, 0, 0, 0.1)"
         },
         "mode": "lines",
         "name": "Simulation 40",
         "showlegend": false,
         "type": "scatter",
         "x": [
          "2023-01-03T00:00:00",
          "2023-01-04T00:00:00",
          "2023-01-05T00:00:00",
          "2023-01-06T00:00:00",
          "2023-01-09T00:00:00",
          "2023-01-10T00:00:00",
          "2023-01-11T00:00:00",
          "2023-01-12T00:00:00",
          "2023-01-13T00:00:00",
          "2023-01-17T00:00:00",
          "2023-01-18T00:00:00",
          "2023-01-19T00:00:00",
          "2023-01-20T00:00:00",
          "2023-01-23T00:00:00",
          "2023-01-24T00:00:00",
          "2023-01-25T00:00:00",
          "2023-01-26T00:00:00",
          "2023-01-27T00:00:00",
          "2023-01-30T00:00:00",
          "2023-01-31T00:00:00",
          "2023-02-01T00:00:00"
         ],
         "y": [
          3839.5,
          3840.68943801637,
          3779.8883403932614,
          3712.6749838171663,
          3668.518034159253,
          3607.8287309962207,
          3617.9222738780086,
          3615.345001508924,
          3617.894663872026,
          3604.110723968783,
          3612.361293731961,
          3625.4534630023654,
          3667.476982084828,
          3698.741205427863,
          3719.2397389525345,
          3735.7588321633307,
          3757.1193754571545,
          3788.3826831294928,
          3776.3598683755076,
          3807.2614584121065,
          3848.794686633407
         ]
        },
        {
         "line": {
          "color": "rgba(255, 0, 0, 0.1)"
         },
         "mode": "lines",
         "name": "Simulation 41",
         "showlegend": false,
         "type": "scatter",
         "x": [
          "2023-01-03T00:00:00",
          "2023-01-04T00:00:00",
          "2023-01-05T00:00:00",
          "2023-01-06T00:00:00",
          "2023-01-09T00:00:00",
          "2023-01-10T00:00:00",
          "2023-01-11T00:00:00",
          "2023-01-12T00:00:00",
          "2023-01-13T00:00:00",
          "2023-01-17T00:00:00",
          "2023-01-18T00:00:00",
          "2023-01-19T00:00:00",
          "2023-01-20T00:00:00",
          "2023-01-23T00:00:00",
          "2023-01-24T00:00:00",
          "2023-01-25T00:00:00",
          "2023-01-26T00:00:00",
          "2023-01-27T00:00:00",
          "2023-01-30T00:00:00",
          "2023-01-31T00:00:00",
          "2023-02-01T00:00:00"
         ],
         "y": [
          3839.5,
          3840.68943801637,
          3822.37145757521,
          3859.7756119972646,
          3900.385199956043,
          3887.5289640169585,
          3930.7996572482516,
          3908.091587396984,
          3879.9697659925073,
          3968.0799065306487,
          4027.990017860966,
          4033.6050343481406,
          4043.6606953450705,
          4119.567841492804,
          4088.074792333237,
          4119.537691857852,
          4108.684582403475,
          4034.41652803967,
          4057.7509134910897,
          4030.384582567521,
          4061.322325701841
         ]
        },
        {
         "line": {
          "color": "rgba(255, 0, 0, 0.1)"
         },
         "mode": "lines",
         "name": "Simulation 42",
         "showlegend": false,
         "type": "scatter",
         "x": [
          "2023-01-03T00:00:00",
          "2023-01-04T00:00:00",
          "2023-01-05T00:00:00",
          "2023-01-06T00:00:00",
          "2023-01-09T00:00:00",
          "2023-01-10T00:00:00",
          "2023-01-11T00:00:00",
          "2023-01-12T00:00:00",
          "2023-01-13T00:00:00",
          "2023-01-17T00:00:00",
          "2023-01-18T00:00:00",
          "2023-01-19T00:00:00",
          "2023-01-20T00:00:00",
          "2023-01-23T00:00:00",
          "2023-01-24T00:00:00",
          "2023-01-25T00:00:00",
          "2023-01-26T00:00:00",
          "2023-01-27T00:00:00",
          "2023-01-30T00:00:00",
          "2023-01-31T00:00:00",
          "2023-02-01T00:00:00"
         ],
         "y": [
          3839.5,
          3840.68943801637,
          3797.5852104140195,
          3813.3891292234944,
          3857.177690979484,
          3908.0312202266755,
          3980.7833647776943,
          3955.080485537491,
          3863.2053096974932,
          3864.6022484319533,
          3802.7111300974607,
          3836.8839822124833,
          3824.481320976517,
          3814.7868625164915,
          3763.807583254082,
          3671.6274590091966,
          3680.1699345511884,
          3737.3612957235337,
          3778.9988520195843,
          3744.2704259015986,
          3738.8318136555263
         ]
        },
        {
         "line": {
          "color": "rgba(255, 0, 0, 0.1)"
         },
         "mode": "lines",
         "name": "Simulation 43",
         "showlegend": false,
         "type": "scatter",
         "x": [
          "2023-01-03T00:00:00",
          "2023-01-04T00:00:00",
          "2023-01-05T00:00:00",
          "2023-01-06T00:00:00",
          "2023-01-09T00:00:00",
          "2023-01-10T00:00:00",
          "2023-01-11T00:00:00",
          "2023-01-12T00:00:00",
          "2023-01-13T00:00:00",
          "2023-01-17T00:00:00",
          "2023-01-18T00:00:00",
          "2023-01-19T00:00:00",
          "2023-01-20T00:00:00",
          "2023-01-23T00:00:00",
          "2023-01-24T00:00:00",
          "2023-01-25T00:00:00",
          "2023-01-26T00:00:00",
          "2023-01-27T00:00:00",
          "2023-01-30T00:00:00",
          "2023-01-31T00:00:00",
          "2023-02-01T00:00:00"
         ],
         "y": [
          3839.5,
          3840.68943801637,
          3897.9245466208713,
          3907.8557919765635,
          3947.3244677418406,
          3977.5681844751116,
          3956.5648550299684,
          4071.665248685047,
          4082.9406082092833,
          4110.168248265361,
          4114.500169412495,
          4117.383585318587,
          4098.952416221654,
          4028.924218947047,
          4038.246845216989,
          4070.3655738887255,
          4105.623319789887,
          4150.986256922316,
          4190.264658796939,
          4210.728477643066,
          4191.589887857707
         ]
        },
        {
         "line": {
          "color": "rgba(255, 0, 0, 0.1)"
         },
         "mode": "lines",
         "name": "Simulation 44",
         "showlegend": false,
         "type": "scatter",
         "x": [
          "2023-01-03T00:00:00",
          "2023-01-04T00:00:00",
          "2023-01-05T00:00:00",
          "2023-01-06T00:00:00",
          "2023-01-09T00:00:00",
          "2023-01-10T00:00:00",
          "2023-01-11T00:00:00",
          "2023-01-12T00:00:00",
          "2023-01-13T00:00:00",
          "2023-01-17T00:00:00",
          "2023-01-18T00:00:00",
          "2023-01-19T00:00:00",
          "2023-01-20T00:00:00",
          "2023-01-23T00:00:00",
          "2023-01-24T00:00:00",
          "2023-01-25T00:00:00",
          "2023-01-26T00:00:00",
          "2023-01-27T00:00:00",
          "2023-01-30T00:00:00",
          "2023-01-31T00:00:00",
          "2023-02-01T00:00:00"
         ],
         "y": [
          3839.5,
          3840.68943801637,
          3773.215000137888,
          3840.052803483316,
          3852.1118844619295,
          3804.2279505518577,
          3788.474870001234,
          3784.689351695991,
          3730.4770999671327,
          3739.2680927407328,
          3686.8853499665806,
          3652.9313166480415,
          3645.458185147756,
          3627.6310295869234,
          3576.809514595252,
          3624.161901731913,
          3566.793336152051,
          3531.6087454034828,
          3583.0838329040193,
          3524.636159851632,
          3548.2018630018256
         ]
        },
        {
         "line": {
          "color": "rgba(255, 0, 0, 0.1)"
         },
         "mode": "lines",
         "name": "Simulation 45",
         "showlegend": false,
         "type": "scatter",
         "x": [
          "2023-01-03T00:00:00",
          "2023-01-04T00:00:00",
          "2023-01-05T00:00:00",
          "2023-01-06T00:00:00",
          "2023-01-09T00:00:00",
          "2023-01-10T00:00:00",
          "2023-01-11T00:00:00",
          "2023-01-12T00:00:00",
          "2023-01-13T00:00:00",
          "2023-01-17T00:00:00",
          "2023-01-18T00:00:00",
          "2023-01-19T00:00:00",
          "2023-01-20T00:00:00",
          "2023-01-23T00:00:00",
          "2023-01-24T00:00:00",
          "2023-01-25T00:00:00",
          "2023-01-26T00:00:00",
          "2023-01-27T00:00:00",
          "2023-01-30T00:00:00",
          "2023-01-31T00:00:00",
          "2023-02-01T00:00:00"
         ],
         "y": [
          3839.5,
          3840.68943801637,
          3836.1570915178595,
          3789.235143365184,
          3738.48250958636,
          3744.369797606313,
          3717.258020127142,
          3771.3909177088076,
          3666.793083636457,
          3697.756943988282,
          3645.8580823474153,
          3591.9230675698295,
          3633.8543434443804,
          3677.4397877579872,
          3753.400035783043,
          3673.24383608536,
          3630.0692877089446,
          3624.793003978565,
          3619.6721552098957,
          3700.75053802228,
          3720.4602192929433
         ]
        },
        {
         "line": {
          "color": "rgba(255, 0, 0, 0.1)"
         },
         "mode": "lines",
         "name": "Simulation 46",
         "showlegend": false,
         "type": "scatter",
         "x": [
          "2023-01-03T00:00:00",
          "2023-01-04T00:00:00",
          "2023-01-05T00:00:00",
          "2023-01-06T00:00:00",
          "2023-01-09T00:00:00",
          "2023-01-10T00:00:00",
          "2023-01-11T00:00:00",
          "2023-01-12T00:00:00",
          "2023-01-13T00:00:00",
          "2023-01-17T00:00:00",
          "2023-01-18T00:00:00",
          "2023-01-19T00:00:00",
          "2023-01-20T00:00:00",
          "2023-01-23T00:00:00",
          "2023-01-24T00:00:00",
          "2023-01-25T00:00:00",
          "2023-01-26T00:00:00",
          "2023-01-27T00:00:00",
          "2023-01-30T00:00:00",
          "2023-01-31T00:00:00",
          "2023-02-01T00:00:00"
         ],
         "y": [
          3839.5,
          3840.68943801637,
          3887.960845446862,
          3894.3844094726232,
          3901.748037892477,
          3901.2285853673347,
          3843.894891036534,
          3900.460070003685,
          3943.0717544639965,
          3950.3440179085587,
          3938.588833948723,
          3936.146251482566,
          3935.658791869012,
          3929.299758137835,
          3961.62342505276,
          3972.436608196552,
          3930.2401402229925,
          3938.896175570605,
          4045.764208160699,
          4021.9622898619114,
          4030.618799661928
         ]
        },
        {
         "line": {
          "color": "rgba(255, 0, 0, 0.1)"
         },
         "mode": "lines",
         "name": "Simulation 47",
         "showlegend": false,
         "type": "scatter",
         "x": [
          "2023-01-03T00:00:00",
          "2023-01-04T00:00:00",
          "2023-01-05T00:00:00",
          "2023-01-06T00:00:00",
          "2023-01-09T00:00:00",
          "2023-01-10T00:00:00",
          "2023-01-11T00:00:00",
          "2023-01-12T00:00:00",
          "2023-01-13T00:00:00",
          "2023-01-17T00:00:00",
          "2023-01-18T00:00:00",
          "2023-01-19T00:00:00",
          "2023-01-20T00:00:00",
          "2023-01-23T00:00:00",
          "2023-01-24T00:00:00",
          "2023-01-25T00:00:00",
          "2023-01-26T00:00:00",
          "2023-01-27T00:00:00",
          "2023-01-30T00:00:00",
          "2023-01-31T00:00:00",
          "2023-02-01T00:00:00"
         ],
         "y": [
          3839.5,
          3840.68943801637,
          3817.969272202038,
          3777.844721057711,
          3830.7488972485726,
          3820.6989386585583,
          3813.1554171668276,
          3753.8019145584726,
          3775.061381771934,
          3760.860777400859,
          3748.864444265955,
          3754.6377516475977,
          3790.6616543754512,
          3802.101190034246,
          3829.1630037050672,
          3809.9697874218655,
          3828.3249285815823,
          3832.2293224156265,
          3891.9765914863137,
          3906.267981120924,
          3945.3311490666106
         ]
        },
        {
         "line": {
          "color": "rgba(255, 0, 0, 0.1)"
         },
         "mode": "lines",
         "name": "Simulation 48",
         "showlegend": false,
         "type": "scatter",
         "x": [
          "2023-01-03T00:00:00",
          "2023-01-04T00:00:00",
          "2023-01-05T00:00:00",
          "2023-01-06T00:00:00",
          "2023-01-09T00:00:00",
          "2023-01-10T00:00:00",
          "2023-01-11T00:00:00",
          "2023-01-12T00:00:00",
          "2023-01-13T00:00:00",
          "2023-01-17T00:00:00",
          "2023-01-18T00:00:00",
          "2023-01-19T00:00:00",
          "2023-01-20T00:00:00",
          "2023-01-23T00:00:00",
          "2023-01-24T00:00:00",
          "2023-01-25T00:00:00",
          "2023-01-26T00:00:00",
          "2023-01-27T00:00:00",
          "2023-01-30T00:00:00",
          "2023-01-31T00:00:00",
          "2023-02-01T00:00:00"
         ],
         "y": [
          3839.5,
          3840.68943801637,
          3809.6807060089172,
          3788.8422195779262,
          3807.18862667089,
          3713.2492872834946,
          3719.0403164091135,
          3650.4498459104343,
          3628.1672900313424,
          3614.377598566745,
          3624.439673765696,
          3616.2974431255475,
          3597.557164887257,
          3614.449557601587,
          3611.6853239826323,
          3656.1686501496415,
          3704.944818320374,
          3702.4564648586584,
          3729.611886511059,
          3691.0077061897714,
          3770.4372841759246
         ]
        },
        {
         "line": {
          "color": "rgba(255, 0, 0, 0.1)"
         },
         "mode": "lines",
         "name": "Simulation 49",
         "showlegend": false,
         "type": "scatter",
         "x": [
          "2023-01-03T00:00:00",
          "2023-01-04T00:00:00",
          "2023-01-05T00:00:00",
          "2023-01-06T00:00:00",
          "2023-01-09T00:00:00",
          "2023-01-10T00:00:00",
          "2023-01-11T00:00:00",
          "2023-01-12T00:00:00",
          "2023-01-13T00:00:00",
          "2023-01-17T00:00:00",
          "2023-01-18T00:00:00",
          "2023-01-19T00:00:00",
          "2023-01-20T00:00:00",
          "2023-01-23T00:00:00",
          "2023-01-24T00:00:00",
          "2023-01-25T00:00:00",
          "2023-01-26T00:00:00",
          "2023-01-27T00:00:00",
          "2023-01-30T00:00:00",
          "2023-01-31T00:00:00",
          "2023-02-01T00:00:00"
         ],
         "y": [
          3839.5,
          3840.68943801637,
          3861.4454676917812,
          3918.552721120965,
          3911.4837167726364,
          3830.209344238046,
          3845.866856239305,
          3913.1289550494766,
          3921.3832006513135,
          3823.6580272181636,
          3801.94344236072,
          3790.355961227991,
          3840.293780875219,
          3807.4742955596485,
          3805.700294274465,
          3796.233455000636,
          3765.8253339927287,
          3769.8520631099022,
          3780.18452470107,
          3879.762766524383,
          3869.0248156160137
         ]
        },
        {
         "line": {
          "color": "rgba(255, 0, 0, 0.1)"
         },
         "mode": "lines",
         "name": "Simulation 50",
         "showlegend": false,
         "type": "scatter",
         "x": [
          "2023-01-03T00:00:00",
          "2023-01-04T00:00:00",
          "2023-01-05T00:00:00",
          "2023-01-06T00:00:00",
          "2023-01-09T00:00:00",
          "2023-01-10T00:00:00",
          "2023-01-11T00:00:00",
          "2023-01-12T00:00:00",
          "2023-01-13T00:00:00",
          "2023-01-17T00:00:00",
          "2023-01-18T00:00:00",
          "2023-01-19T00:00:00",
          "2023-01-20T00:00:00",
          "2023-01-23T00:00:00",
          "2023-01-24T00:00:00",
          "2023-01-25T00:00:00",
          "2023-01-26T00:00:00",
          "2023-01-27T00:00:00",
          "2023-01-30T00:00:00",
          "2023-01-31T00:00:00",
          "2023-02-01T00:00:00"
         ],
         "y": [
          3839.5,
          3840.68943801637,
          3821.0902420397115,
          3827.0994704641216,
          3837.6406602484044,
          3833.250610737564,
          3796.4364833201444,
          3861.9269928164026,
          3818.2959968433292,
          3817.3206553600226,
          3769.9887568104305,
          3757.31795514819,
          3767.7383157643053,
          3695.261218214532,
          3654.5905340872923,
          3639.136199789796,
          3654.623951806722,
          3668.30663950686,
          3641.668565063401,
          3630.244888204095,
          3608.3523490874477
         ]
        },
        {
         "line": {
          "color": "rgba(255, 0, 0, 0.1)"
         },
         "mode": "lines",
         "name": "Simulation 51",
         "showlegend": false,
         "type": "scatter",
         "x": [
          "2023-01-03T00:00:00",
          "2023-01-04T00:00:00",
          "2023-01-05T00:00:00",
          "2023-01-06T00:00:00",
          "2023-01-09T00:00:00",
          "2023-01-10T00:00:00",
          "2023-01-11T00:00:00",
          "2023-01-12T00:00:00",
          "2023-01-13T00:00:00",
          "2023-01-17T00:00:00",
          "2023-01-18T00:00:00",
          "2023-01-19T00:00:00",
          "2023-01-20T00:00:00",
          "2023-01-23T00:00:00",
          "2023-01-24T00:00:00",
          "2023-01-25T00:00:00",
          "2023-01-26T00:00:00",
          "2023-01-27T00:00:00",
          "2023-01-30T00:00:00",
          "2023-01-31T00:00:00",
          "2023-02-01T00:00:00"
         ],
         "y": [
          3839.5,
          3840.68943801637,
          3791.6392174559282,
          3794.4513213961695,
          3717.3228808497174,
          3629.593967010781,
          3632.146303855577,
          3698.079970266645,
          3724.935649684204,
          3737.5061078799554,
          3790.3656774037054,
          3771.0227606042486,
          3780.1899358994974,
          3872.5047000118084,
          3898.465807224927,
          3906.514013580371,
          4023.378517074643,
          4033.411414823102,
          3991.3029204287905,
          3985.38772494607,
          3937.168645909976
         ]
        },
        {
         "line": {
          "color": "rgba(255, 0, 0, 0.1)"
         },
         "mode": "lines",
         "name": "Simulation 52",
         "showlegend": false,
         "type": "scatter",
         "x": [
          "2023-01-03T00:00:00",
          "2023-01-04T00:00:00",
          "2023-01-05T00:00:00",
          "2023-01-06T00:00:00",
          "2023-01-09T00:00:00",
          "2023-01-10T00:00:00",
          "2023-01-11T00:00:00",
          "2023-01-12T00:00:00",
          "2023-01-13T00:00:00",
          "2023-01-17T00:00:00",
          "2023-01-18T00:00:00",
          "2023-01-19T00:00:00",
          "2023-01-20T00:00:00",
          "2023-01-23T00:00:00",
          "2023-01-24T00:00:00",
          "2023-01-25T00:00:00",
          "2023-01-26T00:00:00",
          "2023-01-27T00:00:00",
          "2023-01-30T00:00:00",
          "2023-01-31T00:00:00",
          "2023-02-01T00:00:00"
         ],
         "y": [
          3839.5,
          3840.68943801637,
          3817.9546387673877,
          3830.755914306389,
          3759.419670608074,
          3755.6498014050603,
          3737.947664245873,
          3704.0610911777726,
          3677.5890798573078,
          3651.739456127767,
          3664.4590334241916,
          3737.241195403671,
          3653.07108637675,
          3671.551914384662,
          3687.6215303414065,
          3739.0010408314115,
          3761.43028519216,
          3724.1492159960167,
          3721.4171037816964,
          3665.206762651176,
          3664.775900546281
         ]
        },
        {
         "line": {
          "color": "rgba(255, 0, 0, 0.1)"
         },
         "mode": "lines",
         "name": "Simulation 53",
         "showlegend": false,
         "type": "scatter",
         "x": [
          "2023-01-03T00:00:00",
          "2023-01-04T00:00:00",
          "2023-01-05T00:00:00",
          "2023-01-06T00:00:00",
          "2023-01-09T00:00:00",
          "2023-01-10T00:00:00",
          "2023-01-11T00:00:00",
          "2023-01-12T00:00:00",
          "2023-01-13T00:00:00",
          "2023-01-17T00:00:00",
          "2023-01-18T00:00:00",
          "2023-01-19T00:00:00",
          "2023-01-20T00:00:00",
          "2023-01-23T00:00:00",
          "2023-01-24T00:00:00",
          "2023-01-25T00:00:00",
          "2023-01-26T00:00:00",
          "2023-01-27T00:00:00",
          "2023-01-30T00:00:00",
          "2023-01-31T00:00:00",
          "2023-02-01T00:00:00"
         ],
         "y": [
          3839.5,
          3840.68943801637,
          3804.990938598744,
          3763.125316912753,
          3785.471870864644,
          3746.7035057541843,
          3775.461000386753,
          3796.3064491098867,
          3794.7129218808427,
          3817.6624297983462,
          3817.6641021554983,
          3829.5472375054937,
          3795.4186496186708,
          3744.0709685731276,
          3715.9801186103437,
          3714.316994682603,
          3744.5447749142895,
          3694.589984765723,
          3699.161352495661,
          3612.713896159021,
          3573.796957310963
         ]
        },
        {
         "line": {
          "color": "rgba(255, 0, 0, 0.1)"
         },
         "mode": "lines",
         "name": "Simulation 54",
         "showlegend": false,
         "type": "scatter",
         "x": [
          "2023-01-03T00:00:00",
          "2023-01-04T00:00:00",
          "2023-01-05T00:00:00",
          "2023-01-06T00:00:00",
          "2023-01-09T00:00:00",
          "2023-01-10T00:00:00",
          "2023-01-11T00:00:00",
          "2023-01-12T00:00:00",
          "2023-01-13T00:00:00",
          "2023-01-17T00:00:00",
          "2023-01-18T00:00:00",
          "2023-01-19T00:00:00",
          "2023-01-20T00:00:00",
          "2023-01-23T00:00:00",
          "2023-01-24T00:00:00",
          "2023-01-25T00:00:00",
          "2023-01-26T00:00:00",
          "2023-01-27T00:00:00",
          "2023-01-30T00:00:00",
          "2023-01-31T00:00:00",
          "2023-02-01T00:00:00"
         ],
         "y": [
          3839.5,
          3840.68943801637,
          3810.506395544779,
          3783.9882085259055,
          3743.0466179104196,
          3694.387333215259,
          3687.3406795427827,
          3712.364613480721,
          3738.5555280852845,
          3694.1182970762175,
          3756.2720220687875,
          3827.6243643161506,
          3872.111168286313,
          3919.245216417478,
          3881.826261057533,
          3923.5426603945407,
          3953.528390717756,
          3940.5188836629445,
          4009.4964212592013,
          3971.5095682858114,
          3975.037528201684
         ]
        },
        {
         "line": {
          "color": "rgba(255, 0, 0, 0.1)"
         },
         "mode": "lines",
         "name": "Simulation 55",
         "showlegend": false,
         "type": "scatter",
         "x": [
          "2023-01-03T00:00:00",
          "2023-01-04T00:00:00",
          "2023-01-05T00:00:00",
          "2023-01-06T00:00:00",
          "2023-01-09T00:00:00",
          "2023-01-10T00:00:00",
          "2023-01-11T00:00:00",
          "2023-01-12T00:00:00",
          "2023-01-13T00:00:00",
          "2023-01-17T00:00:00",
          "2023-01-18T00:00:00",
          "2023-01-19T00:00:00",
          "2023-01-20T00:00:00",
          "2023-01-23T00:00:00",
          "2023-01-24T00:00:00",
          "2023-01-25T00:00:00",
          "2023-01-26T00:00:00",
          "2023-01-27T00:00:00",
          "2023-01-30T00:00:00",
          "2023-01-31T00:00:00",
          "2023-02-01T00:00:00"
         ],
         "y": [
          3839.5,
          3840.68943801637,
          3807.9160735616297,
          3803.4329465578257,
          3765.8639120553844,
          3729.398302800809,
          3757.2138480952813,
          3842.7624606053446,
          3832.6235512245084,
          3766.867709642901,
          3754.0820607759642,
          3837.448844541553,
          3853.6624296816776,
          3830.5101709862497,
          3885.1817754351764,
          3911.5561874948903,
          3859.9652834396934,
          3825.6520337076063,
          3824.7756467974086,
          3842.5997367867544,
          3752.5806149905584
         ]
        },
        {
         "line": {
          "color": "rgba(255, 0, 0, 0.1)"
         },
         "mode": "lines",
         "name": "Simulation 56",
         "showlegend": false,
         "type": "scatter",
         "x": [
          "2023-01-03T00:00:00",
          "2023-01-04T00:00:00",
          "2023-01-05T00:00:00",
          "2023-01-06T00:00:00",
          "2023-01-09T00:00:00",
          "2023-01-10T00:00:00",
          "2023-01-11T00:00:00",
          "2023-01-12T00:00:00",
          "2023-01-13T00:00:00",
          "2023-01-17T00:00:00",
          "2023-01-18T00:00:00",
          "2023-01-19T00:00:00",
          "2023-01-20T00:00:00",
          "2023-01-23T00:00:00",
          "2023-01-24T00:00:00",
          "2023-01-25T00:00:00",
          "2023-01-26T00:00:00",
          "2023-01-27T00:00:00",
          "2023-01-30T00:00:00",
          "2023-01-31T00:00:00",
          "2023-02-01T00:00:00"
         ],
         "y": [
          3839.5,
          3840.68943801637,
          3909.2638615622927,
          3913.329462696578,
          3928.528554356333,
          3908.0211753307817,
          3924.1716309485123,
          4004.895859023174,
          4087.5069835354825,
          4056.2297330859215,
          4151.99981462278,
          4262.146482787778,
          4268.580709073495,
          4273.26499634752,
          4327.2650573241635,
          4353.307137189045,
          4392.698753455792,
          4460.676058072413,
          4487.515505499384,
          4432.16612133956,
          4426.528269499861
         ]
        },
        {
         "line": {
          "color": "rgba(255, 0, 0, 0.1)"
         },
         "mode": "lines",
         "name": "Simulation 57",
         "showlegend": false,
         "type": "scatter",
         "x": [
          "2023-01-03T00:00:00",
          "2023-01-04T00:00:00",
          "2023-01-05T00:00:00",
          "2023-01-06T00:00:00",
          "2023-01-09T00:00:00",
          "2023-01-10T00:00:00",
          "2023-01-11T00:00:00",
          "2023-01-12T00:00:00",
          "2023-01-13T00:00:00",
          "2023-01-17T00:00:00",
          "2023-01-18T00:00:00",
          "2023-01-19T00:00:00",
          "2023-01-20T00:00:00",
          "2023-01-23T00:00:00",
          "2023-01-24T00:00:00",
          "2023-01-25T00:00:00",
          "2023-01-26T00:00:00",
          "2023-01-27T00:00:00",
          "2023-01-30T00:00:00",
          "2023-01-31T00:00:00",
          "2023-02-01T00:00:00"
         ],
         "y": [
          3839.5,
          3840.68943801637,
          3802.257059083841,
          3726.5906514865214,
          3676.1282388648524,
          3662.45961630106,
          3694.2910965954015,
          3805.0572909487355,
          3773.778784270521,
          3799.1680545832355,
          3797.06004789048,
          3773.2741107096813,
          3868.3256543628704,
          3920.386446554258,
          3965.0396175333453,
          3905.088604488773,
          3911.433881947633,
          3926.5940469432157,
          3954.7918154296876,
          3982.904309625682,
          3966.845117996637
         ]
        },
        {
         "line": {
          "color": "rgba(255, 0, 0, 0.1)"
         },
         "mode": "lines",
         "name": "Simulation 58",
         "showlegend": false,
         "type": "scatter",
         "x": [
          "2023-01-03T00:00:00",
          "2023-01-04T00:00:00",
          "2023-01-05T00:00:00",
          "2023-01-06T00:00:00",
          "2023-01-09T00:00:00",
          "2023-01-10T00:00:00",
          "2023-01-11T00:00:00",
          "2023-01-12T00:00:00",
          "2023-01-13T00:00:00",
          "2023-01-17T00:00:00",
          "2023-01-18T00:00:00",
          "2023-01-19T00:00:00",
          "2023-01-20T00:00:00",
          "2023-01-23T00:00:00",
          "2023-01-24T00:00:00",
          "2023-01-25T00:00:00",
          "2023-01-26T00:00:00",
          "2023-01-27T00:00:00",
          "2023-01-30T00:00:00",
          "2023-01-31T00:00:00",
          "2023-02-01T00:00:00"
         ],
         "y": [
          3839.5,
          3840.68943801637,
          3872.968359336292,
          3858.445158683136,
          3846.434632199724,
          3844.372219929808,
          3886.8502526916386,
          3869.6558495152094,
          3839.4874821870226,
          3795.9887181721206,
          3760.6659348009225,
          3721.6465442907834,
          3729.986479656336,
          3724.262561922976,
          3763.394755889152,
          3744.6944447224773,
          3762.4485684388296,
          3766.5157913908706,
          3767.8452119682725,
          3826.4557191648596,
          3816.0628572103233
         ]
        },
        {
         "line": {
          "color": "rgba(255, 0, 0, 0.1)"
         },
         "mode": "lines",
         "name": "Simulation 59",
         "showlegend": false,
         "type": "scatter",
         "x": [
          "2023-01-03T00:00:00",
          "2023-01-04T00:00:00",
          "2023-01-05T00:00:00",
          "2023-01-06T00:00:00",
          "2023-01-09T00:00:00",
          "2023-01-10T00:00:00",
          "2023-01-11T00:00:00",
          "2023-01-12T00:00:00",
          "2023-01-13T00:00:00",
          "2023-01-17T00:00:00",
          "2023-01-18T00:00:00",
          "2023-01-19T00:00:00",
          "2023-01-20T00:00:00",
          "2023-01-23T00:00:00",
          "2023-01-24T00:00:00",
          "2023-01-25T00:00:00",
          "2023-01-26T00:00:00",
          "2023-01-27T00:00:00",
          "2023-01-30T00:00:00",
          "2023-01-31T00:00:00",
          "2023-02-01T00:00:00"
         ],
         "y": [
          3839.5,
          3840.68943801637,
          3877.6070621706267,
          3906.2772456133143,
          3890.3414108307015,
          3884.4913833487362,
          3887.981929079857,
          3848.359145675363,
          3858.3985038961855,
          3805.660258917968,
          3820.9357447892357,
          3857.097342857568,
          3893.817602668551,
          3973.8761988532997,
          3931.054751224954,
          3985.6843489720686,
          4001.5604555269597,
          3993.363078175314,
          3992.521104042466,
          4056.1549168747083,
          4091.1038950989887
         ]
        },
        {
         "line": {
          "color": "rgba(255, 0, 0, 0.1)"
         },
         "mode": "lines",
         "name": "Simulation 60",
         "showlegend": false,
         "type": "scatter",
         "x": [
          "2023-01-03T00:00:00",
          "2023-01-04T00:00:00",
          "2023-01-05T00:00:00",
          "2023-01-06T00:00:00",
          "2023-01-09T00:00:00",
          "2023-01-10T00:00:00",
          "2023-01-11T00:00:00",
          "2023-01-12T00:00:00",
          "2023-01-13T00:00:00",
          "2023-01-17T00:00:00",
          "2023-01-18T00:00:00",
          "2023-01-19T00:00:00",
          "2023-01-20T00:00:00",
          "2023-01-23T00:00:00",
          "2023-01-24T00:00:00",
          "2023-01-25T00:00:00",
          "2023-01-26T00:00:00",
          "2023-01-27T00:00:00",
          "2023-01-30T00:00:00",
          "2023-01-31T00:00:00",
          "2023-02-01T00:00:00"
         ],
         "y": [
          3839.5,
          3840.68943801637,
          3793.609412843914,
          3771.161601811321,
          3743.255208453543,
          3731.00905174795,
          3671.2940721772507,
          3648.853365753776,
          3589.178059889044,
          3530.655775856194,
          3436.668125242848,
          3405.5192207260716,
          3349.489873992837,
          3333.876156786745,
          3341.9406097193955,
          3304.38917576775,
          3291.0353073383462,
          3282.099078521401,
          3290.410043017339,
          3274.86244927302,
          3262.4238360550166
         ]
        },
        {
         "line": {
          "color": "rgba(255, 0, 0, 0.1)"
         },
         "mode": "lines",
         "name": "Simulation 61",
         "showlegend": false,
         "type": "scatter",
         "x": [
          "2023-01-03T00:00:00",
          "2023-01-04T00:00:00",
          "2023-01-05T00:00:00",
          "2023-01-06T00:00:00",
          "2023-01-09T00:00:00",
          "2023-01-10T00:00:00",
          "2023-01-11T00:00:00",
          "2023-01-12T00:00:00",
          "2023-01-13T00:00:00",
          "2023-01-17T00:00:00",
          "2023-01-18T00:00:00",
          "2023-01-19T00:00:00",
          "2023-01-20T00:00:00",
          "2023-01-23T00:00:00",
          "2023-01-24T00:00:00",
          "2023-01-25T00:00:00",
          "2023-01-26T00:00:00",
          "2023-01-27T00:00:00",
          "2023-01-30T00:00:00",
          "2023-01-31T00:00:00",
          "2023-02-01T00:00:00"
         ],
         "y": [
          3839.5,
          3840.68943801637,
          3865.153348797918,
          3948.7800288011,
          3950.3384843745794,
          3908.4233200812787,
          3917.3888478408053,
          4017.9385622114596,
          3975.0118622051646,
          3968.6000507826757,
          4013.03436898715,
          4011.925074238113,
          4029.015274542242,
          4022.002909675863,
          4097.102112645591,
          4114.689399229737,
          4167.211719079332,
          4167.008519016817,
          4185.574256244005,
          4223.37314891721,
          4322.66213887873
         ]
        },
        {
         "line": {
          "color": "rgba(255, 0, 0, 0.1)"
         },
         "mode": "lines",
         "name": "Simulation 62",
         "showlegend": false,
         "type": "scatter",
         "x": [
          "2023-01-03T00:00:00",
          "2023-01-04T00:00:00",
          "2023-01-05T00:00:00",
          "2023-01-06T00:00:00",
          "2023-01-09T00:00:00",
          "2023-01-10T00:00:00",
          "2023-01-11T00:00:00",
          "2023-01-12T00:00:00",
          "2023-01-13T00:00:00",
          "2023-01-17T00:00:00",
          "2023-01-18T00:00:00",
          "2023-01-19T00:00:00",
          "2023-01-20T00:00:00",
          "2023-01-23T00:00:00",
          "2023-01-24T00:00:00",
          "2023-01-25T00:00:00",
          "2023-01-26T00:00:00",
          "2023-01-27T00:00:00",
          "2023-01-30T00:00:00",
          "2023-01-31T00:00:00",
          "2023-02-01T00:00:00"
         ],
         "y": [
          3839.5,
          3840.68943801637,
          3896.3702211071663,
          3871.8425961920034,
          3900.5369820853734,
          3896.2528806955984,
          3908.3110439376946,
          3973.9147357989973,
          3986.3189233379603,
          4004.3010042813,
          4072.6908738276625,
          4050.0980579475454,
          4134.965685318847,
          4193.735374600342,
          4129.081451459749,
          4167.238184073525,
          4151.549397582971,
          4176.574841308089,
          4285.919845537502,
          4354.919393324629,
          4558.454864721663
         ]
        },
        {
         "line": {
          "color": "rgba(255, 0, 0, 0.1)"
         },
         "mode": "lines",
         "name": "Simulation 63",
         "showlegend": false,
         "type": "scatter",
         "x": [
          "2023-01-03T00:00:00",
          "2023-01-04T00:00:00",
          "2023-01-05T00:00:00",
          "2023-01-06T00:00:00",
          "2023-01-09T00:00:00",
          "2023-01-10T00:00:00",
          "2023-01-11T00:00:00",
          "2023-01-12T00:00:00",
          "2023-01-13T00:00:00",
          "2023-01-17T00:00:00",
          "2023-01-18T00:00:00",
          "2023-01-19T00:00:00",
          "2023-01-20T00:00:00",
          "2023-01-23T00:00:00",
          "2023-01-24T00:00:00",
          "2023-01-25T00:00:00",
          "2023-01-26T00:00:00",
          "2023-01-27T00:00:00",
          "2023-01-30T00:00:00",
          "2023-01-31T00:00:00",
          "2023-02-01T00:00:00"
         ],
         "y": [
          3839.5,
          3840.68943801637,
          3815.0361901373626,
          3833.3665703273937,
          3737.748083265246,
          3698.026946573585,
          3686.6060419351647,
          3718.2404871337517,
          3664.636207344152,
          3701.2972322091073,
          3664.5858479571802,
          3638.7935123578213,
          3660.8889706885752,
          3671.04265800139,
          3689.2253122486827,
          3698.206076747706,
          3701.946026189385,
          3678.0299489245253,
          3707.058082604253,
          3706.6237596685087,
          3705.8898859220003
         ]
        },
        {
         "line": {
          "color": "rgba(255, 0, 0, 0.1)"
         },
         "mode": "lines",
         "name": "Simulation 64",
         "showlegend": false,
         "type": "scatter",
         "x": [
          "2023-01-03T00:00:00",
          "2023-01-04T00:00:00",
          "2023-01-05T00:00:00",
          "2023-01-06T00:00:00",
          "2023-01-09T00:00:00",
          "2023-01-10T00:00:00",
          "2023-01-11T00:00:00",
          "2023-01-12T00:00:00",
          "2023-01-13T00:00:00",
          "2023-01-17T00:00:00",
          "2023-01-18T00:00:00",
          "2023-01-19T00:00:00",
          "2023-01-20T00:00:00",
          "2023-01-23T00:00:00",
          "2023-01-24T00:00:00",
          "2023-01-25T00:00:00",
          "2023-01-26T00:00:00",
          "2023-01-27T00:00:00",
          "2023-01-30T00:00:00",
          "2023-01-31T00:00:00",
          "2023-02-01T00:00:00"
         ],
         "y": [
          3839.5,
          3840.68943801637,
          3811.725256186388,
          3832.2808715424303,
          3829.389000437012,
          3828.2592037966974,
          3900.594803201334,
          3857.0981603022083,
          3786.423333259346,
          3754.399367036146,
          3765.4052159776675,
          3793.573591963494,
          3838.4957160201257,
          3877.5741653887494,
          3873.4828398612112,
          3856.0408678627937,
          3873.0429583544455,
          3968.581364251195,
          3962.922798625029,
          3938.4703145706358,
          4014.2263380784643
         ]
        },
        {
         "line": {
          "color": "rgba(255, 0, 0, 0.1)"
         },
         "mode": "lines",
         "name": "Simulation 65",
         "showlegend": false,
         "type": "scatter",
         "x": [
          "2023-01-03T00:00:00",
          "2023-01-04T00:00:00",
          "2023-01-05T00:00:00",
          "2023-01-06T00:00:00",
          "2023-01-09T00:00:00",
          "2023-01-10T00:00:00",
          "2023-01-11T00:00:00",
          "2023-01-12T00:00:00",
          "2023-01-13T00:00:00",
          "2023-01-17T00:00:00",
          "2023-01-18T00:00:00",
          "2023-01-19T00:00:00",
          "2023-01-20T00:00:00",
          "2023-01-23T00:00:00",
          "2023-01-24T00:00:00",
          "2023-01-25T00:00:00",
          "2023-01-26T00:00:00",
          "2023-01-27T00:00:00",
          "2023-01-30T00:00:00",
          "2023-01-31T00:00:00",
          "2023-02-01T00:00:00"
         ],
         "y": [
          3839.5,
          3840.68943801637,
          3818.7150649942314,
          3861.3632970535227,
          3913.9854942980783,
          3888.3469192817547,
          3894.87398498651,
          3852.3216808306943,
          3849.5557081395323,
          3836.905469499636,
          3777.1449380582903,
          3704.6720445019596,
          3678.3829697101523,
          3661.811025011674,
          3655.8155747938586,
          3641.8405080071607,
          3655.4908895588705,
          3657.975944025257,
          3636.8752157004405,
          3655.1275788575927,
          3679.027674008665
         ]
        },
        {
         "line": {
          "color": "rgba(255, 0, 0, 0.1)"
         },
         "mode": "lines",
         "name": "Simulation 66",
         "showlegend": false,
         "type": "scatter",
         "x": [
          "2023-01-03T00:00:00",
          "2023-01-04T00:00:00",
          "2023-01-05T00:00:00",
          "2023-01-06T00:00:00",
          "2023-01-09T00:00:00",
          "2023-01-10T00:00:00",
          "2023-01-11T00:00:00",
          "2023-01-12T00:00:00",
          "2023-01-13T00:00:00",
          "2023-01-17T00:00:00",
          "2023-01-18T00:00:00",
          "2023-01-19T00:00:00",
          "2023-01-20T00:00:00",
          "2023-01-23T00:00:00",
          "2023-01-24T00:00:00",
          "2023-01-25T00:00:00",
          "2023-01-26T00:00:00",
          "2023-01-27T00:00:00",
          "2023-01-30T00:00:00",
          "2023-01-31T00:00:00",
          "2023-02-01T00:00:00"
         ],
         "y": [
          3839.5,
          3840.68943801637,
          3984.4395831102042,
          4092.996953595922,
          4181.0148173371945,
          4175.022805678577,
          4268.463112609632,
          4256.798854136708,
          4199.510110134535,
          4197.435979919842,
          4242.896393833118,
          4118.6093919739105,
          4142.7535967912645,
          4146.030671794719,
          4268.973920320156,
          4314.818818856429,
          4324.250053225369,
          4259.078933769821,
          4212.415384585169,
          4194.219965777208,
          4316.083682468822
         ]
        },
        {
         "line": {
          "color": "rgba(255, 0, 0, 0.1)"
         },
         "mode": "lines",
         "name": "Simulation 67",
         "showlegend": false,
         "type": "scatter",
         "x": [
          "2023-01-03T00:00:00",
          "2023-01-04T00:00:00",
          "2023-01-05T00:00:00",
          "2023-01-06T00:00:00",
          "2023-01-09T00:00:00",
          "2023-01-10T00:00:00",
          "2023-01-11T00:00:00",
          "2023-01-12T00:00:00",
          "2023-01-13T00:00:00",
          "2023-01-17T00:00:00",
          "2023-01-18T00:00:00",
          "2023-01-19T00:00:00",
          "2023-01-20T00:00:00",
          "2023-01-23T00:00:00",
          "2023-01-24T00:00:00",
          "2023-01-25T00:00:00",
          "2023-01-26T00:00:00",
          "2023-01-27T00:00:00",
          "2023-01-30T00:00:00",
          "2023-01-31T00:00:00",
          "2023-02-01T00:00:00"
         ],
         "y": [
          3839.5,
          3840.68943801637,
          3875.222573671242,
          3833.062705353706,
          3853.150267597746,
          3883.980496289661,
          3924.2515023439537,
          3864.4721851230565,
          3855.0726239350993,
          3937.6564252830067,
          4033.396362611764,
          4077.833526685169,
          4109.951330076522,
          4122.061214963786,
          4003.377709871821,
          4010.1652734088016,
          3947.495930361335,
          3945.8380838350017,
          3966.057389514377,
          3929.109444826151,
          3819.3598823723137
         ]
        },
        {
         "line": {
          "color": "rgba(255, 0, 0, 0.1)"
         },
         "mode": "lines",
         "name": "Simulation 68",
         "showlegend": false,
         "type": "scatter",
         "x": [
          "2023-01-03T00:00:00",
          "2023-01-04T00:00:00",
          "2023-01-05T00:00:00",
          "2023-01-06T00:00:00",
          "2023-01-09T00:00:00",
          "2023-01-10T00:00:00",
          "2023-01-11T00:00:00",
          "2023-01-12T00:00:00",
          "2023-01-13T00:00:00",
          "2023-01-17T00:00:00",
          "2023-01-18T00:00:00",
          "2023-01-19T00:00:00",
          "2023-01-20T00:00:00",
          "2023-01-23T00:00:00",
          "2023-01-24T00:00:00",
          "2023-01-25T00:00:00",
          "2023-01-26T00:00:00",
          "2023-01-27T00:00:00",
          "2023-01-30T00:00:00",
          "2023-01-31T00:00:00",
          "2023-02-01T00:00:00"
         ],
         "y": [
          3839.5,
          3840.68943801637,
          3857.968005928108,
          3791.9213780466025,
          3811.480230623991,
          3855.0712265587476,
          3899.373879821826,
          3849.7439746278683,
          3823.359029218269,
          3793.1790380446746,
          3754.3157739328576,
          3857.7468466507053,
          3804.1469303252193,
          3753.6998833128864,
          3743.26709286628,
          3627.2287356185007,
          3567.6553732143457,
          3594.985839217902,
          3602.886799625888,
          3520.797094361518,
          3539.005137358954
         ]
        },
        {
         "line": {
          "color": "rgba(255, 0, 0, 0.1)"
         },
         "mode": "lines",
         "name": "Simulation 69",
         "showlegend": false,
         "type": "scatter",
         "x": [
          "2023-01-03T00:00:00",
          "2023-01-04T00:00:00",
          "2023-01-05T00:00:00",
          "2023-01-06T00:00:00",
          "2023-01-09T00:00:00",
          "2023-01-10T00:00:00",
          "2023-01-11T00:00:00",
          "2023-01-12T00:00:00",
          "2023-01-13T00:00:00",
          "2023-01-17T00:00:00",
          "2023-01-18T00:00:00",
          "2023-01-19T00:00:00",
          "2023-01-20T00:00:00",
          "2023-01-23T00:00:00",
          "2023-01-24T00:00:00",
          "2023-01-25T00:00:00",
          "2023-01-26T00:00:00",
          "2023-01-27T00:00:00",
          "2023-01-30T00:00:00",
          "2023-01-31T00:00:00",
          "2023-02-01T00:00:00"
         ],
         "y": [
          3839.5,
          3840.68943801637,
          3812.853051345394,
          3832.4634833262357,
          3830.954470707307,
          3879.3386407446233,
          3954.1196407567445,
          3930.7771723324554,
          3975.250964850612,
          3995.101004220591,
          4055.0523095052113,
          4047.3469650401516,
          4137.450896663096,
          4159.655046885317,
          4118.398404711382,
          4119.106925798171,
          4190.172764399964,
          4214.279420028925,
          4218.41050819351,
          4242.907069916408,
          4205.509140813785
         ]
        },
        {
         "line": {
          "color": "rgba(255, 0, 0, 0.1)"
         },
         "mode": "lines",
         "name": "Simulation 70",
         "showlegend": false,
         "type": "scatter",
         "x": [
          "2023-01-03T00:00:00",
          "2023-01-04T00:00:00",
          "2023-01-05T00:00:00",
          "2023-01-06T00:00:00",
          "2023-01-09T00:00:00",
          "2023-01-10T00:00:00",
          "2023-01-11T00:00:00",
          "2023-01-12T00:00:00",
          "2023-01-13T00:00:00",
          "2023-01-17T00:00:00",
          "2023-01-18T00:00:00",
          "2023-01-19T00:00:00",
          "2023-01-20T00:00:00",
          "2023-01-23T00:00:00",
          "2023-01-24T00:00:00",
          "2023-01-25T00:00:00",
          "2023-01-26T00:00:00",
          "2023-01-27T00:00:00",
          "2023-01-30T00:00:00",
          "2023-01-31T00:00:00",
          "2023-02-01T00:00:00"
         ],
         "y": [
          3839.5,
          3840.68943801637,
          3805.4933845475925,
          3760.197568695356,
          3707.9947061895436,
          3737.88960493834,
          3800.8208389333076,
          3791.5653485998782,
          3792.2127847736742,
          3737.084396725204,
          3750.2165592275246,
          3783.5943298934008,
          3677.9158625993837,
          3611.9985038449236,
          3596.488968650744,
          3626.1456713334023,
          3662.2241198212882,
          3723.718212861667,
          3668.286155716629,
          3727.649155864345,
          3803.7354794839475
         ]
        },
        {
         "line": {
          "color": "rgba(255, 0, 0, 0.1)"
         },
         "mode": "lines",
         "name": "Simulation 71",
         "showlegend": false,
         "type": "scatter",
         "x": [
          "2023-01-03T00:00:00",
          "2023-01-04T00:00:00",
          "2023-01-05T00:00:00",
          "2023-01-06T00:00:00",
          "2023-01-09T00:00:00",
          "2023-01-10T00:00:00",
          "2023-01-11T00:00:00",
          "2023-01-12T00:00:00",
          "2023-01-13T00:00:00",
          "2023-01-17T00:00:00",
          "2023-01-18T00:00:00",
          "2023-01-19T00:00:00",
          "2023-01-20T00:00:00",
          "2023-01-23T00:00:00",
          "2023-01-24T00:00:00",
          "2023-01-25T00:00:00",
          "2023-01-26T00:00:00",
          "2023-01-27T00:00:00",
          "2023-01-30T00:00:00",
          "2023-01-31T00:00:00",
          "2023-02-01T00:00:00"
         ],
         "y": [
          3839.5,
          3840.68943801637,
          3812.929960147952,
          3870.852706236174,
          3879.3922561096088,
          3906.5059269271737,
          3908.516997610212,
          3765.7811117131278,
          3745.2182046069074,
          3761.5055055806774,
          3758.3490117823767,
          3799.1047080599783,
          3783.0548708360634,
          3710.928187339922,
          3733.664334827905,
          3826.5724296567846,
          3830.2090426459827,
          3854.046941758834,
          3819.7194454684054,
          3745.0642180457835,
          3749.9209521033326
         ]
        },
        {
         "line": {
          "color": "rgba(255, 0, 0, 0.1)"
         },
         "mode": "lines",
         "name": "Simulation 72",
         "showlegend": false,
         "type": "scatter",
         "x": [
          "2023-01-03T00:00:00",
          "2023-01-04T00:00:00",
          "2023-01-05T00:00:00",
          "2023-01-06T00:00:00",
          "2023-01-09T00:00:00",
          "2023-01-10T00:00:00",
          "2023-01-11T00:00:00",
          "2023-01-12T00:00:00",
          "2023-01-13T00:00:00",
          "2023-01-17T00:00:00",
          "2023-01-18T00:00:00",
          "2023-01-19T00:00:00",
          "2023-01-20T00:00:00",
          "2023-01-23T00:00:00",
          "2023-01-24T00:00:00",
          "2023-01-25T00:00:00",
          "2023-01-26T00:00:00",
          "2023-01-27T00:00:00",
          "2023-01-30T00:00:00",
          "2023-01-31T00:00:00",
          "2023-02-01T00:00:00"
         ],
         "y": [
          3839.5,
          3840.68943801637,
          3811.5726058152536,
          3901.8257945157484,
          3881.9255235286855,
          3908.2939855251557,
          3924.1910211059244,
          3913.8075365163268,
          3888.812251236072,
          3872.8547780036724,
          3804.0772000055135,
          3781.7304468710927,
          3807.5853258198345,
          3707.129472338884,
          3729.212758541897,
          3719.9347148197235,
          3717.4307058494032,
          3594.487002324547,
          3577.0430832747675,
          3596.9947230148578,
          3537.395311231399
         ]
        },
        {
         "line": {
          "color": "rgba(255, 0, 0, 0.1)"
         },
         "mode": "lines",
         "name": "Simulation 73",
         "showlegend": false,
         "type": "scatter",
         "x": [
          "2023-01-03T00:00:00",
          "2023-01-04T00:00:00",
          "2023-01-05T00:00:00",
          "2023-01-06T00:00:00",
          "2023-01-09T00:00:00",
          "2023-01-10T00:00:00",
          "2023-01-11T00:00:00",
          "2023-01-12T00:00:00",
          "2023-01-13T00:00:00",
          "2023-01-17T00:00:00",
          "2023-01-18T00:00:00",
          "2023-01-19T00:00:00",
          "2023-01-20T00:00:00",
          "2023-01-23T00:00:00",
          "2023-01-24T00:00:00",
          "2023-01-25T00:00:00",
          "2023-01-26T00:00:00",
          "2023-01-27T00:00:00",
          "2023-01-30T00:00:00",
          "2023-01-31T00:00:00",
          "2023-02-01T00:00:00"
         ],
         "y": [
          3839.5,
          3840.68943801637,
          3761.325754689226,
          3734.6495128902015,
          3664.105988945525,
          3636.560585629794,
          3595.3230989564922,
          3622.418941916144,
          3636.016569150486,
          3600.059936536587,
          3651.210386516919,
          3673.456547776362,
          3747.4598535155433,
          3785.198575334418,
          3705.366115666525,
          3622.8652413638038,
          3581.6060096196134,
          3580.7564433059247,
          3542.8660318661755,
          3532.0094603767734,
          3537.408727214229
         ]
        },
        {
         "line": {
          "color": "rgba(255, 0, 0, 0.1)"
         },
         "mode": "lines",
         "name": "Simulation 74",
         "showlegend": false,
         "type": "scatter",
         "x": [
          "2023-01-03T00:00:00",
          "2023-01-04T00:00:00",
          "2023-01-05T00:00:00",
          "2023-01-06T00:00:00",
          "2023-01-09T00:00:00",
          "2023-01-10T00:00:00",
          "2023-01-11T00:00:00",
          "2023-01-12T00:00:00",
          "2023-01-13T00:00:00",
          "2023-01-17T00:00:00",
          "2023-01-18T00:00:00",
          "2023-01-19T00:00:00",
          "2023-01-20T00:00:00",
          "2023-01-23T00:00:00",
          "2023-01-24T00:00:00",
          "2023-01-25T00:00:00",
          "2023-01-26T00:00:00",
          "2023-01-27T00:00:00",
          "2023-01-30T00:00:00",
          "2023-01-31T00:00:00",
          "2023-02-01T00:00:00"
         ],
         "y": [
          3839.5,
          3840.68943801637,
          3785.005810629458,
          3837.5462561837094,
          3773.068092717315,
          3773.4799308177294,
          3801.7072740011695,
          3785.4503292872723,
          3822.4205299497094,
          3773.7386097392,
          3766.376860477514,
          3738.347588415861,
          3707.0476284408555,
          3654.574099785774,
          3703.2027747478332,
          3739.233695263274,
          3779.808800514988,
          3741.098127208773,
          3731.718010219346,
          3732.6668822728293,
          3658.996348985061
         ]
        },
        {
         "line": {
          "color": "rgba(255, 0, 0, 0.1)"
         },
         "mode": "lines",
         "name": "Simulation 75",
         "showlegend": false,
         "type": "scatter",
         "x": [
          "2023-01-03T00:00:00",
          "2023-01-04T00:00:00",
          "2023-01-05T00:00:00",
          "2023-01-06T00:00:00",
          "2023-01-09T00:00:00",
          "2023-01-10T00:00:00",
          "2023-01-11T00:00:00",
          "2023-01-12T00:00:00",
          "2023-01-13T00:00:00",
          "2023-01-17T00:00:00",
          "2023-01-18T00:00:00",
          "2023-01-19T00:00:00",
          "2023-01-20T00:00:00",
          "2023-01-23T00:00:00",
          "2023-01-24T00:00:00",
          "2023-01-25T00:00:00",
          "2023-01-26T00:00:00",
          "2023-01-27T00:00:00",
          "2023-01-30T00:00:00",
          "2023-01-31T00:00:00",
          "2023-02-01T00:00:00"
         ],
         "y": [
          3839.5,
          3840.68943801637,
          3851.76016768674,
          3868.2873008148167,
          3910.6521142694737,
          3985.9002457890724,
          4022.157476536274,
          4048.3559309532416,
          4059.102001581515,
          4148.2951761483655,
          4210.227178928393,
          4336.608321988342,
          4302.33431202229,
          4285.941442562513,
          4322.713405390799,
          4325.015110479291,
          4266.227816835429,
          4308.515919346857,
          4297.3923439501405,
          4252.597828514246,
          4314.324345795705
         ]
        },
        {
         "line": {
          "color": "rgba(255, 0, 0, 0.1)"
         },
         "mode": "lines",
         "name": "Simulation 76",
         "showlegend": false,
         "type": "scatter",
         "x": [
          "2023-01-03T00:00:00",
          "2023-01-04T00:00:00",
          "2023-01-05T00:00:00",
          "2023-01-06T00:00:00",
          "2023-01-09T00:00:00",
          "2023-01-10T00:00:00",
          "2023-01-11T00:00:00",
          "2023-01-12T00:00:00",
          "2023-01-13T00:00:00",
          "2023-01-17T00:00:00",
          "2023-01-18T00:00:00",
          "2023-01-19T00:00:00",
          "2023-01-20T00:00:00",
          "2023-01-23T00:00:00",
          "2023-01-24T00:00:00",
          "2023-01-25T00:00:00",
          "2023-01-26T00:00:00",
          "2023-01-27T00:00:00",
          "2023-01-30T00:00:00",
          "2023-01-31T00:00:00",
          "2023-02-01T00:00:00"
         ],
         "y": [
          3839.5,
          3840.68943801637,
          3813.4604459600314,
          3829.05086732813,
          3873.2264275274497,
          3859.4882392664535,
          3915.4762520537747,
          3877.5282130144615,
          3850.9197277058047,
          3782.997456675873,
          3709.6914455625097,
          3668.2621885159706,
          3704.490785995071,
          3680.3979244824236,
          3674.5133513040373,
          3697.4736925579396,
          3702.695544096618,
          3738.490928942085,
          3787.581389715055,
          3718.1771461955977,
          3787.6861001657153
         ]
        },
        {
         "line": {
          "color": "rgba(255, 0, 0, 0.1)"
         },
         "mode": "lines",
         "name": "Simulation 77",
         "showlegend": false,
         "type": "scatter",
         "x": [
          "2023-01-03T00:00:00",
          "2023-01-04T00:00:00",
          "2023-01-05T00:00:00",
          "2023-01-06T00:00:00",
          "2023-01-09T00:00:00",
          "2023-01-10T00:00:00",
          "2023-01-11T00:00:00",
          "2023-01-12T00:00:00",
          "2023-01-13T00:00:00",
          "2023-01-17T00:00:00",
          "2023-01-18T00:00:00",
          "2023-01-19T00:00:00",
          "2023-01-20T00:00:00",
          "2023-01-23T00:00:00",
          "2023-01-24T00:00:00",
          "2023-01-25T00:00:00",
          "2023-01-26T00:00:00",
          "2023-01-27T00:00:00",
          "2023-01-30T00:00:00",
          "2023-01-31T00:00:00",
          "2023-02-01T00:00:00"
         ],
         "y": [
          3839.5,
          3840.68943801637,
          3783.3591123583983,
          3691.0824495369543,
          3689.1239855412605,
          3749.1870061491722,
          3738.618971048313,
          3636.065264956806,
          3488.7809391591713,
          3480.8320505513652,
          3481.82928972407,
          3496.771544318464,
          3433.1411453752153,
          3446.7619319945316,
          3415.122864488245,
          3407.8817590862673,
          3419.127139738395,
          3414.1347843262442,
          3396.7510293739947,
          3370.8857947427923,
          3322.0992372116416
         ]
        },
        {
         "line": {
          "color": "rgba(255, 0, 0, 0.1)"
         },
         "mode": "lines",
         "name": "Simulation 78",
         "showlegend": false,
         "type": "scatter",
         "x": [
          "2023-01-03T00:00:00",
          "2023-01-04T00:00:00",
          "2023-01-05T00:00:00",
          "2023-01-06T00:00:00",
          "2023-01-09T00:00:00",
          "2023-01-10T00:00:00",
          "2023-01-11T00:00:00",
          "2023-01-12T00:00:00",
          "2023-01-13T00:00:00",
          "2023-01-17T00:00:00",
          "2023-01-18T00:00:00",
          "2023-01-19T00:00:00",
          "2023-01-20T00:00:00",
          "2023-01-23T00:00:00",
          "2023-01-24T00:00:00",
          "2023-01-25T00:00:00",
          "2023-01-26T00:00:00",
          "2023-01-27T00:00:00",
          "2023-01-30T00:00:00",
          "2023-01-31T00:00:00",
          "2023-02-01T00:00:00"
         ],
         "y": [
          3839.5,
          3840.68943801637,
          3889.7244734464316,
          3924.443327537238,
          3864.956650528223,
          3865.920807436188,
          3844.317632309406,
          3890.341461457553,
          3907.556627363951,
          3902.92563675144,
          3923.980163321269,
          3964.6856970297085,
          3967.6749462302937,
          4045.484978962022,
          4122.244876112561,
          4076.8781945181736,
          4030.129526511329,
          4079.3893410661044,
          4076.961350499927,
          4058.293776739485,
          3964.9908367017138
         ]
        },
        {
         "line": {
          "color": "rgba(255, 0, 0, 0.1)"
         },
         "mode": "lines",
         "name": "Simulation 79",
         "showlegend": false,
         "type": "scatter",
         "x": [
          "2023-01-03T00:00:00",
          "2023-01-04T00:00:00",
          "2023-01-05T00:00:00",
          "2023-01-06T00:00:00",
          "2023-01-09T00:00:00",
          "2023-01-10T00:00:00",
          "2023-01-11T00:00:00",
          "2023-01-12T00:00:00",
          "2023-01-13T00:00:00",
          "2023-01-17T00:00:00",
          "2023-01-18T00:00:00",
          "2023-01-19T00:00:00",
          "2023-01-20T00:00:00",
          "2023-01-23T00:00:00",
          "2023-01-24T00:00:00",
          "2023-01-25T00:00:00",
          "2023-01-26T00:00:00",
          "2023-01-27T00:00:00",
          "2023-01-30T00:00:00",
          "2023-01-31T00:00:00",
          "2023-02-01T00:00:00"
         ],
         "y": [
          3839.5,
          3840.68943801637,
          3802.4489599626345,
          3783.523461416927,
          3778.820939456539,
          3739.6513252522213,
          3706.6825236180302,
          3641.709854520757,
          3651.6011411481554,
          3720.6708624056005,
          3658.764423433658,
          3644.9948257165447,
          3661.5671342964642,
          3714.1609217612568,
          3679.8834665623804,
          3689.961667674162,
          3742.1957664333545,
          3816.57747257554,
          3754.3323680207154,
          3744.838435645577,
          3733.5225106566704
         ]
        },
        {
         "line": {
          "color": "rgba(255, 0, 0, 0.1)"
         },
         "mode": "lines",
         "name": "Simulation 80",
         "showlegend": false,
         "type": "scatter",
         "x": [
          "2023-01-03T00:00:00",
          "2023-01-04T00:00:00",
          "2023-01-05T00:00:00",
          "2023-01-06T00:00:00",
          "2023-01-09T00:00:00",
          "2023-01-10T00:00:00",
          "2023-01-11T00:00:00",
          "2023-01-12T00:00:00",
          "2023-01-13T00:00:00",
          "2023-01-17T00:00:00",
          "2023-01-18T00:00:00",
          "2023-01-19T00:00:00",
          "2023-01-20T00:00:00",
          "2023-01-23T00:00:00",
          "2023-01-24T00:00:00",
          "2023-01-25T00:00:00",
          "2023-01-26T00:00:00",
          "2023-01-27T00:00:00",
          "2023-01-30T00:00:00",
          "2023-01-31T00:00:00",
          "2023-02-01T00:00:00"
         ],
         "y": [
          3839.5,
          3840.68943801637,
          3863.02207620947,
          3915.0246898440078,
          3927.0405512378684,
          4018.884548068382,
          4025.316753263962,
          3984.127834907361,
          3981.1761447536032,
          4045.408631307491,
          4102.082758255597,
          4088.6849634666783,
          4092.310463005215,
          4127.397464061693,
          4056.8709653355522,
          3995.293777694286,
          4032.3208480342455,
          3967.1497580410187,
          3976.6527638052553,
          4081.527201365385,
          4094.080159526161
         ]
        },
        {
         "line": {
          "color": "rgba(255, 0, 0, 0.1)"
         },
         "mode": "lines",
         "name": "Simulation 81",
         "showlegend": false,
         "type": "scatter",
         "x": [
          "2023-01-03T00:00:00",
          "2023-01-04T00:00:00",
          "2023-01-05T00:00:00",
          "2023-01-06T00:00:00",
          "2023-01-09T00:00:00",
          "2023-01-10T00:00:00",
          "2023-01-11T00:00:00",
          "2023-01-12T00:00:00",
          "2023-01-13T00:00:00",
          "2023-01-17T00:00:00",
          "2023-01-18T00:00:00",
          "2023-01-19T00:00:00",
          "2023-01-20T00:00:00",
          "2023-01-23T00:00:00",
          "2023-01-24T00:00:00",
          "2023-01-25T00:00:00",
          "2023-01-26T00:00:00",
          "2023-01-27T00:00:00",
          "2023-01-30T00:00:00",
          "2023-01-31T00:00:00",
          "2023-02-01T00:00:00"
         ],
         "y": [
          3839.5,
          3840.68943801637,
          3829.2987326315188,
          3788.356890402281,
          3716.815951016301,
          3658.298417515936,
          3650.6936855051936,
          3689.85113108499,
          3683.5536790568935,
          3738.1501336625324,
          3801.135694353956,
          3791.399529914581,
          3786.289873907082,
          3758.3106823422404,
          3749.133763634042,
          3794.3353739282775,
          3897.720772736728,
          3946.9670048484104,
          3928.3445316877005,
          3919.011019191707,
          3879.6531267576506
         ]
        },
        {
         "line": {
          "color": "rgba(255, 0, 0, 0.1)"
         },
         "mode": "lines",
         "name": "Simulation 82",
         "showlegend": false,
         "type": "scatter",
         "x": [
          "2023-01-03T00:00:00",
          "2023-01-04T00:00:00",
          "2023-01-05T00:00:00",
          "2023-01-06T00:00:00",
          "2023-01-09T00:00:00",
          "2023-01-10T00:00:00",
          "2023-01-11T00:00:00",
          "2023-01-12T00:00:00",
          "2023-01-13T00:00:00",
          "2023-01-17T00:00:00",
          "2023-01-18T00:00:00",
          "2023-01-19T00:00:00",
          "2023-01-20T00:00:00",
          "2023-01-23T00:00:00",
          "2023-01-24T00:00:00",
          "2023-01-25T00:00:00",
          "2023-01-26T00:00:00",
          "2023-01-27T00:00:00",
          "2023-01-30T00:00:00",
          "2023-01-31T00:00:00",
          "2023-02-01T00:00:00"
         ],
         "y": [
          3839.5,
          3840.68943801637,
          3857.686625878464,
          3858.3560244829523,
          3920.1888232014003,
          3888.832705962295,
          3886.492733093909,
          3912.3677874610757,
          3882.1579019041665,
          3984.331396711172,
          4011.416090052603,
          3895.6736235614567,
          3937.299071597532,
          3896.5246114697175,
          3877.169666858991,
          3875.627422605136,
          3832.3316023904913,
          3900.084017344196,
          3906.9545701854486,
          3942.9258708676894,
          3951.891510024221
         ]
        },
        {
         "line": {
          "color": "rgba(255, 0, 0, 0.1)"
         },
         "mode": "lines",
         "name": "Simulation 83",
         "showlegend": false,
         "type": "scatter",
         "x": [
          "2023-01-03T00:00:00",
          "2023-01-04T00:00:00",
          "2023-01-05T00:00:00",
          "2023-01-06T00:00:00",
          "2023-01-09T00:00:00",
          "2023-01-10T00:00:00",
          "2023-01-11T00:00:00",
          "2023-01-12T00:00:00",
          "2023-01-13T00:00:00",
          "2023-01-17T00:00:00",
          "2023-01-18T00:00:00",
          "2023-01-19T00:00:00",
          "2023-01-20T00:00:00",
          "2023-01-23T00:00:00",
          "2023-01-24T00:00:00",
          "2023-01-25T00:00:00",
          "2023-01-26T00:00:00",
          "2023-01-27T00:00:00",
          "2023-01-30T00:00:00",
          "2023-01-31T00:00:00",
          "2023-02-01T00:00:00"
         ],
         "y": [
          3839.5,
          3840.68943801637,
          3969.8794419974247,
          3904.5310165167125,
          3879.061402095895,
          3881.7051496256804,
          3945.958204796436,
          3969.922729230056,
          3982.533612917886,
          3937.895400245782,
          3977.8444997362035,
          3891.9866614436046,
          3935.4866186580816,
          3972.0640384420067,
          3918.831581533104,
          3954.3810181843173,
          4010.1965051768557,
          4114.632981746224,
          4126.671963989371,
          4137.880713848425,
          4130.4862396686285
         ]
        },
        {
         "line": {
          "color": "rgba(255, 0, 0, 0.1)"
         },
         "mode": "lines",
         "name": "Simulation 84",
         "showlegend": false,
         "type": "scatter",
         "x": [
          "2023-01-03T00:00:00",
          "2023-01-04T00:00:00",
          "2023-01-05T00:00:00",
          "2023-01-06T00:00:00",
          "2023-01-09T00:00:00",
          "2023-01-10T00:00:00",
          "2023-01-11T00:00:00",
          "2023-01-12T00:00:00",
          "2023-01-13T00:00:00",
          "2023-01-17T00:00:00",
          "2023-01-18T00:00:00",
          "2023-01-19T00:00:00",
          "2023-01-20T00:00:00",
          "2023-01-23T00:00:00",
          "2023-01-24T00:00:00",
          "2023-01-25T00:00:00",
          "2023-01-26T00:00:00",
          "2023-01-27T00:00:00",
          "2023-01-30T00:00:00",
          "2023-01-31T00:00:00",
          "2023-02-01T00:00:00"
         ],
         "y": [
          3839.5,
          3840.68943801637,
          3845.439916133244,
          3807.3416640669698,
          3824.4935133634604,
          3777.767217624777,
          3744.325855719684,
          3754.3774144711724,
          3774.4722836224837,
          3707.695363300159,
          3708.294398807126,
          3729.7973639762877,
          3687.735796811993,
          3761.213337811491,
          3737.3470722387196,
          3743.3833568746227,
          3706.60287704241,
          3702.1226759945207,
          3726.0553721358483,
          3670.750093697554,
          3672.83372210493
         ]
        },
        {
         "line": {
          "color": "rgba(255, 0, 0, 0.1)"
         },
         "mode": "lines",
         "name": "Simulation 85",
         "showlegend": false,
         "type": "scatter",
         "x": [
          "2023-01-03T00:00:00",
          "2023-01-04T00:00:00",
          "2023-01-05T00:00:00",
          "2023-01-06T00:00:00",
          "2023-01-09T00:00:00",
          "2023-01-10T00:00:00",
          "2023-01-11T00:00:00",
          "2023-01-12T00:00:00",
          "2023-01-13T00:00:00",
          "2023-01-17T00:00:00",
          "2023-01-18T00:00:00",
          "2023-01-19T00:00:00",
          "2023-01-20T00:00:00",
          "2023-01-23T00:00:00",
          "2023-01-24T00:00:00",
          "2023-01-25T00:00:00",
          "2023-01-26T00:00:00",
          "2023-01-27T00:00:00",
          "2023-01-30T00:00:00",
          "2023-01-31T00:00:00",
          "2023-02-01T00:00:00"
         ],
         "y": [
          3839.5,
          3840.68943801637,
          3827.217817156917,
          3885.978054625485,
          3886.5312761410764,
          3895.3973202022776,
          3869.8633260847296,
          3855.8170906135388,
          3898.566672210314,
          3912.881052985656,
          3875.614991198106,
          3872.5672249152553,
          3904.4253116128775,
          3877.0553906641885,
          3939.539821584125,
          3915.042933024615,
          3864.285016700587,
          3871.942335798209,
          3803.359108196145,
          3795.833773229042,
          3837.930994859816
         ]
        },
        {
         "line": {
          "color": "rgba(255, 0, 0, 0.1)"
         },
         "mode": "lines",
         "name": "Simulation 86",
         "showlegend": false,
         "type": "scatter",
         "x": [
          "2023-01-03T00:00:00",
          "2023-01-04T00:00:00",
          "2023-01-05T00:00:00",
          "2023-01-06T00:00:00",
          "2023-01-09T00:00:00",
          "2023-01-10T00:00:00",
          "2023-01-11T00:00:00",
          "2023-01-12T00:00:00",
          "2023-01-13T00:00:00",
          "2023-01-17T00:00:00",
          "2023-01-18T00:00:00",
          "2023-01-19T00:00:00",
          "2023-01-20T00:00:00",
          "2023-01-23T00:00:00",
          "2023-01-24T00:00:00",
          "2023-01-25T00:00:00",
          "2023-01-26T00:00:00",
          "2023-01-27T00:00:00",
          "2023-01-30T00:00:00",
          "2023-01-31T00:00:00",
          "2023-02-01T00:00:00"
         ],
         "y": [
          3839.5,
          3840.68943801637,
          3809.581618071722,
          3840.5178174583543,
          3860.4026301932395,
          3843.832339502479,
          3767.905757966355,
          3751.4346739813996,
          3691.1309875920538,
          3674.1434708727006,
          3665.3951236396274,
          3623.1444904654422,
          3629.804568675468,
          3610.6994467672826,
          3619.740765428314,
          3607.9518181352414,
          3574.8788436033537,
          3588.5701501260723,
          3602.786510816544,
          3600.3276896129105,
          3700.623483859352
         ]
        },
        {
         "line": {
          "color": "rgba(255, 0, 0, 0.1)"
         },
         "mode": "lines",
         "name": "Simulation 87",
         "showlegend": false,
         "type": "scatter",
         "x": [
          "2023-01-03T00:00:00",
          "2023-01-04T00:00:00",
          "2023-01-05T00:00:00",
          "2023-01-06T00:00:00",
          "2023-01-09T00:00:00",
          "2023-01-10T00:00:00",
          "2023-01-11T00:00:00",
          "2023-01-12T00:00:00",
          "2023-01-13T00:00:00",
          "2023-01-17T00:00:00",
          "2023-01-18T00:00:00",
          "2023-01-19T00:00:00",
          "2023-01-20T00:00:00",
          "2023-01-23T00:00:00",
          "2023-01-24T00:00:00",
          "2023-01-25T00:00:00",
          "2023-01-26T00:00:00",
          "2023-01-27T00:00:00",
          "2023-01-30T00:00:00",
          "2023-01-31T00:00:00",
          "2023-02-01T00:00:00"
         ],
         "y": [
          3839.5,
          3840.68943801637,
          3780.7948175838737,
          3789.685513526953,
          3810.1868466987,
          3908.4317125937437,
          3889.215721506648,
          3883.014303339895,
          3926.8311661094845,
          4027.048851762867,
          4014.115242404024,
          4046.310259286081,
          4069.724552118678,
          4091.931362179928,
          4069.7814197800867,
          4079.607986769327,
          4089.880959543573,
          4144.940912491354,
          4055.0538565700213,
          3985.8926740401657,
          4072.9276243194254
         ]
        },
        {
         "line": {
          "color": "rgba(255, 0, 0, 0.1)"
         },
         "mode": "lines",
         "name": "Simulation 88",
         "showlegend": false,
         "type": "scatter",
         "x": [
          "2023-01-03T00:00:00",
          "2023-01-04T00:00:00",
          "2023-01-05T00:00:00",
          "2023-01-06T00:00:00",
          "2023-01-09T00:00:00",
          "2023-01-10T00:00:00",
          "2023-01-11T00:00:00",
          "2023-01-12T00:00:00",
          "2023-01-13T00:00:00",
          "2023-01-17T00:00:00",
          "2023-01-18T00:00:00",
          "2023-01-19T00:00:00",
          "2023-01-20T00:00:00",
          "2023-01-23T00:00:00",
          "2023-01-24T00:00:00",
          "2023-01-25T00:00:00",
          "2023-01-26T00:00:00",
          "2023-01-27T00:00:00",
          "2023-01-30T00:00:00",
          "2023-01-31T00:00:00",
          "2023-02-01T00:00:00"
         ],
         "y": [
          3839.5,
          3840.68943801637,
          3815.3714526549006,
          3787.2667669404013,
          3847.884194251391,
          3860.1099396420977,
          3882.811860336036,
          3837.000931458032,
          3842.217824821351,
          3903.9930522583054,
          3918.577677181334,
          3840.783527327514,
          3852.2340407947004,
          3763.4127225228144,
          3729.5790219647215,
          3667.6740650436373,
          3696.0603186303174,
          3729.373048490043,
          3784.8439740294493,
          3836.9240760353146,
          3841.533407142769
         ]
        },
        {
         "line": {
          "color": "rgba(255, 0, 0, 0.1)"
         },
         "mode": "lines",
         "name": "Simulation 89",
         "showlegend": false,
         "type": "scatter",
         "x": [
          "2023-01-03T00:00:00",
          "2023-01-04T00:00:00",
          "2023-01-05T00:00:00",
          "2023-01-06T00:00:00",
          "2023-01-09T00:00:00",
          "2023-01-10T00:00:00",
          "2023-01-11T00:00:00",
          "2023-01-12T00:00:00",
          "2023-01-13T00:00:00",
          "2023-01-17T00:00:00",
          "2023-01-18T00:00:00",
          "2023-01-19T00:00:00",
          "2023-01-20T00:00:00",
          "2023-01-23T00:00:00",
          "2023-01-24T00:00:00",
          "2023-01-25T00:00:00",
          "2023-01-26T00:00:00",
          "2023-01-27T00:00:00",
          "2023-01-30T00:00:00",
          "2023-01-31T00:00:00",
          "2023-02-01T00:00:00"
         ],
         "y": [
          3839.5,
          3840.68943801637,
          3790.7748237705073,
          3771.29942979998,
          3740.5178705715857,
          3698.637573728614,
          3707.222232318527,
          3739.605790911941,
          3674.5633171241234,
          3652.2262849708877,
          3622.8361785491675,
          3595.639757377364,
          3556.978119735902,
          3474.0836117174267,
          3493.4733154341434,
          3436.9057053273764,
          3362.08935279536,
          3285.681366790478,
          3291.983458861555,
          3290.026155036555,
          3304.2673125129613
         ]
        },
        {
         "line": {
          "color": "rgba(255, 0, 0, 0.1)"
         },
         "mode": "lines",
         "name": "Simulation 90",
         "showlegend": false,
         "type": "scatter",
         "x": [
          "2023-01-03T00:00:00",
          "2023-01-04T00:00:00",
          "2023-01-05T00:00:00",
          "2023-01-06T00:00:00",
          "2023-01-09T00:00:00",
          "2023-01-10T00:00:00",
          "2023-01-11T00:00:00",
          "2023-01-12T00:00:00",
          "2023-01-13T00:00:00",
          "2023-01-17T00:00:00",
          "2023-01-18T00:00:00",
          "2023-01-19T00:00:00",
          "2023-01-20T00:00:00",
          "2023-01-23T00:00:00",
          "2023-01-24T00:00:00",
          "2023-01-25T00:00:00",
          "2023-01-26T00:00:00",
          "2023-01-27T00:00:00",
          "2023-01-30T00:00:00",
          "2023-01-31T00:00:00",
          "2023-02-01T00:00:00"
         ],
         "y": [
          3839.5,
          3840.68943801637,
          3817.5815198497435,
          3787.6681133087386,
          3800.345457422981,
          3771.4582306650786,
          3693.1331199980737,
          3676.966327218547,
          3783.810360712661,
          3903.7979242005317,
          3866.0709574159496,
          3927.299677546331,
          3952.963749758942,
          3837.693121840128,
          3757.9730934767326,
          3780.74220801482,
          3743.689347591153,
          3772.249435401472,
          3779.8871436328177,
          3832.502196709807,
          3789.585897966213
         ]
        },
        {
         "line": {
          "color": "rgba(255, 0, 0, 0.1)"
         },
         "mode": "lines",
         "name": "Simulation 91",
         "showlegend": false,
         "type": "scatter",
         "x": [
          "2023-01-03T00:00:00",
          "2023-01-04T00:00:00",
          "2023-01-05T00:00:00",
          "2023-01-06T00:00:00",
          "2023-01-09T00:00:00",
          "2023-01-10T00:00:00",
          "2023-01-11T00:00:00",
          "2023-01-12T00:00:00",
          "2023-01-13T00:00:00",
          "2023-01-17T00:00:00",
          "2023-01-18T00:00:00",
          "2023-01-19T00:00:00",
          "2023-01-20T00:00:00",
          "2023-01-23T00:00:00",
          "2023-01-24T00:00:00",
          "2023-01-25T00:00:00",
          "2023-01-26T00:00:00",
          "2023-01-27T00:00:00",
          "2023-01-30T00:00:00",
          "2023-01-31T00:00:00",
          "2023-02-01T00:00:00"
         ],
         "y": [
          3839.5,
          3840.68943801637,
          3872.4095269561217,
          3832.0755465826533,
          3844.385660628667,
          3843.390550245523,
          3921.6027501612452,
          3930.1142985678825,
          3870.186048341917,
          3834.0622863291496,
          3791.143437122736,
          3756.120906556139,
          3823.922862592849,
          3899.1362746869004,
          3887.809192603848,
          3885.736300558605,
          3816.462502660674,
          3855.2535706036624,
          3894.368546234886,
          3912.7579824168233,
          3875.841576685462
         ]
        },
        {
         "line": {
          "color": "rgba(255, 0, 0, 0.1)"
         },
         "mode": "lines",
         "name": "Simulation 92",
         "showlegend": false,
         "type": "scatter",
         "x": [
          "2023-01-03T00:00:00",
          "2023-01-04T00:00:00",
          "2023-01-05T00:00:00",
          "2023-01-06T00:00:00",
          "2023-01-09T00:00:00",
          "2023-01-10T00:00:00",
          "2023-01-11T00:00:00",
          "2023-01-12T00:00:00",
          "2023-01-13T00:00:00",
          "2023-01-17T00:00:00",
          "2023-01-18T00:00:00",
          "2023-01-19T00:00:00",
          "2023-01-20T00:00:00",
          "2023-01-23T00:00:00",
          "2023-01-24T00:00:00",
          "2023-01-25T00:00:00",
          "2023-01-26T00:00:00",
          "2023-01-27T00:00:00",
          "2023-01-30T00:00:00",
          "2023-01-31T00:00:00",
          "2023-02-01T00:00:00"
         ],
         "y": [
          3839.5,
          3840.68943801637,
          3800.034285187908,
          3813.9778220896524,
          3794.032179220594,
          3809.774304151627,
          3702.211988919407,
          3703.713350877019,
          3739.8276175459855,
          3736.7289462771373,
          3720.7645519567886,
          3771.018157429347,
          3803.3899626854895,
          3826.58870856797,
          3963.4697912032793,
          3946.4563234085704,
          3906.1984362034673,
          3904.673065125553,
          3952.425145775162,
          3910.3361636080053,
          3872.098834040771
         ]
        },
        {
         "line": {
          "color": "rgba(255, 0, 0, 0.1)"
         },
         "mode": "lines",
         "name": "Simulation 93",
         "showlegend": false,
         "type": "scatter",
         "x": [
          "2023-01-03T00:00:00",
          "2023-01-04T00:00:00",
          "2023-01-05T00:00:00",
          "2023-01-06T00:00:00",
          "2023-01-09T00:00:00",
          "2023-01-10T00:00:00",
          "2023-01-11T00:00:00",
          "2023-01-12T00:00:00",
          "2023-01-13T00:00:00",
          "2023-01-17T00:00:00",
          "2023-01-18T00:00:00",
          "2023-01-19T00:00:00",
          "2023-01-20T00:00:00",
          "2023-01-23T00:00:00",
          "2023-01-24T00:00:00",
          "2023-01-25T00:00:00",
          "2023-01-26T00:00:00",
          "2023-01-27T00:00:00",
          "2023-01-30T00:00:00",
          "2023-01-31T00:00:00",
          "2023-02-01T00:00:00"
         ],
         "y": [
          3839.5,
          3840.68943801637,
          3859.2908465093496,
          3806.506457300804,
          3860.333610766516,
          3856.237526970661,
          3845.097731622623,
          3874.4014992727866,
          3929.35030136047,
          3941.7071694608067,
          3929.4692216860026,
          3881.0992132553642,
          3914.0018328992533,
          3970.400483965461,
          4033.237932818205,
          4086.2587807953746,
          4064.9894731499967,
          4133.505136953718,
          4125.253657329086,
          4139.701661900319,
          4197.022593753091
         ]
        },
        {
         "line": {
          "color": "rgba(255, 0, 0, 0.1)"
         },
         "mode": "lines",
         "name": "Simulation 94",
         "showlegend": false,
         "type": "scatter",
         "x": [
          "2023-01-03T00:00:00",
          "2023-01-04T00:00:00",
          "2023-01-05T00:00:00",
          "2023-01-06T00:00:00",
          "2023-01-09T00:00:00",
          "2023-01-10T00:00:00",
          "2023-01-11T00:00:00",
          "2023-01-12T00:00:00",
          "2023-01-13T00:00:00",
          "2023-01-17T00:00:00",
          "2023-01-18T00:00:00",
          "2023-01-19T00:00:00",
          "2023-01-20T00:00:00",
          "2023-01-23T00:00:00",
          "2023-01-24T00:00:00",
          "2023-01-25T00:00:00",
          "2023-01-26T00:00:00",
          "2023-01-27T00:00:00",
          "2023-01-30T00:00:00",
          "2023-01-31T00:00:00",
          "2023-02-01T00:00:00"
         ],
         "y": [
          3839.5,
          3840.68943801637,
          3868.6802943505822,
          3798.881506834252,
          3807.174134161836,
          3755.7067698217365,
          3747.765172855618,
          3703.1945493834705,
          3772.2956155762895,
          3735.6204236488807,
          3725.392381151144,
          3727.198939152473,
          3793.475646678707,
          3904.7740415077474,
          3902.3678625633015,
          3885.733735910066,
          3906.6866742666343,
          3905.2845829190223,
          3987.8403882200705,
          4043.7597260670427,
          4037.4280882412863
         ]
        },
        {
         "line": {
          "color": "rgba(255, 0, 0, 0.1)"
         },
         "mode": "lines",
         "name": "Simulation 95",
         "showlegend": false,
         "type": "scatter",
         "x": [
          "2023-01-03T00:00:00",
          "2023-01-04T00:00:00",
          "2023-01-05T00:00:00",
          "2023-01-06T00:00:00",
          "2023-01-09T00:00:00",
          "2023-01-10T00:00:00",
          "2023-01-11T00:00:00",
          "2023-01-12T00:00:00",
          "2023-01-13T00:00:00",
          "2023-01-17T00:00:00",
          "2023-01-18T00:00:00",
          "2023-01-19T00:00:00",
          "2023-01-20T00:00:00",
          "2023-01-23T00:00:00",
          "2023-01-24T00:00:00",
          "2023-01-25T00:00:00",
          "2023-01-26T00:00:00",
          "2023-01-27T00:00:00",
          "2023-01-30T00:00:00",
          "2023-01-31T00:00:00",
          "2023-02-01T00:00:00"
         ],
         "y": [
          3839.5,
          3840.68943801637,
          3811.894817295054,
          3742.1290250694083,
          3765.559194590183,
          3795.047141623987,
          3810.9545414844165,
          3906.4698148126986,
          3972.368175238738,
          3917.7427276411527,
          3979.1827580123672,
          4027.271012118765,
          4121.540436721744,
          4125.114030786229,
          4192.629262799913,
          4199.034189865421,
          4272.770236598132,
          4252.2176880511315,
          4253.706492269611,
          4315.629854050314,
          4380.683650115498
         ]
        },
        {
         "line": {
          "color": "rgba(255, 0, 0, 0.1)"
         },
         "mode": "lines",
         "name": "Simulation 96",
         "showlegend": false,
         "type": "scatter",
         "x": [
          "2023-01-03T00:00:00",
          "2023-01-04T00:00:00",
          "2023-01-05T00:00:00",
          "2023-01-06T00:00:00",
          "2023-01-09T00:00:00",
          "2023-01-10T00:00:00",
          "2023-01-11T00:00:00",
          "2023-01-12T00:00:00",
          "2023-01-13T00:00:00",
          "2023-01-17T00:00:00",
          "2023-01-18T00:00:00",
          "2023-01-19T00:00:00",
          "2023-01-20T00:00:00",
          "2023-01-23T00:00:00",
          "2023-01-24T00:00:00",
          "2023-01-25T00:00:00",
          "2023-01-26T00:00:00",
          "2023-01-27T00:00:00",
          "2023-01-30T00:00:00",
          "2023-01-31T00:00:00",
          "2023-02-01T00:00:00"
         ],
         "y": [
          3839.5,
          3840.68943801637,
          3847.2118396949168,
          3872.310180913602,
          3870.9206656197584,
          3896.794043679379,
          3898.423191826787,
          3856.1676166376456,
          3905.762601014553,
          3924.0130703773325,
          3878.790613911349,
          3850.9784727302094,
          3837.547987782009,
          3778.4131859310965,
          3800.1222733112563,
          3782.0368629743807,
          3796.196963091551,
          3785.487945866953,
          3801.850044012355,
          3813.60633188883,
          3798.0424365783147
         ]
        },
        {
         "line": {
          "color": "rgba(255, 0, 0, 0.1)"
         },
         "mode": "lines",
         "name": "Simulation 97",
         "showlegend": false,
         "type": "scatter",
         "x": [
          "2023-01-03T00:00:00",
          "2023-01-04T00:00:00",
          "2023-01-05T00:00:00",
          "2023-01-06T00:00:00",
          "2023-01-09T00:00:00",
          "2023-01-10T00:00:00",
          "2023-01-11T00:00:00",
          "2023-01-12T00:00:00",
          "2023-01-13T00:00:00",
          "2023-01-17T00:00:00",
          "2023-01-18T00:00:00",
          "2023-01-19T00:00:00",
          "2023-01-20T00:00:00",
          "2023-01-23T00:00:00",
          "2023-01-24T00:00:00",
          "2023-01-25T00:00:00",
          "2023-01-26T00:00:00",
          "2023-01-27T00:00:00",
          "2023-01-30T00:00:00",
          "2023-01-31T00:00:00",
          "2023-02-01T00:00:00"
         ],
         "y": [
          3839.5,
          3840.68943801637,
          3863.0487916054717,
          3887.2625042449404,
          3924.825669161173,
          3966.64078692409,
          4057.9002121419753,
          4067.296438512716,
          4109.438391514502,
          4053.6821389678785,
          4015.25642729778,
          4058.729671885913,
          4032.1656997028485,
          4024.6501397231295,
          4014.4513601465173,
          4042.4548439603636,
          4042.99636081177,
          4072.5242882588022,
          4097.8550925563295,
          4027.4001371711433,
          3977.4860455913627
         ]
        },
        {
         "line": {
          "color": "rgba(255, 0, 0, 0.1)"
         },
         "mode": "lines",
         "name": "Simulation 98",
         "showlegend": false,
         "type": "scatter",
         "x": [
          "2023-01-03T00:00:00",
          "2023-01-04T00:00:00",
          "2023-01-05T00:00:00",
          "2023-01-06T00:00:00",
          "2023-01-09T00:00:00",
          "2023-01-10T00:00:00",
          "2023-01-11T00:00:00",
          "2023-01-12T00:00:00",
          "2023-01-13T00:00:00",
          "2023-01-17T00:00:00",
          "2023-01-18T00:00:00",
          "2023-01-19T00:00:00",
          "2023-01-20T00:00:00",
          "2023-01-23T00:00:00",
          "2023-01-24T00:00:00",
          "2023-01-25T00:00:00",
          "2023-01-26T00:00:00",
          "2023-01-27T00:00:00",
          "2023-01-30T00:00:00",
          "2023-01-31T00:00:00",
          "2023-02-01T00:00:00"
         ],
         "y": [
          3839.5,
          3840.68943801637,
          3792.390003751796,
          3844.161300516097,
          3824.4393784111467,
          3845.7013655334713,
          3811.1699028991966,
          3768.0529081015493,
          3786.845605181947,
          3831.574809038419,
          3909.98033785914,
          3911.5353072755115,
          3822.365303972375,
          3816.3791895263757,
          3866.9625228399927,
          3832.6306589250926,
          3849.287159790244,
          3835.75600243781,
          3785.635274086711,
          3793.1700977199603,
          3815.697445443155
         ]
        },
        {
         "line": {
          "color": "rgba(255, 0, 0, 0.1)"
         },
         "mode": "lines",
         "name": "Simulation 99",
         "showlegend": false,
         "type": "scatter",
         "x": [
          "2023-01-03T00:00:00",
          "2023-01-04T00:00:00",
          "2023-01-05T00:00:00",
          "2023-01-06T00:00:00",
          "2023-01-09T00:00:00",
          "2023-01-10T00:00:00",
          "2023-01-11T00:00:00",
          "2023-01-12T00:00:00",
          "2023-01-13T00:00:00",
          "2023-01-17T00:00:00",
          "2023-01-18T00:00:00",
          "2023-01-19T00:00:00",
          "2023-01-20T00:00:00",
          "2023-01-23T00:00:00",
          "2023-01-24T00:00:00",
          "2023-01-25T00:00:00",
          "2023-01-26T00:00:00",
          "2023-01-27T00:00:00",
          "2023-01-30T00:00:00",
          "2023-01-31T00:00:00",
          "2023-02-01T00:00:00"
         ],
         "y": [
          3839.5,
          3840.68943801637,
          3843.4900676362627,
          3838.906044076123,
          3856.1070945516185,
          3841.1260973753615,
          3786.600179151818,
          3762.100843814703,
          3716.712423600295,
          3742.9902555030494,
          3702.0251382849124,
          3757.797112837933,
          3716.4426166186386,
          3720.8698690865617,
          3705.296192004672,
          3647.627920054883,
          3637.368847345503,
          3661.3532610054945,
          3629.631986231753,
          3524.402819672514,
          3556.6785742138213
         ]
        },
        {
         "line": {
          "color": "rgba(255, 0, 0, 0.1)"
         },
         "mode": "lines",
         "name": "Simulation 100",
         "showlegend": false,
         "type": "scatter",
         "x": [
          "2023-01-03T00:00:00",
          "2023-01-04T00:00:00",
          "2023-01-05T00:00:00",
          "2023-01-06T00:00:00",
          "2023-01-09T00:00:00",
          "2023-01-10T00:00:00",
          "2023-01-11T00:00:00",
          "2023-01-12T00:00:00",
          "2023-01-13T00:00:00",
          "2023-01-17T00:00:00",
          "2023-01-18T00:00:00",
          "2023-01-19T00:00:00",
          "2023-01-20T00:00:00",
          "2023-01-23T00:00:00",
          "2023-01-24T00:00:00",
          "2023-01-25T00:00:00",
          "2023-01-26T00:00:00",
          "2023-01-27T00:00:00",
          "2023-01-30T00:00:00",
          "2023-01-31T00:00:00",
          "2023-02-01T00:00:00"
         ],
         "y": [
          3839.5,
          3840.68943801637,
          3853.628677645446,
          3829.801986191038,
          3853.786634647932,
          3929.7872437774677,
          4018.076774842591,
          3983.265148345751,
          3987.2946828433974,
          3986.73010105431,
          4012.6736476904202,
          4037.379856777022,
          4058.583624593089,
          4066.699364625428,
          4063.319443216867,
          4003.4734147876625,
          3995.2340334794967,
          4008.3740890629006,
          3984.3579260183587,
          3994.955228441282,
          3984.970017870639
         ]
        },
        {
         "line": {
          "color": "blue",
          "width": 2
         },
         "mode": "lines",
         "name": "Actual Price",
         "type": "scatter",
         "x": [
          "2023-01-03T00:00:00",
          "2023-01-04T00:00:00",
          "2023-01-05T00:00:00",
          "2023-01-06T00:00:00",
          "2023-01-09T00:00:00",
          "2023-01-10T00:00:00",
          "2023-01-11T00:00:00",
          "2023-01-12T00:00:00",
          "2023-01-13T00:00:00",
          "2023-01-17T00:00:00",
          "2023-01-18T00:00:00",
          "2023-01-19T00:00:00",
          "2023-01-20T00:00:00",
          "2023-01-23T00:00:00",
          "2023-01-24T00:00:00",
          "2023-01-25T00:00:00",
          "2023-01-26T00:00:00",
          "2023-01-27T00:00:00",
          "2023-01-30T00:00:00",
          "2023-01-31T00:00:00",
          "2023-02-01T00:00:00"
         ],
         "y": [
          3824.14,
          3852.97,
          3808.1,
          3895.08,
          3892.09,
          3919.25,
          3969.61,
          3983.17,
          3999.09,
          3990.97,
          3928.86,
          3898.85,
          3972.61,
          4019.81,
          4016.95,
          4016.22,
          4060.43,
          4070.56,
          4017.77,
          4076.6,
          4119.21
         ]
        }
       ],
       "layout": {
        "template": {
         "data": {
          "bar": [
           {
            "error_x": {
             "color": "#2a3f5f"
            },
            "error_y": {
             "color": "#2a3f5f"
            },
            "marker": {
             "line": {
              "color": "white",
              "width": 0.5
             },
             "pattern": {
              "fillmode": "overlay",
              "size": 10,
              "solidity": 0.2
             }
            },
            "type": "bar"
           }
          ],
          "barpolar": [
           {
            "marker": {
             "line": {
              "color": "white",
              "width": 0.5
             },
             "pattern": {
              "fillmode": "overlay",
              "size": 10,
              "solidity": 0.2
             }
            },
            "type": "barpolar"
           }
          ],
          "carpet": [
           {
            "aaxis": {
             "endlinecolor": "#2a3f5f",
             "gridcolor": "#C8D4E3",
             "linecolor": "#C8D4E3",
             "minorgridcolor": "#C8D4E3",
             "startlinecolor": "#2a3f5f"
            },
            "baxis": {
             "endlinecolor": "#2a3f5f",
             "gridcolor": "#C8D4E3",
             "linecolor": "#C8D4E3",
             "minorgridcolor": "#C8D4E3",
             "startlinecolor": "#2a3f5f"
            },
            "type": "carpet"
           }
          ],
          "choropleth": [
           {
            "colorbar": {
             "outlinewidth": 0,
             "ticks": ""
            },
            "type": "choropleth"
           }
          ],
          "contour": [
           {
            "colorbar": {
             "outlinewidth": 0,
             "ticks": ""
            },
            "colorscale": [
             [
              0,
              "#0d0887"
             ],
             [
              0.1111111111111111,
              "#46039f"
             ],
             [
              0.2222222222222222,
              "#7201a8"
             ],
             [
              0.3333333333333333,
              "#9c179e"
             ],
             [
              0.4444444444444444,
              "#bd3786"
             ],
             [
              0.5555555555555556,
              "#d8576b"
             ],
             [
              0.6666666666666666,
              "#ed7953"
             ],
             [
              0.7777777777777778,
              "#fb9f3a"
             ],
             [
              0.8888888888888888,
              "#fdca26"
             ],
             [
              1,
              "#f0f921"
             ]
            ],
            "type": "contour"
           }
          ],
          "contourcarpet": [
           {
            "colorbar": {
             "outlinewidth": 0,
             "ticks": ""
            },
            "type": "contourcarpet"
           }
          ],
          "heatmap": [
           {
            "colorbar": {
             "outlinewidth": 0,
             "ticks": ""
            },
            "colorscale": [
             [
              0,
              "#0d0887"
             ],
             [
              0.1111111111111111,
              "#46039f"
             ],
             [
              0.2222222222222222,
              "#7201a8"
             ],
             [
              0.3333333333333333,
              "#9c179e"
             ],
             [
              0.4444444444444444,
              "#bd3786"
             ],
             [
              0.5555555555555556,
              "#d8576b"
             ],
             [
              0.6666666666666666,
              "#ed7953"
             ],
             [
              0.7777777777777778,
              "#fb9f3a"
             ],
             [
              0.8888888888888888,
              "#fdca26"
             ],
             [
              1,
              "#f0f921"
             ]
            ],
            "type": "heatmap"
           }
          ],
          "heatmapgl": [
           {
            "colorbar": {
             "outlinewidth": 0,
             "ticks": ""
            },
            "colorscale": [
             [
              0,
              "#0d0887"
             ],
             [
              0.1111111111111111,
              "#46039f"
             ],
             [
              0.2222222222222222,
              "#7201a8"
             ],
             [
              0.3333333333333333,
              "#9c179e"
             ],
             [
              0.4444444444444444,
              "#bd3786"
             ],
             [
              0.5555555555555556,
              "#d8576b"
             ],
             [
              0.6666666666666666,
              "#ed7953"
             ],
             [
              0.7777777777777778,
              "#fb9f3a"
             ],
             [
              0.8888888888888888,
              "#fdca26"
             ],
             [
              1,
              "#f0f921"
             ]
            ],
            "type": "heatmapgl"
           }
          ],
          "histogram": [
           {
            "marker": {
             "pattern": {
              "fillmode": "overlay",
              "size": 10,
              "solidity": 0.2
             }
            },
            "type": "histogram"
           }
          ],
          "histogram2d": [
           {
            "colorbar": {
             "outlinewidth": 0,
             "ticks": ""
            },
            "colorscale": [
             [
              0,
              "#0d0887"
             ],
             [
              0.1111111111111111,
              "#46039f"
             ],
             [
              0.2222222222222222,
              "#7201a8"
             ],
             [
              0.3333333333333333,
              "#9c179e"
             ],
             [
              0.4444444444444444,
              "#bd3786"
             ],
             [
              0.5555555555555556,
              "#d8576b"
             ],
             [
              0.6666666666666666,
              "#ed7953"
             ],
             [
              0.7777777777777778,
              "#fb9f3a"
             ],
             [
              0.8888888888888888,
              "#fdca26"
             ],
             [
              1,
              "#f0f921"
             ]
            ],
            "type": "histogram2d"
           }
          ],
          "histogram2dcontour": [
           {
            "colorbar": {
             "outlinewidth": 0,
             "ticks": ""
            },
            "colorscale": [
             [
              0,
              "#0d0887"
             ],
             [
              0.1111111111111111,
              "#46039f"
             ],
             [
              0.2222222222222222,
              "#7201a8"
             ],
             [
              0.3333333333333333,
              "#9c179e"
             ],
             [
              0.4444444444444444,
              "#bd3786"
             ],
             [
              0.5555555555555556,
              "#d8576b"
             ],
             [
              0.6666666666666666,
              "#ed7953"
             ],
             [
              0.7777777777777778,
              "#fb9f3a"
             ],
             [
              0.8888888888888888,
              "#fdca26"
             ],
             [
              1,
              "#f0f921"
             ]
            ],
            "type": "histogram2dcontour"
           }
          ],
          "mesh3d": [
           {
            "colorbar": {
             "outlinewidth": 0,
             "ticks": ""
            },
            "type": "mesh3d"
           }
          ],
          "parcoords": [
           {
            "line": {
             "colorbar": {
              "outlinewidth": 0,
              "ticks": ""
             }
            },
            "type": "parcoords"
           }
          ],
          "pie": [
           {
            "automargin": true,
            "type": "pie"
           }
          ],
          "scatter": [
           {
            "fillpattern": {
             "fillmode": "overlay",
             "size": 10,
             "solidity": 0.2
            },
            "type": "scatter"
           }
          ],
          "scatter3d": [
           {
            "line": {
             "colorbar": {
              "outlinewidth": 0,
              "ticks": ""
             }
            },
            "marker": {
             "colorbar": {
              "outlinewidth": 0,
              "ticks": ""
             }
            },
            "type": "scatter3d"
           }
          ],
          "scattercarpet": [
           {
            "marker": {
             "colorbar": {
              "outlinewidth": 0,
              "ticks": ""
             }
            },
            "type": "scattercarpet"
           }
          ],
          "scattergeo": [
           {
            "marker": {
             "colorbar": {
              "outlinewidth": 0,
              "ticks": ""
             }
            },
            "type": "scattergeo"
           }
          ],
          "scattergl": [
           {
            "marker": {
             "colorbar": {
              "outlinewidth": 0,
              "ticks": ""
             }
            },
            "type": "scattergl"
           }
          ],
          "scattermapbox": [
           {
            "marker": {
             "colorbar": {
              "outlinewidth": 0,
              "ticks": ""
             }
            },
            "type": "scattermapbox"
           }
          ],
          "scatterpolar": [
           {
            "marker": {
             "colorbar": {
              "outlinewidth": 0,
              "ticks": ""
             }
            },
            "type": "scatterpolar"
           }
          ],
          "scatterpolargl": [
           {
            "marker": {
             "colorbar": {
              "outlinewidth": 0,
              "ticks": ""
             }
            },
            "type": "scatterpolargl"
           }
          ],
          "scatterternary": [
           {
            "marker": {
             "colorbar": {
              "outlinewidth": 0,
              "ticks": ""
             }
            },
            "type": "scatterternary"
           }
          ],
          "surface": [
           {
            "colorbar": {
             "outlinewidth": 0,
             "ticks": ""
            },
            "colorscale": [
             [
              0,
              "#0d0887"
             ],
             [
              0.1111111111111111,
              "#46039f"
             ],
             [
              0.2222222222222222,
              "#7201a8"
             ],
             [
              0.3333333333333333,
              "#9c179e"
             ],
             [
              0.4444444444444444,
              "#bd3786"
             ],
             [
              0.5555555555555556,
              "#d8576b"
             ],
             [
              0.6666666666666666,
              "#ed7953"
             ],
             [
              0.7777777777777778,
              "#fb9f3a"
             ],
             [
              0.8888888888888888,
              "#fdca26"
             ],
             [
              1,
              "#f0f921"
             ]
            ],
            "type": "surface"
           }
          ],
          "table": [
           {
            "cells": {
             "fill": {
              "color": "#EBF0F8"
             },
             "line": {
              "color": "white"
             }
            },
            "header": {
             "fill": {
              "color": "#C8D4E3"
             },
             "line": {
              "color": "white"
             }
            },
            "type": "table"
           }
          ]
         },
         "layout": {
          "annotationdefaults": {
           "arrowcolor": "#2a3f5f",
           "arrowhead": 0,
           "arrowwidth": 1
          },
          "autotypenumbers": "strict",
          "coloraxis": {
           "colorbar": {
            "outlinewidth": 0,
            "ticks": ""
           }
          },
          "colorscale": {
           "diverging": [
            [
             0,
             "#8e0152"
            ],
            [
             0.1,
             "#c51b7d"
            ],
            [
             0.2,
             "#de77ae"
            ],
            [
             0.3,
             "#f1b6da"
            ],
            [
             0.4,
             "#fde0ef"
            ],
            [
             0.5,
             "#f7f7f7"
            ],
            [
             0.6,
             "#e6f5d0"
            ],
            [
             0.7,
             "#b8e186"
            ],
            [
             0.8,
             "#7fbc41"
            ],
            [
             0.9,
             "#4d9221"
            ],
            [
             1,
             "#276419"
            ]
           ],
           "sequential": [
            [
             0,
             "#0d0887"
            ],
            [
             0.1111111111111111,
             "#46039f"
            ],
            [
             0.2222222222222222,
             "#7201a8"
            ],
            [
             0.3333333333333333,
             "#9c179e"
            ],
            [
             0.4444444444444444,
             "#bd3786"
            ],
            [
             0.5555555555555556,
             "#d8576b"
            ],
            [
             0.6666666666666666,
             "#ed7953"
            ],
            [
             0.7777777777777778,
             "#fb9f3a"
            ],
            [
             0.8888888888888888,
             "#fdca26"
            ],
            [
             1,
             "#f0f921"
            ]
           ],
           "sequentialminus": [
            [
             0,
             "#0d0887"
            ],
            [
             0.1111111111111111,
             "#46039f"
            ],
            [
             0.2222222222222222,
             "#7201a8"
            ],
            [
             0.3333333333333333,
             "#9c179e"
            ],
            [
             0.4444444444444444,
             "#bd3786"
            ],
            [
             0.5555555555555556,
             "#d8576b"
            ],
            [
             0.6666666666666666,
             "#ed7953"
            ],
            [
             0.7777777777777778,
             "#fb9f3a"
            ],
            [
             0.8888888888888888,
             "#fdca26"
            ],
            [
             1,
             "#f0f921"
            ]
           ]
          },
          "colorway": [
           "#636efa",
           "#EF553B",
           "#00cc96",
           "#ab63fa",
           "#FFA15A",
           "#19d3f3",
           "#FF6692",
           "#B6E880",
           "#FF97FF",
           "#FECB52"
          ],
          "font": {
           "color": "#2a3f5f"
          },
          "geo": {
           "bgcolor": "white",
           "lakecolor": "white",
           "landcolor": "white",
           "showlakes": true,
           "showland": true,
           "subunitcolor": "#C8D4E3"
          },
          "hoverlabel": {
           "align": "left"
          },
          "hovermode": "closest",
          "mapbox": {
           "style": "light"
          },
          "paper_bgcolor": "white",
          "plot_bgcolor": "white",
          "polar": {
           "angularaxis": {
            "gridcolor": "#EBF0F8",
            "linecolor": "#EBF0F8",
            "ticks": ""
           },
           "bgcolor": "white",
           "radialaxis": {
            "gridcolor": "#EBF0F8",
            "linecolor": "#EBF0F8",
            "ticks": ""
           }
          },
          "scene": {
           "xaxis": {
            "backgroundcolor": "white",
            "gridcolor": "#DFE8F3",
            "gridwidth": 2,
            "linecolor": "#EBF0F8",
            "showbackground": true,
            "ticks": "",
            "zerolinecolor": "#EBF0F8"
           },
           "yaxis": {
            "backgroundcolor": "white",
            "gridcolor": "#DFE8F3",
            "gridwidth": 2,
            "linecolor": "#EBF0F8",
            "showbackground": true,
            "ticks": "",
            "zerolinecolor": "#EBF0F8"
           },
           "zaxis": {
            "backgroundcolor": "white",
            "gridcolor": "#DFE8F3",
            "gridwidth": 2,
            "linecolor": "#EBF0F8",
            "showbackground": true,
            "ticks": "",
            "zerolinecolor": "#EBF0F8"
           }
          },
          "shapedefaults": {
           "line": {
            "color": "#2a3f5f"
           }
          },
          "ternary": {
           "aaxis": {
            "gridcolor": "#DFE8F3",
            "linecolor": "#A2B1C6",
            "ticks": ""
           },
           "baxis": {
            "gridcolor": "#DFE8F3",
            "linecolor": "#A2B1C6",
            "ticks": ""
           },
           "bgcolor": "white",
           "caxis": {
            "gridcolor": "#DFE8F3",
            "linecolor": "#A2B1C6",
            "ticks": ""
           }
          },
          "title": {
           "x": 0.05
          },
          "xaxis": {
           "automargin": true,
           "gridcolor": "#EBF0F8",
           "linecolor": "#EBF0F8",
           "ticks": "",
           "title": {
            "standoff": 15
           },
           "zerolinecolor": "#EBF0F8",
           "zerolinewidth": 2
          },
          "yaxis": {
           "automargin": true,
           "gridcolor": "#EBF0F8",
           "linecolor": "#EBF0F8",
           "ticks": "",
           "title": {
            "standoff": 15
           },
           "zerolinecolor": "#EBF0F8",
           "zerolinewidth": 2
          }
         }
        },
        "title": {
         "text": "Monte Carlo Simulation of Stock Prices using fBM (H=0.5613756839648871) - 100 Paths"
        },
        "xaxis": {
         "title": {
          "text": "Date"
         }
        },
        "yaxis": {
         "title": {
          "text": "Stock Price"
         }
        }
       }
      }
     },
     "metadata": {},
     "output_type": "display_data"
    }
   ],
   "source": [
    "def montecarlo_simulation_and_plot(train_data, test_data, H, num_simulations=100):\n",
    "    \"\"\"\n",
    "    Perform a Monte Carlo simulation by generating multiple fBM price paths and plot them \n",
    "    alongside the actual stock prices.\n",
    "    \n",
    "    Parameters:\n",
    "        train_data (DataFrame): Training data containing columns 'price' and 'log_returns'.\n",
    "        test_data (DataFrame): Testing data (used to determine the forecast horizon).\n",
    "        H (float): Hurst exponent for the fBM model.\n",
    "        num_simulations (int): Number of simulation paths to generate.\n",
    "    \"\"\"\n",
    "    # Set seeds for reproducibility\n",
    "    random.seed(42)\n",
    "    np.random.seed(42)\n",
    "    \n",
    "    # Calculate drift (μ) and volatility (σ) from training log returns\n",
    "    mu = train_data[\"log_returns\"].mean()\n",
    "    sigma = train_data[\"log_returns\"].std()\n",
    "    \n",
    "    n_days = len(test_data)\n",
    "    time_points = np.arange(n_days)\n",
    "    S0 = train_data['price'].iloc[-1]\n",
    "    \n",
    "    simulation_paths = []\n",
    "    \n",
    "    for i in range(num_simulations):\n",
    "        # For each simulation, sample a new fBM path\n",
    "        fbm = FractionalBrownianMotion(hurst=H, t=n_days - 1)\n",
    "        fbm_values = fbm.sample(n=n_days - 2)\n",
    "        fbm_values = np.insert(fbm_values, 0, 0)  # align with the time vector\n",
    "        sim_prices = S0 * np.exp(mu * time_points + sigma * fbm_values)\n",
    "        simulation_paths.append(sim_prices)\n",
    "    \n",
    "    # Create a Plotly figure for the Monte Carlo simulation\n",
    "    fig = go.Figure()\n",
    "    \n",
    "    # Add each simulated path (using low opacity to avoid clutter)\n",
    "    for i, sim_prices in enumerate(simulation_paths):\n",
    "        fig.add_trace(go.Scatter(\n",
    "            x=test_data.index,\n",
    "            y=sim_prices,\n",
    "            mode='lines',\n",
    "            name=f'Simulation {i+1}',\n",
    "            line=dict(color='rgba(255, 0, 0, 0.1)'),  # Red with transparency\n",
    "            showlegend=False  # Hide individual simulation legends\n",
    "        ))\n",
    "    \n",
    "    # Overlay the actual prices\n",
    "    fig.add_trace(go.Scatter(\n",
    "        x=test_data.index,\n",
    "        y=test_data[\"price\"],\n",
    "        mode='lines',\n",
    "        name='Actual Price',\n",
    "        line=dict(color='blue', width=2)\n",
    "    ))\n",
    "    \n",
    "    # Update plot layout\n",
    "    fig.update_layout(\n",
    "        title=f\"Monte Carlo Simulation of Stock Prices using fBM (H={H}) - {num_simulations} Paths\",\n",
    "        xaxis_title=\"Date\",\n",
    "        yaxis_title=\"Stock Price\",\n",
    "        template=\"plotly_white\"\n",
    "    )\n",
    "    \n",
    "    fig.show()\n",
    "\n",
    "montecarlo_simulation_and_plot(SNP_training_df, SNP_testing_df, SNP_hurst_est, num_simulations=100)"
   ]
  },
  {
   "cell_type": "markdown",
   "metadata": {},
   "source": [
    "### S&P500 VIX Analysis"
   ]
  },
  {
   "cell_type": "code",
   "execution_count": 38,
   "metadata": {},
   "outputs": [
    {
     "data": {
      "text/html": [
       "<div>\n",
       "<style scoped>\n",
       "    .dataframe tbody tr th:only-of-type {\n",
       "        vertical-align: middle;\n",
       "    }\n",
       "\n",
       "    .dataframe tbody tr th {\n",
       "        vertical-align: top;\n",
       "    }\n",
       "\n",
       "    .dataframe thead th {\n",
       "        text-align: right;\n",
       "    }\n",
       "</style>\n",
       "<table border=\"1\" class=\"dataframe\">\n",
       "  <thead>\n",
       "    <tr style=\"text-align: right;\">\n",
       "      <th></th>\n",
       "      <th>vol</th>\n",
       "      <th>log_vol_diff</th>\n",
       "      <th>log_vol</th>\n",
       "    </tr>\n",
       "  </thead>\n",
       "  <tbody>\n",
       "    <tr>\n",
       "      <th>2015-01-05</th>\n",
       "      <td>19.92</td>\n",
       "      <td>-0.058496</td>\n",
       "      <td>2.991724</td>\n",
       "    </tr>\n",
       "    <tr>\n",
       "      <th>2015-01-06</th>\n",
       "      <td>21.12</td>\n",
       "      <td>0.089597</td>\n",
       "      <td>3.050220</td>\n",
       "    </tr>\n",
       "    <tr>\n",
       "      <th>2015-01-07</th>\n",
       "      <td>19.31</td>\n",
       "      <td>0.126822</td>\n",
       "      <td>2.960623</td>\n",
       "    </tr>\n",
       "    <tr>\n",
       "      <th>2015-01-08</th>\n",
       "      <td>17.01</td>\n",
       "      <td>-0.031253</td>\n",
       "      <td>2.833801</td>\n",
       "    </tr>\n",
       "    <tr>\n",
       "      <th>2015-01-09</th>\n",
       "      <td>17.55</td>\n",
       "      <td>-0.110476</td>\n",
       "      <td>2.865054</td>\n",
       "    </tr>\n",
       "  </tbody>\n",
       "</table>\n",
       "</div>"
      ],
      "text/plain": [
       "              vol  log_vol_diff   log_vol\n",
       "2015-01-05  19.92     -0.058496  2.991724\n",
       "2015-01-06  21.12      0.089597  3.050220\n",
       "2015-01-07  19.31      0.126822  2.960623\n",
       "2015-01-08  17.01     -0.031253  2.833801\n",
       "2015-01-09  17.55     -0.110476  2.865054"
      ]
     },
     "execution_count": 38,
     "metadata": {},
     "output_type": "execute_result"
    }
   ],
   "source": [
    "# Load the CSV file into df\n",
    "VIX = pd.read_csv(SNP_VIX_file)\n",
    "VIX.columns = [\"vol\"]\n",
    "VIX[\"log_vol_diff\"] = np.log(VIX['vol']/ VIX['vol'].shift(1))\n",
    "VIX.index = pd.to_datetime(VIX.index)\n",
    "VIX = VIX.sort_index(ascending=True)\n",
    "VIX = VIX[1:]\n",
    "VIX['log_vol'] = np.log(VIX['vol'])\n",
    "\n",
    "VIX.head()"
   ]
  },
  {
   "cell_type": "code",
   "execution_count": 39,
   "metadata": {},
   "outputs": [
    {
     "data": {
      "text/html": [
       "<div>\n",
       "<style scoped>\n",
       "    .dataframe tbody tr th:only-of-type {\n",
       "        vertical-align: middle;\n",
       "    }\n",
       "\n",
       "    .dataframe tbody tr th {\n",
       "        vertical-align: top;\n",
       "    }\n",
       "\n",
       "    .dataframe thead th {\n",
       "        text-align: right;\n",
       "    }\n",
       "</style>\n",
       "<table border=\"1\" class=\"dataframe\">\n",
       "  <thead>\n",
       "    <tr style=\"text-align: right;\">\n",
       "      <th></th>\n",
       "      <th>vol</th>\n",
       "      <th>log_vol_diff</th>\n",
       "      <th>log_vol</th>\n",
       "    </tr>\n",
       "  </thead>\n",
       "  <tbody>\n",
       "    <tr>\n",
       "      <th>2018-01-02</th>\n",
       "      <td>9.77</td>\n",
       "      <td>0.065563</td>\n",
       "      <td>2.279316</td>\n",
       "    </tr>\n",
       "    <tr>\n",
       "      <th>2018-01-03</th>\n",
       "      <td>9.15</td>\n",
       "      <td>-0.007621</td>\n",
       "      <td>2.213754</td>\n",
       "    </tr>\n",
       "    <tr>\n",
       "      <th>2018-01-04</th>\n",
       "      <td>9.22</td>\n",
       "      <td>0.000000</td>\n",
       "      <td>2.221375</td>\n",
       "    </tr>\n",
       "    <tr>\n",
       "      <th>2018-01-05</th>\n",
       "      <td>9.22</td>\n",
       "      <td>-0.032020</td>\n",
       "      <td>2.221375</td>\n",
       "    </tr>\n",
       "    <tr>\n",
       "      <th>2018-01-08</th>\n",
       "      <td>9.52</td>\n",
       "      <td>-0.057158</td>\n",
       "      <td>2.253395</td>\n",
       "    </tr>\n",
       "  </tbody>\n",
       "</table>\n",
       "</div>"
      ],
      "text/plain": [
       "             vol  log_vol_diff   log_vol\n",
       "2018-01-02  9.77      0.065563  2.279316\n",
       "2018-01-03  9.15     -0.007621  2.213754\n",
       "2018-01-04  9.22      0.000000  2.221375\n",
       "2018-01-05  9.22     -0.032020  2.221375\n",
       "2018-01-08  9.52     -0.057158  2.253395"
      ]
     },
     "execution_count": 39,
     "metadata": {},
     "output_type": "execute_result"
    }
   ],
   "source": [
    "# vix_training_start, vix_training_end = \"2015-01-02\", \"2022-12-30\"\n",
    "vix_training_start, vix_training_end = \"2018-01-01\", \"2020-06-30\"\n",
    "vix_testing_start, vix_testing_end = \"2020-07-01\", \"2020-08-01\"\n",
    "\n",
    "vix_training_df = VIX[(VIX.index >= vix_training_start) & (VIX.index <= vix_training_end)]\n",
    "vix_testing_df = VIX[(VIX.index >= vix_testing_start) & (VIX.index <= vix_testing_end)]\n",
    "vix_training_df.head()"
   ]
  },
  {
   "cell_type": "code",
   "execution_count": 40,
   "metadata": {},
   "outputs": [
    {
     "name": "stdout",
     "output_type": "stream",
     "text": [
      "Estimated Hurst Exponent: 0.6277\n"
     ]
    }
   ],
   "source": [
    "from hurst import compute_Hc\n",
    "\n",
    "vix_hurst_est, c, data = compute_Hc(vix_training_df[\"log_vol\"], kind='change', simplified=True)\n",
    "print(f\"Estimated Hurst Exponent: {vix_hurst_est:.4f}\")"
   ]
  },
  {
   "cell_type": "code",
   "execution_count": 41,
   "metadata": {},
   "outputs": [
    {
     "name": "stdout",
     "output_type": "stream",
     "text": [
      "-0.001706014774720021 0.09294785307769589\n"
     ]
    },
    {
     "data": {
      "application/vnd.plotly.v1+json": {
       "config": {
        "plotlyServerURL": "https://plot.ly"
       },
       "data": [
        {
         "line": {
          "color": "blue"
         },
         "mode": "lines",
         "name": "Actual VIX",
         "type": "scatter",
         "x": [
          "2020-07-01T00:00:00",
          "2020-07-02T00:00:00",
          "2020-07-06T00:00:00",
          "2020-07-07T00:00:00",
          "2020-07-08T00:00:00",
          "2020-07-09T00:00:00",
          "2020-07-10T00:00:00",
          "2020-07-13T00:00:00",
          "2020-07-14T00:00:00",
          "2020-07-15T00:00:00",
          "2020-07-16T00:00:00",
          "2020-07-17T00:00:00",
          "2020-07-20T00:00:00",
          "2020-07-21T00:00:00",
          "2020-07-22T00:00:00",
          "2020-07-23T00:00:00",
          "2020-07-24T00:00:00",
          "2020-07-27T00:00:00",
          "2020-07-28T00:00:00",
          "2020-07-29T00:00:00",
          "2020-07-30T00:00:00",
          "2020-07-31T00:00:00"
         ],
         "y": [
          28.62,
          27.68,
          27.94,
          29.43,
          28.08,
          29.26,
          27.29,
          32.19,
          29.52,
          27.76,
          28,
          25.68,
          24.46,
          24.84,
          24.32,
          26.08,
          25.84,
          24.74,
          25.44,
          24.1,
          24.76,
          24.46
         ]
        },
        {
         "line": {
          "color": "red",
          "dash": "dash"
         },
         "mode": "lines",
         "name": "Forecasted VIX (fBM)",
         "type": "scatter",
         "x": [
          "2020-07-01T00:00:00",
          "2020-07-02T00:00:00",
          "2020-07-06T00:00:00",
          "2020-07-07T00:00:00",
          "2020-07-08T00:00:00",
          "2020-07-09T00:00:00",
          "2020-07-10T00:00:00",
          "2020-07-13T00:00:00",
          "2020-07-14T00:00:00",
          "2020-07-15T00:00:00",
          "2020-07-16T00:00:00",
          "2020-07-17T00:00:00",
          "2020-07-20T00:00:00",
          "2020-07-21T00:00:00",
          "2020-07-22T00:00:00",
          "2020-07-23T00:00:00",
          "2020-07-24T00:00:00",
          "2020-07-27T00:00:00",
          "2020-07-28T00:00:00",
          "2020-07-29T00:00:00",
          "2020-07-30T00:00:00",
          "2020-07-31T00:00:00"
         ],
         "y": [
          30.43,
          32.28568800675233,
          30.395098732182785,
          27.684861002194015,
          22.601576032031495,
          19.397500857100567,
          18.170865400765912,
          16.80105880178771,
          17.313638173620838,
          16.189309255996815,
          15.348763117496675,
          15.781546297963141,
          13.687932528560635,
          12.771688256411922,
          10.693204119292341,
          10.643483547446802,
          9.801485729901717,
          10.99544399548375,
          9.67756001208465,
          9.389827433986127,
          10.336136603977053,
          10.788252617185178
         ]
        }
       ],
       "layout": {
        "template": {
         "data": {
          "bar": [
           {
            "error_x": {
             "color": "#2a3f5f"
            },
            "error_y": {
             "color": "#2a3f5f"
            },
            "marker": {
             "line": {
              "color": "white",
              "width": 0.5
             },
             "pattern": {
              "fillmode": "overlay",
              "size": 10,
              "solidity": 0.2
             }
            },
            "type": "bar"
           }
          ],
          "barpolar": [
           {
            "marker": {
             "line": {
              "color": "white",
              "width": 0.5
             },
             "pattern": {
              "fillmode": "overlay",
              "size": 10,
              "solidity": 0.2
             }
            },
            "type": "barpolar"
           }
          ],
          "carpet": [
           {
            "aaxis": {
             "endlinecolor": "#2a3f5f",
             "gridcolor": "#C8D4E3",
             "linecolor": "#C8D4E3",
             "minorgridcolor": "#C8D4E3",
             "startlinecolor": "#2a3f5f"
            },
            "baxis": {
             "endlinecolor": "#2a3f5f",
             "gridcolor": "#C8D4E3",
             "linecolor": "#C8D4E3",
             "minorgridcolor": "#C8D4E3",
             "startlinecolor": "#2a3f5f"
            },
            "type": "carpet"
           }
          ],
          "choropleth": [
           {
            "colorbar": {
             "outlinewidth": 0,
             "ticks": ""
            },
            "type": "choropleth"
           }
          ],
          "contour": [
           {
            "colorbar": {
             "outlinewidth": 0,
             "ticks": ""
            },
            "colorscale": [
             [
              0,
              "#0d0887"
             ],
             [
              0.1111111111111111,
              "#46039f"
             ],
             [
              0.2222222222222222,
              "#7201a8"
             ],
             [
              0.3333333333333333,
              "#9c179e"
             ],
             [
              0.4444444444444444,
              "#bd3786"
             ],
             [
              0.5555555555555556,
              "#d8576b"
             ],
             [
              0.6666666666666666,
              "#ed7953"
             ],
             [
              0.7777777777777778,
              "#fb9f3a"
             ],
             [
              0.8888888888888888,
              "#fdca26"
             ],
             [
              1,
              "#f0f921"
             ]
            ],
            "type": "contour"
           }
          ],
          "contourcarpet": [
           {
            "colorbar": {
             "outlinewidth": 0,
             "ticks": ""
            },
            "type": "contourcarpet"
           }
          ],
          "heatmap": [
           {
            "colorbar": {
             "outlinewidth": 0,
             "ticks": ""
            },
            "colorscale": [
             [
              0,
              "#0d0887"
             ],
             [
              0.1111111111111111,
              "#46039f"
             ],
             [
              0.2222222222222222,
              "#7201a8"
             ],
             [
              0.3333333333333333,
              "#9c179e"
             ],
             [
              0.4444444444444444,
              "#bd3786"
             ],
             [
              0.5555555555555556,
              "#d8576b"
             ],
             [
              0.6666666666666666,
              "#ed7953"
             ],
             [
              0.7777777777777778,
              "#fb9f3a"
             ],
             [
              0.8888888888888888,
              "#fdca26"
             ],
             [
              1,
              "#f0f921"
             ]
            ],
            "type": "heatmap"
           }
          ],
          "heatmapgl": [
           {
            "colorbar": {
             "outlinewidth": 0,
             "ticks": ""
            },
            "colorscale": [
             [
              0,
              "#0d0887"
             ],
             [
              0.1111111111111111,
              "#46039f"
             ],
             [
              0.2222222222222222,
              "#7201a8"
             ],
             [
              0.3333333333333333,
              "#9c179e"
             ],
             [
              0.4444444444444444,
              "#bd3786"
             ],
             [
              0.5555555555555556,
              "#d8576b"
             ],
             [
              0.6666666666666666,
              "#ed7953"
             ],
             [
              0.7777777777777778,
              "#fb9f3a"
             ],
             [
              0.8888888888888888,
              "#fdca26"
             ],
             [
              1,
              "#f0f921"
             ]
            ],
            "type": "heatmapgl"
           }
          ],
          "histogram": [
           {
            "marker": {
             "pattern": {
              "fillmode": "overlay",
              "size": 10,
              "solidity": 0.2
             }
            },
            "type": "histogram"
           }
          ],
          "histogram2d": [
           {
            "colorbar": {
             "outlinewidth": 0,
             "ticks": ""
            },
            "colorscale": [
             [
              0,
              "#0d0887"
             ],
             [
              0.1111111111111111,
              "#46039f"
             ],
             [
              0.2222222222222222,
              "#7201a8"
             ],
             [
              0.3333333333333333,
              "#9c179e"
             ],
             [
              0.4444444444444444,
              "#bd3786"
             ],
             [
              0.5555555555555556,
              "#d8576b"
             ],
             [
              0.6666666666666666,
              "#ed7953"
             ],
             [
              0.7777777777777778,
              "#fb9f3a"
             ],
             [
              0.8888888888888888,
              "#fdca26"
             ],
             [
              1,
              "#f0f921"
             ]
            ],
            "type": "histogram2d"
           }
          ],
          "histogram2dcontour": [
           {
            "colorbar": {
             "outlinewidth": 0,
             "ticks": ""
            },
            "colorscale": [
             [
              0,
              "#0d0887"
             ],
             [
              0.1111111111111111,
              "#46039f"
             ],
             [
              0.2222222222222222,
              "#7201a8"
             ],
             [
              0.3333333333333333,
              "#9c179e"
             ],
             [
              0.4444444444444444,
              "#bd3786"
             ],
             [
              0.5555555555555556,
              "#d8576b"
             ],
             [
              0.6666666666666666,
              "#ed7953"
             ],
             [
              0.7777777777777778,
              "#fb9f3a"
             ],
             [
              0.8888888888888888,
              "#fdca26"
             ],
             [
              1,
              "#f0f921"
             ]
            ],
            "type": "histogram2dcontour"
           }
          ],
          "mesh3d": [
           {
            "colorbar": {
             "outlinewidth": 0,
             "ticks": ""
            },
            "type": "mesh3d"
           }
          ],
          "parcoords": [
           {
            "line": {
             "colorbar": {
              "outlinewidth": 0,
              "ticks": ""
             }
            },
            "type": "parcoords"
           }
          ],
          "pie": [
           {
            "automargin": true,
            "type": "pie"
           }
          ],
          "scatter": [
           {
            "fillpattern": {
             "fillmode": "overlay",
             "size": 10,
             "solidity": 0.2
            },
            "type": "scatter"
           }
          ],
          "scatter3d": [
           {
            "line": {
             "colorbar": {
              "outlinewidth": 0,
              "ticks": ""
             }
            },
            "marker": {
             "colorbar": {
              "outlinewidth": 0,
              "ticks": ""
             }
            },
            "type": "scatter3d"
           }
          ],
          "scattercarpet": [
           {
            "marker": {
             "colorbar": {
              "outlinewidth": 0,
              "ticks": ""
             }
            },
            "type": "scattercarpet"
           }
          ],
          "scattergeo": [
           {
            "marker": {
             "colorbar": {
              "outlinewidth": 0,
              "ticks": ""
             }
            },
            "type": "scattergeo"
           }
          ],
          "scattergl": [
           {
            "marker": {
             "colorbar": {
              "outlinewidth": 0,
              "ticks": ""
             }
            },
            "type": "scattergl"
           }
          ],
          "scattermapbox": [
           {
            "marker": {
             "colorbar": {
              "outlinewidth": 0,
              "ticks": ""
             }
            },
            "type": "scattermapbox"
           }
          ],
          "scatterpolar": [
           {
            "marker": {
             "colorbar": {
              "outlinewidth": 0,
              "ticks": ""
             }
            },
            "type": "scatterpolar"
           }
          ],
          "scatterpolargl": [
           {
            "marker": {
             "colorbar": {
              "outlinewidth": 0,
              "ticks": ""
             }
            },
            "type": "scatterpolargl"
           }
          ],
          "scatterternary": [
           {
            "marker": {
             "colorbar": {
              "outlinewidth": 0,
              "ticks": ""
             }
            },
            "type": "scatterternary"
           }
          ],
          "surface": [
           {
            "colorbar": {
             "outlinewidth": 0,
             "ticks": ""
            },
            "colorscale": [
             [
              0,
              "#0d0887"
             ],
             [
              0.1111111111111111,
              "#46039f"
             ],
             [
              0.2222222222222222,
              "#7201a8"
             ],
             [
              0.3333333333333333,
              "#9c179e"
             ],
             [
              0.4444444444444444,
              "#bd3786"
             ],
             [
              0.5555555555555556,
              "#d8576b"
             ],
             [
              0.6666666666666666,
              "#ed7953"
             ],
             [
              0.7777777777777778,
              "#fb9f3a"
             ],
             [
              0.8888888888888888,
              "#fdca26"
             ],
             [
              1,
              "#f0f921"
             ]
            ],
            "type": "surface"
           }
          ],
          "table": [
           {
            "cells": {
             "fill": {
              "color": "#EBF0F8"
             },
             "line": {
              "color": "white"
             }
            },
            "header": {
             "fill": {
              "color": "#C8D4E3"
             },
             "line": {
              "color": "white"
             }
            },
            "type": "table"
           }
          ]
         },
         "layout": {
          "annotationdefaults": {
           "arrowcolor": "#2a3f5f",
           "arrowhead": 0,
           "arrowwidth": 1
          },
          "autotypenumbers": "strict",
          "coloraxis": {
           "colorbar": {
            "outlinewidth": 0,
            "ticks": ""
           }
          },
          "colorscale": {
           "diverging": [
            [
             0,
             "#8e0152"
            ],
            [
             0.1,
             "#c51b7d"
            ],
            [
             0.2,
             "#de77ae"
            ],
            [
             0.3,
             "#f1b6da"
            ],
            [
             0.4,
             "#fde0ef"
            ],
            [
             0.5,
             "#f7f7f7"
            ],
            [
             0.6,
             "#e6f5d0"
            ],
            [
             0.7,
             "#b8e186"
            ],
            [
             0.8,
             "#7fbc41"
            ],
            [
             0.9,
             "#4d9221"
            ],
            [
             1,
             "#276419"
            ]
           ],
           "sequential": [
            [
             0,
             "#0d0887"
            ],
            [
             0.1111111111111111,
             "#46039f"
            ],
            [
             0.2222222222222222,
             "#7201a8"
            ],
            [
             0.3333333333333333,
             "#9c179e"
            ],
            [
             0.4444444444444444,
             "#bd3786"
            ],
            [
             0.5555555555555556,
             "#d8576b"
            ],
            [
             0.6666666666666666,
             "#ed7953"
            ],
            [
             0.7777777777777778,
             "#fb9f3a"
            ],
            [
             0.8888888888888888,
             "#fdca26"
            ],
            [
             1,
             "#f0f921"
            ]
           ],
           "sequentialminus": [
            [
             0,
             "#0d0887"
            ],
            [
             0.1111111111111111,
             "#46039f"
            ],
            [
             0.2222222222222222,
             "#7201a8"
            ],
            [
             0.3333333333333333,
             "#9c179e"
            ],
            [
             0.4444444444444444,
             "#bd3786"
            ],
            [
             0.5555555555555556,
             "#d8576b"
            ],
            [
             0.6666666666666666,
             "#ed7953"
            ],
            [
             0.7777777777777778,
             "#fb9f3a"
            ],
            [
             0.8888888888888888,
             "#fdca26"
            ],
            [
             1,
             "#f0f921"
            ]
           ]
          },
          "colorway": [
           "#636efa",
           "#EF553B",
           "#00cc96",
           "#ab63fa",
           "#FFA15A",
           "#19d3f3",
           "#FF6692",
           "#B6E880",
           "#FF97FF",
           "#FECB52"
          ],
          "font": {
           "color": "#2a3f5f"
          },
          "geo": {
           "bgcolor": "white",
           "lakecolor": "white",
           "landcolor": "white",
           "showlakes": true,
           "showland": true,
           "subunitcolor": "#C8D4E3"
          },
          "hoverlabel": {
           "align": "left"
          },
          "hovermode": "closest",
          "mapbox": {
           "style": "light"
          },
          "paper_bgcolor": "white",
          "plot_bgcolor": "white",
          "polar": {
           "angularaxis": {
            "gridcolor": "#EBF0F8",
            "linecolor": "#EBF0F8",
            "ticks": ""
           },
           "bgcolor": "white",
           "radialaxis": {
            "gridcolor": "#EBF0F8",
            "linecolor": "#EBF0F8",
            "ticks": ""
           }
          },
          "scene": {
           "xaxis": {
            "backgroundcolor": "white",
            "gridcolor": "#DFE8F3",
            "gridwidth": 2,
            "linecolor": "#EBF0F8",
            "showbackground": true,
            "ticks": "",
            "zerolinecolor": "#EBF0F8"
           },
           "yaxis": {
            "backgroundcolor": "white",
            "gridcolor": "#DFE8F3",
            "gridwidth": 2,
            "linecolor": "#EBF0F8",
            "showbackground": true,
            "ticks": "",
            "zerolinecolor": "#EBF0F8"
           },
           "zaxis": {
            "backgroundcolor": "white",
            "gridcolor": "#DFE8F3",
            "gridwidth": 2,
            "linecolor": "#EBF0F8",
            "showbackground": true,
            "ticks": "",
            "zerolinecolor": "#EBF0F8"
           }
          },
          "shapedefaults": {
           "line": {
            "color": "#2a3f5f"
           }
          },
          "ternary": {
           "aaxis": {
            "gridcolor": "#DFE8F3",
            "linecolor": "#A2B1C6",
            "ticks": ""
           },
           "baxis": {
            "gridcolor": "#DFE8F3",
            "linecolor": "#A2B1C6",
            "ticks": ""
           },
           "bgcolor": "white",
           "caxis": {
            "gridcolor": "#DFE8F3",
            "linecolor": "#A2B1C6",
            "ticks": ""
           }
          },
          "title": {
           "x": 0.05
          },
          "xaxis": {
           "automargin": true,
           "gridcolor": "#EBF0F8",
           "linecolor": "#EBF0F8",
           "ticks": "",
           "title": {
            "standoff": 15
           },
           "zerolinecolor": "#EBF0F8",
           "zerolinewidth": 2
          },
          "yaxis": {
           "automargin": true,
           "gridcolor": "#EBF0F8",
           "linecolor": "#EBF0F8",
           "ticks": "",
           "title": {
            "standoff": 15
           },
           "zerolinecolor": "#EBF0F8",
           "zerolinewidth": 2
          }
         }
        },
        "title": {
         "text": "VIX Forecast using fBM (H=0.6277461901447909)"
        },
        "xaxis": {
         "title": {
          "text": "Date"
         }
        },
        "yaxis": {
         "title": {
          "text": "VIX Value"
         }
        }
       }
      }
     },
     "metadata": {},
     "output_type": "display_data"
    }
   ],
   "source": [
    "from stochastic.processes.continuous import FractionalBrownianMotion\n",
    "import numpy as np\n",
    "import random\n",
    "import plotly.graph_objects as go\n",
    "\n",
    "def simulate_fbm_vix(train_data, test_data, H):\n",
    "    \"\"\"\n",
    "    Simulates a VIX path using geometric fractional Brownian motion.\n",
    "    \n",
    "    Parameters:\n",
    "        train_data (DataFrame): Training data containing at least 'vol' and 'log_vol_diff'.\n",
    "        test_data (DataFrame): Testing data to determine the simulation length.\n",
    "        H (float): Hurst exponent for the fractional Brownian motion.\n",
    "        \n",
    "    Returns:\n",
    "        np.ndarray: Simulated VIX values.\n",
    "    \"\"\"\n",
    "    # Set fixed seeds for reproducibility\n",
    "    random.seed(42)\n",
    "    np.random.seed(42)\n",
    "\n",
    "    # Calculate drift (μ) and volatility (σ) from training log differences of VIX\n",
    "    mu = train_data[\"log_vol_diff\"].mean()\n",
    "    sigma = train_data[\"log_vol_diff\"].std()\n",
    "\n",
    "    n_days = len(test_data)\n",
    "    # Define and sample from the fBM model\n",
    "    fbm = FractionalBrownianMotion(hurst=H, t=n_days-1)\n",
    "    fbm_values = fbm.sample(n=n_days-1)\n",
    "\n",
    "    # Use the last available VIX value in training data as the starting point\n",
    "    S0 = train_data['vol'].iloc[-1]\n",
    "    # Simulate the VIX path using a geometric fBM model\n",
    "    simulated_vix = S0 * np.exp(mu * np.arange(n_days) + sigma * fbm_values)\n",
    "    print(mu, sigma)\n",
    "    return simulated_vix\n",
    "\n",
    "def plot_fbm_vix(test_data, simulated_vix, H):\n",
    "    \"\"\"\n",
    "    Plots actual vs. simulated VIX values.\n",
    "    \n",
    "    Parameters:\n",
    "        test_data (DataFrame): Testing data containing actual VIX values under 'vol'.\n",
    "        simulated_vix (np.ndarray): Simulated VIX values.\n",
    "        H (float): Hurst exponent used in the simulation (for labeling purposes).\n",
    "    \"\"\"\n",
    "    fig = go.Figure()\n",
    "\n",
    "    # Actual VIX trace\n",
    "    fig.add_trace(go.Scatter(\n",
    "        x=test_data.index,\n",
    "        y=test_data[\"vol\"],\n",
    "        mode='lines',\n",
    "        name='Actual VIX',\n",
    "        line=dict(color='blue')\n",
    "    ))\n",
    "\n",
    "    # Forecasted VIX trace using fBM\n",
    "    fig.add_trace(go.Scatter(\n",
    "        x=test_data.index,\n",
    "        y=simulated_vix,\n",
    "        mode='lines',\n",
    "        name='Forecasted VIX (fBM)',\n",
    "        line=dict(color='red', dash='dash')\n",
    "    ))\n",
    "\n",
    "    # Update layout of the plot\n",
    "    fig.update_layout(\n",
    "        title=f\"VIX Forecast using fBM (H={H})\",\n",
    "        xaxis_title=\"Date\",\n",
    "        yaxis_title=\"VIX Value\",\n",
    "        template=\"plotly_white\"\n",
    "    )\n",
    "\n",
    "    fig.show()\n",
    "\n",
    "# Example usage:\n",
    "simulated_vix = simulate_fbm_vix(vix_training_df, vix_testing_df, vix_hurst_est)\n",
    "plot_fbm_vix(vix_testing_df, simulated_vix, vix_hurst_est)\n"
   ]
  },
  {
   "cell_type": "code",
   "execution_count": 42,
   "metadata": {},
   "outputs": [
    {
     "data": {
      "application/vnd.plotly.v1+json": {
       "config": {
        "plotlyServerURL": "https://plot.ly"
       },
       "data": [
        {
         "line": {
          "color": "blue"
         },
         "mode": "lines",
         "name": "150 days rolling window",
         "type": "scatter",
         "x": [
          "2015-08-07T00:00:00",
          "2015-08-18T00:00:00",
          "2015-08-27T00:00:00",
          "2015-09-08T00:00:00",
          "2015-09-17T00:00:00",
          "2015-09-28T00:00:00",
          "2015-10-07T00:00:00",
          "2015-10-16T00:00:00",
          "2015-10-27T00:00:00",
          "2015-11-05T00:00:00",
          "2015-11-16T00:00:00",
          "2015-11-25T00:00:00",
          "2015-12-07T00:00:00",
          "2015-12-16T00:00:00",
          "2015-12-28T00:00:00",
          "2016-01-07T00:00:00",
          "2016-01-19T00:00:00",
          "2016-01-28T00:00:00",
          "2016-02-08T00:00:00",
          "2016-02-18T00:00:00",
          "2016-02-29T00:00:00",
          "2016-03-09T00:00:00",
          "2016-03-18T00:00:00",
          "2016-03-30T00:00:00",
          "2016-04-08T00:00:00",
          "2016-04-19T00:00:00",
          "2016-04-28T00:00:00",
          "2016-05-09T00:00:00",
          "2016-05-18T00:00:00",
          "2016-05-27T00:00:00",
          "2016-06-08T00:00:00",
          "2016-06-17T00:00:00",
          "2016-06-28T00:00:00",
          "2016-07-08T00:00:00",
          "2016-07-19T00:00:00",
          "2016-07-28T00:00:00",
          "2016-08-08T00:00:00",
          "2016-08-17T00:00:00",
          "2016-08-26T00:00:00",
          "2016-09-07T00:00:00",
          "2016-09-16T00:00:00",
          "2016-09-27T00:00:00",
          "2016-10-06T00:00:00",
          "2016-10-17T00:00:00",
          "2016-10-26T00:00:00",
          "2016-11-04T00:00:00",
          "2016-11-15T00:00:00",
          "2016-11-25T00:00:00",
          "2016-12-06T00:00:00",
          "2016-12-15T00:00:00",
          "2016-12-27T00:00:00",
          "2017-01-06T00:00:00",
          "2017-01-18T00:00:00",
          "2017-01-27T00:00:00",
          "2017-02-07T00:00:00",
          "2017-02-16T00:00:00",
          "2017-02-28T00:00:00",
          "2017-03-09T00:00:00",
          "2017-03-20T00:00:00",
          "2017-03-29T00:00:00",
          "2017-04-07T00:00:00",
          "2017-04-19T00:00:00",
          "2017-04-28T00:00:00",
          "2017-05-09T00:00:00",
          "2017-05-18T00:00:00",
          "2017-05-30T00:00:00",
          "2017-06-08T00:00:00",
          "2017-06-19T00:00:00",
          "2017-06-28T00:00:00",
          "2017-07-10T00:00:00",
          "2017-07-19T00:00:00",
          "2017-07-28T00:00:00",
          "2017-08-08T00:00:00",
          "2017-08-17T00:00:00",
          "2017-08-28T00:00:00",
          "2017-09-07T00:00:00",
          "2017-09-18T00:00:00",
          "2017-09-27T00:00:00",
          "2017-10-06T00:00:00",
          "2017-10-17T00:00:00",
          "2017-10-26T00:00:00",
          "2017-11-06T00:00:00",
          "2017-11-15T00:00:00",
          "2017-11-27T00:00:00",
          "2017-12-06T00:00:00",
          "2017-12-15T00:00:00",
          "2017-12-27T00:00:00",
          "2018-01-08T00:00:00",
          "2018-01-18T00:00:00",
          "2018-01-29T00:00:00",
          "2018-02-07T00:00:00",
          "2018-02-16T00:00:00",
          "2018-02-28T00:00:00",
          "2018-03-09T00:00:00",
          "2018-03-20T00:00:00",
          "2018-03-29T00:00:00",
          "2018-04-10T00:00:00",
          "2018-04-19T00:00:00",
          "2018-04-30T00:00:00",
          "2018-05-09T00:00:00",
          "2018-05-18T00:00:00",
          "2018-05-30T00:00:00",
          "2018-06-08T00:00:00",
          "2018-06-19T00:00:00",
          "2018-06-28T00:00:00",
          "2018-07-10T00:00:00",
          "2018-07-19T00:00:00",
          "2018-07-30T00:00:00",
          "2018-08-08T00:00:00",
          "2018-08-17T00:00:00",
          "2018-08-28T00:00:00",
          "2018-09-07T00:00:00",
          "2018-09-18T00:00:00",
          "2018-09-27T00:00:00",
          "2018-10-08T00:00:00",
          "2018-10-17T00:00:00",
          "2018-10-26T00:00:00",
          "2018-11-06T00:00:00",
          "2018-11-15T00:00:00",
          "2018-11-27T00:00:00",
          "2018-12-06T00:00:00",
          "2018-12-17T00:00:00",
          "2018-12-27T00:00:00",
          "2019-01-08T00:00:00",
          "2019-01-17T00:00:00",
          "2019-01-29T00:00:00",
          "2019-02-07T00:00:00",
          "2019-02-19T00:00:00",
          "2019-02-28T00:00:00",
          "2019-03-11T00:00:00",
          "2019-03-20T00:00:00",
          "2019-03-29T00:00:00",
          "2019-04-09T00:00:00",
          "2019-04-18T00:00:00",
          "2019-04-29T00:00:00",
          "2019-05-08T00:00:00",
          "2019-05-17T00:00:00",
          "2019-05-29T00:00:00",
          "2019-06-07T00:00:00",
          "2019-06-18T00:00:00",
          "2019-06-27T00:00:00",
          "2019-07-09T00:00:00",
          "2019-07-18T00:00:00",
          "2019-07-29T00:00:00",
          "2019-08-07T00:00:00",
          "2019-08-16T00:00:00",
          "2019-08-27T00:00:00",
          "2019-09-06T00:00:00",
          "2019-09-17T00:00:00",
          "2019-09-26T00:00:00",
          "2019-10-07T00:00:00",
          "2019-10-16T00:00:00",
          "2019-10-25T00:00:00",
          "2019-11-05T00:00:00",
          "2019-11-14T00:00:00",
          "2019-11-25T00:00:00",
          "2019-12-05T00:00:00",
          "2019-12-16T00:00:00",
          "2019-12-26T00:00:00",
          "2020-01-07T00:00:00",
          "2020-01-16T00:00:00",
          "2020-01-28T00:00:00",
          "2020-02-06T00:00:00",
          "2020-02-18T00:00:00",
          "2020-02-27T00:00:00",
          "2020-03-09T00:00:00",
          "2020-03-18T00:00:00",
          "2020-03-27T00:00:00",
          "2020-04-07T00:00:00",
          "2020-04-17T00:00:00",
          "2020-04-28T00:00:00",
          "2020-05-07T00:00:00",
          "2020-05-18T00:00:00",
          "2020-05-28T00:00:00",
          "2020-06-08T00:00:00",
          "2020-06-17T00:00:00",
          "2020-06-26T00:00:00",
          "2020-07-08T00:00:00",
          "2020-07-17T00:00:00",
          "2020-07-28T00:00:00",
          "2020-08-06T00:00:00",
          "2020-08-17T00:00:00",
          "2020-08-26T00:00:00",
          "2020-09-04T00:00:00",
          "2020-09-16T00:00:00",
          "2020-09-25T00:00:00",
          "2020-10-06T00:00:00",
          "2020-10-15T00:00:00",
          "2020-10-26T00:00:00",
          "2020-11-04T00:00:00",
          "2020-11-13T00:00:00",
          "2020-11-24T00:00:00",
          "2020-12-04T00:00:00",
          "2020-12-15T00:00:00",
          "2020-12-24T00:00:00",
          "2021-01-06T00:00:00",
          "2021-01-15T00:00:00",
          "2021-01-27T00:00:00",
          "2021-02-05T00:00:00",
          "2021-02-17T00:00:00",
          "2021-02-26T00:00:00",
          "2021-03-09T00:00:00",
          "2021-03-18T00:00:00",
          "2021-03-29T00:00:00",
          "2021-04-08T00:00:00",
          "2021-04-19T00:00:00",
          "2021-04-28T00:00:00",
          "2021-05-07T00:00:00",
          "2021-05-18T00:00:00",
          "2021-05-27T00:00:00",
          "2021-06-08T00:00:00",
          "2021-06-17T00:00:00",
          "2021-06-28T00:00:00",
          "2021-07-08T00:00:00",
          "2021-07-19T00:00:00",
          "2021-07-28T00:00:00",
          "2021-08-06T00:00:00",
          "2021-08-17T00:00:00",
          "2021-08-26T00:00:00",
          "2021-09-07T00:00:00",
          "2021-09-16T00:00:00",
          "2021-09-27T00:00:00",
          "2021-10-06T00:00:00",
          "2021-10-15T00:00:00",
          "2021-10-26T00:00:00",
          "2021-11-04T00:00:00",
          "2021-11-15T00:00:00",
          "2021-11-24T00:00:00",
          "2021-12-06T00:00:00",
          "2021-12-15T00:00:00",
          "2021-12-27T00:00:00",
          "2022-01-05T00:00:00",
          "2022-01-14T00:00:00",
          "2022-01-26T00:00:00",
          "2022-02-04T00:00:00",
          "2022-02-15T00:00:00",
          "2022-02-25T00:00:00",
          "2022-03-08T00:00:00",
          "2022-03-17T00:00:00",
          "2022-03-28T00:00:00",
          "2022-04-06T00:00:00",
          "2022-04-18T00:00:00",
          "2022-04-27T00:00:00",
          "2022-05-06T00:00:00",
          "2022-05-17T00:00:00",
          "2022-05-26T00:00:00",
          "2022-06-06T00:00:00",
          "2022-06-15T00:00:00",
          "2022-06-24T00:00:00",
          "2022-07-05T00:00:00",
          "2022-07-14T00:00:00",
          "2022-07-25T00:00:00",
          "2022-08-03T00:00:00",
          "2022-08-12T00:00:00",
          "2022-08-23T00:00:00",
          "2022-09-01T00:00:00",
          "2022-09-12T00:00:00",
          "2022-09-21T00:00:00",
          "2022-09-30T00:00:00",
          "2022-10-11T00:00:00",
          "2022-10-20T00:00:00",
          "2022-10-31T00:00:00",
          "2022-11-09T00:00:00",
          "2022-11-18T00:00:00",
          "2022-11-29T00:00:00",
          "2022-12-08T00:00:00",
          "2022-12-19T00:00:00",
          "2022-12-29T00:00:00",
          "2023-01-10T00:00:00",
          "2023-01-19T00:00:00",
          "2023-01-30T00:00:00",
          "2023-02-08T00:00:00",
          "2023-02-17T00:00:00",
          "2023-02-28T00:00:00",
          "2023-03-09T00:00:00",
          "2023-03-20T00:00:00",
          "2023-03-29T00:00:00",
          "2023-04-10T00:00:00",
          "2023-04-19T00:00:00",
          "2023-04-28T00:00:00",
          "2023-05-09T00:00:00",
          "2023-05-18T00:00:00",
          "2023-05-29T00:00:00",
          "2023-06-07T00:00:00",
          "2023-06-16T00:00:00",
          "2023-06-27T00:00:00",
          "2023-07-06T00:00:00",
          "2023-07-17T00:00:00",
          "2023-07-26T00:00:00",
          "2023-08-04T00:00:00",
          "2023-08-15T00:00:00",
          "2023-08-24T00:00:00",
          "2023-09-04T00:00:00",
          "2023-09-13T00:00:00",
          "2023-09-22T00:00:00",
          "2023-10-03T00:00:00",
          "2023-10-12T00:00:00",
          "2023-10-23T00:00:00",
          "2023-11-01T00:00:00",
          "2023-11-10T00:00:00",
          "2023-11-21T00:00:00",
          "2023-11-30T00:00:00",
          "2023-12-11T00:00:00",
          "2023-12-20T00:00:00",
          "2024-01-02T00:00:00",
          "2024-01-11T00:00:00",
          "2024-01-22T00:00:00",
          "2024-01-31T00:00:00",
          "2024-02-09T00:00:00",
          "2024-02-20T00:00:00",
          "2024-02-29T00:00:00",
          "2024-03-11T00:00:00",
          "2024-03-20T00:00:00",
          "2024-04-01T00:00:00",
          "2024-04-10T00:00:00",
          "2024-04-19T00:00:00",
          "2024-04-30T00:00:00",
          "2024-05-09T00:00:00",
          "2024-05-20T00:00:00",
          "2024-05-29T00:00:00",
          "2024-06-07T00:00:00",
          "2024-06-18T00:00:00",
          "2024-06-27T00:00:00",
          "2024-07-08T00:00:00",
          "2024-07-17T00:00:00",
          "2024-07-26T00:00:00",
          "2024-08-06T00:00:00",
          "2024-08-15T00:00:00",
          "2024-08-26T00:00:00",
          "2024-09-04T00:00:00",
          "2024-09-13T00:00:00",
          "2024-09-24T00:00:00",
          "2024-10-03T00:00:00",
          "2024-10-14T00:00:00",
          "2024-10-23T00:00:00",
          "2024-11-01T00:00:00",
          "2024-11-12T00:00:00",
          "2024-11-21T00:00:00",
          "2024-12-02T00:00:00",
          "2024-12-11T00:00:00",
          "2024-12-20T00:00:00"
         ],
         "y": [
          0.6704707410382111,
          0.7458884376741494,
          0.6650925444834647,
          0.6759354498090103,
          0.6599769370348179,
          0.6317992550772674,
          0.6616875922581605,
          0.626250718141783,
          0.6470944957094672,
          0.5229854345109529,
          0.47529844554393047,
          0.495701919608938,
          0.4999050960936226,
          0.5094597099166458,
          0.5269701075217498,
          0.5557011654465916,
          0.5231765267137768,
          0.595648945510904,
          0.5723736629482684,
          0.5150738025113227,
          0.6038607430355176,
          0.6013821156793271,
          0.6061498895158576,
          0.5900297276750883,
          0.6555973941847727,
          0.6823494875771697,
          0.5940861502435829,
          0.6608193975609743,
          0.6265664428968626,
          0.5841710834216965,
          0.5536298358152806,
          0.6156327354246285,
          0.5848183625559421,
          0.5318152582803292,
          0.6108396677805524,
          0.6154352207721324,
          0.5284237157202257,
          0.47792049784306706,
          0.5463641527407521,
          0.5400582974833678,
          0.5429360277567566,
          0.689502886593683,
          0.6628640315958887,
          0.6375391204784798,
          0.7021149382289005,
          0.6594605493605978,
          0.6441458557451514,
          0.6270484884696127,
          0.6957458852816095,
          0.6730170682263569,
          0.6203713185920694,
          0.6694118009138316,
          0.6110213137841741,
          0.664493945103209,
          0.7021155210546824,
          0.6495653859848574,
          0.6566488469236159,
          0.6618432921878914,
          0.6374033809988723,
          0.6530977433939029,
          0.6501721573082582,
          0.6486086381623266,
          0.6279120337552209,
          0.6296419011647965,
          0.6501660273042829,
          0.6268040700896256,
          0.6403015715873838,
          0.7750292840590925,
          0.7678143493352823,
          0.7499559751778624,
          0.73769702018004,
          0.7361070851851056,
          0.6759467149149088,
          0.6777836304979716,
          0.692311533971634,
          0.6815304932499509,
          0.6831950003619565,
          0.6792764274076648,
          0.6696323337592155,
          0.6486966338936755,
          0.6528561751852825,
          0.6466895734621588,
          0.6748579357853486,
          0.7120306186517059,
          0.7603787886113275,
          0.6973741607318588,
          0.7041187568803906,
          0.7531906735972543,
          0.7083832553460566,
          0.760662876532092,
          0.6298102789695301,
          0.5528880295209921,
          0.5628044243666604,
          0.5675175027715194,
          0.6049615039582108,
          0.6031306780102145,
          0.5702154727665617,
          0.42850908433749507,
          0.35784791124982906,
          0.4172167974327563,
          0.4398375295865554,
          0.45885372976820465,
          0.4743851118767684,
          0.4155415182311703,
          0.45718105404597137,
          0.4768869225809587,
          0.41907898401466187,
          0.5085772188139879,
          0.5221189886220169,
          0.5591720306885141,
          0.5788026160225062,
          0.6078671991201229,
          0.6313060073102126,
          0.5981473324883203,
          0.6248208161587919,
          0.5896464805821765,
          0.5784336718456254,
          0.6467415495135783,
          0.7106767872468956,
          0.6870252981032474,
          0.7019345226884001,
          0.6805695090652931,
          0.5665898223031723,
          0.5331478228746649,
          0.5342105520775552,
          0.5232241232254929,
          0.5154650099195507,
          0.5200102207484842,
          0.49996378496593924,
          0.5106775171113119,
          0.48524255112218656,
          0.48953081371953594,
          0.509865763996801,
          0.5364410034873197,
          0.5190737306308651,
          0.555412945154869,
          0.5820255145233094,
          0.5351576025581789,
          0.5259979915039641,
          0.536578526927081,
          0.5456252901416382,
          0.4555302203166723,
          0.46978095401399733,
          0.5265084939957636,
          0.6181568407520163,
          0.6556833571115466,
          0.7075332732417319,
          0.685301246388677,
          0.7154615059968938,
          0.7385925847241979,
          0.7183475328500313,
          0.689812541127888,
          0.6589946077180937,
          0.6784763768046534,
          0.657648145188115,
          0.6783029637375034,
          0.6476248254622585,
          0.6641348918619631,
          0.6655148222716114,
          0.5837367918804993,
          0.6434648241398113,
          0.6228988450320269,
          0.5879420956656788,
          0.6676262225116578,
          0.6207562960139436,
          0.5415906043747991,
          0.47405414294526055,
          0.44820926174784664,
          0.44239863590836814,
          0.37351061698826105,
          0.45050879656933046,
          0.3451703449311639,
          0.20727736099633146,
          0.23558161462371605,
          0.1809407637822156,
          0.20849673714274364,
          0.2302950605641138,
          0.2756239882843071,
          0.2380152493554332,
          0.1732743648432668,
          0.27985965762911275,
          0.28278775147593227,
          0.28592536950926833,
          0.40097566201751883,
          0.3842723713526539,
          0.4289542067714813,
          0.37881527304127804,
          0.40088317443324445,
          0.45055995627160655,
          0.5024296589114126,
          0.6207200288752146,
          0.6378339453526218,
          0.6289777552804754,
          0.6954160644835629,
          0.6276535930125228,
          0.6118283803854321,
          0.6072191008019908,
          0.6612158055399326,
          0.5961275641284619,
          0.6033196662787297,
          0.6734522811529386,
          0.6182787471252754,
          0.6384477897140279,
          0.7192230826116637,
          0.6379208139078607,
          0.5748969092727008,
          0.6083701461337496,
          0.6321476417523634,
          0.5524847972947456,
          0.6052864543327365,
          0.7067542951064252,
          0.636898666689787,
          0.659556143386466,
          0.6324253768921503,
          0.6427544088225232,
          0.6172398821888535,
          0.6900312922529966,
          0.6624117992101043,
          0.6280843575500172,
          0.6948886101126729,
          0.6704768622566015,
          0.7312562073635661,
          0.7979771841595288,
          0.8096930324548588,
          0.8515622675386999,
          0.8036085503793089,
          0.8298107447529327,
          0.7979439981351322,
          0.7810205782453573,
          0.8009431843787173,
          0.7603091699961192,
          0.7720141520507287,
          0.8090916518793646,
          0.7793702877938568,
          0.7569310771093477,
          0.731053936287948,
          0.6971945470577863,
          0.6806525178793631,
          0.6760405301922542,
          0.672747998755873,
          0.6956089101008975,
          0.6570397881069631,
          0.6604466712882933,
          0.6345719708813528,
          0.6049028198344719,
          0.6011099747199578,
          0.6402964014839366,
          0.6782936887612225,
          0.6820447208911223,
          0.6708792836442599,
          0.6507692240969614,
          0.6332560471398138,
          0.619852765597444,
          0.7062373470384053,
          0.7065770822790997,
          0.6626730392748621,
          0.6886907530277774,
          0.6843357475144067,
          0.6582576576333343,
          0.6549202154890637,
          0.6167597294541786,
          0.683064398899078,
          0.6430364772894323,
          0.667550281509895,
          0.665441518607157,
          0.627138817460221,
          0.6299354432555839,
          0.6222830276922549,
          0.6258119739688348,
          0.5674757841422017,
          0.5604182633684869,
          0.5765615125343105,
          0.5269338802751049,
          0.5489089295083663,
          0.5710969179067247,
          0.5616539219924044,
          0.5497927499554666,
          0.5354479959919969,
          0.5448248293218407,
          0.5107223560704611,
          0.5223736875763165,
          0.613330904657897,
          0.6710788411087726,
          0.6848067566874678,
          0.6950168366242727,
          0.6434567241381574,
          0.6138546716907182,
          0.582562029729861,
          0.5673270484012506,
          0.622088847882495,
          0.5194054277572296,
          0.5481234144388877,
          0.5572881131766038,
          0.4694200189830064,
          0.5132310952355728,
          0.5259886776709012,
          0.6113293253549559,
          0.6083723312684558,
          0.621758575794247,
          0.7191680113310306,
          0.6366289919640019,
          0.6361315253521207,
          0.6767064842757892,
          0.6213665019241463,
          0.5791928863894771,
          0.5427075414250289,
          0.6059315364044345,
          0.5478366039001967,
          0.5388022074248879,
          0.579047227823778,
          0.5016046873759261,
          0.5457776748554937,
          0.5387160343839059,
          0.5441959671224961,
          0.5515910208098278,
          0.5238228958809317,
          0.5356927271717963,
          0.5481796796806766,
          0.5989013389279915,
          0.7289496989391023,
          0.7818537316204773,
          0.7568924599340794,
          0.6993759969792815,
          0.6985231339828345,
          0.7236857743182883,
          0.6854370467027908,
          0.5816493927793953,
          0.6213739551645174,
          0.5902545505233003,
          0.6330781746302951,
          0.6376357392791755,
          0.5992612904271318,
          0.5915115879485598,
          0.5080346229641455,
          0.5166779290506852,
          0.5016558721846663,
          0.4671573939453785,
          0.5396534006802715,
          0.5066127443759474,
          0.48803880747950645,
          0.5244842950417472
         ]
        },
        {
         "line": {
          "color": "red"
         },
         "mode": "lines",
         "name": "350 days rolling window",
         "type": "scatter",
         "x": [
          "2016-05-24T00:00:00",
          "2016-06-03T00:00:00",
          "2016-06-14T00:00:00",
          "2016-06-23T00:00:00",
          "2016-07-05T00:00:00",
          "2016-07-14T00:00:00",
          "2016-07-25T00:00:00",
          "2016-08-03T00:00:00",
          "2016-08-12T00:00:00",
          "2016-08-23T00:00:00",
          "2016-09-01T00:00:00",
          "2016-09-13T00:00:00",
          "2016-09-22T00:00:00",
          "2016-10-03T00:00:00",
          "2016-10-12T00:00:00",
          "2016-10-21T00:00:00",
          "2016-11-01T00:00:00",
          "2016-11-10T00:00:00",
          "2016-11-21T00:00:00",
          "2016-12-01T00:00:00",
          "2016-12-12T00:00:00",
          "2016-12-21T00:00:00",
          "2017-01-03T00:00:00",
          "2017-01-12T00:00:00",
          "2017-01-24T00:00:00",
          "2017-02-02T00:00:00",
          "2017-02-13T00:00:00",
          "2017-02-23T00:00:00",
          "2017-03-06T00:00:00",
          "2017-03-15T00:00:00",
          "2017-03-24T00:00:00",
          "2017-04-04T00:00:00",
          "2017-04-13T00:00:00",
          "2017-04-25T00:00:00",
          "2017-05-04T00:00:00",
          "2017-05-15T00:00:00",
          "2017-05-24T00:00:00",
          "2017-06-05T00:00:00",
          "2017-06-14T00:00:00",
          "2017-06-23T00:00:00",
          "2017-07-05T00:00:00",
          "2017-07-14T00:00:00",
          "2017-07-25T00:00:00",
          "2017-08-03T00:00:00",
          "2017-08-14T00:00:00",
          "2017-08-23T00:00:00",
          "2017-09-01T00:00:00",
          "2017-09-13T00:00:00",
          "2017-09-22T00:00:00",
          "2017-10-03T00:00:00",
          "2017-10-12T00:00:00",
          "2017-10-23T00:00:00",
          "2017-11-01T00:00:00",
          "2017-11-10T00:00:00",
          "2017-11-21T00:00:00",
          "2017-12-01T00:00:00",
          "2017-12-12T00:00:00",
          "2017-12-21T00:00:00",
          "2018-01-03T00:00:00",
          "2018-01-12T00:00:00",
          "2018-01-24T00:00:00",
          "2018-02-02T00:00:00",
          "2018-02-13T00:00:00",
          "2018-02-23T00:00:00",
          "2018-03-06T00:00:00",
          "2018-03-15T00:00:00",
          "2018-03-26T00:00:00",
          "2018-04-05T00:00:00",
          "2018-04-16T00:00:00",
          "2018-04-25T00:00:00",
          "2018-05-04T00:00:00",
          "2018-05-15T00:00:00",
          "2018-05-24T00:00:00",
          "2018-06-05T00:00:00",
          "2018-06-14T00:00:00",
          "2018-06-25T00:00:00",
          "2018-07-05T00:00:00",
          "2018-07-16T00:00:00",
          "2018-07-25T00:00:00",
          "2018-08-03T00:00:00",
          "2018-08-14T00:00:00",
          "2018-08-23T00:00:00",
          "2018-09-04T00:00:00",
          "2018-09-13T00:00:00",
          "2018-09-24T00:00:00",
          "2018-10-03T00:00:00",
          "2018-10-12T00:00:00",
          "2018-10-23T00:00:00",
          "2018-11-01T00:00:00",
          "2018-11-12T00:00:00",
          "2018-11-21T00:00:00",
          "2018-12-03T00:00:00",
          "2018-12-12T00:00:00",
          "2018-12-21T00:00:00",
          "2019-01-03T00:00:00",
          "2019-01-14T00:00:00",
          "2019-01-24T00:00:00",
          "2019-02-04T00:00:00",
          "2019-02-13T00:00:00",
          "2019-02-25T00:00:00",
          "2019-03-06T00:00:00",
          "2019-03-15T00:00:00",
          "2019-03-26T00:00:00",
          "2019-04-04T00:00:00",
          "2019-04-15T00:00:00",
          "2019-04-24T00:00:00",
          "2019-05-03T00:00:00",
          "2019-05-14T00:00:00",
          "2019-05-23T00:00:00",
          "2019-06-04T00:00:00",
          "2019-06-13T00:00:00",
          "2019-06-24T00:00:00",
          "2019-07-03T00:00:00",
          "2019-07-15T00:00:00",
          "2019-07-24T00:00:00",
          "2019-08-02T00:00:00",
          "2019-08-13T00:00:00",
          "2019-08-22T00:00:00",
          "2019-09-03T00:00:00",
          "2019-09-12T00:00:00",
          "2019-09-23T00:00:00",
          "2019-10-02T00:00:00",
          "2019-10-11T00:00:00",
          "2019-10-22T00:00:00",
          "2019-10-31T00:00:00",
          "2019-11-11T00:00:00",
          "2019-11-20T00:00:00",
          "2019-12-02T00:00:00",
          "2019-12-11T00:00:00",
          "2019-12-20T00:00:00",
          "2020-01-02T00:00:00",
          "2020-01-13T00:00:00",
          "2020-01-23T00:00:00",
          "2020-02-03T00:00:00",
          "2020-02-12T00:00:00",
          "2020-02-24T00:00:00",
          "2020-03-04T00:00:00",
          "2020-03-13T00:00:00",
          "2020-03-24T00:00:00",
          "2020-04-02T00:00:00",
          "2020-04-14T00:00:00",
          "2020-04-23T00:00:00",
          "2020-05-04T00:00:00",
          "2020-05-13T00:00:00",
          "2020-05-22T00:00:00",
          "2020-06-03T00:00:00",
          "2020-06-12T00:00:00",
          "2020-06-23T00:00:00",
          "2020-07-02T00:00:00",
          "2020-07-14T00:00:00",
          "2020-07-23T00:00:00",
          "2020-08-03T00:00:00",
          "2020-08-12T00:00:00",
          "2020-08-21T00:00:00",
          "2020-09-01T00:00:00",
          "2020-09-11T00:00:00",
          "2020-09-22T00:00:00",
          "2020-10-01T00:00:00",
          "2020-10-12T00:00:00",
          "2020-10-21T00:00:00",
          "2020-10-30T00:00:00",
          "2020-11-10T00:00:00",
          "2020-11-19T00:00:00",
          "2020-12-01T00:00:00",
          "2020-12-10T00:00:00",
          "2020-12-21T00:00:00",
          "2020-12-31T00:00:00",
          "2021-01-12T00:00:00",
          "2021-01-22T00:00:00",
          "2021-02-02T00:00:00",
          "2021-02-11T00:00:00",
          "2021-02-23T00:00:00",
          "2021-03-04T00:00:00",
          "2021-03-15T00:00:00",
          "2021-03-24T00:00:00",
          "2021-04-05T00:00:00",
          "2021-04-14T00:00:00",
          "2021-04-23T00:00:00",
          "2021-05-04T00:00:00",
          "2021-05-13T00:00:00",
          "2021-05-24T00:00:00",
          "2021-06-03T00:00:00",
          "2021-06-14T00:00:00",
          "2021-06-23T00:00:00",
          "2021-07-02T00:00:00",
          "2021-07-14T00:00:00",
          "2021-07-23T00:00:00",
          "2021-08-03T00:00:00",
          "2021-08-12T00:00:00",
          "2021-08-23T00:00:00",
          "2021-09-01T00:00:00",
          "2021-09-13T00:00:00",
          "2021-09-22T00:00:00",
          "2021-10-01T00:00:00",
          "2021-10-12T00:00:00",
          "2021-10-21T00:00:00",
          "2021-11-01T00:00:00",
          "2021-11-10T00:00:00",
          "2021-11-19T00:00:00",
          "2021-12-01T00:00:00",
          "2021-12-10T00:00:00",
          "2021-12-21T00:00:00",
          "2021-12-31T00:00:00",
          "2022-01-11T00:00:00",
          "2022-01-21T00:00:00",
          "2022-02-01T00:00:00",
          "2022-02-10T00:00:00",
          "2022-02-22T00:00:00",
          "2022-03-03T00:00:00",
          "2022-03-14T00:00:00",
          "2022-03-23T00:00:00",
          "2022-04-01T00:00:00",
          "2022-04-12T00:00:00",
          "2022-04-22T00:00:00",
          "2022-05-03T00:00:00",
          "2022-05-12T00:00:00",
          "2022-05-23T00:00:00",
          "2022-06-01T00:00:00",
          "2022-06-10T00:00:00",
          "2022-06-21T00:00:00",
          "2022-06-30T00:00:00",
          "2022-07-11T00:00:00",
          "2022-07-20T00:00:00",
          "2022-07-29T00:00:00",
          "2022-08-09T00:00:00",
          "2022-08-18T00:00:00",
          "2022-08-29T00:00:00",
          "2022-09-07T00:00:00",
          "2022-09-16T00:00:00",
          "2022-09-27T00:00:00",
          "2022-10-06T00:00:00",
          "2022-10-17T00:00:00",
          "2022-10-26T00:00:00",
          "2022-11-04T00:00:00",
          "2022-11-15T00:00:00",
          "2022-11-24T00:00:00",
          "2022-12-05T00:00:00",
          "2022-12-14T00:00:00",
          "2022-12-23T00:00:00",
          "2023-01-05T00:00:00",
          "2023-01-16T00:00:00",
          "2023-01-25T00:00:00",
          "2023-02-03T00:00:00",
          "2023-02-14T00:00:00",
          "2023-02-23T00:00:00",
          "2023-03-06T00:00:00",
          "2023-03-15T00:00:00",
          "2023-03-24T00:00:00",
          "2023-04-04T00:00:00",
          "2023-04-14T00:00:00",
          "2023-04-25T00:00:00",
          "2023-05-04T00:00:00",
          "2023-05-15T00:00:00",
          "2023-05-24T00:00:00",
          "2023-06-02T00:00:00",
          "2023-06-13T00:00:00",
          "2023-06-22T00:00:00",
          "2023-07-03T00:00:00",
          "2023-07-12T00:00:00",
          "2023-07-21T00:00:00",
          "2023-08-01T00:00:00",
          "2023-08-10T00:00:00",
          "2023-08-21T00:00:00",
          "2023-08-30T00:00:00",
          "2023-09-08T00:00:00",
          "2023-09-19T00:00:00",
          "2023-09-28T00:00:00",
          "2023-10-09T00:00:00",
          "2023-10-18T00:00:00",
          "2023-10-27T00:00:00",
          "2023-11-07T00:00:00",
          "2023-11-16T00:00:00",
          "2023-11-27T00:00:00",
          "2023-12-06T00:00:00",
          "2023-12-15T00:00:00",
          "2023-12-27T00:00:00",
          "2024-01-08T00:00:00",
          "2024-01-17T00:00:00",
          "2024-01-26T00:00:00",
          "2024-02-06T00:00:00",
          "2024-02-15T00:00:00",
          "2024-02-26T00:00:00",
          "2024-03-06T00:00:00",
          "2024-03-15T00:00:00",
          "2024-03-26T00:00:00",
          "2024-04-05T00:00:00",
          "2024-04-16T00:00:00",
          "2024-04-25T00:00:00",
          "2024-05-06T00:00:00",
          "2024-05-15T00:00:00",
          "2024-05-24T00:00:00",
          "2024-06-04T00:00:00",
          "2024-06-13T00:00:00",
          "2024-06-24T00:00:00",
          "2024-07-03T00:00:00",
          "2024-07-12T00:00:00",
          "2024-07-23T00:00:00",
          "2024-08-01T00:00:00",
          "2024-08-12T00:00:00",
          "2024-08-21T00:00:00",
          "2024-08-30T00:00:00",
          "2024-09-10T00:00:00",
          "2024-09-19T00:00:00",
          "2024-09-30T00:00:00",
          "2024-10-09T00:00:00",
          "2024-10-18T00:00:00",
          "2024-10-29T00:00:00",
          "2024-11-07T00:00:00",
          "2024-11-18T00:00:00",
          "2024-11-27T00:00:00",
          "2024-12-06T00:00:00",
          "2024-12-17T00:00:00",
          "2024-12-27T00:00:00"
         ],
         "y": [
          0.6459059318498799,
          0.6620688836175174,
          0.6377923214469361,
          0.6326814254542896,
          0.6561068966798479,
          0.6555389912430076,
          0.6561849449637752,
          0.6466352305576584,
          0.665130683466119,
          0.6266613470083483,
          0.6116245967329315,
          0.6480552020289299,
          0.6468686885303626,
          0.6419954232623717,
          0.6580251996112522,
          0.6619240767178417,
          0.6450357706613923,
          0.6787029612132011,
          0.6767576966090684,
          0.6397659421324187,
          0.6426935649161098,
          0.6722049298422113,
          0.667379036093705,
          0.6294975841545556,
          0.6767192837778152,
          0.6810405524183316,
          0.6684012235408471,
          0.6754452544113939,
          0.6532526896787068,
          0.6439510639132122,
          0.6394467644553972,
          0.6461266171662725,
          0.6191244908729445,
          0.5970677643780763,
          0.6283186212666863,
          0.6236421718826877,
          0.6103142700468873,
          0.6070503285760144,
          0.6504654662910954,
          0.6599313884347134,
          0.6704912244414714,
          0.7155377635733503,
          0.6918097498386135,
          0.6802098690819477,
          0.7190825777396997,
          0.6858410719913827,
          0.6910696656840645,
          0.6737439614702107,
          0.6946240723161435,
          0.6833158979977065,
          0.6677478713697479,
          0.6863418863511616,
          0.6585950879711282,
          0.7073281177022156,
          0.7281471205206138,
          0.708838933042482,
          0.7104371831850488,
          0.7047457687210783,
          0.7147446867821461,
          0.6908705662657515,
          0.7115366666171532,
          0.7194008119652819,
          0.6687838729729086,
          0.6821949613997379,
          0.6765621321502951,
          0.6740712614481035,
          0.6756197503583253,
          0.6671287706225356,
          0.6510022334922888,
          0.6241976469203749,
          0.6371116425051768,
          0.6347976736281902,
          0.6177793226536621,
          0.6188527617409382,
          0.6157624757211531,
          0.6197812521254359,
          0.6116291318961574,
          0.6347758530630492,
          0.6312531580554425,
          0.6200235604326422,
          0.6417795205019917,
          0.6504085025947602,
          0.6523591370734829,
          0.6361385038873518,
          0.6564084989948569,
          0.6418889500464083,
          0.5739958883160737,
          0.5879431204194736,
          0.5790067666742172,
          0.5905516916716093,
          0.6025198780425454,
          0.5825169052079777,
          0.5798122833745292,
          0.5761380428266681,
          0.5786509324123761,
          0.5639988974466237,
          0.5544747709382374,
          0.5597191281398255,
          0.5462326112608993,
          0.5743247326676635,
          0.5763765755660263,
          0.5750504496034958,
          0.5923361351453527,
          0.5897446338237055,
          0.5975478427791762,
          0.6093128418911636,
          0.6137537379968405,
          0.6345944342146206,
          0.6375069105559681,
          0.6591360428209453,
          0.6622053253751,
          0.6380888153843878,
          0.6639557286925662,
          0.645708115227628,
          0.6587172877261468,
          0.6521401928525111,
          0.6503598358545375,
          0.6741083384083815,
          0.6548882976401067,
          0.6619279073446984,
          0.6553181001049188,
          0.6593310255921001,
          0.6621535433414955,
          0.6660456754776939,
          0.6577264902802221,
          0.6467641899920331,
          0.6372812631635442,
          0.6461605808226262,
          0.643244595916551,
          0.6543018684625215,
          0.6600806804729924,
          0.6549021372405297,
          0.6508482300174167,
          0.6697026152689975,
          0.6761644184877568,
          0.6790803054345848,
          0.6729047178345408,
          0.6401210566351007,
          0.6086086749503489,
          0.6108828799631055,
          0.618375677318994,
          0.5734558763879775,
          0.5367729795293461,
          0.5499070265079886,
          0.5348830549099642,
          0.520775758833924,
          0.5273411304031992,
          0.5128037947673303,
          0.5163748802450366,
          0.5065348045302849,
          0.5175118031275356,
          0.4999165700571244,
          0.48389683692618113,
          0.5139102525109193,
          0.5079428768765392,
          0.4901858543306175,
          0.5126298310617682,
          0.5044387104303439,
          0.49191211012580544,
          0.45010636576151547,
          0.47267632065149884,
          0.4670166375036508,
          0.4186138655366788,
          0.44790985468811445,
          0.417591238914561,
          0.40175036833264943,
          0.4243717902338551,
          0.4096534666384108,
          0.3845707349457038,
          0.3836270837973605,
          0.4503439599501402,
          0.41486330649472225,
          0.3757253742471189,
          0.4312335003315536,
          0.41552546297775794,
          0.43540583023725116,
          0.46616911179070414,
          0.47194490852275206,
          0.4581228838580149,
          0.4643634467888831,
          0.5185878794898214,
          0.5082431026195942,
          0.5123757144269049,
          0.5607572388752139,
          0.5286407591985554,
          0.5369831327834117,
          0.5349042460160199,
          0.5488224769621788,
          0.5827569739900289,
          0.5972367074075289,
          0.6492634015702545,
          0.6339616232852197,
          0.6554495018863755,
          0.68246248509072,
          0.6664237216848113,
          0.6654547417537755,
          0.6634751831138282,
          0.694933679272305,
          0.6710724452568383,
          0.6841476621775515,
          0.7021056820591298,
          0.6791907621810019,
          0.6891348759958038,
          0.700541492262415,
          0.6814947705135135,
          0.6842004987053178,
          0.7067923843854705,
          0.71533402452861,
          0.6906739168501717,
          0.7144690634283457,
          0.7509422218831343,
          0.7368231617458055,
          0.7543152266689697,
          0.7359888536957998,
          0.7286554009201991,
          0.7244950814626325,
          0.7473676448772433,
          0.7354762425051089,
          0.7244953457903788,
          0.741952254362755,
          0.728118154855775,
          0.7261557509635124,
          0.7214874669607646,
          0.7179232178693248,
          0.7113239038849928,
          0.6870431230412114,
          0.7065833175941842,
          0.7068072345089396,
          0.7130317433277298,
          0.69694882288126,
          0.6679324561532465,
          0.6903439119476276,
          0.6687890606641328,
          0.6757993371613048,
          0.6751983951674694,
          0.6607183108619737,
          0.6641076677014877,
          0.6772623892304801,
          0.6793696458552002,
          0.6691159754795313,
          0.6660878930413445,
          0.6689116804722178,
          0.6601720063327887,
          0.6590626118130607,
          0.6616789036443774,
          0.6439611432958774,
          0.670118249149946,
          0.692457326751064,
          0.7065336458493878,
          0.6923336869941018,
          0.6849813856154249,
          0.6892911668010894,
          0.6879061796955735,
          0.6891561712677652,
          0.6974400534476235,
          0.6769899084937921,
          0.668348836229194,
          0.6530509439891684,
          0.6361586216404607,
          0.6406093716686105,
          0.5968374377675477,
          0.6121014404733395,
          0.6012944100086972,
          0.5723966723063288,
          0.5723760734078472,
          0.5619800732779093,
          0.5748032859777754,
          0.5716859396445423,
          0.5804335346172076,
          0.5798367436169221,
          0.5757596855449116,
          0.5867437250738483,
          0.6052792983871137,
          0.5764802315476653,
          0.581362085820714,
          0.5590413222186927,
          0.5433820943024185,
          0.5329358132187454,
          0.5396821481500981,
          0.545297740600513,
          0.5223724601081007,
          0.5464533474560236,
          0.5764477357485053,
          0.5767264252848003,
          0.5923872508088933,
          0.5854853287668992,
          0.5897545772944378,
          0.5985378446500856,
          0.611179765340463,
          0.6368607884492703,
          0.6067101125282456,
          0.6383693978156866,
          0.6568430280978499,
          0.6262120690899433,
          0.6340128896030347,
          0.6303579277452978,
          0.661310350279266,
          0.6793609694169896,
          0.6674888982910212,
          0.690623991624579,
          0.6774675804354559,
          0.6852896123152081,
          0.7065036486491098,
          0.6766676831652462,
          0.6682237611905798,
          0.6700409342517145,
          0.6787765134467251,
          0.6730704867415417,
          0.6700190063304404,
          0.6813738918767424,
          0.6662859250761346,
          0.6705293369663684,
          0.6631837415788576
         ]
        },
        {
         "line": {
          "color": "green"
         },
         "mode": "lines",
         "name": "500 days rolling window",
         "type": "scatter",
         "x": [
          "2016-12-27T00:00:00",
          "2017-01-06T00:00:00",
          "2017-01-18T00:00:00",
          "2017-01-27T00:00:00",
          "2017-02-07T00:00:00",
          "2017-02-16T00:00:00",
          "2017-02-28T00:00:00",
          "2017-03-09T00:00:00",
          "2017-03-20T00:00:00",
          "2017-03-29T00:00:00",
          "2017-04-07T00:00:00",
          "2017-04-19T00:00:00",
          "2017-04-28T00:00:00",
          "2017-05-09T00:00:00",
          "2017-05-18T00:00:00",
          "2017-05-30T00:00:00",
          "2017-06-08T00:00:00",
          "2017-06-19T00:00:00",
          "2017-06-28T00:00:00",
          "2017-07-10T00:00:00",
          "2017-07-19T00:00:00",
          "2017-07-28T00:00:00",
          "2017-08-08T00:00:00",
          "2017-08-17T00:00:00",
          "2017-08-28T00:00:00",
          "2017-09-07T00:00:00",
          "2017-09-18T00:00:00",
          "2017-09-27T00:00:00",
          "2017-10-06T00:00:00",
          "2017-10-17T00:00:00",
          "2017-10-26T00:00:00",
          "2017-11-06T00:00:00",
          "2017-11-15T00:00:00",
          "2017-11-27T00:00:00",
          "2017-12-06T00:00:00",
          "2017-12-15T00:00:00",
          "2017-12-27T00:00:00",
          "2018-01-08T00:00:00",
          "2018-01-18T00:00:00",
          "2018-01-29T00:00:00",
          "2018-02-07T00:00:00",
          "2018-02-16T00:00:00",
          "2018-02-28T00:00:00",
          "2018-03-09T00:00:00",
          "2018-03-20T00:00:00",
          "2018-03-29T00:00:00",
          "2018-04-10T00:00:00",
          "2018-04-19T00:00:00",
          "2018-04-30T00:00:00",
          "2018-05-09T00:00:00",
          "2018-05-18T00:00:00",
          "2018-05-30T00:00:00",
          "2018-06-08T00:00:00",
          "2018-06-19T00:00:00",
          "2018-06-28T00:00:00",
          "2018-07-10T00:00:00",
          "2018-07-19T00:00:00",
          "2018-07-30T00:00:00",
          "2018-08-08T00:00:00",
          "2018-08-17T00:00:00",
          "2018-08-28T00:00:00",
          "2018-09-07T00:00:00",
          "2018-09-18T00:00:00",
          "2018-09-27T00:00:00",
          "2018-10-08T00:00:00",
          "2018-10-17T00:00:00",
          "2018-10-26T00:00:00",
          "2018-11-06T00:00:00",
          "2018-11-15T00:00:00",
          "2018-11-27T00:00:00",
          "2018-12-06T00:00:00",
          "2018-12-17T00:00:00",
          "2018-12-27T00:00:00",
          "2019-01-08T00:00:00",
          "2019-01-17T00:00:00",
          "2019-01-29T00:00:00",
          "2019-02-07T00:00:00",
          "2019-02-19T00:00:00",
          "2019-02-28T00:00:00",
          "2019-03-11T00:00:00",
          "2019-03-20T00:00:00",
          "2019-03-29T00:00:00",
          "2019-04-09T00:00:00",
          "2019-04-18T00:00:00",
          "2019-04-29T00:00:00",
          "2019-05-08T00:00:00",
          "2019-05-17T00:00:00",
          "2019-05-29T00:00:00",
          "2019-06-07T00:00:00",
          "2019-06-18T00:00:00",
          "2019-06-27T00:00:00",
          "2019-07-09T00:00:00",
          "2019-07-18T00:00:00",
          "2019-07-29T00:00:00",
          "2019-08-07T00:00:00",
          "2019-08-16T00:00:00",
          "2019-08-27T00:00:00",
          "2019-09-06T00:00:00",
          "2019-09-17T00:00:00",
          "2019-09-26T00:00:00",
          "2019-10-07T00:00:00",
          "2019-10-16T00:00:00",
          "2019-10-25T00:00:00",
          "2019-11-05T00:00:00",
          "2019-11-14T00:00:00",
          "2019-11-25T00:00:00",
          "2019-12-05T00:00:00",
          "2019-12-16T00:00:00",
          "2019-12-26T00:00:00",
          "2020-01-07T00:00:00",
          "2020-01-16T00:00:00",
          "2020-01-28T00:00:00",
          "2020-02-06T00:00:00",
          "2020-02-18T00:00:00",
          "2020-02-27T00:00:00",
          "2020-03-09T00:00:00",
          "2020-03-18T00:00:00",
          "2020-03-27T00:00:00",
          "2020-04-07T00:00:00",
          "2020-04-17T00:00:00",
          "2020-04-28T00:00:00",
          "2020-05-07T00:00:00",
          "2020-05-18T00:00:00",
          "2020-05-28T00:00:00",
          "2020-06-08T00:00:00",
          "2020-06-17T00:00:00",
          "2020-06-26T00:00:00",
          "2020-07-08T00:00:00",
          "2020-07-17T00:00:00",
          "2020-07-28T00:00:00",
          "2020-08-06T00:00:00",
          "2020-08-17T00:00:00",
          "2020-08-26T00:00:00",
          "2020-09-04T00:00:00",
          "2020-09-16T00:00:00",
          "2020-09-25T00:00:00",
          "2020-10-06T00:00:00",
          "2020-10-15T00:00:00",
          "2020-10-26T00:00:00",
          "2020-11-04T00:00:00",
          "2020-11-13T00:00:00",
          "2020-11-24T00:00:00",
          "2020-12-04T00:00:00",
          "2020-12-15T00:00:00",
          "2020-12-24T00:00:00",
          "2021-01-06T00:00:00",
          "2021-01-15T00:00:00",
          "2021-01-27T00:00:00",
          "2021-02-05T00:00:00",
          "2021-02-17T00:00:00",
          "2021-02-26T00:00:00",
          "2021-03-09T00:00:00",
          "2021-03-18T00:00:00",
          "2021-03-29T00:00:00",
          "2021-04-08T00:00:00",
          "2021-04-19T00:00:00",
          "2021-04-28T00:00:00",
          "2021-05-07T00:00:00",
          "2021-05-18T00:00:00",
          "2021-05-27T00:00:00",
          "2021-06-08T00:00:00",
          "2021-06-17T00:00:00",
          "2021-06-28T00:00:00",
          "2021-07-08T00:00:00",
          "2021-07-19T00:00:00",
          "2021-07-28T00:00:00",
          "2021-08-06T00:00:00",
          "2021-08-17T00:00:00",
          "2021-08-26T00:00:00",
          "2021-09-07T00:00:00",
          "2021-09-16T00:00:00",
          "2021-09-27T00:00:00",
          "2021-10-06T00:00:00",
          "2021-10-15T00:00:00",
          "2021-10-26T00:00:00",
          "2021-11-04T00:00:00",
          "2021-11-15T00:00:00",
          "2021-11-24T00:00:00",
          "2021-12-06T00:00:00",
          "2021-12-15T00:00:00",
          "2021-12-27T00:00:00",
          "2022-01-05T00:00:00",
          "2022-01-14T00:00:00",
          "2022-01-26T00:00:00",
          "2022-02-04T00:00:00",
          "2022-02-15T00:00:00",
          "2022-02-25T00:00:00",
          "2022-03-08T00:00:00",
          "2022-03-17T00:00:00",
          "2022-03-28T00:00:00",
          "2022-04-06T00:00:00",
          "2022-04-18T00:00:00",
          "2022-04-27T00:00:00",
          "2022-05-06T00:00:00",
          "2022-05-17T00:00:00",
          "2022-05-26T00:00:00",
          "2022-06-06T00:00:00",
          "2022-06-15T00:00:00",
          "2022-06-24T00:00:00",
          "2022-07-05T00:00:00",
          "2022-07-14T00:00:00",
          "2022-07-25T00:00:00",
          "2022-08-03T00:00:00",
          "2022-08-12T00:00:00",
          "2022-08-23T00:00:00",
          "2022-09-01T00:00:00",
          "2022-09-12T00:00:00",
          "2022-09-21T00:00:00",
          "2022-09-30T00:00:00",
          "2022-10-11T00:00:00",
          "2022-10-20T00:00:00",
          "2022-10-31T00:00:00",
          "2022-11-09T00:00:00",
          "2022-11-18T00:00:00",
          "2022-11-29T00:00:00",
          "2022-12-08T00:00:00",
          "2022-12-19T00:00:00",
          "2022-12-29T00:00:00",
          "2023-01-10T00:00:00",
          "2023-01-19T00:00:00",
          "2023-01-30T00:00:00",
          "2023-02-08T00:00:00",
          "2023-02-17T00:00:00",
          "2023-02-28T00:00:00",
          "2023-03-09T00:00:00",
          "2023-03-20T00:00:00",
          "2023-03-29T00:00:00",
          "2023-04-10T00:00:00",
          "2023-04-19T00:00:00",
          "2023-04-28T00:00:00",
          "2023-05-09T00:00:00",
          "2023-05-18T00:00:00",
          "2023-05-29T00:00:00",
          "2023-06-07T00:00:00",
          "2023-06-16T00:00:00",
          "2023-06-27T00:00:00",
          "2023-07-06T00:00:00",
          "2023-07-17T00:00:00",
          "2023-07-26T00:00:00",
          "2023-08-04T00:00:00",
          "2023-08-15T00:00:00",
          "2023-08-24T00:00:00",
          "2023-09-04T00:00:00",
          "2023-09-13T00:00:00",
          "2023-09-22T00:00:00",
          "2023-10-03T00:00:00",
          "2023-10-12T00:00:00",
          "2023-10-23T00:00:00",
          "2023-11-01T00:00:00",
          "2023-11-10T00:00:00",
          "2023-11-21T00:00:00",
          "2023-11-30T00:00:00",
          "2023-12-11T00:00:00",
          "2023-12-20T00:00:00",
          "2024-01-02T00:00:00",
          "2024-01-11T00:00:00",
          "2024-01-22T00:00:00",
          "2024-01-31T00:00:00",
          "2024-02-09T00:00:00",
          "2024-02-20T00:00:00",
          "2024-02-29T00:00:00",
          "2024-03-11T00:00:00",
          "2024-03-20T00:00:00",
          "2024-04-01T00:00:00",
          "2024-04-10T00:00:00",
          "2024-04-19T00:00:00",
          "2024-04-30T00:00:00",
          "2024-05-09T00:00:00",
          "2024-05-20T00:00:00",
          "2024-05-29T00:00:00",
          "2024-06-07T00:00:00",
          "2024-06-18T00:00:00",
          "2024-06-27T00:00:00",
          "2024-07-08T00:00:00",
          "2024-07-17T00:00:00",
          "2024-07-26T00:00:00",
          "2024-08-06T00:00:00",
          "2024-08-15T00:00:00",
          "2024-08-26T00:00:00",
          "2024-09-04T00:00:00",
          "2024-09-13T00:00:00",
          "2024-09-24T00:00:00",
          "2024-10-03T00:00:00",
          "2024-10-14T00:00:00",
          "2024-10-23T00:00:00",
          "2024-11-01T00:00:00",
          "2024-11-12T00:00:00",
          "2024-11-21T00:00:00",
          "2024-12-02T00:00:00",
          "2024-12-11T00:00:00",
          "2024-12-20T00:00:00"
         ],
         "y": [
          0.6801943378082754,
          0.6926107720169606,
          0.6680869490514981,
          0.6635718497472634,
          0.6800014486748915,
          0.6673650303399831,
          0.6537944277676125,
          0.652110843625163,
          0.6620083261142492,
          0.6373974071544586,
          0.6354921347343443,
          0.6526243863891591,
          0.6541363144232014,
          0.649518101290126,
          0.659849895782536,
          0.6650612404163663,
          0.6488121156880964,
          0.6646035220027104,
          0.6589752892484472,
          0.6273552461360848,
          0.6333561960635504,
          0.6500081675596516,
          0.6341701939073067,
          0.6222286306080621,
          0.6689137405740736,
          0.6559158935109205,
          0.663277330990196,
          0.6681555428320688,
          0.6540189197706164,
          0.6558996659507786,
          0.6443702532233477,
          0.6649894551222444,
          0.6347800802322058,
          0.6270707912059456,
          0.6477240621731198,
          0.6293044052632432,
          0.6303281531696148,
          0.6250879499886822,
          0.6596891352483621,
          0.6667609466483283,
          0.6716589644757295,
          0.7083308464199652,
          0.6922651750419588,
          0.6932191153092769,
          0.712476558611878,
          0.6872006722514746,
          0.684827000000433,
          0.6698125292099314,
          0.685763790558396,
          0.6839444787612603,
          0.6776230642502103,
          0.7006968025800483,
          0.6735065763713147,
          0.7084349372823331,
          0.7143969661070669,
          0.7020484397107626,
          0.6961845053873381,
          0.6997526790522623,
          0.7166027549900766,
          0.6986291192894017,
          0.7175843293521963,
          0.6985936475450272,
          0.6738700342153354,
          0.6821063948995427,
          0.6791849494144079,
          0.6809259918356267,
          0.670822517156857,
          0.6619020768888829,
          0.6525593320580184,
          0.6219853313180159,
          0.6348558872215742,
          0.6312953478566283,
          0.6100542433029668,
          0.6083572335575522,
          0.6125376340007941,
          0.6143588280878509,
          0.6091357340240533,
          0.6245490739377496,
          0.6162079361509372,
          0.6091339552757055,
          0.6299399873113033,
          0.6242939038928342,
          0.6296897123022983,
          0.6282314472089839,
          0.6291304804912906,
          0.626205414846533,
          0.5963805086170364,
          0.6079357896077672,
          0.6013951702378945,
          0.612796272379505,
          0.623998011878069,
          0.5999210901726796,
          0.6169495491115246,
          0.608263637783374,
          0.603832805997337,
          0.600302309644483,
          0.5911849900373405,
          0.6000588918625498,
          0.5912046735371185,
          0.6106577291571466,
          0.6203912169903849,
          0.6232691738105917,
          0.6349364740366369,
          0.6369217081608074,
          0.6358770944658316,
          0.6475466152552892,
          0.6403829119704172,
          0.6674663584251778,
          0.6581242806028446,
          0.6773716359689561,
          0.6811949147370054,
          0.6649671802964244,
          0.6927474528042507,
          0.6866401382322481,
          0.6900568677969606,
          0.6669855142530488,
          0.6380334415654392,
          0.6429829979041612,
          0.6213430649106663,
          0.6180430460453561,
          0.6270435157962694,
          0.6148486152414422,
          0.6191921281775696,
          0.620883629458417,
          0.6134896326865558,
          0.6076735049394419,
          0.6032488856493659,
          0.6195810898292232,
          0.6051208980109053,
          0.6007915813671092,
          0.6188363431294865,
          0.6032185389825331,
          0.6002673114979994,
          0.6084623199234057,
          0.6222938124629259,
          0.5992348608634256,
          0.5934200881003319,
          0.5743140682304514,
          0.5524297824370307,
          0.5664530950611985,
          0.5822159532823037,
          0.5456213192161832,
          0.507276771162324,
          0.5143427380915792,
          0.5053890401734816,
          0.48451255608674615,
          0.4956618389702364,
          0.491870474316068,
          0.48543483955780753,
          0.4879864028084339,
          0.5042203464837757,
          0.48632882171554837,
          0.48472177050503923,
          0.520412021773016,
          0.5107673421080302,
          0.4917770993472239,
          0.5133778205675323,
          0.5155583624612582,
          0.5010956262618856,
          0.49346130983583775,
          0.515047653086644,
          0.5097412218386614,
          0.47771417498531216,
          0.5236013025466664,
          0.5075635817447641,
          0.5047220032860306,
          0.536295010101157,
          0.5178939493142757,
          0.5129996288182612,
          0.5008566769917013,
          0.5445920952638749,
          0.5291789355810086,
          0.5023162861974497,
          0.5448738672114593,
          0.5227740528371506,
          0.5319758356444205,
          0.5509742099588671,
          0.5434061021817701,
          0.5478483093898512,
          0.5542609249069045,
          0.5873309761699677,
          0.5748387494512505,
          0.5760384661759518,
          0.6117565798396329,
          0.5924740221806422,
          0.6050571067451889,
          0.6042685164133905,
          0.6159497302584516,
          0.6418604442062676,
          0.657330758959993,
          0.6962526260763481,
          0.6817192760108669,
          0.7004826525920217,
          0.7204348581380443,
          0.7106284347362409,
          0.7040878578464731,
          0.7073345071388811,
          0.7340046829025294,
          0.7171277919914928,
          0.7174247152300193,
          0.721723575021046,
          0.7050503575125717,
          0.7087830696241202,
          0.7234990930254316,
          0.7046899013375252,
          0.6937272221178687,
          0.7077712818233672,
          0.712229051884886,
          0.6925822561313332,
          0.7093441768118001,
          0.7172159462336427,
          0.7168309555929506,
          0.7142142799769667,
          0.7042646763931866,
          0.7021715432570856,
          0.6902300421955608,
          0.7037864287250165,
          0.7019871499103556,
          0.6900173115164182,
          0.695509918075507,
          0.6873166811982728,
          0.6911192095404491,
          0.687462319657177,
          0.6870912191444585,
          0.6862970088562896,
          0.6743426570049084,
          0.6868276606010064,
          0.6914637009971383,
          0.7022290620421879,
          0.6837266275703788,
          0.6693913450970732,
          0.6781866763200717,
          0.6749249774456698,
          0.6776457588668089,
          0.6824263766706493,
          0.6665250061750128,
          0.653161025982751,
          0.6601519316260033,
          0.6581683895056027,
          0.6589686495229565,
          0.6539022055441365,
          0.6544090483519058,
          0.6514036003776811,
          0.6453405958757018,
          0.6516942053688698,
          0.6466202668825102,
          0.6603074130655402,
          0.6536846657825781,
          0.6668822593320048,
          0.6647586616147937,
          0.6519552615318762,
          0.6469797877194543,
          0.6438157247850718,
          0.6372229193473004,
          0.6346335678486408,
          0.6263099552809194,
          0.6234885379701189,
          0.6128016819996701,
          0.604453654954381,
          0.60992176079558,
          0.5863506024615746,
          0.5931386058205876,
          0.5850773658256091,
          0.56347576198253,
          0.5636515319018056,
          0.5672430206430479,
          0.570191010421066,
          0.5703870388619805,
          0.5710208331076536,
          0.5735402420463508,
          0.5667257339598355,
          0.5747129291972178,
          0.5837605749495407,
          0.5659622810413008,
          0.5789796029835204,
          0.5698414916718331,
          0.5609278231680607,
          0.5693474995451925,
          0.5795355029261932,
          0.5854435501518497,
          0.5808381602971487,
          0.5957096564260768,
          0.6197998104131042,
          0.6219339918841758,
          0.6435340932409958,
          0.6378930442398444,
          0.6353737056308704,
          0.647116057653923,
          0.6567358429246368,
          0.6690349825165532,
          0.6514779831477051
         ]
        }
       ],
       "layout": {
        "template": {
         "data": {
          "bar": [
           {
            "error_x": {
             "color": "#2a3f5f"
            },
            "error_y": {
             "color": "#2a3f5f"
            },
            "marker": {
             "line": {
              "color": "white",
              "width": 0.5
             },
             "pattern": {
              "fillmode": "overlay",
              "size": 10,
              "solidity": 0.2
             }
            },
            "type": "bar"
           }
          ],
          "barpolar": [
           {
            "marker": {
             "line": {
              "color": "white",
              "width": 0.5
             },
             "pattern": {
              "fillmode": "overlay",
              "size": 10,
              "solidity": 0.2
             }
            },
            "type": "barpolar"
           }
          ],
          "carpet": [
           {
            "aaxis": {
             "endlinecolor": "#2a3f5f",
             "gridcolor": "#C8D4E3",
             "linecolor": "#C8D4E3",
             "minorgridcolor": "#C8D4E3",
             "startlinecolor": "#2a3f5f"
            },
            "baxis": {
             "endlinecolor": "#2a3f5f",
             "gridcolor": "#C8D4E3",
             "linecolor": "#C8D4E3",
             "minorgridcolor": "#C8D4E3",
             "startlinecolor": "#2a3f5f"
            },
            "type": "carpet"
           }
          ],
          "choropleth": [
           {
            "colorbar": {
             "outlinewidth": 0,
             "ticks": ""
            },
            "type": "choropleth"
           }
          ],
          "contour": [
           {
            "colorbar": {
             "outlinewidth": 0,
             "ticks": ""
            },
            "colorscale": [
             [
              0,
              "#0d0887"
             ],
             [
              0.1111111111111111,
              "#46039f"
             ],
             [
              0.2222222222222222,
              "#7201a8"
             ],
             [
              0.3333333333333333,
              "#9c179e"
             ],
             [
              0.4444444444444444,
              "#bd3786"
             ],
             [
              0.5555555555555556,
              "#d8576b"
             ],
             [
              0.6666666666666666,
              "#ed7953"
             ],
             [
              0.7777777777777778,
              "#fb9f3a"
             ],
             [
              0.8888888888888888,
              "#fdca26"
             ],
             [
              1,
              "#f0f921"
             ]
            ],
            "type": "contour"
           }
          ],
          "contourcarpet": [
           {
            "colorbar": {
             "outlinewidth": 0,
             "ticks": ""
            },
            "type": "contourcarpet"
           }
          ],
          "heatmap": [
           {
            "colorbar": {
             "outlinewidth": 0,
             "ticks": ""
            },
            "colorscale": [
             [
              0,
              "#0d0887"
             ],
             [
              0.1111111111111111,
              "#46039f"
             ],
             [
              0.2222222222222222,
              "#7201a8"
             ],
             [
              0.3333333333333333,
              "#9c179e"
             ],
             [
              0.4444444444444444,
              "#bd3786"
             ],
             [
              0.5555555555555556,
              "#d8576b"
             ],
             [
              0.6666666666666666,
              "#ed7953"
             ],
             [
              0.7777777777777778,
              "#fb9f3a"
             ],
             [
              0.8888888888888888,
              "#fdca26"
             ],
             [
              1,
              "#f0f921"
             ]
            ],
            "type": "heatmap"
           }
          ],
          "heatmapgl": [
           {
            "colorbar": {
             "outlinewidth": 0,
             "ticks": ""
            },
            "colorscale": [
             [
              0,
              "#0d0887"
             ],
             [
              0.1111111111111111,
              "#46039f"
             ],
             [
              0.2222222222222222,
              "#7201a8"
             ],
             [
              0.3333333333333333,
              "#9c179e"
             ],
             [
              0.4444444444444444,
              "#bd3786"
             ],
             [
              0.5555555555555556,
              "#d8576b"
             ],
             [
              0.6666666666666666,
              "#ed7953"
             ],
             [
              0.7777777777777778,
              "#fb9f3a"
             ],
             [
              0.8888888888888888,
              "#fdca26"
             ],
             [
              1,
              "#f0f921"
             ]
            ],
            "type": "heatmapgl"
           }
          ],
          "histogram": [
           {
            "marker": {
             "pattern": {
              "fillmode": "overlay",
              "size": 10,
              "solidity": 0.2
             }
            },
            "type": "histogram"
           }
          ],
          "histogram2d": [
           {
            "colorbar": {
             "outlinewidth": 0,
             "ticks": ""
            },
            "colorscale": [
             [
              0,
              "#0d0887"
             ],
             [
              0.1111111111111111,
              "#46039f"
             ],
             [
              0.2222222222222222,
              "#7201a8"
             ],
             [
              0.3333333333333333,
              "#9c179e"
             ],
             [
              0.4444444444444444,
              "#bd3786"
             ],
             [
              0.5555555555555556,
              "#d8576b"
             ],
             [
              0.6666666666666666,
              "#ed7953"
             ],
             [
              0.7777777777777778,
              "#fb9f3a"
             ],
             [
              0.8888888888888888,
              "#fdca26"
             ],
             [
              1,
              "#f0f921"
             ]
            ],
            "type": "histogram2d"
           }
          ],
          "histogram2dcontour": [
           {
            "colorbar": {
             "outlinewidth": 0,
             "ticks": ""
            },
            "colorscale": [
             [
              0,
              "#0d0887"
             ],
             [
              0.1111111111111111,
              "#46039f"
             ],
             [
              0.2222222222222222,
              "#7201a8"
             ],
             [
              0.3333333333333333,
              "#9c179e"
             ],
             [
              0.4444444444444444,
              "#bd3786"
             ],
             [
              0.5555555555555556,
              "#d8576b"
             ],
             [
              0.6666666666666666,
              "#ed7953"
             ],
             [
              0.7777777777777778,
              "#fb9f3a"
             ],
             [
              0.8888888888888888,
              "#fdca26"
             ],
             [
              1,
              "#f0f921"
             ]
            ],
            "type": "histogram2dcontour"
           }
          ],
          "mesh3d": [
           {
            "colorbar": {
             "outlinewidth": 0,
             "ticks": ""
            },
            "type": "mesh3d"
           }
          ],
          "parcoords": [
           {
            "line": {
             "colorbar": {
              "outlinewidth": 0,
              "ticks": ""
             }
            },
            "type": "parcoords"
           }
          ],
          "pie": [
           {
            "automargin": true,
            "type": "pie"
           }
          ],
          "scatter": [
           {
            "fillpattern": {
             "fillmode": "overlay",
             "size": 10,
             "solidity": 0.2
            },
            "type": "scatter"
           }
          ],
          "scatter3d": [
           {
            "line": {
             "colorbar": {
              "outlinewidth": 0,
              "ticks": ""
             }
            },
            "marker": {
             "colorbar": {
              "outlinewidth": 0,
              "ticks": ""
             }
            },
            "type": "scatter3d"
           }
          ],
          "scattercarpet": [
           {
            "marker": {
             "colorbar": {
              "outlinewidth": 0,
              "ticks": ""
             }
            },
            "type": "scattercarpet"
           }
          ],
          "scattergeo": [
           {
            "marker": {
             "colorbar": {
              "outlinewidth": 0,
              "ticks": ""
             }
            },
            "type": "scattergeo"
           }
          ],
          "scattergl": [
           {
            "marker": {
             "colorbar": {
              "outlinewidth": 0,
              "ticks": ""
             }
            },
            "type": "scattergl"
           }
          ],
          "scattermapbox": [
           {
            "marker": {
             "colorbar": {
              "outlinewidth": 0,
              "ticks": ""
             }
            },
            "type": "scattermapbox"
           }
          ],
          "scatterpolar": [
           {
            "marker": {
             "colorbar": {
              "outlinewidth": 0,
              "ticks": ""
             }
            },
            "type": "scatterpolar"
           }
          ],
          "scatterpolargl": [
           {
            "marker": {
             "colorbar": {
              "outlinewidth": 0,
              "ticks": ""
             }
            },
            "type": "scatterpolargl"
           }
          ],
          "scatterternary": [
           {
            "marker": {
             "colorbar": {
              "outlinewidth": 0,
              "ticks": ""
             }
            },
            "type": "scatterternary"
           }
          ],
          "surface": [
           {
            "colorbar": {
             "outlinewidth": 0,
             "ticks": ""
            },
            "colorscale": [
             [
              0,
              "#0d0887"
             ],
             [
              0.1111111111111111,
              "#46039f"
             ],
             [
              0.2222222222222222,
              "#7201a8"
             ],
             [
              0.3333333333333333,
              "#9c179e"
             ],
             [
              0.4444444444444444,
              "#bd3786"
             ],
             [
              0.5555555555555556,
              "#d8576b"
             ],
             [
              0.6666666666666666,
              "#ed7953"
             ],
             [
              0.7777777777777778,
              "#fb9f3a"
             ],
             [
              0.8888888888888888,
              "#fdca26"
             ],
             [
              1,
              "#f0f921"
             ]
            ],
            "type": "surface"
           }
          ],
          "table": [
           {
            "cells": {
             "fill": {
              "color": "#EBF0F8"
             },
             "line": {
              "color": "white"
             }
            },
            "header": {
             "fill": {
              "color": "#C8D4E3"
             },
             "line": {
              "color": "white"
             }
            },
            "type": "table"
           }
          ]
         },
         "layout": {
          "annotationdefaults": {
           "arrowcolor": "#2a3f5f",
           "arrowhead": 0,
           "arrowwidth": 1
          },
          "autotypenumbers": "strict",
          "coloraxis": {
           "colorbar": {
            "outlinewidth": 0,
            "ticks": ""
           }
          },
          "colorscale": {
           "diverging": [
            [
             0,
             "#8e0152"
            ],
            [
             0.1,
             "#c51b7d"
            ],
            [
             0.2,
             "#de77ae"
            ],
            [
             0.3,
             "#f1b6da"
            ],
            [
             0.4,
             "#fde0ef"
            ],
            [
             0.5,
             "#f7f7f7"
            ],
            [
             0.6,
             "#e6f5d0"
            ],
            [
             0.7,
             "#b8e186"
            ],
            [
             0.8,
             "#7fbc41"
            ],
            [
             0.9,
             "#4d9221"
            ],
            [
             1,
             "#276419"
            ]
           ],
           "sequential": [
            [
             0,
             "#0d0887"
            ],
            [
             0.1111111111111111,
             "#46039f"
            ],
            [
             0.2222222222222222,
             "#7201a8"
            ],
            [
             0.3333333333333333,
             "#9c179e"
            ],
            [
             0.4444444444444444,
             "#bd3786"
            ],
            [
             0.5555555555555556,
             "#d8576b"
            ],
            [
             0.6666666666666666,
             "#ed7953"
            ],
            [
             0.7777777777777778,
             "#fb9f3a"
            ],
            [
             0.8888888888888888,
             "#fdca26"
            ],
            [
             1,
             "#f0f921"
            ]
           ],
           "sequentialminus": [
            [
             0,
             "#0d0887"
            ],
            [
             0.1111111111111111,
             "#46039f"
            ],
            [
             0.2222222222222222,
             "#7201a8"
            ],
            [
             0.3333333333333333,
             "#9c179e"
            ],
            [
             0.4444444444444444,
             "#bd3786"
            ],
            [
             0.5555555555555556,
             "#d8576b"
            ],
            [
             0.6666666666666666,
             "#ed7953"
            ],
            [
             0.7777777777777778,
             "#fb9f3a"
            ],
            [
             0.8888888888888888,
             "#fdca26"
            ],
            [
             1,
             "#f0f921"
            ]
           ]
          },
          "colorway": [
           "#636efa",
           "#EF553B",
           "#00cc96",
           "#ab63fa",
           "#FFA15A",
           "#19d3f3",
           "#FF6692",
           "#B6E880",
           "#FF97FF",
           "#FECB52"
          ],
          "font": {
           "color": "#2a3f5f"
          },
          "geo": {
           "bgcolor": "white",
           "lakecolor": "white",
           "landcolor": "white",
           "showlakes": true,
           "showland": true,
           "subunitcolor": "#C8D4E3"
          },
          "hoverlabel": {
           "align": "left"
          },
          "hovermode": "closest",
          "mapbox": {
           "style": "light"
          },
          "paper_bgcolor": "white",
          "plot_bgcolor": "white",
          "polar": {
           "angularaxis": {
            "gridcolor": "#EBF0F8",
            "linecolor": "#EBF0F8",
            "ticks": ""
           },
           "bgcolor": "white",
           "radialaxis": {
            "gridcolor": "#EBF0F8",
            "linecolor": "#EBF0F8",
            "ticks": ""
           }
          },
          "scene": {
           "xaxis": {
            "backgroundcolor": "white",
            "gridcolor": "#DFE8F3",
            "gridwidth": 2,
            "linecolor": "#EBF0F8",
            "showbackground": true,
            "ticks": "",
            "zerolinecolor": "#EBF0F8"
           },
           "yaxis": {
            "backgroundcolor": "white",
            "gridcolor": "#DFE8F3",
            "gridwidth": 2,
            "linecolor": "#EBF0F8",
            "showbackground": true,
            "ticks": "",
            "zerolinecolor": "#EBF0F8"
           },
           "zaxis": {
            "backgroundcolor": "white",
            "gridcolor": "#DFE8F3",
            "gridwidth": 2,
            "linecolor": "#EBF0F8",
            "showbackground": true,
            "ticks": "",
            "zerolinecolor": "#EBF0F8"
           }
          },
          "shapedefaults": {
           "line": {
            "color": "#2a3f5f"
           }
          },
          "ternary": {
           "aaxis": {
            "gridcolor": "#DFE8F3",
            "linecolor": "#A2B1C6",
            "ticks": ""
           },
           "baxis": {
            "gridcolor": "#DFE8F3",
            "linecolor": "#A2B1C6",
            "ticks": ""
           },
           "bgcolor": "white",
           "caxis": {
            "gridcolor": "#DFE8F3",
            "linecolor": "#A2B1C6",
            "ticks": ""
           }
          },
          "title": {
           "x": 0.05
          },
          "xaxis": {
           "automargin": true,
           "gridcolor": "#EBF0F8",
           "linecolor": "#EBF0F8",
           "ticks": "",
           "title": {
            "standoff": 15
           },
           "zerolinecolor": "#EBF0F8",
           "zerolinewidth": 2
          },
          "yaxis": {
           "automargin": true,
           "gridcolor": "#EBF0F8",
           "linecolor": "#EBF0F8",
           "ticks": "",
           "title": {
            "standoff": 15
           },
           "zerolinecolor": "#EBF0F8",
           "zerolinewidth": 2
          }
         }
        },
        "title": {
         "text": "Hurst exponent for volatility"
        },
        "xaxis": {
         "title": {
          "text": "Date"
         }
        },
        "yaxis": {
         "title": {
          "text": "Hurst Value"
         }
        }
       }
      }
     },
     "metadata": {},
     "output_type": "display_data"
    }
   ],
   "source": [
    "import pandas as pd\n",
    "import numpy as np\n",
    "from hurst import compute_Hc\n",
    "\n",
    "def compute_rolling_hurst(df, window, col='log_vol_diff', lag=0):\n",
    "    hurst_values = []\n",
    "    times = []\n",
    "    \n",
    "    # Loop through the DataFrame using the rolling window\n",
    "    for i in range(window - 1, len(df), lag+1):\n",
    "        # Extract the window slice from the series\n",
    "        window_series = df[col].iloc[i - window + 1 : i + 1]\n",
    "        # Compute the Hurst exponent using the 'change' method and simplified calculation\n",
    "        h, c, data = compute_Hc(window_series, kind='change', simplified=True)\n",
    "        \n",
    "        hurst_values.append(h)\n",
    "        times.append(df.index[i])\n",
    "    \n",
    "    # Create and return a new DataFrame with the computed Hurst exponents\n",
    "    result_df = pd.DataFrame({'hurst': hurst_values}, index=times)\n",
    "    return result_df\n",
    "\n",
    "rolling_hurst_150 = compute_rolling_hurst(VIX, window=150, col='log_vol', lag=6)\n",
    "rolling_hurst_350 = compute_rolling_hurst(VIX, window=350, col='log_vol', lag=6)\n",
    "rolling_hurst_500 = compute_rolling_hurst(VIX, window=500, col='log_vol', lag=6)\n",
    "\n",
    "fig = go.Figure()\n",
    "fig.add_trace(go.Scatter(\n",
    "    x=rolling_hurst_150.index,\n",
    "    y=rolling_hurst_150[\"hurst\"],\n",
    "    mode='lines',\n",
    "    name='150 days rolling window',\n",
    "    line=dict(color='blue')\n",
    "))\n",
    "fig.add_trace(go.Scatter(\n",
    "    x=rolling_hurst_350.index,\n",
    "    y=rolling_hurst_350[\"hurst\"],\n",
    "    mode='lines',\n",
    "    name='350 days rolling window',\n",
    "    line=dict(color='red')\n",
    "))\n",
    "fig.add_trace(go.Scatter(\n",
    "    x=rolling_hurst_500.index,\n",
    "    y=rolling_hurst_500[\"hurst\"],\n",
    "    mode='lines',\n",
    "    name='500 days rolling window',\n",
    "    line=dict(color='green')\n",
    "))\n",
    "fig.update_layout(\n",
    "    title=f\"Hurst exponent for volatility\",\n",
    "    xaxis_title=\"Date\",\n",
    "    yaxis_title=\"Hurst Value\",\n",
    "    template=\"plotly_white\"\n",
    ")\n"
   ]
  }
 ],
 "metadata": {
  "kernelspec": {
   "display_name": "base",
   "language": "python",
   "name": "python3"
  },
  "language_info": {
   "codemirror_mode": {
    "name": "ipython",
    "version": 3
   },
   "file_extension": ".py",
   "mimetype": "text/x-python",
   "name": "python",
   "nbconvert_exporter": "python",
   "pygments_lexer": "ipython3",
   "version": "3.9.12"
  }
 },
 "nbformat": 4,
 "nbformat_minor": 2
}
