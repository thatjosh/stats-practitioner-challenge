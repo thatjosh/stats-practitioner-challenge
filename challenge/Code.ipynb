{
 "cells": [
  {
   "cell_type": "code",
   "execution_count": 1005,
   "metadata": {},
   "outputs": [
    {
     "data": {
      "text/plain": [
       "'C:/Users/joshu/OneDrive/Desktop/Practitioner Challenge/challenge'"
      ]
     },
     "execution_count": 1005,
     "metadata": {},
     "output_type": "execute_result"
    }
   ],
   "source": [
    "import pandas as pd\n",
    "import numpy as np\n",
    "import os\n",
    "from dotenv import load_dotenv\n",
    "\n",
    "load_dotenv()\n",
    "file_path = os.getenv(\"FILE_PATH\")\n",
    "file_path"
   ]
  },
  {
   "cell_type": "code",
   "execution_count": 1006,
   "metadata": {},
   "outputs": [],
   "source": [
    "SNP_prices_file = f'{file_path}/S&P 500 Index.csv'\n",
    "SNP_VIX_file = f'{file_path}/S&P 500 VIX.csv'"
   ]
  },
  {
   "cell_type": "markdown",
   "metadata": {},
   "source": [
    "### S&P500 Prices"
   ]
  },
  {
   "cell_type": "code",
   "execution_count": 1007,
   "metadata": {},
   "outputs": [
    {
     "data": {
      "text/html": [
       "<div>\n",
       "<style scoped>\n",
       "    .dataframe tbody tr th:only-of-type {\n",
       "        vertical-align: middle;\n",
       "    }\n",
       "\n",
       "    .dataframe tbody tr th {\n",
       "        vertical-align: top;\n",
       "    }\n",
       "\n",
       "    .dataframe thead th {\n",
       "        text-align: right;\n",
       "    }\n",
       "</style>\n",
       "<table border=\"1\" class=\"dataframe\">\n",
       "  <thead>\n",
       "    <tr style=\"text-align: right;\">\n",
       "      <th></th>\n",
       "      <th>price</th>\n",
       "      <th>log_returns</th>\n",
       "    </tr>\n",
       "    <tr>\n",
       "      <th>date</th>\n",
       "      <th></th>\n",
       "      <th></th>\n",
       "    </tr>\n",
       "  </thead>\n",
       "  <tbody>\n",
       "    <tr>\n",
       "      <th>2015-01-05</th>\n",
       "      <td>2020.58</td>\n",
       "      <td>-0.018447</td>\n",
       "    </tr>\n",
       "    <tr>\n",
       "      <th>2015-01-06</th>\n",
       "      <td>2002.61</td>\n",
       "      <td>-0.008933</td>\n",
       "    </tr>\n",
       "    <tr>\n",
       "      <th>2015-01-07</th>\n",
       "      <td>2025.90</td>\n",
       "      <td>0.011563</td>\n",
       "    </tr>\n",
       "    <tr>\n",
       "      <th>2015-01-08</th>\n",
       "      <td>2062.14</td>\n",
       "      <td>0.017730</td>\n",
       "    </tr>\n",
       "    <tr>\n",
       "      <th>2015-01-09</th>\n",
       "      <td>2044.81</td>\n",
       "      <td>-0.008439</td>\n",
       "    </tr>\n",
       "  </tbody>\n",
       "</table>\n",
       "</div>"
      ],
      "text/plain": [
       "              price  log_returns\n",
       "date                            \n",
       "2015-01-05  2020.58    -0.018447\n",
       "2015-01-06  2002.61    -0.008933\n",
       "2015-01-07  2025.90     0.011563\n",
       "2015-01-08  2062.14     0.017730\n",
       "2015-01-09  2044.81    -0.008439"
      ]
     },
     "execution_count": 1007,
     "metadata": {},
     "output_type": "execute_result"
    }
   ],
   "source": [
    "# Load the CSV file into df\n",
    "SNP = pd.read_csv(SNP_prices_file)\n",
    "SNP.columns = [\"date\", \"price\"]\n",
    "SNP[\"date\"] = pd.to_datetime(SNP[\"date\"])\n",
    "SNP = SNP.set_index(\"date\")\n",
    "SNP = SNP.sort_index(ascending=True)\n",
    "\n",
    "# Calculating log prices\n",
    "SNP[\"log_returns\"] = np.log(SNP[\"price\"]/ SNP[\"price\"].shift(1))\n",
    "SNP = SNP[1:]\n",
    "SNP.head()"
   ]
  },
  {
   "cell_type": "code",
   "execution_count": 1008,
   "metadata": {},
   "outputs": [],
   "source": [
    "# import plotly.express as px\n",
    "# import plotly.graph_objects as go\n",
    "\n",
    "# # Assuming SNP is your DataFrame with 'date' and 'log_returns' columns\n",
    "# fig = go.Figure()\n",
    "\n",
    "# fig.add_trace(go.Scatter(\n",
    "#     x=SNP[\"date\"], \n",
    "#     y=SNP[\"log_returns\"], \n",
    "#     mode='lines+markers', \n",
    "#     name=\"S&P 500 Index\"\n",
    "# ))\n",
    "\n",
    "# fig.update_layout(\n",
    "#     title=\"S&P 500 Index Time Series\",\n",
    "#     xaxis_title=\"Date\",\n",
    "#     yaxis_title=\"Index Value\",\n",
    "#     xaxis=dict(rangeslider=dict(visible=True)),  # Adds a range slider for better navigation\n",
    "#     template=\"plotly_white\"  # Clean background\n",
    "# )\n",
    "\n",
    "# fig.show()"
   ]
  },
  {
   "cell_type": "code",
   "execution_count": 1009,
   "metadata": {},
   "outputs": [
    {
     "data": {
      "text/html": [
       "<div>\n",
       "<style scoped>\n",
       "    .dataframe tbody tr th:only-of-type {\n",
       "        vertical-align: middle;\n",
       "    }\n",
       "\n",
       "    .dataframe tbody tr th {\n",
       "        vertical-align: top;\n",
       "    }\n",
       "\n",
       "    .dataframe thead th {\n",
       "        text-align: right;\n",
       "    }\n",
       "</style>\n",
       "<table border=\"1\" class=\"dataframe\">\n",
       "  <thead>\n",
       "    <tr style=\"text-align: right;\">\n",
       "      <th></th>\n",
       "      <th>price</th>\n",
       "      <th>log_returns</th>\n",
       "    </tr>\n",
       "    <tr>\n",
       "      <th>date</th>\n",
       "      <th></th>\n",
       "      <th></th>\n",
       "    </tr>\n",
       "  </thead>\n",
       "  <tbody>\n",
       "    <tr>\n",
       "      <th>2015-01-05</th>\n",
       "      <td>2020.58</td>\n",
       "      <td>-0.018447</td>\n",
       "    </tr>\n",
       "    <tr>\n",
       "      <th>2015-01-06</th>\n",
       "      <td>2002.61</td>\n",
       "      <td>-0.008933</td>\n",
       "    </tr>\n",
       "    <tr>\n",
       "      <th>2015-01-07</th>\n",
       "      <td>2025.90</td>\n",
       "      <td>0.011563</td>\n",
       "    </tr>\n",
       "    <tr>\n",
       "      <th>2015-01-08</th>\n",
       "      <td>2062.14</td>\n",
       "      <td>0.017730</td>\n",
       "    </tr>\n",
       "    <tr>\n",
       "      <th>2015-01-09</th>\n",
       "      <td>2044.81</td>\n",
       "      <td>-0.008439</td>\n",
       "    </tr>\n",
       "  </tbody>\n",
       "</table>\n",
       "</div>"
      ],
      "text/plain": [
       "              price  log_returns\n",
       "date                            \n",
       "2015-01-05  2020.58    -0.018447\n",
       "2015-01-06  2002.61    -0.008933\n",
       "2015-01-07  2025.90     0.011563\n",
       "2015-01-08  2062.14     0.017730\n",
       "2015-01-09  2044.81    -0.008439"
      ]
     },
     "execution_count": 1009,
     "metadata": {},
     "output_type": "execute_result"
    }
   ],
   "source": [
    "# Define start and end dates\n",
    "SNP_training_start, SNP_training_end = \"2015-01-02\", \"2022-12-31\"\n",
    "SNP_testing_start, SNP_testing_end = \"2023-01-03\", \"2023-02-01\"\n",
    "\n",
    "# Filter the DataFrame\n",
    "SNP_training_df = SNP[(SNP.index >= SNP_training_start) & (SNP.index <= SNP_training_end)]\n",
    "SNP_testing_df = SNP[(SNP.index >= SNP_testing_start) & (SNP.index <= SNP_testing_end)]\n",
    "SNP_training_df.head()"
   ]
  },
  {
   "cell_type": "code",
   "execution_count": 1010,
   "metadata": {},
   "outputs": [
    {
     "name": "stdout",
     "output_type": "stream",
     "text": [
      "Augmented Dickey-Fuller Test Results:\n",
      "ADF Statistic: -15.7254\n",
      "p-value: 0.0000\n",
      "Critical Values:\n",
      "   1%: -3.4330\n",
      "   5%: -2.8627\n",
      "   10%: -2.5674\n",
      "➡ Stationary\n",
      "\n",
      "==================================================\n",
      "\n",
      "KPSS Test Results:\n",
      "KPSS Statistic: 0.0495\n",
      "p-value: 0.1000\n",
      "Critical Values:\n",
      "   10%: 0.3470\n",
      "   5%: 0.4630\n",
      "   2.5%: 0.5740\n",
      "   1%: 0.7390\n",
      "➡ Stationary\n"
     ]
    },
    {
     "name": "stderr",
     "output_type": "stream",
     "text": [
      "c:\\Users\\joshu\\anaconda3\\lib\\site-packages\\statsmodels\\tsa\\stattools.py:2022: InterpolationWarning:\n",
      "\n",
      "The test statistic is outside of the range of p-values available in the\n",
      "look-up table. The actual p-value is greater than the p-value returned.\n",
      "\n",
      "\n"
     ]
    }
   ],
   "source": [
    "import statsmodels.api as sm\n",
    "from statsmodels.tsa.stattools import adfuller, kpss\n",
    "\n",
    "def stationarity_tests(series):\n",
    "    \"\"\"\n",
    "    Performs ADF and KPSS tests on a time series.\n",
    "\n",
    "    Parameters:\n",
    "        series (pd.Series): The time series data.\n",
    "\n",
    "    Returns:\n",
    "        None (Prints test results)\n",
    "    \"\"\"\n",
    "    # Augmented Dickey-Fuller Test (ADF)\n",
    "    adf_result = adfuller(series, autolag='AIC')\n",
    "    print(\"Augmented Dickey-Fuller Test Results:\")\n",
    "    print(f\"ADF Statistic: {adf_result[0]:.4f}\")\n",
    "    print(f\"p-value: {adf_result[1]:.4f}\")\n",
    "    print(\"Critical Values:\")\n",
    "    for key, value in adf_result[4].items():\n",
    "        print(f\"   {key}: {value:.4f}\")\n",
    "    print(\"➡ Stationary\" if adf_result[1] < 0.05 else \"➡ Non-Stationary\")\n",
    "\n",
    "    print(\"\\n\" + \"=\"*50 + \"\\n\")\n",
    "\n",
    "    # KPSS Test\n",
    "    kpss_result = kpss(series, regression='c', nlags=\"auto\")  # 'c' = constant (level stationarity)\n",
    "    print(\"KPSS Test Results:\")\n",
    "    print(f\"KPSS Statistic: {kpss_result[0]:.4f}\")\n",
    "    print(f\"p-value: {kpss_result[1]:.4f}\")\n",
    "    print(\"Critical Values:\")\n",
    "    for key, value in kpss_result[3].items():\n",
    "        print(f\"   {key}: {value:.4f}\")\n",
    "    print(\"➡ Non-Stationary\" if kpss_result[1] < 0.05 else \"➡ Stationary\")\n",
    "\n",
    "# Run the tests on S&P 500 log returns\n",
    "stationarity_tests(SNP[\"log_returns\"])"
   ]
  },
  {
   "cell_type": "code",
   "execution_count": 1011,
   "metadata": {},
   "outputs": [
    {
     "data": {
      "application/vnd.plotly.v1+json": {
       "config": {
        "plotlyServerURL": "https://plot.ly"
       },
       "data": [
        {
         "line": {
          "color": "blue"
         },
         "mode": "lines",
         "name": "Actual Price",
         "type": "scatter",
         "x": [
          "2023-01-03T00:00:00",
          "2023-01-04T00:00:00",
          "2023-01-05T00:00:00",
          "2023-01-06T00:00:00",
          "2023-01-09T00:00:00",
          "2023-01-10T00:00:00",
          "2023-01-11T00:00:00",
          "2023-01-12T00:00:00",
          "2023-01-13T00:00:00",
          "2023-01-17T00:00:00",
          "2023-01-18T00:00:00",
          "2023-01-19T00:00:00",
          "2023-01-20T00:00:00",
          "2023-01-23T00:00:00",
          "2023-01-24T00:00:00",
          "2023-01-25T00:00:00",
          "2023-01-26T00:00:00",
          "2023-01-27T00:00:00",
          "2023-01-30T00:00:00",
          "2023-01-31T00:00:00",
          "2023-02-01T00:00:00"
         ],
         "y": [
          3824.14,
          3852.97,
          3808.1,
          3895.08,
          3892.09,
          3919.25,
          3969.61,
          3983.17,
          3999.09,
          3990.97,
          3928.86,
          3898.85,
          3972.61,
          4019.81,
          4016.95,
          4016.22,
          4060.43,
          4070.56,
          4017.77,
          4076.6,
          4119.21
         ]
        },
        {
         "line": {
          "color": "red",
          "dash": "dash"
         },
         "mode": "lines",
         "name": "Forecasted Price (fBM)",
         "type": "scatter",
         "x": [
          "2023-01-03T00:00:00",
          "2023-01-04T00:00:00",
          "2023-01-05T00:00:00",
          "2023-01-06T00:00:00",
          "2023-01-09T00:00:00",
          "2023-01-10T00:00:00",
          "2023-01-11T00:00:00",
          "2023-01-12T00:00:00",
          "2023-01-13T00:00:00",
          "2023-01-17T00:00:00",
          "2023-01-18T00:00:00",
          "2023-01-19T00:00:00",
          "2023-01-20T00:00:00",
          "2023-01-23T00:00:00",
          "2023-01-24T00:00:00",
          "2023-01-25T00:00:00",
          "2023-01-26T00:00:00",
          "2023-01-27T00:00:00",
          "2023-01-30T00:00:00",
          "2023-01-31T00:00:00",
          "2023-02-01T00:00:00"
         ],
         "y": [
          3839.5,
          3895.61658947746,
          3964.030348301793,
          4058.3646351569446,
          4047.485225932551,
          4042.5660541115694,
          4050.778313972389,
          4059.831451723377,
          4099.518737106043,
          4130.786486166176,
          4184.983068025804,
          4159.6089706441935,
          4133.394646428461,
          4187.525650047336,
          4248.091892406242,
          4197.781597392034,
          4152.005741220119,
          4166.113189173342,
          4115.339531639855,
          4161.234303228035,
          4131.729352308434
         ]
        }
       ],
       "layout": {
        "template": {
         "data": {
          "bar": [
           {
            "error_x": {
             "color": "#2a3f5f"
            },
            "error_y": {
             "color": "#2a3f5f"
            },
            "marker": {
             "line": {
              "color": "white",
              "width": 0.5
             },
             "pattern": {
              "fillmode": "overlay",
              "size": 10,
              "solidity": 0.2
             }
            },
            "type": "bar"
           }
          ],
          "barpolar": [
           {
            "marker": {
             "line": {
              "color": "white",
              "width": 0.5
             },
             "pattern": {
              "fillmode": "overlay",
              "size": 10,
              "solidity": 0.2
             }
            },
            "type": "barpolar"
           }
          ],
          "carpet": [
           {
            "aaxis": {
             "endlinecolor": "#2a3f5f",
             "gridcolor": "#C8D4E3",
             "linecolor": "#C8D4E3",
             "minorgridcolor": "#C8D4E3",
             "startlinecolor": "#2a3f5f"
            },
            "baxis": {
             "endlinecolor": "#2a3f5f",
             "gridcolor": "#C8D4E3",
             "linecolor": "#C8D4E3",
             "minorgridcolor": "#C8D4E3",
             "startlinecolor": "#2a3f5f"
            },
            "type": "carpet"
           }
          ],
          "choropleth": [
           {
            "colorbar": {
             "outlinewidth": 0,
             "ticks": ""
            },
            "type": "choropleth"
           }
          ],
          "contour": [
           {
            "colorbar": {
             "outlinewidth": 0,
             "ticks": ""
            },
            "colorscale": [
             [
              0,
              "#0d0887"
             ],
             [
              0.1111111111111111,
              "#46039f"
             ],
             [
              0.2222222222222222,
              "#7201a8"
             ],
             [
              0.3333333333333333,
              "#9c179e"
             ],
             [
              0.4444444444444444,
              "#bd3786"
             ],
             [
              0.5555555555555556,
              "#d8576b"
             ],
             [
              0.6666666666666666,
              "#ed7953"
             ],
             [
              0.7777777777777778,
              "#fb9f3a"
             ],
             [
              0.8888888888888888,
              "#fdca26"
             ],
             [
              1,
              "#f0f921"
             ]
            ],
            "type": "contour"
           }
          ],
          "contourcarpet": [
           {
            "colorbar": {
             "outlinewidth": 0,
             "ticks": ""
            },
            "type": "contourcarpet"
           }
          ],
          "heatmap": [
           {
            "colorbar": {
             "outlinewidth": 0,
             "ticks": ""
            },
            "colorscale": [
             [
              0,
              "#0d0887"
             ],
             [
              0.1111111111111111,
              "#46039f"
             ],
             [
              0.2222222222222222,
              "#7201a8"
             ],
             [
              0.3333333333333333,
              "#9c179e"
             ],
             [
              0.4444444444444444,
              "#bd3786"
             ],
             [
              0.5555555555555556,
              "#d8576b"
             ],
             [
              0.6666666666666666,
              "#ed7953"
             ],
             [
              0.7777777777777778,
              "#fb9f3a"
             ],
             [
              0.8888888888888888,
              "#fdca26"
             ],
             [
              1,
              "#f0f921"
             ]
            ],
            "type": "heatmap"
           }
          ],
          "heatmapgl": [
           {
            "colorbar": {
             "outlinewidth": 0,
             "ticks": ""
            },
            "colorscale": [
             [
              0,
              "#0d0887"
             ],
             [
              0.1111111111111111,
              "#46039f"
             ],
             [
              0.2222222222222222,
              "#7201a8"
             ],
             [
              0.3333333333333333,
              "#9c179e"
             ],
             [
              0.4444444444444444,
              "#bd3786"
             ],
             [
              0.5555555555555556,
              "#d8576b"
             ],
             [
              0.6666666666666666,
              "#ed7953"
             ],
             [
              0.7777777777777778,
              "#fb9f3a"
             ],
             [
              0.8888888888888888,
              "#fdca26"
             ],
             [
              1,
              "#f0f921"
             ]
            ],
            "type": "heatmapgl"
           }
          ],
          "histogram": [
           {
            "marker": {
             "pattern": {
              "fillmode": "overlay",
              "size": 10,
              "solidity": 0.2
             }
            },
            "type": "histogram"
           }
          ],
          "histogram2d": [
           {
            "colorbar": {
             "outlinewidth": 0,
             "ticks": ""
            },
            "colorscale": [
             [
              0,
              "#0d0887"
             ],
             [
              0.1111111111111111,
              "#46039f"
             ],
             [
              0.2222222222222222,
              "#7201a8"
             ],
             [
              0.3333333333333333,
              "#9c179e"
             ],
             [
              0.4444444444444444,
              "#bd3786"
             ],
             [
              0.5555555555555556,
              "#d8576b"
             ],
             [
              0.6666666666666666,
              "#ed7953"
             ],
             [
              0.7777777777777778,
              "#fb9f3a"
             ],
             [
              0.8888888888888888,
              "#fdca26"
             ],
             [
              1,
              "#f0f921"
             ]
            ],
            "type": "histogram2d"
           }
          ],
          "histogram2dcontour": [
           {
            "colorbar": {
             "outlinewidth": 0,
             "ticks": ""
            },
            "colorscale": [
             [
              0,
              "#0d0887"
             ],
             [
              0.1111111111111111,
              "#46039f"
             ],
             [
              0.2222222222222222,
              "#7201a8"
             ],
             [
              0.3333333333333333,
              "#9c179e"
             ],
             [
              0.4444444444444444,
              "#bd3786"
             ],
             [
              0.5555555555555556,
              "#d8576b"
             ],
             [
              0.6666666666666666,
              "#ed7953"
             ],
             [
              0.7777777777777778,
              "#fb9f3a"
             ],
             [
              0.8888888888888888,
              "#fdca26"
             ],
             [
              1,
              "#f0f921"
             ]
            ],
            "type": "histogram2dcontour"
           }
          ],
          "mesh3d": [
           {
            "colorbar": {
             "outlinewidth": 0,
             "ticks": ""
            },
            "type": "mesh3d"
           }
          ],
          "parcoords": [
           {
            "line": {
             "colorbar": {
              "outlinewidth": 0,
              "ticks": ""
             }
            },
            "type": "parcoords"
           }
          ],
          "pie": [
           {
            "automargin": true,
            "type": "pie"
           }
          ],
          "scatter": [
           {
            "fillpattern": {
             "fillmode": "overlay",
             "size": 10,
             "solidity": 0.2
            },
            "type": "scatter"
           }
          ],
          "scatter3d": [
           {
            "line": {
             "colorbar": {
              "outlinewidth": 0,
              "ticks": ""
             }
            },
            "marker": {
             "colorbar": {
              "outlinewidth": 0,
              "ticks": ""
             }
            },
            "type": "scatter3d"
           }
          ],
          "scattercarpet": [
           {
            "marker": {
             "colorbar": {
              "outlinewidth": 0,
              "ticks": ""
             }
            },
            "type": "scattercarpet"
           }
          ],
          "scattergeo": [
           {
            "marker": {
             "colorbar": {
              "outlinewidth": 0,
              "ticks": ""
             }
            },
            "type": "scattergeo"
           }
          ],
          "scattergl": [
           {
            "marker": {
             "colorbar": {
              "outlinewidth": 0,
              "ticks": ""
             }
            },
            "type": "scattergl"
           }
          ],
          "scattermapbox": [
           {
            "marker": {
             "colorbar": {
              "outlinewidth": 0,
              "ticks": ""
             }
            },
            "type": "scattermapbox"
           }
          ],
          "scatterpolar": [
           {
            "marker": {
             "colorbar": {
              "outlinewidth": 0,
              "ticks": ""
             }
            },
            "type": "scatterpolar"
           }
          ],
          "scatterpolargl": [
           {
            "marker": {
             "colorbar": {
              "outlinewidth": 0,
              "ticks": ""
             }
            },
            "type": "scatterpolargl"
           }
          ],
          "scatterternary": [
           {
            "marker": {
             "colorbar": {
              "outlinewidth": 0,
              "ticks": ""
             }
            },
            "type": "scatterternary"
           }
          ],
          "surface": [
           {
            "colorbar": {
             "outlinewidth": 0,
             "ticks": ""
            },
            "colorscale": [
             [
              0,
              "#0d0887"
             ],
             [
              0.1111111111111111,
              "#46039f"
             ],
             [
              0.2222222222222222,
              "#7201a8"
             ],
             [
              0.3333333333333333,
              "#9c179e"
             ],
             [
              0.4444444444444444,
              "#bd3786"
             ],
             [
              0.5555555555555556,
              "#d8576b"
             ],
             [
              0.6666666666666666,
              "#ed7953"
             ],
             [
              0.7777777777777778,
              "#fb9f3a"
             ],
             [
              0.8888888888888888,
              "#fdca26"
             ],
             [
              1,
              "#f0f921"
             ]
            ],
            "type": "surface"
           }
          ],
          "table": [
           {
            "cells": {
             "fill": {
              "color": "#EBF0F8"
             },
             "line": {
              "color": "white"
             }
            },
            "header": {
             "fill": {
              "color": "#C8D4E3"
             },
             "line": {
              "color": "white"
             }
            },
            "type": "table"
           }
          ]
         },
         "layout": {
          "annotationdefaults": {
           "arrowcolor": "#2a3f5f",
           "arrowhead": 0,
           "arrowwidth": 1
          },
          "autotypenumbers": "strict",
          "coloraxis": {
           "colorbar": {
            "outlinewidth": 0,
            "ticks": ""
           }
          },
          "colorscale": {
           "diverging": [
            [
             0,
             "#8e0152"
            ],
            [
             0.1,
             "#c51b7d"
            ],
            [
             0.2,
             "#de77ae"
            ],
            [
             0.3,
             "#f1b6da"
            ],
            [
             0.4,
             "#fde0ef"
            ],
            [
             0.5,
             "#f7f7f7"
            ],
            [
             0.6,
             "#e6f5d0"
            ],
            [
             0.7,
             "#b8e186"
            ],
            [
             0.8,
             "#7fbc41"
            ],
            [
             0.9,
             "#4d9221"
            ],
            [
             1,
             "#276419"
            ]
           ],
           "sequential": [
            [
             0,
             "#0d0887"
            ],
            [
             0.1111111111111111,
             "#46039f"
            ],
            [
             0.2222222222222222,
             "#7201a8"
            ],
            [
             0.3333333333333333,
             "#9c179e"
            ],
            [
             0.4444444444444444,
             "#bd3786"
            ],
            [
             0.5555555555555556,
             "#d8576b"
            ],
            [
             0.6666666666666666,
             "#ed7953"
            ],
            [
             0.7777777777777778,
             "#fb9f3a"
            ],
            [
             0.8888888888888888,
             "#fdca26"
            ],
            [
             1,
             "#f0f921"
            ]
           ],
           "sequentialminus": [
            [
             0,
             "#0d0887"
            ],
            [
             0.1111111111111111,
             "#46039f"
            ],
            [
             0.2222222222222222,
             "#7201a8"
            ],
            [
             0.3333333333333333,
             "#9c179e"
            ],
            [
             0.4444444444444444,
             "#bd3786"
            ],
            [
             0.5555555555555556,
             "#d8576b"
            ],
            [
             0.6666666666666666,
             "#ed7953"
            ],
            [
             0.7777777777777778,
             "#fb9f3a"
            ],
            [
             0.8888888888888888,
             "#fdca26"
            ],
            [
             1,
             "#f0f921"
            ]
           ]
          },
          "colorway": [
           "#636efa",
           "#EF553B",
           "#00cc96",
           "#ab63fa",
           "#FFA15A",
           "#19d3f3",
           "#FF6692",
           "#B6E880",
           "#FF97FF",
           "#FECB52"
          ],
          "font": {
           "color": "#2a3f5f"
          },
          "geo": {
           "bgcolor": "white",
           "lakecolor": "white",
           "landcolor": "white",
           "showlakes": true,
           "showland": true,
           "subunitcolor": "#C8D4E3"
          },
          "hoverlabel": {
           "align": "left"
          },
          "hovermode": "closest",
          "mapbox": {
           "style": "light"
          },
          "paper_bgcolor": "white",
          "plot_bgcolor": "white",
          "polar": {
           "angularaxis": {
            "gridcolor": "#EBF0F8",
            "linecolor": "#EBF0F8",
            "ticks": ""
           },
           "bgcolor": "white",
           "radialaxis": {
            "gridcolor": "#EBF0F8",
            "linecolor": "#EBF0F8",
            "ticks": ""
           }
          },
          "scene": {
           "xaxis": {
            "backgroundcolor": "white",
            "gridcolor": "#DFE8F3",
            "gridwidth": 2,
            "linecolor": "#EBF0F8",
            "showbackground": true,
            "ticks": "",
            "zerolinecolor": "#EBF0F8"
           },
           "yaxis": {
            "backgroundcolor": "white",
            "gridcolor": "#DFE8F3",
            "gridwidth": 2,
            "linecolor": "#EBF0F8",
            "showbackground": true,
            "ticks": "",
            "zerolinecolor": "#EBF0F8"
           },
           "zaxis": {
            "backgroundcolor": "white",
            "gridcolor": "#DFE8F3",
            "gridwidth": 2,
            "linecolor": "#EBF0F8",
            "showbackground": true,
            "ticks": "",
            "zerolinecolor": "#EBF0F8"
           }
          },
          "shapedefaults": {
           "line": {
            "color": "#2a3f5f"
           }
          },
          "ternary": {
           "aaxis": {
            "gridcolor": "#DFE8F3",
            "linecolor": "#A2B1C6",
            "ticks": ""
           },
           "baxis": {
            "gridcolor": "#DFE8F3",
            "linecolor": "#A2B1C6",
            "ticks": ""
           },
           "bgcolor": "white",
           "caxis": {
            "gridcolor": "#DFE8F3",
            "linecolor": "#A2B1C6",
            "ticks": ""
           }
          },
          "title": {
           "x": 0.05
          },
          "xaxis": {
           "automargin": true,
           "gridcolor": "#EBF0F8",
           "linecolor": "#EBF0F8",
           "ticks": "",
           "title": {
            "standoff": 15
           },
           "zerolinecolor": "#EBF0F8",
           "zerolinewidth": 2
          },
          "yaxis": {
           "automargin": true,
           "gridcolor": "#EBF0F8",
           "linecolor": "#EBF0F8",
           "ticks": "",
           "title": {
            "standoff": 15
           },
           "zerolinecolor": "#EBF0F8",
           "zerolinewidth": 2
          }
         }
        },
        "title": {
         "text": "Stock Price Forecast using fBM (H=0.5823111608465197)"
        },
        "xaxis": {
         "title": {
          "text": "Date"
         }
        },
        "yaxis": {
         "title": {
          "text": "Stock Price"
         }
        }
       }
      }
     },
     "metadata": {},
     "output_type": "display_data"
    }
   ],
   "source": [
    "from stochastic.processes.continuous import FractionalBrownianMotion\n",
    "import numpy as np\n",
    "import random\n",
    "import plotly.graph_objects as go\n",
    "\n",
    "def simulate_fbm_prices(train_data, test_data, H):\n",
    "    \"\"\"\n",
    "    Simulate future stock prices using a geometric fractional Brownian motion model.\n",
    "    \n",
    "    Parameters:\n",
    "        train_data (DataFrame): Training data containing columns 'price' and 'log_returns'.\n",
    "        test_data (DataFrame): Testing data (used to determine the forecast horizon).\n",
    "        H (float): Hurst exponent for the fBM model.\n",
    "    \n",
    "    Returns:\n",
    "        np.ndarray: Array of simulated future prices.\n",
    "    \"\"\"\n",
    "    # Set a fixed seed for reproducibility\n",
    "    random.seed(42)\n",
    "    np.random.seed(42)\n",
    "    \n",
    "    # Calculate drift (μ) and volatility (σ) from training log returns\n",
    "    mu = train_data[\"log_returns\"].mean()\n",
    "    sigma = train_data[\"log_returns\"].std()\n",
    "\n",
    "    # Define Fractional Brownian Motion (fBM) model\n",
    "    n_days = len(test_data)\n",
    "    fbm = FractionalBrownianMotion(hurst=H, t=n_days - 1)\n",
    "    fbm_values = fbm.sample(n=n_days - 1)\n",
    "    \n",
    "    # Use the last known price from training data as the starting point\n",
    "    S0 = train_data['price'].iloc[-1]\n",
    "    simulated_prices = S0 * np.exp(mu * np.arange(n_days) + sigma * fbm_values)\n",
    "    \n",
    "    return simulated_prices\n",
    "\n",
    "def plot_actual_vs_simulated(test_data, simulated_prices, H):\n",
    "    \"\"\"\n",
    "    Create an interactive Plotly plot comparing the actual prices with simulated prices.\n",
    "    \n",
    "    Parameters:\n",
    "        test_data (DataFrame): DataFrame containing the actual price data with its index as dates.\n",
    "        simulated_prices (np.ndarray): Array of simulated prices.\n",
    "        H (float): Hurst exponent used in the simulation (for plot title).\n",
    "    \"\"\"\n",
    "    # Create a Plotly figure\n",
    "    fig = go.Figure()\n",
    "\n",
    "    # Add actual price trace\n",
    "    fig.add_trace(go.Scatter(\n",
    "        x=test_data.index,\n",
    "        y=test_data[\"price\"],\n",
    "        mode='lines',\n",
    "        name='Actual Price',\n",
    "        line=dict(color='blue')\n",
    "    ))\n",
    "\n",
    "    # Add simulated (forecasted) price trace\n",
    "    fig.add_trace(go.Scatter(\n",
    "        x=test_data.index,\n",
    "        y=simulated_prices,\n",
    "        mode='lines',\n",
    "        name='Forecasted Price (fBM)',\n",
    "        line=dict(color='red', dash='dash')\n",
    "    ))\n",
    "\n",
    "    # Update layout of the plot\n",
    "    fig.update_layout(\n",
    "        title=f\"Stock Price Forecast using fBM (H={H})\",\n",
    "        xaxis_title=\"Date\",\n",
    "        yaxis_title=\"Stock Price\",\n",
    "        template=\"plotly_white\"\n",
    "    )\n",
    "    \n",
    "    # Display the plot\n",
    "    fig.show()\n",
    "\n",
    "# Example usage:\n",
    "simulated_prices = simulate_fbm_prices(SNP_training_df, SNP_testing_df, SNP_hurst_est)\n",
    "plot_actual_vs_simulated(SNP_testing_df, simulated_prices, SNP_hurst_est)"
   ]
  },
  {
   "cell_type": "code",
   "execution_count": 1012,
   "metadata": {},
   "outputs": [
    {
     "data": {
      "application/vnd.plotly.v1+json": {
       "config": {
        "plotlyServerURL": "https://plot.ly"
       },
       "data": [
        {
         "line": {
          "color": "rgba(255, 0, 0, 0.1)"
         },
         "mode": "lines",
         "name": "Simulation 1",
         "showlegend": false,
         "type": "scatter",
         "x": [
          "2023-01-03T00:00:00",
          "2023-01-04T00:00:00",
          "2023-01-05T00:00:00",
          "2023-01-06T00:00:00",
          "2023-01-09T00:00:00",
          "2023-01-10T00:00:00",
          "2023-01-11T00:00:00",
          "2023-01-12T00:00:00",
          "2023-01-13T00:00:00",
          "2023-01-17T00:00:00",
          "2023-01-18T00:00:00",
          "2023-01-19T00:00:00",
          "2023-01-20T00:00:00",
          "2023-01-23T00:00:00",
          "2023-01-24T00:00:00",
          "2023-01-25T00:00:00",
          "2023-01-26T00:00:00",
          "2023-01-27T00:00:00",
          "2023-01-30T00:00:00",
          "2023-01-31T00:00:00",
          "2023-02-01T00:00:00"
         ],
         "y": [
          3839.5,
          3840.68943801637,
          3852.477124303288,
          3839.007178915944,
          3835.11807546698,
          3890.114316812244,
          3881.0365464147235,
          3857.4128048122593,
          3828.2308721227764,
          3806.8496329459836,
          3755.629553477976,
          3709.854891509764,
          3756.8564556513775,
          3776.7554766956155,
          3825.9900972468604,
          3859.1109885924234,
          3811.530623164458,
          3803.742535052534,
          3844.5534448246167,
          3889.91201520911,
          3913.4340059751908
         ]
        },
        {
         "line": {
          "color": "rgba(255, 0, 0, 0.1)"
         },
         "mode": "lines",
         "name": "Simulation 2",
         "showlegend": false,
         "type": "scatter",
         "x": [
          "2023-01-03T00:00:00",
          "2023-01-04T00:00:00",
          "2023-01-05T00:00:00",
          "2023-01-06T00:00:00",
          "2023-01-09T00:00:00",
          "2023-01-10T00:00:00",
          "2023-01-11T00:00:00",
          "2023-01-12T00:00:00",
          "2023-01-13T00:00:00",
          "2023-01-17T00:00:00",
          "2023-01-18T00:00:00",
          "2023-01-19T00:00:00",
          "2023-01-20T00:00:00",
          "2023-01-23T00:00:00",
          "2023-01-24T00:00:00",
          "2023-01-25T00:00:00",
          "2023-01-26T00:00:00",
          "2023-01-27T00:00:00",
          "2023-01-30T00:00:00",
          "2023-01-31T00:00:00",
          "2023-02-01T00:00:00"
         ],
         "y": [
          3839.5,
          3840.68943801637,
          3838.439506740238,
          3717.6732015981734,
          3619.982331729659,
          3632.6549494755677,
          3638.4029060649564,
          3585.1454312766377,
          3531.3220317859623,
          3538.2188589186994,
          3436.99530411916,
          3419.984287873682,
          3443.496171374946,
          3439.6620576697915,
          3410.767220642965,
          3414.352857512706,
          3430.6416086241265,
          3448.0395167036304,
          3460.2264865632706,
          3459.6057753312907,
          3463.93168102285
         ]
        },
        {
         "line": {
          "color": "rgba(255, 0, 0, 0.1)"
         },
         "mode": "lines",
         "name": "Simulation 3",
         "showlegend": false,
         "type": "scatter",
         "x": [
          "2023-01-03T00:00:00",
          "2023-01-04T00:00:00",
          "2023-01-05T00:00:00",
          "2023-01-06T00:00:00",
          "2023-01-09T00:00:00",
          "2023-01-10T00:00:00",
          "2023-01-11T00:00:00",
          "2023-01-12T00:00:00",
          "2023-01-13T00:00:00",
          "2023-01-17T00:00:00",
          "2023-01-18T00:00:00",
          "2023-01-19T00:00:00",
          "2023-01-20T00:00:00",
          "2023-01-23T00:00:00",
          "2023-01-24T00:00:00",
          "2023-01-25T00:00:00",
          "2023-01-26T00:00:00",
          "2023-01-27T00:00:00",
          "2023-01-30T00:00:00",
          "2023-01-31T00:00:00",
          "2023-02-01T00:00:00"
         ],
         "y": [
          3839.5,
          3840.68943801637,
          3842.6060691598072,
          3920.550167838398,
          3982.0273429251847,
          4025.8306234839943,
          3941.796897818833,
          3967.1769568350883,
          3928.6858921458365,
          3899.9484327790205,
          3958.6997370005447,
          3988.371756896976,
          4002.510159673114,
          4027.902857890482,
          3978.9229946138903,
          3992.5206269121445,
          3975.1890416560136,
          4027.986998577141,
          4137.539799088564,
          4148.933014533357,
          4190.645092822405
         ]
        },
        {
         "line": {
          "color": "rgba(255, 0, 0, 0.1)"
         },
         "mode": "lines",
         "name": "Simulation 4",
         "showlegend": false,
         "type": "scatter",
         "x": [
          "2023-01-03T00:00:00",
          "2023-01-04T00:00:00",
          "2023-01-05T00:00:00",
          "2023-01-06T00:00:00",
          "2023-01-09T00:00:00",
          "2023-01-10T00:00:00",
          "2023-01-11T00:00:00",
          "2023-01-12T00:00:00",
          "2023-01-13T00:00:00",
          "2023-01-17T00:00:00",
          "2023-01-18T00:00:00",
          "2023-01-19T00:00:00",
          "2023-01-20T00:00:00",
          "2023-01-23T00:00:00",
          "2023-01-24T00:00:00",
          "2023-01-25T00:00:00",
          "2023-01-26T00:00:00",
          "2023-01-27T00:00:00",
          "2023-01-30T00:00:00",
          "2023-01-31T00:00:00",
          "2023-02-01T00:00:00"
         ],
         "y": [
          3839.5,
          3840.68943801637,
          3895.420278316641,
          3871.301470867862,
          3867.04848683893,
          3856.2278307747483,
          3840.942267926354,
          3835.8196112869173,
          3915.394029066795,
          3879.4050608862453,
          3962.1047252098247,
          4009.608074208696,
          4015.7546865628165,
          3987.1991016723605,
          3993.231424639744,
          3995.724480702159,
          4053.348890791523,
          4155.075795580182,
          4157.304305686836,
          4088.3584370565914,
          4060.2100853412558
         ]
        },
        {
         "line": {
          "color": "rgba(255, 0, 0, 0.1)"
         },
         "mode": "lines",
         "name": "Simulation 5",
         "showlegend": false,
         "type": "scatter",
         "x": [
          "2023-01-03T00:00:00",
          "2023-01-04T00:00:00",
          "2023-01-05T00:00:00",
          "2023-01-06T00:00:00",
          "2023-01-09T00:00:00",
          "2023-01-10T00:00:00",
          "2023-01-11T00:00:00",
          "2023-01-12T00:00:00",
          "2023-01-13T00:00:00",
          "2023-01-17T00:00:00",
          "2023-01-18T00:00:00",
          "2023-01-19T00:00:00",
          "2023-01-20T00:00:00",
          "2023-01-23T00:00:00",
          "2023-01-24T00:00:00",
          "2023-01-25T00:00:00",
          "2023-01-26T00:00:00",
          "2023-01-27T00:00:00",
          "2023-01-30T00:00:00",
          "2023-01-31T00:00:00",
          "2023-02-01T00:00:00"
         ],
         "y": [
          3839.5,
          3840.68943801637,
          3800.999502458905,
          3767.523791471238,
          3818.2852841276876,
          3806.2370165521625,
          3767.5606319622625,
          3802.5709120819224,
          3835.6585343766,
          3811.7875224169265,
          3844.8429333599615,
          3890.789192412432,
          3865.428587972015,
          3806.481942232503,
          3732.5760178689375,
          3759.0239816662083,
          3782.6984290224996,
          3802.68117141551,
          3829.978691015254,
          3878.782285102485,
          3859.2060027531625
         ]
        },
        {
         "line": {
          "color": "rgba(255, 0, 0, 0.1)"
         },
         "mode": "lines",
         "name": "Simulation 6",
         "showlegend": false,
         "type": "scatter",
         "x": [
          "2023-01-03T00:00:00",
          "2023-01-04T00:00:00",
          "2023-01-05T00:00:00",
          "2023-01-06T00:00:00",
          "2023-01-09T00:00:00",
          "2023-01-10T00:00:00",
          "2023-01-11T00:00:00",
          "2023-01-12T00:00:00",
          "2023-01-13T00:00:00",
          "2023-01-17T00:00:00",
          "2023-01-18T00:00:00",
          "2023-01-19T00:00:00",
          "2023-01-20T00:00:00",
          "2023-01-23T00:00:00",
          "2023-01-24T00:00:00",
          "2023-01-25T00:00:00",
          "2023-01-26T00:00:00",
          "2023-01-27T00:00:00",
          "2023-01-30T00:00:00",
          "2023-01-31T00:00:00",
          "2023-02-01T00:00:00"
         ],
         "y": [
          3839.5,
          3840.68943801637,
          3873.038232643116,
          3902.5695930285824,
          3952.5373609786457,
          3991.9861729387653,
          4014.5109575063702,
          4035.7132081973177,
          4042.391116105552,
          3996.504670406448,
          3912.7410041824332,
          3883.3469818897242,
          3850.728751382006,
          3869.9402143480875,
          3945.7945775851967,
          3964.1314684714007,
          4028.5514616894584,
          4034.153484341269,
          4073.453817251964,
          4084.562289515873,
          4060.2195069721984
         ]
        },
        {
         "line": {
          "color": "rgba(255, 0, 0, 0.1)"
         },
         "mode": "lines",
         "name": "Simulation 7",
         "showlegend": false,
         "type": "scatter",
         "x": [
          "2023-01-03T00:00:00",
          "2023-01-04T00:00:00",
          "2023-01-05T00:00:00",
          "2023-01-06T00:00:00",
          "2023-01-09T00:00:00",
          "2023-01-10T00:00:00",
          "2023-01-11T00:00:00",
          "2023-01-12T00:00:00",
          "2023-01-13T00:00:00",
          "2023-01-17T00:00:00",
          "2023-01-18T00:00:00",
          "2023-01-19T00:00:00",
          "2023-01-20T00:00:00",
          "2023-01-23T00:00:00",
          "2023-01-24T00:00:00",
          "2023-01-25T00:00:00",
          "2023-01-26T00:00:00",
          "2023-01-27T00:00:00",
          "2023-01-30T00:00:00",
          "2023-01-31T00:00:00",
          "2023-02-01T00:00:00"
         ],
         "y": [
          3839.5,
          3840.68943801637,
          3834.683920187307,
          3817.9774069352175,
          3767.7319307115445,
          3877.974067078404,
          3943.954201281717,
          3912.2304578198405,
          3910.372723664974,
          3859.3933499171367,
          3892.7880776759766,
          3968.7509330327107,
          3953.4843201225526,
          4052.2675900827844,
          4043.102081665387,
          4040.1001642177594,
          3982.3071186438365,
          3981.918493406829,
          3918.0835409002593,
          3868.951977660401,
          3851.894444566063
         ]
        },
        {
         "line": {
          "color": "rgba(255, 0, 0, 0.1)"
         },
         "mode": "lines",
         "name": "Simulation 8",
         "showlegend": false,
         "type": "scatter",
         "x": [
          "2023-01-03T00:00:00",
          "2023-01-04T00:00:00",
          "2023-01-05T00:00:00",
          "2023-01-06T00:00:00",
          "2023-01-09T00:00:00",
          "2023-01-10T00:00:00",
          "2023-01-11T00:00:00",
          "2023-01-12T00:00:00",
          "2023-01-13T00:00:00",
          "2023-01-17T00:00:00",
          "2023-01-18T00:00:00",
          "2023-01-19T00:00:00",
          "2023-01-20T00:00:00",
          "2023-01-23T00:00:00",
          "2023-01-24T00:00:00",
          "2023-01-25T00:00:00",
          "2023-01-26T00:00:00",
          "2023-01-27T00:00:00",
          "2023-01-30T00:00:00",
          "2023-01-31T00:00:00",
          "2023-02-01T00:00:00"
         ],
         "y": [
          3839.5,
          3840.68943801637,
          3893.9324358016374,
          3917.154962525277,
          3928.3278846128846,
          3949.528988304162,
          3883.3918913733587,
          3853.4143808397635,
          3849.836020191543,
          3773.03986065247,
          3800.788929186905,
          3787.8559785542598,
          3782.206207673931,
          3739.0022566667926,
          3683.2309630404175,
          3668.812577178528,
          3633.212986687297,
          3650.046161171759,
          3661.0871150581274,
          3656.544882875108,
          3655.0157545615125
         ]
        },
        {
         "line": {
          "color": "rgba(255, 0, 0, 0.1)"
         },
         "mode": "lines",
         "name": "Simulation 9",
         "showlegend": false,
         "type": "scatter",
         "x": [
          "2023-01-03T00:00:00",
          "2023-01-04T00:00:00",
          "2023-01-05T00:00:00",
          "2023-01-06T00:00:00",
          "2023-01-09T00:00:00",
          "2023-01-10T00:00:00",
          "2023-01-11T00:00:00",
          "2023-01-12T00:00:00",
          "2023-01-13T00:00:00",
          "2023-01-17T00:00:00",
          "2023-01-18T00:00:00",
          "2023-01-19T00:00:00",
          "2023-01-20T00:00:00",
          "2023-01-23T00:00:00",
          "2023-01-24T00:00:00",
          "2023-01-25T00:00:00",
          "2023-01-26T00:00:00",
          "2023-01-27T00:00:00",
          "2023-01-30T00:00:00",
          "2023-01-31T00:00:00",
          "2023-02-01T00:00:00"
         ],
         "y": [
          3839.5,
          3840.68943801637,
          3801.5757920946758,
          3821.6959777743455,
          3794.400325796611,
          3727.924095037842,
          3769.6091688424012,
          3786.508847357373,
          3642.5740801684587,
          3624.7983863483837,
          3573.202028798392,
          3547.686709889482,
          3593.329599769115,
          3547.2577428964896,
          3467.063129942491,
          3453.925737936146,
          3423.968121184353,
          3396.4064788576343,
          3401.6448538365853,
          3457.6519295244066,
          3546.0842550559314
         ]
        },
        {
         "line": {
          "color": "rgba(255, 0, 0, 0.1)"
         },
         "mode": "lines",
         "name": "Simulation 10",
         "showlegend": false,
         "type": "scatter",
         "x": [
          "2023-01-03T00:00:00",
          "2023-01-04T00:00:00",
          "2023-01-05T00:00:00",
          "2023-01-06T00:00:00",
          "2023-01-09T00:00:00",
          "2023-01-10T00:00:00",
          "2023-01-11T00:00:00",
          "2023-01-12T00:00:00",
          "2023-01-13T00:00:00",
          "2023-01-17T00:00:00",
          "2023-01-18T00:00:00",
          "2023-01-19T00:00:00",
          "2023-01-20T00:00:00",
          "2023-01-23T00:00:00",
          "2023-01-24T00:00:00",
          "2023-01-25T00:00:00",
          "2023-01-26T00:00:00",
          "2023-01-27T00:00:00",
          "2023-01-30T00:00:00",
          "2023-01-31T00:00:00",
          "2023-02-01T00:00:00"
         ],
         "y": [
          3839.5,
          3840.68943801637,
          3899.133193283284,
          3979.6196290698754,
          3912.205341503106,
          3901.462425452004,
          3941.2926252673174,
          3900.803736710436,
          3904.6236441733618,
          3873.1505830200167,
          3901.3892064386764,
          3794.5799291658086,
          3745.2650628674983,
          3716.4497357807077,
          3650.815952893916,
          3675.839687542797,
          3611.2949061077334,
          3656.243507627708,
          3638.4336598851733,
          3683.4671849242836,
          3646.2982532698347
         ]
        },
        {
         "line": {
          "color": "rgba(255, 0, 0, 0.1)"
         },
         "mode": "lines",
         "name": "Simulation 11",
         "showlegend": false,
         "type": "scatter",
         "x": [
          "2023-01-03T00:00:00",
          "2023-01-04T00:00:00",
          "2023-01-05T00:00:00",
          "2023-01-06T00:00:00",
          "2023-01-09T00:00:00",
          "2023-01-10T00:00:00",
          "2023-01-11T00:00:00",
          "2023-01-12T00:00:00",
          "2023-01-13T00:00:00",
          "2023-01-17T00:00:00",
          "2023-01-18T00:00:00",
          "2023-01-19T00:00:00",
          "2023-01-20T00:00:00",
          "2023-01-23T00:00:00",
          "2023-01-24T00:00:00",
          "2023-01-25T00:00:00",
          "2023-01-26T00:00:00",
          "2023-01-27T00:00:00",
          "2023-01-30T00:00:00",
          "2023-01-31T00:00:00",
          "2023-02-01T00:00:00"
         ],
         "y": [
          3839.5,
          3840.68943801637,
          3832.675128617766,
          3748.1111221639817,
          3747.0258795009613,
          3773.3110152631116,
          3775.5329252298443,
          3763.3491572800694,
          3730.4616434635755,
          3776.1342657993955,
          3880.0115052567317,
          3921.4206142516196,
          3913.954835484532,
          3862.672284985619,
          3922.0301766490334,
          3978.954650499739,
          3988.5499055741643,
          3977.8167579945725,
          4040.6541481204354,
          4007.8062252996224,
          3912.672764304398
         ]
        },
        {
         "line": {
          "color": "rgba(255, 0, 0, 0.1)"
         },
         "mode": "lines",
         "name": "Simulation 12",
         "showlegend": false,
         "type": "scatter",
         "x": [
          "2023-01-03T00:00:00",
          "2023-01-04T00:00:00",
          "2023-01-05T00:00:00",
          "2023-01-06T00:00:00",
          "2023-01-09T00:00:00",
          "2023-01-10T00:00:00",
          "2023-01-11T00:00:00",
          "2023-01-12T00:00:00",
          "2023-01-13T00:00:00",
          "2023-01-17T00:00:00",
          "2023-01-18T00:00:00",
          "2023-01-19T00:00:00",
          "2023-01-20T00:00:00",
          "2023-01-23T00:00:00",
          "2023-01-24T00:00:00",
          "2023-01-25T00:00:00",
          "2023-01-26T00:00:00",
          "2023-01-27T00:00:00",
          "2023-01-30T00:00:00",
          "2023-01-31T00:00:00",
          "2023-02-01T00:00:00"
         ],
         "y": [
          3839.5,
          3840.68943801637,
          3865.2329931589484,
          3882.11610551337,
          3884.637449403343,
          3906.146368620636,
          3904.968643837838,
          3896.1433037603942,
          3893.9436104254473,
          3902.4884209083148,
          3885.0875326410037,
          3946.694260565414,
          3971.2984073771995,
          3968.1951702011543,
          3943.3688288538856,
          3993.0830877032163,
          4038.85454150741,
          4042.4110058475503,
          3962.2898364048388,
          4015.2499780768635,
          4094.26062296845
         ]
        },
        {
         "line": {
          "color": "rgba(255, 0, 0, 0.1)"
         },
         "mode": "lines",
         "name": "Simulation 13",
         "showlegend": false,
         "type": "scatter",
         "x": [
          "2023-01-03T00:00:00",
          "2023-01-04T00:00:00",
          "2023-01-05T00:00:00",
          "2023-01-06T00:00:00",
          "2023-01-09T00:00:00",
          "2023-01-10T00:00:00",
          "2023-01-11T00:00:00",
          "2023-01-12T00:00:00",
          "2023-01-13T00:00:00",
          "2023-01-17T00:00:00",
          "2023-01-18T00:00:00",
          "2023-01-19T00:00:00",
          "2023-01-20T00:00:00",
          "2023-01-23T00:00:00",
          "2023-01-24T00:00:00",
          "2023-01-25T00:00:00",
          "2023-01-26T00:00:00",
          "2023-01-27T00:00:00",
          "2023-01-30T00:00:00",
          "2023-01-31T00:00:00",
          "2023-02-01T00:00:00"
         ],
         "y": [
          3839.5,
          3840.68943801637,
          3823.307444768873,
          3927.5822088102886,
          3962.933650650633,
          4070.6147733667804,
          4075.8177532058,
          4036.5156829099874,
          4031.688705915495,
          4059.1498202223247,
          4057.2767430140716,
          3977.6390184468146,
          4002.915092109201,
          3963.4226022339244,
          3930.1923636937718,
          3895.2241921041323,
          3892.342739384808,
          3914.4991441451702,
          3883.7977354861414,
          3911.488587190562,
          3849.9247463584334
         ]
        },
        {
         "line": {
          "color": "rgba(255, 0, 0, 0.1)"
         },
         "mode": "lines",
         "name": "Simulation 14",
         "showlegend": false,
         "type": "scatter",
         "x": [
          "2023-01-03T00:00:00",
          "2023-01-04T00:00:00",
          "2023-01-05T00:00:00",
          "2023-01-06T00:00:00",
          "2023-01-09T00:00:00",
          "2023-01-10T00:00:00",
          "2023-01-11T00:00:00",
          "2023-01-12T00:00:00",
          "2023-01-13T00:00:00",
          "2023-01-17T00:00:00",
          "2023-01-18T00:00:00",
          "2023-01-19T00:00:00",
          "2023-01-20T00:00:00",
          "2023-01-23T00:00:00",
          "2023-01-24T00:00:00",
          "2023-01-25T00:00:00",
          "2023-01-26T00:00:00",
          "2023-01-27T00:00:00",
          "2023-01-30T00:00:00",
          "2023-01-31T00:00:00",
          "2023-02-01T00:00:00"
         ],
         "y": [
          3839.5,
          3840.68943801637,
          3794.781055474132,
          3747.1389956443004,
          3733.1693668265852,
          3690.822071785026,
          3682.464588121603,
          3565.606685874639,
          3501.013064723939,
          3466.412259493479,
          3405.0882759246983,
          3393.23556863931,
          3419.71621108586,
          3477.61315759586,
          3544.888767918713,
          3542.957649513943,
          3504.8716029877046,
          3516.830808736996,
          3512.399894753896,
          3499.5551859679053,
          3457.119358736348
         ]
        },
        {
         "line": {
          "color": "rgba(255, 0, 0, 0.1)"
         },
         "mode": "lines",
         "name": "Simulation 15",
         "showlegend": false,
         "type": "scatter",
         "x": [
          "2023-01-03T00:00:00",
          "2023-01-04T00:00:00",
          "2023-01-05T00:00:00",
          "2023-01-06T00:00:00",
          "2023-01-09T00:00:00",
          "2023-01-10T00:00:00",
          "2023-01-11T00:00:00",
          "2023-01-12T00:00:00",
          "2023-01-13T00:00:00",
          "2023-01-17T00:00:00",
          "2023-01-18T00:00:00",
          "2023-01-19T00:00:00",
          "2023-01-20T00:00:00",
          "2023-01-23T00:00:00",
          "2023-01-24T00:00:00",
          "2023-01-25T00:00:00",
          "2023-01-26T00:00:00",
          "2023-01-27T00:00:00",
          "2023-01-30T00:00:00",
          "2023-01-31T00:00:00",
          "2023-02-01T00:00:00"
         ],
         "y": [
          3839.5,
          3840.68943801637,
          3879.27629082483,
          3834.8370281423986,
          3804.4170976686196,
          3801.10075452851,
          3794.8599044168195,
          3720.1506447978527,
          3738.443425987329,
          3738.9366793724685,
          3725.0553423871224,
          3716.907280403095,
          3619.9430732411342,
          3650.458400322112,
          3625.637195539137,
          3614.2236418607586,
          3598.0157497419477,
          3645.9797593281687,
          3621.1083558049827,
          3592.242141161881,
          3635.226192359082
         ]
        },
        {
         "line": {
          "color": "rgba(255, 0, 0, 0.1)"
         },
         "mode": "lines",
         "name": "Simulation 16",
         "showlegend": false,
         "type": "scatter",
         "x": [
          "2023-01-03T00:00:00",
          "2023-01-04T00:00:00",
          "2023-01-05T00:00:00",
          "2023-01-06T00:00:00",
          "2023-01-09T00:00:00",
          "2023-01-10T00:00:00",
          "2023-01-11T00:00:00",
          "2023-01-12T00:00:00",
          "2023-01-13T00:00:00",
          "2023-01-17T00:00:00",
          "2023-01-18T00:00:00",
          "2023-01-19T00:00:00",
          "2023-01-20T00:00:00",
          "2023-01-23T00:00:00",
          "2023-01-24T00:00:00",
          "2023-01-25T00:00:00",
          "2023-01-26T00:00:00",
          "2023-01-27T00:00:00",
          "2023-01-30T00:00:00",
          "2023-01-31T00:00:00",
          "2023-02-01T00:00:00"
         ],
         "y": [
          3839.5,
          3840.68943801637,
          3829.1260153812927,
          3735.4010981247616,
          3689.8086892690417,
          3596.723491347998,
          3539.5451530097953,
          3558.61034294453,
          3600.8492412536007,
          3569.6928071693933,
          3528.666059263292,
          3523.766348866024,
          3476.1517430155045,
          3412.5536900945335,
          3380.791640865803,
          3387.4334364135116,
          3422.5293531899265,
          3383.157654178379,
          3412.489315649803,
          3452.3015144548795,
          3482.869330804596
         ]
        },
        {
         "line": {
          "color": "rgba(255, 0, 0, 0.1)"
         },
         "mode": "lines",
         "name": "Simulation 17",
         "showlegend": false,
         "type": "scatter",
         "x": [
          "2023-01-03T00:00:00",
          "2023-01-04T00:00:00",
          "2023-01-05T00:00:00",
          "2023-01-06T00:00:00",
          "2023-01-09T00:00:00",
          "2023-01-10T00:00:00",
          "2023-01-11T00:00:00",
          "2023-01-12T00:00:00",
          "2023-01-13T00:00:00",
          "2023-01-17T00:00:00",
          "2023-01-18T00:00:00",
          "2023-01-19T00:00:00",
          "2023-01-20T00:00:00",
          "2023-01-23T00:00:00",
          "2023-01-24T00:00:00",
          "2023-01-25T00:00:00",
          "2023-01-26T00:00:00",
          "2023-01-27T00:00:00",
          "2023-01-30T00:00:00",
          "2023-01-31T00:00:00",
          "2023-02-01T00:00:00"
         ],
         "y": [
          3839.5,
          3840.68943801637,
          3959.214233046258,
          3961.5038559512386,
          3919.984331391541,
          3943.1291178702722,
          3915.3089480745316,
          3899.842821718889,
          3920.742038600654,
          3917.2574293536936,
          3877.8264980598133,
          3887.1050845160025,
          3822.9334373041047,
          3759.5917587580043,
          3839.494778744814,
          3907.0788518254494,
          3930.8911277193693,
          3967.2748976975445,
          3927.805447826281,
          3967.507757239473,
          4057.096532179925
         ]
        },
        {
         "line": {
          "color": "rgba(255, 0, 0, 0.1)"
         },
         "mode": "lines",
         "name": "Simulation 18",
         "showlegend": false,
         "type": "scatter",
         "x": [
          "2023-01-03T00:00:00",
          "2023-01-04T00:00:00",
          "2023-01-05T00:00:00",
          "2023-01-06T00:00:00",
          "2023-01-09T00:00:00",
          "2023-01-10T00:00:00",
          "2023-01-11T00:00:00",
          "2023-01-12T00:00:00",
          "2023-01-13T00:00:00",
          "2023-01-17T00:00:00",
          "2023-01-18T00:00:00",
          "2023-01-19T00:00:00",
          "2023-01-20T00:00:00",
          "2023-01-23T00:00:00",
          "2023-01-24T00:00:00",
          "2023-01-25T00:00:00",
          "2023-01-26T00:00:00",
          "2023-01-27T00:00:00",
          "2023-01-30T00:00:00",
          "2023-01-31T00:00:00",
          "2023-02-01T00:00:00"
         ],
         "y": [
          3839.5,
          3840.68943801637,
          3832.19200399486,
          3833.405424786601,
          3842.6205075109165,
          3794.3136279048963,
          3739.9289069983024,
          3687.0427375416884,
          3689.81299615033,
          3775.6167110098922,
          3710.079275977693,
          3671.9631342299954,
          3734.8633770578344,
          3715.6386063339346,
          3714.243495252492,
          3717.570377083259,
          3784.961096428157,
          3793.89174386954,
          3794.1714185079722,
          3740.0896915785074,
          3702.937451574896
         ]
        },
        {
         "line": {
          "color": "rgba(255, 0, 0, 0.1)"
         },
         "mode": "lines",
         "name": "Simulation 19",
         "showlegend": false,
         "type": "scatter",
         "x": [
          "2023-01-03T00:00:00",
          "2023-01-04T00:00:00",
          "2023-01-05T00:00:00",
          "2023-01-06T00:00:00",
          "2023-01-09T00:00:00",
          "2023-01-10T00:00:00",
          "2023-01-11T00:00:00",
          "2023-01-12T00:00:00",
          "2023-01-13T00:00:00",
          "2023-01-17T00:00:00",
          "2023-01-18T00:00:00",
          "2023-01-19T00:00:00",
          "2023-01-20T00:00:00",
          "2023-01-23T00:00:00",
          "2023-01-24T00:00:00",
          "2023-01-25T00:00:00",
          "2023-01-26T00:00:00",
          "2023-01-27T00:00:00",
          "2023-01-30T00:00:00",
          "2023-01-31T00:00:00",
          "2023-02-01T00:00:00"
         ],
         "y": [
          3839.5,
          3840.68943801637,
          3835.3284553386925,
          3796.1141498327643,
          3802.791094801485,
          3760.3530011334915,
          3739.8960013792403,
          3716.152137096711,
          3739.875258133635,
          3744.9525806719644,
          3723.882409524941,
          3689.0518130037913,
          3722.485943093557,
          3634.5944168716933,
          3663.3542894103216,
          3679.518809971671,
          3641.314734377601,
          3615.208061165035,
          3599.879310505218,
          3647.016091160186,
          3679.5556704126557
         ]
        },
        {
         "line": {
          "color": "rgba(255, 0, 0, 0.1)"
         },
         "mode": "lines",
         "name": "Simulation 20",
         "showlegend": false,
         "type": "scatter",
         "x": [
          "2023-01-03T00:00:00",
          "2023-01-04T00:00:00",
          "2023-01-05T00:00:00",
          "2023-01-06T00:00:00",
          "2023-01-09T00:00:00",
          "2023-01-10T00:00:00",
          "2023-01-11T00:00:00",
          "2023-01-12T00:00:00",
          "2023-01-13T00:00:00",
          "2023-01-17T00:00:00",
          "2023-01-18T00:00:00",
          "2023-01-19T00:00:00",
          "2023-01-20T00:00:00",
          "2023-01-23T00:00:00",
          "2023-01-24T00:00:00",
          "2023-01-25T00:00:00",
          "2023-01-26T00:00:00",
          "2023-01-27T00:00:00",
          "2023-01-30T00:00:00",
          "2023-01-31T00:00:00",
          "2023-02-01T00:00:00"
         ],
         "y": [
          3839.5,
          3840.68943801637,
          3803.275320771936,
          3807.4467912750956,
          3821.1948957242876,
          3821.013448959465,
          3830.8028943265444,
          3818.5029796478443,
          3783.6689764618354,
          3740.6847533090477,
          3718.2073057141615,
          3710.579113263617,
          3711.230121695478,
          3725.437541707004,
          3793.2673817592977,
          3831.291545048752,
          3851.530763270495,
          3886.4320983910748,
          3937.073426073611,
          4023.605256872969,
          3950.9700420311638
         ]
        },
        {
         "line": {
          "color": "rgba(255, 0, 0, 0.1)"
         },
         "mode": "lines",
         "name": "Simulation 21",
         "showlegend": false,
         "type": "scatter",
         "x": [
          "2023-01-03T00:00:00",
          "2023-01-04T00:00:00",
          "2023-01-05T00:00:00",
          "2023-01-06T00:00:00",
          "2023-01-09T00:00:00",
          "2023-01-10T00:00:00",
          "2023-01-11T00:00:00",
          "2023-01-12T00:00:00",
          "2023-01-13T00:00:00",
          "2023-01-17T00:00:00",
          "2023-01-18T00:00:00",
          "2023-01-19T00:00:00",
          "2023-01-20T00:00:00",
          "2023-01-23T00:00:00",
          "2023-01-24T00:00:00",
          "2023-01-25T00:00:00",
          "2023-01-26T00:00:00",
          "2023-01-27T00:00:00",
          "2023-01-30T00:00:00",
          "2023-01-31T00:00:00",
          "2023-02-01T00:00:00"
         ],
         "y": [
          3839.5,
          3840.68943801637,
          3924.4709193100716,
          3929.351607189009,
          4016.7066344126406,
          4098.787350499543,
          4151.245702916627,
          4220.959682674374,
          4232.015257037418,
          4123.2233881974535,
          4088.4783355063087,
          4027.1551934371378,
          4075.1816948854457,
          4028.0410695671744,
          4033.981137429593,
          4027.571700128852,
          3952.404286131102,
          3928.326342927795,
          3975.469001892604,
          4025.685258887117,
          4113.697631577185
         ]
        },
        {
         "line": {
          "color": "rgba(255, 0, 0, 0.1)"
         },
         "mode": "lines",
         "name": "Simulation 22",
         "showlegend": false,
         "type": "scatter",
         "x": [
          "2023-01-03T00:00:00",
          "2023-01-04T00:00:00",
          "2023-01-05T00:00:00",
          "2023-01-06T00:00:00",
          "2023-01-09T00:00:00",
          "2023-01-10T00:00:00",
          "2023-01-11T00:00:00",
          "2023-01-12T00:00:00",
          "2023-01-13T00:00:00",
          "2023-01-17T00:00:00",
          "2023-01-18T00:00:00",
          "2023-01-19T00:00:00",
          "2023-01-20T00:00:00",
          "2023-01-23T00:00:00",
          "2023-01-24T00:00:00",
          "2023-01-25T00:00:00",
          "2023-01-26T00:00:00",
          "2023-01-27T00:00:00",
          "2023-01-30T00:00:00",
          "2023-01-31T00:00:00",
          "2023-02-01T00:00:00"
         ],
         "y": [
          3839.5,
          3840.68943801637,
          3896.3810117600433,
          3872.1532849409805,
          3887.2140812309153,
          3913.8061640735355,
          3960.8985434237857,
          3904.12536988434,
          3881.1661637512275,
          3889.56995695337,
          3887.695410600902,
          3909.3806756196095,
          3982.3491921139575,
          3996.541409432887,
          4017.2961107550573,
          4036.5966164876904,
          4046.3868739000654,
          4131.621850764234,
          4215.060021359427,
          4217.919340985066,
          4255.739386664883
         ]
        },
        {
         "line": {
          "color": "rgba(255, 0, 0, 0.1)"
         },
         "mode": "lines",
         "name": "Simulation 23",
         "showlegend": false,
         "type": "scatter",
         "x": [
          "2023-01-03T00:00:00",
          "2023-01-04T00:00:00",
          "2023-01-05T00:00:00",
          "2023-01-06T00:00:00",
          "2023-01-09T00:00:00",
          "2023-01-10T00:00:00",
          "2023-01-11T00:00:00",
          "2023-01-12T00:00:00",
          "2023-01-13T00:00:00",
          "2023-01-17T00:00:00",
          "2023-01-18T00:00:00",
          "2023-01-19T00:00:00",
          "2023-01-20T00:00:00",
          "2023-01-23T00:00:00",
          "2023-01-24T00:00:00",
          "2023-01-25T00:00:00",
          "2023-01-26T00:00:00",
          "2023-01-27T00:00:00",
          "2023-01-30T00:00:00",
          "2023-01-31T00:00:00",
          "2023-02-01T00:00:00"
         ],
         "y": [
          3839.5,
          3840.68943801637,
          3776.0130484334522,
          3761.0366960133383,
          3752.4492844349434,
          3715.47035262872,
          3750.366860772169,
          3725.1640667934826,
          3718.9733561931225,
          3692.933897785645,
          3661.868036864141,
          3682.795108433878,
          3720.2736477624367,
          3671.614777436721,
          3714.1678959878327,
          3693.3010089571435,
          3697.4565180484647,
          3683.216652650507,
          3651.79316080527,
          3698.2617383482548,
          3711.496859955271
         ]
        },
        {
         "line": {
          "color": "rgba(255, 0, 0, 0.1)"
         },
         "mode": "lines",
         "name": "Simulation 24",
         "showlegend": false,
         "type": "scatter",
         "x": [
          "2023-01-03T00:00:00",
          "2023-01-04T00:00:00",
          "2023-01-05T00:00:00",
          "2023-01-06T00:00:00",
          "2023-01-09T00:00:00",
          "2023-01-10T00:00:00",
          "2023-01-11T00:00:00",
          "2023-01-12T00:00:00",
          "2023-01-13T00:00:00",
          "2023-01-17T00:00:00",
          "2023-01-18T00:00:00",
          "2023-01-19T00:00:00",
          "2023-01-20T00:00:00",
          "2023-01-23T00:00:00",
          "2023-01-24T00:00:00",
          "2023-01-25T00:00:00",
          "2023-01-26T00:00:00",
          "2023-01-27T00:00:00",
          "2023-01-30T00:00:00",
          "2023-01-31T00:00:00",
          "2023-02-01T00:00:00"
         ],
         "y": [
          3839.5,
          3840.68943801637,
          3851.8062977906197,
          3877.1187813038096,
          3925.8532527022226,
          3932.5683391273683,
          3923.1493470209552,
          3836.6195448151434,
          3775.917938942151,
          3720.7433286097707,
          3679.3033929852063,
          3643.259150199174,
          3545.820832384564,
          3584.631301138753,
          3611.344489870153,
          3555.2537991076747,
          3544.4649072425,
          3553.3567723846454,
          3588.579933540128,
          3652.0263184426835,
          3646.197527920061
         ]
        },
        {
         "line": {
          "color": "rgba(255, 0, 0, 0.1)"
         },
         "mode": "lines",
         "name": "Simulation 25",
         "showlegend": false,
         "type": "scatter",
         "x": [
          "2023-01-03T00:00:00",
          "2023-01-04T00:00:00",
          "2023-01-05T00:00:00",
          "2023-01-06T00:00:00",
          "2023-01-09T00:00:00",
          "2023-01-10T00:00:00",
          "2023-01-11T00:00:00",
          "2023-01-12T00:00:00",
          "2023-01-13T00:00:00",
          "2023-01-17T00:00:00",
          "2023-01-18T00:00:00",
          "2023-01-19T00:00:00",
          "2023-01-20T00:00:00",
          "2023-01-23T00:00:00",
          "2023-01-24T00:00:00",
          "2023-01-25T00:00:00",
          "2023-01-26T00:00:00",
          "2023-01-27T00:00:00",
          "2023-01-30T00:00:00",
          "2023-01-31T00:00:00",
          "2023-02-01T00:00:00"
         ],
         "y": [
          3839.5,
          3840.68943801637,
          3849.738321222744,
          3844.234170357597,
          3785.894681488294,
          3770.53743283694,
          3859.9987457194643,
          3862.9531911976133,
          3846.388211336525,
          3818.5907943364778,
          3859.0172714339637,
          3884.27428106617,
          3908.642656868351,
          3909.0451617906715,
          3959.865482136661,
          4025.4505722768167,
          4035.596470671946,
          4047.3339530686853,
          4020.4244373533475,
          4022.870258433318,
          4004.0738328792313
         ]
        },
        {
         "line": {
          "color": "rgba(255, 0, 0, 0.1)"
         },
         "mode": "lines",
         "name": "Simulation 26",
         "showlegend": false,
         "type": "scatter",
         "x": [
          "2023-01-03T00:00:00",
          "2023-01-04T00:00:00",
          "2023-01-05T00:00:00",
          "2023-01-06T00:00:00",
          "2023-01-09T00:00:00",
          "2023-01-10T00:00:00",
          "2023-01-11T00:00:00",
          "2023-01-12T00:00:00",
          "2023-01-13T00:00:00",
          "2023-01-17T00:00:00",
          "2023-01-18T00:00:00",
          "2023-01-19T00:00:00",
          "2023-01-20T00:00:00",
          "2023-01-23T00:00:00",
          "2023-01-24T00:00:00",
          "2023-01-25T00:00:00",
          "2023-01-26T00:00:00",
          "2023-01-27T00:00:00",
          "2023-01-30T00:00:00",
          "2023-01-31T00:00:00",
          "2023-02-01T00:00:00"
         ],
         "y": [
          3839.5,
          3840.68943801637,
          3768.751510084293,
          3754.112517849096,
          3750.170584967664,
          3696.8691437035104,
          3645.214080886689,
          3581.8502794702727,
          3566.614229902666,
          3608.01899179486,
          3593.4192058091694,
          3650.461638652099,
          3602.702052076308,
          3636.3753881098105,
          3638.699681581664,
          3691.993766932299,
          3681.412652981926,
          3640.560830244986,
          3753.1935209903163,
          3656.5144327012204,
          3742.2733302299944
         ]
        },
        {
         "line": {
          "color": "rgba(255, 0, 0, 0.1)"
         },
         "mode": "lines",
         "name": "Simulation 27",
         "showlegend": false,
         "type": "scatter",
         "x": [
          "2023-01-03T00:00:00",
          "2023-01-04T00:00:00",
          "2023-01-05T00:00:00",
          "2023-01-06T00:00:00",
          "2023-01-09T00:00:00",
          "2023-01-10T00:00:00",
          "2023-01-11T00:00:00",
          "2023-01-12T00:00:00",
          "2023-01-13T00:00:00",
          "2023-01-17T00:00:00",
          "2023-01-18T00:00:00",
          "2023-01-19T00:00:00",
          "2023-01-20T00:00:00",
          "2023-01-23T00:00:00",
          "2023-01-24T00:00:00",
          "2023-01-25T00:00:00",
          "2023-01-26T00:00:00",
          "2023-01-27T00:00:00",
          "2023-01-30T00:00:00",
          "2023-01-31T00:00:00",
          "2023-02-01T00:00:00"
         ],
         "y": [
          3839.5,
          3840.68943801637,
          3883.9427478089356,
          3966.441999741693,
          3974.6377134247605,
          4003.410274372249,
          4071.914503658474,
          4073.3152940432383,
          4060.747761345358,
          4048.106036230202,
          4107.1346008539485,
          4155.543377938978,
          4179.123425569,
          4199.646553591838,
          4193.246855140916,
          4211.778042194886,
          4168.718123759098,
          4167.111635897309,
          4139.465540598895,
          4252.231005425575,
          4292.221234217445
         ]
        },
        {
         "line": {
          "color": "rgba(255, 0, 0, 0.1)"
         },
         "mode": "lines",
         "name": "Simulation 28",
         "showlegend": false,
         "type": "scatter",
         "x": [
          "2023-01-03T00:00:00",
          "2023-01-04T00:00:00",
          "2023-01-05T00:00:00",
          "2023-01-06T00:00:00",
          "2023-01-09T00:00:00",
          "2023-01-10T00:00:00",
          "2023-01-11T00:00:00",
          "2023-01-12T00:00:00",
          "2023-01-13T00:00:00",
          "2023-01-17T00:00:00",
          "2023-01-18T00:00:00",
          "2023-01-19T00:00:00",
          "2023-01-20T00:00:00",
          "2023-01-23T00:00:00",
          "2023-01-24T00:00:00",
          "2023-01-25T00:00:00",
          "2023-01-26T00:00:00",
          "2023-01-27T00:00:00",
          "2023-01-30T00:00:00",
          "2023-01-31T00:00:00",
          "2023-02-01T00:00:00"
         ],
         "y": [
          3839.5,
          3840.68943801637,
          3773.5875211802463,
          3705.0191767287424,
          3651.0984169981803,
          3662.399263800179,
          3693.657197376441,
          3695.3325506996057,
          3695.001095871041,
          3788.682101674491,
          3801.9638347757186,
          3780.4271812732004,
          3779.6220334376917,
          3700.532488359579,
          3698.999292608008,
          3727.449942099245,
          3711.415720669663,
          3722.4334807411688,
          3671.373909380246,
          3675.405455587295,
          3626.9109657996773
         ]
        },
        {
         "line": {
          "color": "rgba(255, 0, 0, 0.1)"
         },
         "mode": "lines",
         "name": "Simulation 29",
         "showlegend": false,
         "type": "scatter",
         "x": [
          "2023-01-03T00:00:00",
          "2023-01-04T00:00:00",
          "2023-01-05T00:00:00",
          "2023-01-06T00:00:00",
          "2023-01-09T00:00:00",
          "2023-01-10T00:00:00",
          "2023-01-11T00:00:00",
          "2023-01-12T00:00:00",
          "2023-01-13T00:00:00",
          "2023-01-17T00:00:00",
          "2023-01-18T00:00:00",
          "2023-01-19T00:00:00",
          "2023-01-20T00:00:00",
          "2023-01-23T00:00:00",
          "2023-01-24T00:00:00",
          "2023-01-25T00:00:00",
          "2023-01-26T00:00:00",
          "2023-01-27T00:00:00",
          "2023-01-30T00:00:00",
          "2023-01-31T00:00:00",
          "2023-02-01T00:00:00"
         ],
         "y": [
          3839.5,
          3840.68943801637,
          3765.0652188420786,
          3689.6711784143477,
          3690.8082315758043,
          3649.299928039754,
          3625.808434514124,
          3606.4151913010064,
          3579.9943860556423,
          3641.3825657642587,
          3612.028952284748,
          3612.964732536914,
          3612.7498242092247,
          3564.6862046745127,
          3594.634651852653,
          3669.9196278075287,
          3748.8418950240716,
          3724.680907250146,
          3737.8207316145886,
          3679.2929978528255,
          3644.420017634233
         ]
        },
        {
         "line": {
          "color": "rgba(255, 0, 0, 0.1)"
         },
         "mode": "lines",
         "name": "Simulation 30",
         "showlegend": false,
         "type": "scatter",
         "x": [
          "2023-01-03T00:00:00",
          "2023-01-04T00:00:00",
          "2023-01-05T00:00:00",
          "2023-01-06T00:00:00",
          "2023-01-09T00:00:00",
          "2023-01-10T00:00:00",
          "2023-01-11T00:00:00",
          "2023-01-12T00:00:00",
          "2023-01-13T00:00:00",
          "2023-01-17T00:00:00",
          "2023-01-18T00:00:00",
          "2023-01-19T00:00:00",
          "2023-01-20T00:00:00",
          "2023-01-23T00:00:00",
          "2023-01-24T00:00:00",
          "2023-01-25T00:00:00",
          "2023-01-26T00:00:00",
          "2023-01-27T00:00:00",
          "2023-01-30T00:00:00",
          "2023-01-31T00:00:00",
          "2023-02-01T00:00:00"
         ],
         "y": [
          3839.5,
          3840.68943801637,
          3895.0971119810165,
          3892.738799313352,
          3914.2121712766516,
          3902.760289325613,
          3861.952938914191,
          3786.640733944556,
          3803.1446687082994,
          3833.3888267194234,
          3865.556815918546,
          3928.3011062000755,
          3974.701224078139,
          3918.679214135525,
          3871.6390726545237,
          3977.146858612509,
          4025.2810674441666,
          3973.18708863786,
          3989.835008656453,
          3887.969482140806,
          3880.581011438254
         ]
        },
        {
         "line": {
          "color": "rgba(255, 0, 0, 0.1)"
         },
         "mode": "lines",
         "name": "Simulation 31",
         "showlegend": false,
         "type": "scatter",
         "x": [
          "2023-01-03T00:00:00",
          "2023-01-04T00:00:00",
          "2023-01-05T00:00:00",
          "2023-01-06T00:00:00",
          "2023-01-09T00:00:00",
          "2023-01-10T00:00:00",
          "2023-01-11T00:00:00",
          "2023-01-12T00:00:00",
          "2023-01-13T00:00:00",
          "2023-01-17T00:00:00",
          "2023-01-18T00:00:00",
          "2023-01-19T00:00:00",
          "2023-01-20T00:00:00",
          "2023-01-23T00:00:00",
          "2023-01-24T00:00:00",
          "2023-01-25T00:00:00",
          "2023-01-26T00:00:00",
          "2023-01-27T00:00:00",
          "2023-01-30T00:00:00",
          "2023-01-31T00:00:00",
          "2023-02-01T00:00:00"
         ],
         "y": [
          3839.5,
          3840.68943801637,
          3929.8704455982092,
          3928.407878678295,
          3915.2628214002457,
          3921.0967467545784,
          3911.0543961871595,
          3877.922440812719,
          3855.062240607313,
          3836.720219819169,
          3706.9016251637145,
          3716.733593358072,
          3663.445615321693,
          3691.52557102738,
          3735.2975369594983,
          3712.353583025827,
          3689.54526405943,
          3697.134166996716,
          3633.006320531306,
          3666.9262280549915,
          3659.3280228923372
         ]
        },
        {
         "line": {
          "color": "rgba(255, 0, 0, 0.1)"
         },
         "mode": "lines",
         "name": "Simulation 32",
         "showlegend": false,
         "type": "scatter",
         "x": [
          "2023-01-03T00:00:00",
          "2023-01-04T00:00:00",
          "2023-01-05T00:00:00",
          "2023-01-06T00:00:00",
          "2023-01-09T00:00:00",
          "2023-01-10T00:00:00",
          "2023-01-11T00:00:00",
          "2023-01-12T00:00:00",
          "2023-01-13T00:00:00",
          "2023-01-17T00:00:00",
          "2023-01-18T00:00:00",
          "2023-01-19T00:00:00",
          "2023-01-20T00:00:00",
          "2023-01-23T00:00:00",
          "2023-01-24T00:00:00",
          "2023-01-25T00:00:00",
          "2023-01-26T00:00:00",
          "2023-01-27T00:00:00",
          "2023-01-30T00:00:00",
          "2023-01-31T00:00:00",
          "2023-02-01T00:00:00"
         ],
         "y": [
          3839.5,
          3840.68943801637,
          3832.1157210537926,
          3889.3456261657575,
          3967.5951875433443,
          3954.623314894159,
          3873.242789595381,
          3903.4590863648336,
          3872.7863336844166,
          3905.7208367089866,
          3784.4102445502176,
          3754.8170256141643,
          3665.373162426207,
          3602.9570680894362,
          3610.3949889818186,
          3581.8898096510875,
          3639.713018894236,
          3610.7609239516464,
          3601.7597113972456,
          3598.5911176473774,
          3624.0181065234074
         ]
        },
        {
         "line": {
          "color": "rgba(255, 0, 0, 0.1)"
         },
         "mode": "lines",
         "name": "Simulation 33",
         "showlegend": false,
         "type": "scatter",
         "x": [
          "2023-01-03T00:00:00",
          "2023-01-04T00:00:00",
          "2023-01-05T00:00:00",
          "2023-01-06T00:00:00",
          "2023-01-09T00:00:00",
          "2023-01-10T00:00:00",
          "2023-01-11T00:00:00",
          "2023-01-12T00:00:00",
          "2023-01-13T00:00:00",
          "2023-01-17T00:00:00",
          "2023-01-18T00:00:00",
          "2023-01-19T00:00:00",
          "2023-01-20T00:00:00",
          "2023-01-23T00:00:00",
          "2023-01-24T00:00:00",
          "2023-01-25T00:00:00",
          "2023-01-26T00:00:00",
          "2023-01-27T00:00:00",
          "2023-01-30T00:00:00",
          "2023-01-31T00:00:00",
          "2023-02-01T00:00:00"
         ],
         "y": [
          3839.5,
          3840.68943801637,
          3897.432290201111,
          3915.6351638745587,
          3893.423987449799,
          3886.0031450136853,
          3919.421958346235,
          3845.3281898371592,
          3863.627211489633,
          3828.788961239989,
          3839.0825076484007,
          3886.404195721378,
          3929.1207794961138,
          3903.7088114034855,
          3902.320146799928,
          3894.2932608399105,
          3837.8400309164817,
          3902.1164342553852,
          3850.264314654718,
          3869.2899883625546,
          3901.6811956270553
         ]
        },
        {
         "line": {
          "color": "rgba(255, 0, 0, 0.1)"
         },
         "mode": "lines",
         "name": "Simulation 34",
         "showlegend": false,
         "type": "scatter",
         "x": [
          "2023-01-03T00:00:00",
          "2023-01-04T00:00:00",
          "2023-01-05T00:00:00",
          "2023-01-06T00:00:00",
          "2023-01-09T00:00:00",
          "2023-01-10T00:00:00",
          "2023-01-11T00:00:00",
          "2023-01-12T00:00:00",
          "2023-01-13T00:00:00",
          "2023-01-17T00:00:00",
          "2023-01-18T00:00:00",
          "2023-01-19T00:00:00",
          "2023-01-20T00:00:00",
          "2023-01-23T00:00:00",
          "2023-01-24T00:00:00",
          "2023-01-25T00:00:00",
          "2023-01-26T00:00:00",
          "2023-01-27T00:00:00",
          "2023-01-30T00:00:00",
          "2023-01-31T00:00:00",
          "2023-02-01T00:00:00"
         ],
         "y": [
          3839.5,
          3840.68943801637,
          3948.932683857456,
          3917.53607039563,
          3942.4618502122325,
          4002.699573136558,
          4078.24441937877,
          4070.404249608233,
          4084.3411849684117,
          4057.8848254995155,
          4058.6689314656755,
          4061.958495204682,
          4055.093857313514,
          4090.660571377325,
          4125.828208837075,
          4079.5466455589653,
          4019.7533099710986,
          3995.975262205895,
          3971.023552796584,
          3933.3786257642428,
          3896.2564953926167
         ]
        },
        {
         "line": {
          "color": "rgba(255, 0, 0, 0.1)"
         },
         "mode": "lines",
         "name": "Simulation 35",
         "showlegend": false,
         "type": "scatter",
         "x": [
          "2023-01-03T00:00:00",
          "2023-01-04T00:00:00",
          "2023-01-05T00:00:00",
          "2023-01-06T00:00:00",
          "2023-01-09T00:00:00",
          "2023-01-10T00:00:00",
          "2023-01-11T00:00:00",
          "2023-01-12T00:00:00",
          "2023-01-13T00:00:00",
          "2023-01-17T00:00:00",
          "2023-01-18T00:00:00",
          "2023-01-19T00:00:00",
          "2023-01-20T00:00:00",
          "2023-01-23T00:00:00",
          "2023-01-24T00:00:00",
          "2023-01-25T00:00:00",
          "2023-01-26T00:00:00",
          "2023-01-27T00:00:00",
          "2023-01-30T00:00:00",
          "2023-01-31T00:00:00",
          "2023-02-01T00:00:00"
         ],
         "y": [
          3839.5,
          3840.68943801637,
          3835.656075666975,
          3814.815424210399,
          3818.1199290020436,
          3863.6952087502973,
          3863.114699479118,
          3861.534482705098,
          3897.2309329149284,
          4046.8577770349198,
          4147.747921102664,
          4084.8694271818445,
          4141.434685617707,
          4189.058720509521,
          4301.583258885418,
          4393.6353632293785,
          4420.670584576606,
          4420.404426104475,
          4458.36162196292,
          4398.021226664272,
          4373.250211020748
         ]
        },
        {
         "line": {
          "color": "rgba(255, 0, 0, 0.1)"
         },
         "mode": "lines",
         "name": "Simulation 36",
         "showlegend": false,
         "type": "scatter",
         "x": [
          "2023-01-03T00:00:00",
          "2023-01-04T00:00:00",
          "2023-01-05T00:00:00",
          "2023-01-06T00:00:00",
          "2023-01-09T00:00:00",
          "2023-01-10T00:00:00",
          "2023-01-11T00:00:00",
          "2023-01-12T00:00:00",
          "2023-01-13T00:00:00",
          "2023-01-17T00:00:00",
          "2023-01-18T00:00:00",
          "2023-01-19T00:00:00",
          "2023-01-20T00:00:00",
          "2023-01-23T00:00:00",
          "2023-01-24T00:00:00",
          "2023-01-25T00:00:00",
          "2023-01-26T00:00:00",
          "2023-01-27T00:00:00",
          "2023-01-30T00:00:00",
          "2023-01-31T00:00:00",
          "2023-02-01T00:00:00"
         ],
         "y": [
          3839.5,
          3840.68943801637,
          3800.8588527330044,
          3823.548988086944,
          3805.684759743695,
          3909.35401514105,
          3989.4100277292,
          4048.8590625125294,
          4082.9553525083793,
          4120.183036553604,
          4185.68573806842,
          4187.055275193063,
          4182.971570088383,
          4187.763927585006,
          4168.075612913886,
          4249.502016490967,
          4280.349876292991,
          4282.478519261728,
          4229.633588497884,
          4185.542954672032,
          4167.03939664266
         ]
        },
        {
         "line": {
          "color": "rgba(255, 0, 0, 0.1)"
         },
         "mode": "lines",
         "name": "Simulation 37",
         "showlegend": false,
         "type": "scatter",
         "x": [
          "2023-01-03T00:00:00",
          "2023-01-04T00:00:00",
          "2023-01-05T00:00:00",
          "2023-01-06T00:00:00",
          "2023-01-09T00:00:00",
          "2023-01-10T00:00:00",
          "2023-01-11T00:00:00",
          "2023-01-12T00:00:00",
          "2023-01-13T00:00:00",
          "2023-01-17T00:00:00",
          "2023-01-18T00:00:00",
          "2023-01-19T00:00:00",
          "2023-01-20T00:00:00",
          "2023-01-23T00:00:00",
          "2023-01-24T00:00:00",
          "2023-01-25T00:00:00",
          "2023-01-26T00:00:00",
          "2023-01-27T00:00:00",
          "2023-01-30T00:00:00",
          "2023-01-31T00:00:00",
          "2023-02-01T00:00:00"
         ],
         "y": [
          3839.5,
          3840.68943801637,
          3800.3163934801955,
          3855.417136177618,
          3857.126578703578,
          3831.1373871059545,
          3811.0273897462544,
          3785.8001108677086,
          3843.686140544926,
          3910.4718582399564,
          3954.6284495011,
          3970.885278811545,
          4015.796314981433,
          3964.2728938832443,
          3937.7595719169312,
          3934.186291333024,
          3893.094467568262,
          3907.438365052302,
          3947.7217975428593,
          3858.2772501542977,
          3796.3623214274453
         ]
        },
        {
         "line": {
          "color": "rgba(255, 0, 0, 0.1)"
         },
         "mode": "lines",
         "name": "Simulation 38",
         "showlegend": false,
         "type": "scatter",
         "x": [
          "2023-01-03T00:00:00",
          "2023-01-04T00:00:00",
          "2023-01-05T00:00:00",
          "2023-01-06T00:00:00",
          "2023-01-09T00:00:00",
          "2023-01-10T00:00:00",
          "2023-01-11T00:00:00",
          "2023-01-12T00:00:00",
          "2023-01-13T00:00:00",
          "2023-01-17T00:00:00",
          "2023-01-18T00:00:00",
          "2023-01-19T00:00:00",
          "2023-01-20T00:00:00",
          "2023-01-23T00:00:00",
          "2023-01-24T00:00:00",
          "2023-01-25T00:00:00",
          "2023-01-26T00:00:00",
          "2023-01-27T00:00:00",
          "2023-01-30T00:00:00",
          "2023-01-31T00:00:00",
          "2023-02-01T00:00:00"
         ],
         "y": [
          3839.5,
          3840.68943801637,
          3865.019431798836,
          3828.3943206347294,
          3840.2773545527107,
          3838.07430161858,
          3809.9289309445294,
          3794.7779013484324,
          3853.6685324470786,
          3854.854868746236,
          3876.921802365933,
          3874.7236533995365,
          3946.264072005357,
          3956.511024263511,
          3978.883784570692,
          3985.6497397132534,
          3982.5404742636574,
          4003.2223322598743,
          3963.198106128795,
          3885.5177678053324,
          3885.5939746123454
         ]
        },
        {
         "line": {
          "color": "rgba(255, 0, 0, 0.1)"
         },
         "mode": "lines",
         "name": "Simulation 39",
         "showlegend": false,
         "type": "scatter",
         "x": [
          "2023-01-03T00:00:00",
          "2023-01-04T00:00:00",
          "2023-01-05T00:00:00",
          "2023-01-06T00:00:00",
          "2023-01-09T00:00:00",
          "2023-01-10T00:00:00",
          "2023-01-11T00:00:00",
          "2023-01-12T00:00:00",
          "2023-01-13T00:00:00",
          "2023-01-17T00:00:00",
          "2023-01-18T00:00:00",
          "2023-01-19T00:00:00",
          "2023-01-20T00:00:00",
          "2023-01-23T00:00:00",
          "2023-01-24T00:00:00",
          "2023-01-25T00:00:00",
          "2023-01-26T00:00:00",
          "2023-01-27T00:00:00",
          "2023-01-30T00:00:00",
          "2023-01-31T00:00:00",
          "2023-02-01T00:00:00"
         ],
         "y": [
          3839.5,
          3840.68943801637,
          3934.5571204498133,
          3894.9601806790256,
          3824.2877751796077,
          3793.8452918180546,
          3844.7171735719016,
          3884.219523178638,
          3945.531472129516,
          3910.442297995931,
          3875.968822933204,
          3874.7947993696557,
          3790.920267263982,
          3826.471902657419,
          3753.6167947056083,
          3792.19090883459,
          3727.663657854771,
          3708.51461825085,
          3724.569937866613,
          3805.1784246056463,
          3819.6314789309836
         ]
        },
        {
         "line": {
          "color": "rgba(255, 0, 0, 0.1)"
         },
         "mode": "lines",
         "name": "Simulation 40",
         "showlegend": false,
         "type": "scatter",
         "x": [
          "2023-01-03T00:00:00",
          "2023-01-04T00:00:00",
          "2023-01-05T00:00:00",
          "2023-01-06T00:00:00",
          "2023-01-09T00:00:00",
          "2023-01-10T00:00:00",
          "2023-01-11T00:00:00",
          "2023-01-12T00:00:00",
          "2023-01-13T00:00:00",
          "2023-01-17T00:00:00",
          "2023-01-18T00:00:00",
          "2023-01-19T00:00:00",
          "2023-01-20T00:00:00",
          "2023-01-23T00:00:00",
          "2023-01-24T00:00:00",
          "2023-01-25T00:00:00",
          "2023-01-26T00:00:00",
          "2023-01-27T00:00:00",
          "2023-01-30T00:00:00",
          "2023-01-31T00:00:00",
          "2023-02-01T00:00:00"
         ],
         "y": [
          3839.5,
          3840.68943801637,
          3807.6503983670214,
          3735.755808393877,
          3621.227114866604,
          3669.2938795484743,
          3727.2491243067743,
          3701.8078038598246,
          3747.361036052623,
          3746.5900155562667,
          3761.5541860337257,
          3760.9143853463415,
          3767.97994199684,
          3828.179406516027,
          3723.74049689783,
          3744.4847127753173,
          3753.5352814958587,
          3599.819501525955,
          3664.983252640586,
          3660.4742433526126,
          3634.2648209486338
         ]
        },
        {
         "line": {
          "color": "rgba(255, 0, 0, 0.1)"
         },
         "mode": "lines",
         "name": "Simulation 41",
         "showlegend": false,
         "type": "scatter",
         "x": [
          "2023-01-03T00:00:00",
          "2023-01-04T00:00:00",
          "2023-01-05T00:00:00",
          "2023-01-06T00:00:00",
          "2023-01-09T00:00:00",
          "2023-01-10T00:00:00",
          "2023-01-11T00:00:00",
          "2023-01-12T00:00:00",
          "2023-01-13T00:00:00",
          "2023-01-17T00:00:00",
          "2023-01-18T00:00:00",
          "2023-01-19T00:00:00",
          "2023-01-20T00:00:00",
          "2023-01-23T00:00:00",
          "2023-01-24T00:00:00",
          "2023-01-25T00:00:00",
          "2023-01-26T00:00:00",
          "2023-01-27T00:00:00",
          "2023-01-30T00:00:00",
          "2023-01-31T00:00:00",
          "2023-02-01T00:00:00"
         ],
         "y": [
          3839.5,
          3840.68943801637,
          3842.423526457469,
          3810.118224569383,
          3816.7909813535234,
          3788.3772091072838,
          3768.7643109160595,
          3689.9206209462527,
          3679.42031575316,
          3729.468686175225,
          3701.250324862221,
          3708.4662133232105,
          3627.480564182568,
          3623.1217551743835,
          3613.7282460083934,
          3548.8581082762134,
          3568.6089936482663,
          3556.9508409684227,
          3505.541139878791,
          3467.942460832222,
          3455.216096354161
         ]
        },
        {
         "line": {
          "color": "rgba(255, 0, 0, 0.1)"
         },
         "mode": "lines",
         "name": "Simulation 42",
         "showlegend": false,
         "type": "scatter",
         "x": [
          "2023-01-03T00:00:00",
          "2023-01-04T00:00:00",
          "2023-01-05T00:00:00",
          "2023-01-06T00:00:00",
          "2023-01-09T00:00:00",
          "2023-01-10T00:00:00",
          "2023-01-11T00:00:00",
          "2023-01-12T00:00:00",
          "2023-01-13T00:00:00",
          "2023-01-17T00:00:00",
          "2023-01-18T00:00:00",
          "2023-01-19T00:00:00",
          "2023-01-20T00:00:00",
          "2023-01-23T00:00:00",
          "2023-01-24T00:00:00",
          "2023-01-25T00:00:00",
          "2023-01-26T00:00:00",
          "2023-01-27T00:00:00",
          "2023-01-30T00:00:00",
          "2023-01-31T00:00:00",
          "2023-02-01T00:00:00"
         ],
         "y": [
          3839.5,
          3840.68943801637,
          3792.6421613691414,
          3825.1210940813658,
          3874.6011016015473,
          3906.5727727437848,
          3914.6817416610575,
          3859.19518652241,
          3827.1646466502007,
          3835.4654354367776,
          3850.897672585382,
          3837.7818092930725,
          3903.9779066021415,
          3768.0644191764036,
          3774.490510003687,
          3765.3745614610925,
          3729.775190637425,
          3651.120182428119,
          3607.1561392378458,
          3624.139268054608,
          3599.9094265373424
         ]
        },
        {
         "line": {
          "color": "rgba(255, 0, 0, 0.1)"
         },
         "mode": "lines",
         "name": "Simulation 43",
         "showlegend": false,
         "type": "scatter",
         "x": [
          "2023-01-03T00:00:00",
          "2023-01-04T00:00:00",
          "2023-01-05T00:00:00",
          "2023-01-06T00:00:00",
          "2023-01-09T00:00:00",
          "2023-01-10T00:00:00",
          "2023-01-11T00:00:00",
          "2023-01-12T00:00:00",
          "2023-01-13T00:00:00",
          "2023-01-17T00:00:00",
          "2023-01-18T00:00:00",
          "2023-01-19T00:00:00",
          "2023-01-20T00:00:00",
          "2023-01-23T00:00:00",
          "2023-01-24T00:00:00",
          "2023-01-25T00:00:00",
          "2023-01-26T00:00:00",
          "2023-01-27T00:00:00",
          "2023-01-30T00:00:00",
          "2023-01-31T00:00:00",
          "2023-02-01T00:00:00"
         ],
         "y": [
          3839.5,
          3840.68943801637,
          3815.098125000985,
          3853.701133573194,
          3849.4855596083044,
          3794.6455437376094,
          3835.7617168118354,
          3849.4184514679914,
          3937.4871658974744,
          4012.23043665346,
          3954.52035786844,
          4016.3272369222555,
          4093.615715744176,
          4074.27841184807,
          4105.125694172202,
          4068.516603150898,
          4122.5891080624915,
          4129.74449566668,
          4175.331346307334,
          4170.707160596196,
          4176.995004487998
         ]
        },
        {
         "line": {
          "color": "rgba(255, 0, 0, 0.1)"
         },
         "mode": "lines",
         "name": "Simulation 44",
         "showlegend": false,
         "type": "scatter",
         "x": [
          "2023-01-03T00:00:00",
          "2023-01-04T00:00:00",
          "2023-01-05T00:00:00",
          "2023-01-06T00:00:00",
          "2023-01-09T00:00:00",
          "2023-01-10T00:00:00",
          "2023-01-11T00:00:00",
          "2023-01-12T00:00:00",
          "2023-01-13T00:00:00",
          "2023-01-17T00:00:00",
          "2023-01-18T00:00:00",
          "2023-01-19T00:00:00",
          "2023-01-20T00:00:00",
          "2023-01-23T00:00:00",
          "2023-01-24T00:00:00",
          "2023-01-25T00:00:00",
          "2023-01-26T00:00:00",
          "2023-01-27T00:00:00",
          "2023-01-30T00:00:00",
          "2023-01-31T00:00:00",
          "2023-02-01T00:00:00"
         ],
         "y": [
          3839.5,
          3840.68943801637,
          3799.733644878758,
          3816.0978587511377,
          3758.295649963754,
          3724.5945802415954,
          3697.893904346691,
          3716.599603912232,
          3719.383555918829,
          3743.1644742675294,
          3766.4319027761967,
          3775.5553876988797,
          3757.808108159213,
          3767.901618740591,
          3861.297037676689,
          3866.4374148873276,
          3841.872796114075,
          3803.932420347849,
          3846.567977911841,
          3883.995788278531,
          3783.8579702748016
         ]
        },
        {
         "line": {
          "color": "rgba(255, 0, 0, 0.1)"
         },
         "mode": "lines",
         "name": "Simulation 45",
         "showlegend": false,
         "type": "scatter",
         "x": [
          "2023-01-03T00:00:00",
          "2023-01-04T00:00:00",
          "2023-01-05T00:00:00",
          "2023-01-06T00:00:00",
          "2023-01-09T00:00:00",
          "2023-01-10T00:00:00",
          "2023-01-11T00:00:00",
          "2023-01-12T00:00:00",
          "2023-01-13T00:00:00",
          "2023-01-17T00:00:00",
          "2023-01-18T00:00:00",
          "2023-01-19T00:00:00",
          "2023-01-20T00:00:00",
          "2023-01-23T00:00:00",
          "2023-01-24T00:00:00",
          "2023-01-25T00:00:00",
          "2023-01-26T00:00:00",
          "2023-01-27T00:00:00",
          "2023-01-30T00:00:00",
          "2023-01-31T00:00:00",
          "2023-02-01T00:00:00"
         ],
         "y": [
          3839.5,
          3840.68943801637,
          3772.0996833823065,
          3701.198537899826,
          3678.3841214768167,
          3608.6571829716563,
          3592.457786683078,
          3562.35569666022,
          3584.091277231163,
          3584.817972775851,
          3565.0717944970806,
          3570.2853493889556,
          3553.780093051432,
          3501.146989954855,
          3515.8476617034767,
          3557.850505198664,
          3612.9294082211622,
          3593.2415630859014,
          3665.285265628392,
          3664.5415437277893,
          3717.3714421064647
         ]
        },
        {
         "line": {
          "color": "rgba(255, 0, 0, 0.1)"
         },
         "mode": "lines",
         "name": "Simulation 46",
         "showlegend": false,
         "type": "scatter",
         "x": [
          "2023-01-03T00:00:00",
          "2023-01-04T00:00:00",
          "2023-01-05T00:00:00",
          "2023-01-06T00:00:00",
          "2023-01-09T00:00:00",
          "2023-01-10T00:00:00",
          "2023-01-11T00:00:00",
          "2023-01-12T00:00:00",
          "2023-01-13T00:00:00",
          "2023-01-17T00:00:00",
          "2023-01-18T00:00:00",
          "2023-01-19T00:00:00",
          "2023-01-20T00:00:00",
          "2023-01-23T00:00:00",
          "2023-01-24T00:00:00",
          "2023-01-25T00:00:00",
          "2023-01-26T00:00:00",
          "2023-01-27T00:00:00",
          "2023-01-30T00:00:00",
          "2023-01-31T00:00:00",
          "2023-02-01T00:00:00"
         ],
         "y": [
          3839.5,
          3840.68943801637,
          3732.6582304707895,
          3790.416414831129,
          3728.4390157866296,
          3738.4360830615383,
          3777.2022304556267,
          3808.742554216891,
          3783.592353634661,
          3810.9632089003308,
          3910.7184233010717,
          3948.115751450656,
          3945.5575499364677,
          3937.9165957134196,
          3882.4768052106715,
          3849.313344909574,
          3834.6570120760684,
          3794.9354694323324,
          3842.4827405251604,
          3878.5063602581636,
          3910.409449060575
         ]
        },
        {
         "line": {
          "color": "rgba(255, 0, 0, 0.1)"
         },
         "mode": "lines",
         "name": "Simulation 47",
         "showlegend": false,
         "type": "scatter",
         "x": [
          "2023-01-03T00:00:00",
          "2023-01-04T00:00:00",
          "2023-01-05T00:00:00",
          "2023-01-06T00:00:00",
          "2023-01-09T00:00:00",
          "2023-01-10T00:00:00",
          "2023-01-11T00:00:00",
          "2023-01-12T00:00:00",
          "2023-01-13T00:00:00",
          "2023-01-17T00:00:00",
          "2023-01-18T00:00:00",
          "2023-01-19T00:00:00",
          "2023-01-20T00:00:00",
          "2023-01-23T00:00:00",
          "2023-01-24T00:00:00",
          "2023-01-25T00:00:00",
          "2023-01-26T00:00:00",
          "2023-01-27T00:00:00",
          "2023-01-30T00:00:00",
          "2023-01-31T00:00:00",
          "2023-02-01T00:00:00"
         ],
         "y": [
          3839.5,
          3840.68943801637,
          3845.8352125442707,
          3843.088621984911,
          3841.7283134852223,
          3771.9605058616266,
          3804.5359506831956,
          3815.132337650129,
          3796.399082423301,
          3813.9878303650344,
          3860.8015354591944,
          3909.815590014137,
          3861.051136582082,
          3789.4454665454787,
          3747.1593328465506,
          3750.543416754691,
          3752.306776206003,
          3702.284745540995,
          3736.6439012064966,
          3781.677783411079,
          3853.0361905500627
         ]
        },
        {
         "line": {
          "color": "rgba(255, 0, 0, 0.1)"
         },
         "mode": "lines",
         "name": "Simulation 48",
         "showlegend": false,
         "type": "scatter",
         "x": [
          "2023-01-03T00:00:00",
          "2023-01-04T00:00:00",
          "2023-01-05T00:00:00",
          "2023-01-06T00:00:00",
          "2023-01-09T00:00:00",
          "2023-01-10T00:00:00",
          "2023-01-11T00:00:00",
          "2023-01-12T00:00:00",
          "2023-01-13T00:00:00",
          "2023-01-17T00:00:00",
          "2023-01-18T00:00:00",
          "2023-01-19T00:00:00",
          "2023-01-20T00:00:00",
          "2023-01-23T00:00:00",
          "2023-01-24T00:00:00",
          "2023-01-25T00:00:00",
          "2023-01-26T00:00:00",
          "2023-01-27T00:00:00",
          "2023-01-30T00:00:00",
          "2023-01-31T00:00:00",
          "2023-02-01T00:00:00"
         ],
         "y": [
          3839.5,
          3840.68943801637,
          3935.533402859195,
          3997.326054331348,
          4008.623731239423,
          4135.3879669215685,
          4094.3882052502795,
          4085.915915728189,
          4060.139690772345,
          4064.0154260321788,
          4099.699831249109,
          4199.324597160979,
          4180.241509016822,
          4138.371167547481,
          4130.395355841775,
          4146.597424493464,
          4180.8883604359025,
          4148.470672556611,
          4173.728251203708,
          4106.697803329664,
          4128.933920383884
         ]
        },
        {
         "line": {
          "color": "rgba(255, 0, 0, 0.1)"
         },
         "mode": "lines",
         "name": "Simulation 49",
         "showlegend": false,
         "type": "scatter",
         "x": [
          "2023-01-03T00:00:00",
          "2023-01-04T00:00:00",
          "2023-01-05T00:00:00",
          "2023-01-06T00:00:00",
          "2023-01-09T00:00:00",
          "2023-01-10T00:00:00",
          "2023-01-11T00:00:00",
          "2023-01-12T00:00:00",
          "2023-01-13T00:00:00",
          "2023-01-17T00:00:00",
          "2023-01-18T00:00:00",
          "2023-01-19T00:00:00",
          "2023-01-20T00:00:00",
          "2023-01-23T00:00:00",
          "2023-01-24T00:00:00",
          "2023-01-25T00:00:00",
          "2023-01-26T00:00:00",
          "2023-01-27T00:00:00",
          "2023-01-30T00:00:00",
          "2023-01-31T00:00:00",
          "2023-02-01T00:00:00"
         ],
         "y": [
          3839.5,
          3840.68943801637,
          3826.6955845491475,
          3863.940264714463,
          3910.686108298517,
          3871.8850241865002,
          3867.157321212516,
          3775.9637244571727,
          3755.626456899597,
          3820.5034658726195,
          3871.0311539198747,
          3875.352470833118,
          3839.8720499017263,
          3767.860188479337,
          3846.472918976238,
          3947.5952401202885,
          3971.082349309843,
          3979.241681156537,
          3995.6343399289576,
          4028.2692151470374,
          4078.092316658247
         ]
        },
        {
         "line": {
          "color": "rgba(255, 0, 0, 0.1)"
         },
         "mode": "lines",
         "name": "Simulation 50",
         "showlegend": false,
         "type": "scatter",
         "x": [
          "2023-01-03T00:00:00",
          "2023-01-04T00:00:00",
          "2023-01-05T00:00:00",
          "2023-01-06T00:00:00",
          "2023-01-09T00:00:00",
          "2023-01-10T00:00:00",
          "2023-01-11T00:00:00",
          "2023-01-12T00:00:00",
          "2023-01-13T00:00:00",
          "2023-01-17T00:00:00",
          "2023-01-18T00:00:00",
          "2023-01-19T00:00:00",
          "2023-01-20T00:00:00",
          "2023-01-23T00:00:00",
          "2023-01-24T00:00:00",
          "2023-01-25T00:00:00",
          "2023-01-26T00:00:00",
          "2023-01-27T00:00:00",
          "2023-01-30T00:00:00",
          "2023-01-31T00:00:00",
          "2023-02-01T00:00:00"
         ],
         "y": [
          3839.5,
          3840.68943801637,
          3900.3991692219356,
          3899.2961004975,
          3874.5229072277075,
          3849.0892260741834,
          3907.844260177937,
          3868.101099848682,
          3830.457589804837,
          3889.75516085757,
          3899.978635567718,
          3808.3383723606316,
          3801.486792930605,
          3859.012671365258,
          3909.25664840458,
          3865.6895539344705,
          3783.413970368893,
          3767.496261868518,
          3779.051511000386,
          3766.392562273278,
          3837.31587468398
         ]
        },
        {
         "line": {
          "color": "rgba(255, 0, 0, 0.1)"
         },
         "mode": "lines",
         "name": "Simulation 51",
         "showlegend": false,
         "type": "scatter",
         "x": [
          "2023-01-03T00:00:00",
          "2023-01-04T00:00:00",
          "2023-01-05T00:00:00",
          "2023-01-06T00:00:00",
          "2023-01-09T00:00:00",
          "2023-01-10T00:00:00",
          "2023-01-11T00:00:00",
          "2023-01-12T00:00:00",
          "2023-01-13T00:00:00",
          "2023-01-17T00:00:00",
          "2023-01-18T00:00:00",
          "2023-01-19T00:00:00",
          "2023-01-20T00:00:00",
          "2023-01-23T00:00:00",
          "2023-01-24T00:00:00",
          "2023-01-25T00:00:00",
          "2023-01-26T00:00:00",
          "2023-01-27T00:00:00",
          "2023-01-30T00:00:00",
          "2023-01-31T00:00:00",
          "2023-02-01T00:00:00"
         ],
         "y": [
          3839.5,
          3840.68943801637,
          3944.5299356357887,
          3975.946610940428,
          3960.495820054833,
          3979.91288706632,
          4001.066331048434,
          3930.230352298871,
          3868.5617726801693,
          3824.953948230316,
          3809.839247371099,
          3822.2386670885458,
          3754.645079444821,
          3828.930152771322,
          3824.5698280537317,
          3762.8019158622355,
          3796.865430745754,
          3716.1049155419914,
          3708.081561799028,
          3649.0486425769245,
          3669.950392672266
         ]
        },
        {
         "line": {
          "color": "rgba(255, 0, 0, 0.1)"
         },
         "mode": "lines",
         "name": "Simulation 52",
         "showlegend": false,
         "type": "scatter",
         "x": [
          "2023-01-03T00:00:00",
          "2023-01-04T00:00:00",
          "2023-01-05T00:00:00",
          "2023-01-06T00:00:00",
          "2023-01-09T00:00:00",
          "2023-01-10T00:00:00",
          "2023-01-11T00:00:00",
          "2023-01-12T00:00:00",
          "2023-01-13T00:00:00",
          "2023-01-17T00:00:00",
          "2023-01-18T00:00:00",
          "2023-01-19T00:00:00",
          "2023-01-20T00:00:00",
          "2023-01-23T00:00:00",
          "2023-01-24T00:00:00",
          "2023-01-25T00:00:00",
          "2023-01-26T00:00:00",
          "2023-01-27T00:00:00",
          "2023-01-30T00:00:00",
          "2023-01-31T00:00:00",
          "2023-02-01T00:00:00"
         ],
         "y": [
          3839.5,
          3840.68943801637,
          3774.7326591738242,
          3804.549498080232,
          3797.9237781122647,
          3804.067232234071,
          3832.817156904744,
          3802.3269655686086,
          3828.069419387842,
          3814.888970504759,
          3776.431135111502,
          3766.632147355347,
          3786.1242986347806,
          3820.6146515157407,
          3760.062883368404,
          3840.813791338372,
          3841.0221360068563,
          3950.902437586516,
          4006.6226190427196,
          4030.8766910559543,
          3968.9780820507362
         ]
        },
        {
         "line": {
          "color": "rgba(255, 0, 0, 0.1)"
         },
         "mode": "lines",
         "name": "Simulation 53",
         "showlegend": false,
         "type": "scatter",
         "x": [
          "2023-01-03T00:00:00",
          "2023-01-04T00:00:00",
          "2023-01-05T00:00:00",
          "2023-01-06T00:00:00",
          "2023-01-09T00:00:00",
          "2023-01-10T00:00:00",
          "2023-01-11T00:00:00",
          "2023-01-12T00:00:00",
          "2023-01-13T00:00:00",
          "2023-01-17T00:00:00",
          "2023-01-18T00:00:00",
          "2023-01-19T00:00:00",
          "2023-01-20T00:00:00",
          "2023-01-23T00:00:00",
          "2023-01-24T00:00:00",
          "2023-01-25T00:00:00",
          "2023-01-26T00:00:00",
          "2023-01-27T00:00:00",
          "2023-01-30T00:00:00",
          "2023-01-31T00:00:00",
          "2023-02-01T00:00:00"
         ],
         "y": [
          3839.5,
          3840.68943801637,
          3796.857345000298,
          3811.488494973421,
          3803.4048659330983,
          3757.817168763624,
          3760.112868806597,
          3814.383664207461,
          3858.104788597694,
          3790.744145252787,
          3870.540833704145,
          3939.9637126758157,
          3966.3789177209064,
          3962.590188733104,
          4056.2030676617114,
          4057.7685204456543,
          4030.4344477939508,
          3972.9261332205183,
          4027.1039558695807,
          4032.5897848886752,
          4033.4676831420074
         ]
        },
        {
         "line": {
          "color": "rgba(255, 0, 0, 0.1)"
         },
         "mode": "lines",
         "name": "Simulation 54",
         "showlegend": false,
         "type": "scatter",
         "x": [
          "2023-01-03T00:00:00",
          "2023-01-04T00:00:00",
          "2023-01-05T00:00:00",
          "2023-01-06T00:00:00",
          "2023-01-09T00:00:00",
          "2023-01-10T00:00:00",
          "2023-01-11T00:00:00",
          "2023-01-12T00:00:00",
          "2023-01-13T00:00:00",
          "2023-01-17T00:00:00",
          "2023-01-18T00:00:00",
          "2023-01-19T00:00:00",
          "2023-01-20T00:00:00",
          "2023-01-23T00:00:00",
          "2023-01-24T00:00:00",
          "2023-01-25T00:00:00",
          "2023-01-26T00:00:00",
          "2023-01-27T00:00:00",
          "2023-01-30T00:00:00",
          "2023-01-31T00:00:00",
          "2023-02-01T00:00:00"
         ],
         "y": [
          3839.5,
          3840.68943801637,
          3857.5384322691293,
          3861.5120617328894,
          3917.70005089231,
          3874.0839009437996,
          3846.988504467603,
          3871.552954101489,
          3856.4612173391074,
          3811.7560089500257,
          3741.264930227919,
          3777.54994829932,
          3781.1066356674833,
          3808.169151369888,
          3823.0166851068884,
          3806.9065773846933,
          3807.6163402489897,
          3827.1341843053215,
          3764.522973666319,
          3734.294889331572,
          3727.409648737757
         ]
        },
        {
         "line": {
          "color": "rgba(255, 0, 0, 0.1)"
         },
         "mode": "lines",
         "name": "Simulation 55",
         "showlegend": false,
         "type": "scatter",
         "x": [
          "2023-01-03T00:00:00",
          "2023-01-04T00:00:00",
          "2023-01-05T00:00:00",
          "2023-01-06T00:00:00",
          "2023-01-09T00:00:00",
          "2023-01-10T00:00:00",
          "2023-01-11T00:00:00",
          "2023-01-12T00:00:00",
          "2023-01-13T00:00:00",
          "2023-01-17T00:00:00",
          "2023-01-18T00:00:00",
          "2023-01-19T00:00:00",
          "2023-01-20T00:00:00",
          "2023-01-23T00:00:00",
          "2023-01-24T00:00:00",
          "2023-01-25T00:00:00",
          "2023-01-26T00:00:00",
          "2023-01-27T00:00:00",
          "2023-01-30T00:00:00",
          "2023-01-31T00:00:00",
          "2023-02-01T00:00:00"
         ],
         "y": [
          3839.5,
          3840.68943801637,
          3776.643669613404,
          3735.6357484827026,
          3624.6905837221348,
          3580.5568790267425,
          3583.591057497445,
          3597.3964555786665,
          3565.7558995294935,
          3465.320727377387,
          3407.096096988955,
          3455.268050171479,
          3423.418672475274,
          3345.520936331494,
          3419.2191412479897,
          3445.326794343732,
          3497.5312739388646,
          3535.7647356331427,
          3578.7526894136668,
          3627.7821644807177,
          3600.4279558516155
         ]
        },
        {
         "line": {
          "color": "rgba(255, 0, 0, 0.1)"
         },
         "mode": "lines",
         "name": "Simulation 56",
         "showlegend": false,
         "type": "scatter",
         "x": [
          "2023-01-03T00:00:00",
          "2023-01-04T00:00:00",
          "2023-01-05T00:00:00",
          "2023-01-06T00:00:00",
          "2023-01-09T00:00:00",
          "2023-01-10T00:00:00",
          "2023-01-11T00:00:00",
          "2023-01-12T00:00:00",
          "2023-01-13T00:00:00",
          "2023-01-17T00:00:00",
          "2023-01-18T00:00:00",
          "2023-01-19T00:00:00",
          "2023-01-20T00:00:00",
          "2023-01-23T00:00:00",
          "2023-01-24T00:00:00",
          "2023-01-25T00:00:00",
          "2023-01-26T00:00:00",
          "2023-01-27T00:00:00",
          "2023-01-30T00:00:00",
          "2023-01-31T00:00:00",
          "2023-02-01T00:00:00"
         ],
         "y": [
          3839.5,
          3840.68943801637,
          3851.607732645948,
          3915.1293217093635,
          3925.4104199320886,
          3920.92484289625,
          3868.9560055457678,
          3903.7752273716774,
          3865.8688387927227,
          3855.211235507916,
          3824.109186021286,
          3776.3822638617426,
          3820.779597704222,
          3823.36514704762,
          3743.6842691576308,
          3639.6594957892635,
          3643.3276711812864,
          3721.264152346882,
          3710.564938833589,
          3700.8829951006546,
          3661.3071030441174
         ]
        },
        {
         "line": {
          "color": "rgba(255, 0, 0, 0.1)"
         },
         "mode": "lines",
         "name": "Simulation 57",
         "showlegend": false,
         "type": "scatter",
         "x": [
          "2023-01-03T00:00:00",
          "2023-01-04T00:00:00",
          "2023-01-05T00:00:00",
          "2023-01-06T00:00:00",
          "2023-01-09T00:00:00",
          "2023-01-10T00:00:00",
          "2023-01-11T00:00:00",
          "2023-01-12T00:00:00",
          "2023-01-13T00:00:00",
          "2023-01-17T00:00:00",
          "2023-01-18T00:00:00",
          "2023-01-19T00:00:00",
          "2023-01-20T00:00:00",
          "2023-01-23T00:00:00",
          "2023-01-24T00:00:00",
          "2023-01-25T00:00:00",
          "2023-01-26T00:00:00",
          "2023-01-27T00:00:00",
          "2023-01-30T00:00:00",
          "2023-01-31T00:00:00",
          "2023-02-01T00:00:00"
         ],
         "y": [
          3839.5,
          3840.68943801637,
          3834.3259991732057,
          3767.0395337971922,
          3725.7081417868344,
          3712.0523306173063,
          3730.369473891554,
          3730.6131252597934,
          3693.681612883531,
          3653.2445374759322,
          3672.811425522891,
          3637.4120932570913,
          3601.497327770431,
          3675.622461539596,
          3661.4781696035598,
          3726.296423577529,
          3696.848324623057,
          3717.6901018298286,
          3710.2023522939107,
          3686.742823491935,
          3768.583522472314
         ]
        },
        {
         "line": {
          "color": "rgba(255, 0, 0, 0.1)"
         },
         "mode": "lines",
         "name": "Simulation 58",
         "showlegend": false,
         "type": "scatter",
         "x": [
          "2023-01-03T00:00:00",
          "2023-01-04T00:00:00",
          "2023-01-05T00:00:00",
          "2023-01-06T00:00:00",
          "2023-01-09T00:00:00",
          "2023-01-10T00:00:00",
          "2023-01-11T00:00:00",
          "2023-01-12T00:00:00",
          "2023-01-13T00:00:00",
          "2023-01-17T00:00:00",
          "2023-01-18T00:00:00",
          "2023-01-19T00:00:00",
          "2023-01-20T00:00:00",
          "2023-01-23T00:00:00",
          "2023-01-24T00:00:00",
          "2023-01-25T00:00:00",
          "2023-01-26T00:00:00",
          "2023-01-27T00:00:00",
          "2023-01-30T00:00:00",
          "2023-01-31T00:00:00",
          "2023-02-01T00:00:00"
         ],
         "y": [
          3839.5,
          3840.68943801637,
          3817.6276208919594,
          3756.3942027584953,
          3727.239477112115,
          3768.717772405823,
          3761.999865391987,
          3775.5401668892996,
          3824.622284132699,
          3900.47007233259,
          3856.968764669748,
          3782.168435316104,
          3782.7664593609984,
          3825.202659090482,
          3829.4284039503964,
          3756.7024339241407,
          3773.5284347167567,
          3822.7193171266845,
          3831.6110147081463,
          3829.552907464475,
          3874.605795202831
         ]
        },
        {
         "line": {
          "color": "rgba(255, 0, 0, 0.1)"
         },
         "mode": "lines",
         "name": "Simulation 59",
         "showlegend": false,
         "type": "scatter",
         "x": [
          "2023-01-03T00:00:00",
          "2023-01-04T00:00:00",
          "2023-01-05T00:00:00",
          "2023-01-06T00:00:00",
          "2023-01-09T00:00:00",
          "2023-01-10T00:00:00",
          "2023-01-11T00:00:00",
          "2023-01-12T00:00:00",
          "2023-01-13T00:00:00",
          "2023-01-17T00:00:00",
          "2023-01-18T00:00:00",
          "2023-01-19T00:00:00",
          "2023-01-20T00:00:00",
          "2023-01-23T00:00:00",
          "2023-01-24T00:00:00",
          "2023-01-25T00:00:00",
          "2023-01-26T00:00:00",
          "2023-01-27T00:00:00",
          "2023-01-30T00:00:00",
          "2023-01-31T00:00:00",
          "2023-02-01T00:00:00"
         ],
         "y": [
          3839.5,
          3840.68943801637,
          3845.2263564170757,
          3875.352263054562,
          3830.056161973912,
          3791.231060906957,
          3764.9756245960034,
          3779.4615833552107,
          3665.8443006638868,
          3604.5153886247676,
          3596.6497086580157,
          3616.6956585525986,
          3699.5183335306306,
          3745.5186881339077,
          3698.1914921499797,
          3634.8045860767934,
          3560.4248395297236,
          3672.2357905976087,
          3713.811569221443,
          3675.847062010961,
          3757.499768036244
         ]
        },
        {
         "line": {
          "color": "rgba(255, 0, 0, 0.1)"
         },
         "mode": "lines",
         "name": "Simulation 60",
         "showlegend": false,
         "type": "scatter",
         "x": [
          "2023-01-03T00:00:00",
          "2023-01-04T00:00:00",
          "2023-01-05T00:00:00",
          "2023-01-06T00:00:00",
          "2023-01-09T00:00:00",
          "2023-01-10T00:00:00",
          "2023-01-11T00:00:00",
          "2023-01-12T00:00:00",
          "2023-01-13T00:00:00",
          "2023-01-17T00:00:00",
          "2023-01-18T00:00:00",
          "2023-01-19T00:00:00",
          "2023-01-20T00:00:00",
          "2023-01-23T00:00:00",
          "2023-01-24T00:00:00",
          "2023-01-25T00:00:00",
          "2023-01-26T00:00:00",
          "2023-01-27T00:00:00",
          "2023-01-30T00:00:00",
          "2023-01-31T00:00:00",
          "2023-02-01T00:00:00"
         ],
         "y": [
          3839.5,
          3840.68943801637,
          3886.5627536065804,
          3913.2135274988345,
          3936.359144847771,
          3955.146116244579,
          4008.8988880324137,
          4055.499394479652,
          4029.9512664331783,
          4018.315255780546,
          3961.066725629034,
          4028.9161223379524,
          4103.228683984956,
          4065.316644686381,
          4128.654153046888,
          4121.997221097345,
          4047.4885902691663,
          4091.0715928870864,
          4087.954226036771,
          4113.400292268455,
          4073.395153710335
         ]
        },
        {
         "line": {
          "color": "rgba(255, 0, 0, 0.1)"
         },
         "mode": "lines",
         "name": "Simulation 61",
         "showlegend": false,
         "type": "scatter",
         "x": [
          "2023-01-03T00:00:00",
          "2023-01-04T00:00:00",
          "2023-01-05T00:00:00",
          "2023-01-06T00:00:00",
          "2023-01-09T00:00:00",
          "2023-01-10T00:00:00",
          "2023-01-11T00:00:00",
          "2023-01-12T00:00:00",
          "2023-01-13T00:00:00",
          "2023-01-17T00:00:00",
          "2023-01-18T00:00:00",
          "2023-01-19T00:00:00",
          "2023-01-20T00:00:00",
          "2023-01-23T00:00:00",
          "2023-01-24T00:00:00",
          "2023-01-25T00:00:00",
          "2023-01-26T00:00:00",
          "2023-01-27T00:00:00",
          "2023-01-30T00:00:00",
          "2023-01-31T00:00:00",
          "2023-02-01T00:00:00"
         ],
         "y": [
          3839.5,
          3840.68943801637,
          3862.246502459845,
          3834.8695382501814,
          3859.339915631081,
          3775.845068313117,
          3765.7904680669985,
          3787.6477786719483,
          3789.479727578325,
          3790.0867640330575,
          3791.147807075487,
          3785.607779415114,
          3827.5447294789974,
          3830.4270759363876,
          3831.725442595448,
          3821.71706607083,
          3792.38483731404,
          3677.8604495396157,
          3659.647847509069,
          3598.8876253215144,
          3590.51106520076
         ]
        },
        {
         "line": {
          "color": "rgba(255, 0, 0, 0.1)"
         },
         "mode": "lines",
         "name": "Simulation 62",
         "showlegend": false,
         "type": "scatter",
         "x": [
          "2023-01-03T00:00:00",
          "2023-01-04T00:00:00",
          "2023-01-05T00:00:00",
          "2023-01-06T00:00:00",
          "2023-01-09T00:00:00",
          "2023-01-10T00:00:00",
          "2023-01-11T00:00:00",
          "2023-01-12T00:00:00",
          "2023-01-13T00:00:00",
          "2023-01-17T00:00:00",
          "2023-01-18T00:00:00",
          "2023-01-19T00:00:00",
          "2023-01-20T00:00:00",
          "2023-01-23T00:00:00",
          "2023-01-24T00:00:00",
          "2023-01-25T00:00:00",
          "2023-01-26T00:00:00",
          "2023-01-27T00:00:00",
          "2023-01-30T00:00:00",
          "2023-01-31T00:00:00",
          "2023-02-01T00:00:00"
         ],
         "y": [
          3839.5,
          3840.68943801637,
          3851.84192805788,
          3849.2587829896875,
          3826.386515150712,
          3734.8283023547074,
          3730.075674128029,
          3792.8309770515652,
          3752.365086923708,
          3680.282225169255,
          3704.22702565904,
          3706.501404043008,
          3711.3296961736387,
          3770.5315829888386,
          3817.5319307061486,
          3724.2973534431117,
          3661.2244336739836,
          3629.029990099695,
          3600.155497506056,
          3565.5140031207543,
          3610.5268981731333
         ]
        },
        {
         "line": {
          "color": "rgba(255, 0, 0, 0.1)"
         },
         "mode": "lines",
         "name": "Simulation 63",
         "showlegend": false,
         "type": "scatter",
         "x": [
          "2023-01-03T00:00:00",
          "2023-01-04T00:00:00",
          "2023-01-05T00:00:00",
          "2023-01-06T00:00:00",
          "2023-01-09T00:00:00",
          "2023-01-10T00:00:00",
          "2023-01-11T00:00:00",
          "2023-01-12T00:00:00",
          "2023-01-13T00:00:00",
          "2023-01-17T00:00:00",
          "2023-01-18T00:00:00",
          "2023-01-19T00:00:00",
          "2023-01-20T00:00:00",
          "2023-01-23T00:00:00",
          "2023-01-24T00:00:00",
          "2023-01-25T00:00:00",
          "2023-01-26T00:00:00",
          "2023-01-27T00:00:00",
          "2023-01-30T00:00:00",
          "2023-01-31T00:00:00",
          "2023-02-01T00:00:00"
         ],
         "y": [
          3839.5,
          3840.68943801637,
          3891.634928099399,
          3888.4391793924265,
          4032.577013742677,
          4027.376535212744,
          4089.2252958737627,
          4069.020013110058,
          4025.5579970474496,
          4093.1560864290705,
          4093.951192374907,
          4154.811114319271,
          4067.2287778252867,
          4046.7259731602912,
          4014.2547631728953,
          4053.078774521076,
          4028.6471203215183,
          4047.232163491411,
          4018.0934132577086,
          4036.5066238017703,
          4021.0895470442074
         ]
        },
        {
         "line": {
          "color": "rgba(255, 0, 0, 0.1)"
         },
         "mode": "lines",
         "name": "Simulation 64",
         "showlegend": false,
         "type": "scatter",
         "x": [
          "2023-01-03T00:00:00",
          "2023-01-04T00:00:00",
          "2023-01-05T00:00:00",
          "2023-01-06T00:00:00",
          "2023-01-09T00:00:00",
          "2023-01-10T00:00:00",
          "2023-01-11T00:00:00",
          "2023-01-12T00:00:00",
          "2023-01-13T00:00:00",
          "2023-01-17T00:00:00",
          "2023-01-18T00:00:00",
          "2023-01-19T00:00:00",
          "2023-01-20T00:00:00",
          "2023-01-23T00:00:00",
          "2023-01-24T00:00:00",
          "2023-01-25T00:00:00",
          "2023-01-26T00:00:00",
          "2023-01-27T00:00:00",
          "2023-01-30T00:00:00",
          "2023-01-31T00:00:00",
          "2023-02-01T00:00:00"
         ],
         "y": [
          3839.5,
          3840.68943801637,
          3799.9321191968725,
          3804.9791398105463,
          3792.8336281797647,
          3788.4573488188425,
          3831.891513121779,
          3820.1430405682427,
          3831.7766981148134,
          3794.37708786054,
          3850.270479474885,
          3961.5769465791245,
          3981.9674020286493,
          3964.783180555764,
          4011.936168870869,
          3917.8568857680184,
          3837.9746839090585,
          3841.5081386517245,
          3817.675595842128,
          3831.92752300337,
          3905.845403624887
         ]
        },
        {
         "line": {
          "color": "rgba(255, 0, 0, 0.1)"
         },
         "mode": "lines",
         "name": "Simulation 65",
         "showlegend": false,
         "type": "scatter",
         "x": [
          "2023-01-03T00:00:00",
          "2023-01-04T00:00:00",
          "2023-01-05T00:00:00",
          "2023-01-06T00:00:00",
          "2023-01-09T00:00:00",
          "2023-01-10T00:00:00",
          "2023-01-11T00:00:00",
          "2023-01-12T00:00:00",
          "2023-01-13T00:00:00",
          "2023-01-17T00:00:00",
          "2023-01-18T00:00:00",
          "2023-01-19T00:00:00",
          "2023-01-20T00:00:00",
          "2023-01-23T00:00:00",
          "2023-01-24T00:00:00",
          "2023-01-25T00:00:00",
          "2023-01-26T00:00:00",
          "2023-01-27T00:00:00",
          "2023-01-30T00:00:00",
          "2023-01-31T00:00:00",
          "2023-02-01T00:00:00"
         ],
         "y": [
          3839.5,
          3840.68943801637,
          3844.061376942163,
          3806.261644378446,
          3817.3059495598286,
          3758.1824785174235,
          3665.071787134118,
          3675.28251848669,
          3662.4729691752705,
          3617.471182925028,
          3645.8973172772644,
          3641.7414746726095,
          3685.7083375740035,
          3681.9129124798174,
          3648.53006210233,
          3650.944463335939,
          3712.9393435590905,
          3719.8576809411334,
          3671.6882835788174,
          3688.6589855909656,
          3717.5695517073204
         ]
        },
        {
         "line": {
          "color": "rgba(255, 0, 0, 0.1)"
         },
         "mode": "lines",
         "name": "Simulation 66",
         "showlegend": false,
         "type": "scatter",
         "x": [
          "2023-01-03T00:00:00",
          "2023-01-04T00:00:00",
          "2023-01-05T00:00:00",
          "2023-01-06T00:00:00",
          "2023-01-09T00:00:00",
          "2023-01-10T00:00:00",
          "2023-01-11T00:00:00",
          "2023-01-12T00:00:00",
          "2023-01-13T00:00:00",
          "2023-01-17T00:00:00",
          "2023-01-18T00:00:00",
          "2023-01-19T00:00:00",
          "2023-01-20T00:00:00",
          "2023-01-23T00:00:00",
          "2023-01-24T00:00:00",
          "2023-01-25T00:00:00",
          "2023-01-26T00:00:00",
          "2023-01-27T00:00:00",
          "2023-01-30T00:00:00",
          "2023-01-31T00:00:00",
          "2023-02-01T00:00:00"
         ],
         "y": [
          3839.5,
          3840.68943801637,
          3877.7643860186186,
          3903.418068072833,
          3945.8561680389416,
          3964.442951735171,
          4045.347440965713,
          4055.350228098203,
          4114.5196372545615,
          4069.7391288429317,
          4031.787453090301,
          4059.4233966838055,
          4118.343698965096,
          4053.888934659774,
          4001.6292484784453,
          4037.8227335213796,
          4026.0757786266686,
          4042.7600100867426,
          4012.717418958369,
          3978.791183140293,
          3918.730075494744
         ]
        },
        {
         "line": {
          "color": "rgba(255, 0, 0, 0.1)"
         },
         "mode": "lines",
         "name": "Simulation 67",
         "showlegend": false,
         "type": "scatter",
         "x": [
          "2023-01-03T00:00:00",
          "2023-01-04T00:00:00",
          "2023-01-05T00:00:00",
          "2023-01-06T00:00:00",
          "2023-01-09T00:00:00",
          "2023-01-10T00:00:00",
          "2023-01-11T00:00:00",
          "2023-01-12T00:00:00",
          "2023-01-13T00:00:00",
          "2023-01-17T00:00:00",
          "2023-01-18T00:00:00",
          "2023-01-19T00:00:00",
          "2023-01-20T00:00:00",
          "2023-01-23T00:00:00",
          "2023-01-24T00:00:00",
          "2023-01-25T00:00:00",
          "2023-01-26T00:00:00",
          "2023-01-27T00:00:00",
          "2023-01-30T00:00:00",
          "2023-01-31T00:00:00",
          "2023-02-01T00:00:00"
         ],
         "y": [
          3839.5,
          3840.68943801637,
          3796.2152273188563,
          3742.8719650101216,
          3793.1113027802953,
          3817.7659073910136,
          3792.796964489529,
          3758.0403748510707,
          3741.4244384671697,
          3783.7083350905186,
          3745.97963865645,
          3814.5862817232914,
          3777.4509751773653,
          3762.8409672620523,
          3739.944030161353,
          3708.203333486773,
          3788.962369760287,
          3781.6181951405315,
          3773.4610701286333,
          3815.559849583893,
          3822.1959771734278
         ]
        },
        {
         "line": {
          "color": "rgba(255, 0, 0, 0.1)"
         },
         "mode": "lines",
         "name": "Simulation 68",
         "showlegend": false,
         "type": "scatter",
         "x": [
          "2023-01-03T00:00:00",
          "2023-01-04T00:00:00",
          "2023-01-05T00:00:00",
          "2023-01-06T00:00:00",
          "2023-01-09T00:00:00",
          "2023-01-10T00:00:00",
          "2023-01-11T00:00:00",
          "2023-01-12T00:00:00",
          "2023-01-13T00:00:00",
          "2023-01-17T00:00:00",
          "2023-01-18T00:00:00",
          "2023-01-19T00:00:00",
          "2023-01-20T00:00:00",
          "2023-01-23T00:00:00",
          "2023-01-24T00:00:00",
          "2023-01-25T00:00:00",
          "2023-01-26T00:00:00",
          "2023-01-27T00:00:00",
          "2023-01-30T00:00:00",
          "2023-01-31T00:00:00",
          "2023-02-01T00:00:00"
         ],
         "y": [
          3839.5,
          3840.68943801637,
          3791.8836361226836,
          3851.128192486818,
          3852.1993777719536,
          3815.271664847591,
          3832.5808257257036,
          3868.229432176249,
          3858.0706527203884,
          3824.3945013621606,
          3783.795600281456,
          3783.236099776074,
          3702.9533220585995,
          3706.108609014449,
          3708.048850115599,
          3760.776810938147,
          3752.0209111454506,
          3754.1834652655634,
          3737.054155919173,
          3646.380998390909,
          3693.144545660448
         ]
        },
        {
         "line": {
          "color": "rgba(255, 0, 0, 0.1)"
         },
         "mode": "lines",
         "name": "Simulation 69",
         "showlegend": false,
         "type": "scatter",
         "x": [
          "2023-01-03T00:00:00",
          "2023-01-04T00:00:00",
          "2023-01-05T00:00:00",
          "2023-01-06T00:00:00",
          "2023-01-09T00:00:00",
          "2023-01-10T00:00:00",
          "2023-01-11T00:00:00",
          "2023-01-12T00:00:00",
          "2023-01-13T00:00:00",
          "2023-01-17T00:00:00",
          "2023-01-18T00:00:00",
          "2023-01-19T00:00:00",
          "2023-01-20T00:00:00",
          "2023-01-23T00:00:00",
          "2023-01-24T00:00:00",
          "2023-01-25T00:00:00",
          "2023-01-26T00:00:00",
          "2023-01-27T00:00:00",
          "2023-01-30T00:00:00",
          "2023-01-31T00:00:00",
          "2023-02-01T00:00:00"
         ],
         "y": [
          3839.5,
          3840.68943801637,
          3786.4688496587128,
          3726.367042763911,
          3689.7011755166536,
          3705.374726475546,
          3773.736045384641,
          3714.184360720177,
          3762.2127513463893,
          3799.602049300717,
          3866.6176822664893,
          3901.0218860071723,
          3829.8729272036935,
          3785.6773512072,
          3772.7695592647488,
          3782.364444208313,
          3746.9180225365294,
          3765.472751830886,
          3802.304792493933,
          3726.8033695569566,
          3736.840627107018
         ]
        },
        {
         "line": {
          "color": "rgba(255, 0, 0, 0.1)"
         },
         "mode": "lines",
         "name": "Simulation 70",
         "showlegend": false,
         "type": "scatter",
         "x": [
          "2023-01-03T00:00:00",
          "2023-01-04T00:00:00",
          "2023-01-05T00:00:00",
          "2023-01-06T00:00:00",
          "2023-01-09T00:00:00",
          "2023-01-10T00:00:00",
          "2023-01-11T00:00:00",
          "2023-01-12T00:00:00",
          "2023-01-13T00:00:00",
          "2023-01-17T00:00:00",
          "2023-01-18T00:00:00",
          "2023-01-19T00:00:00",
          "2023-01-20T00:00:00",
          "2023-01-23T00:00:00",
          "2023-01-24T00:00:00",
          "2023-01-25T00:00:00",
          "2023-01-26T00:00:00",
          "2023-01-27T00:00:00",
          "2023-01-30T00:00:00",
          "2023-01-31T00:00:00",
          "2023-02-01T00:00:00"
         ],
         "y": [
          3839.5,
          3840.68943801637,
          3833.9226776383316,
          3842.790065512928,
          3875.752576446688,
          3905.9924381039664,
          3884.965269406106,
          3785.9446129769763,
          3843.955722498081,
          3805.5655204996565,
          3793.2335565083217,
          3685.8186269290054,
          3685.731998315264,
          3638.661865060074,
          3653.0713169592073,
          3636.281992435301,
          3570.4355550869386,
          3606.341877844479,
          3612.708516182419,
          3592.2203942516426,
          3610.289698544009
         ]
        },
        {
         "line": {
          "color": "rgba(255, 0, 0, 0.1)"
         },
         "mode": "lines",
         "name": "Simulation 71",
         "showlegend": false,
         "type": "scatter",
         "x": [
          "2023-01-03T00:00:00",
          "2023-01-04T00:00:00",
          "2023-01-05T00:00:00",
          "2023-01-06T00:00:00",
          "2023-01-09T00:00:00",
          "2023-01-10T00:00:00",
          "2023-01-11T00:00:00",
          "2023-01-12T00:00:00",
          "2023-01-13T00:00:00",
          "2023-01-17T00:00:00",
          "2023-01-18T00:00:00",
          "2023-01-19T00:00:00",
          "2023-01-20T00:00:00",
          "2023-01-23T00:00:00",
          "2023-01-24T00:00:00",
          "2023-01-25T00:00:00",
          "2023-01-26T00:00:00",
          "2023-01-27T00:00:00",
          "2023-01-30T00:00:00",
          "2023-01-31T00:00:00",
          "2023-02-01T00:00:00"
         ],
         "y": [
          3839.5,
          3840.68943801637,
          3859.938255355551,
          3775.795445940967,
          3805.1159828697546,
          3776.050991658658,
          3801.7455211041984,
          3791.9624659821898,
          3789.582487237367,
          3758.1561539866607,
          3679.721549969348,
          3659.669975678418,
          3647.3100570052825,
          3724.245725590001,
          3670.319824496258,
          3657.5241420985176,
          3684.505350635188,
          3727.195741625268,
          3762.6351791191896,
          3757.189224798454,
          3765.158283597327
         ]
        },
        {
         "line": {
          "color": "rgba(255, 0, 0, 0.1)"
         },
         "mode": "lines",
         "name": "Simulation 72",
         "showlegend": false,
         "type": "scatter",
         "x": [
          "2023-01-03T00:00:00",
          "2023-01-04T00:00:00",
          "2023-01-05T00:00:00",
          "2023-01-06T00:00:00",
          "2023-01-09T00:00:00",
          "2023-01-10T00:00:00",
          "2023-01-11T00:00:00",
          "2023-01-12T00:00:00",
          "2023-01-13T00:00:00",
          "2023-01-17T00:00:00",
          "2023-01-18T00:00:00",
          "2023-01-19T00:00:00",
          "2023-01-20T00:00:00",
          "2023-01-23T00:00:00",
          "2023-01-24T00:00:00",
          "2023-01-25T00:00:00",
          "2023-01-26T00:00:00",
          "2023-01-27T00:00:00",
          "2023-01-30T00:00:00",
          "2023-01-31T00:00:00",
          "2023-02-01T00:00:00"
         ],
         "y": [
          3839.5,
          3840.68943801637,
          3844.9048812275832,
          3849.575798384285,
          3801.460712333113,
          3783.106544718102,
          3763.6171876696303,
          3837.5428023592403,
          3822.201288923763,
          3867.8201111458106,
          3881.394276313259,
          3863.2563083819114,
          3807.4218670296427,
          3818.2822020566055,
          3820.346483402066,
          3734.328519501154,
          3732.4108108669066,
          3678.0659549445454,
          3691.69595244605,
          3685.8292534753436,
          3725.362713627706
         ]
        },
        {
         "line": {
          "color": "rgba(255, 0, 0, 0.1)"
         },
         "mode": "lines",
         "name": "Simulation 73",
         "showlegend": false,
         "type": "scatter",
         "x": [
          "2023-01-03T00:00:00",
          "2023-01-04T00:00:00",
          "2023-01-05T00:00:00",
          "2023-01-06T00:00:00",
          "2023-01-09T00:00:00",
          "2023-01-10T00:00:00",
          "2023-01-11T00:00:00",
          "2023-01-12T00:00:00",
          "2023-01-13T00:00:00",
          "2023-01-17T00:00:00",
          "2023-01-18T00:00:00",
          "2023-01-19T00:00:00",
          "2023-01-20T00:00:00",
          "2023-01-23T00:00:00",
          "2023-01-24T00:00:00",
          "2023-01-25T00:00:00",
          "2023-01-26T00:00:00",
          "2023-01-27T00:00:00",
          "2023-01-30T00:00:00",
          "2023-01-31T00:00:00",
          "2023-02-01T00:00:00"
         ],
         "y": [
          3839.5,
          3840.68943801637,
          3882.712142352446,
          3840.000405922368,
          3884.2912553129772,
          3900.198944286966,
          3887.6430912583683,
          3955.633100734576,
          3935.9403682495476,
          3940.9751111693454,
          4010.574045775259,
          4052.2799004503504,
          4038.1096468807077,
          4071.6071812293712,
          4166.783934714633,
          4172.096883832425,
          4151.467631511388,
          4174.775672675792,
          4191.886098720414,
          4256.961771519785,
          4228.348620356443
         ]
        },
        {
         "line": {
          "color": "rgba(255, 0, 0, 0.1)"
         },
         "mode": "lines",
         "name": "Simulation 74",
         "showlegend": false,
         "type": "scatter",
         "x": [
          "2023-01-03T00:00:00",
          "2023-01-04T00:00:00",
          "2023-01-05T00:00:00",
          "2023-01-06T00:00:00",
          "2023-01-09T00:00:00",
          "2023-01-10T00:00:00",
          "2023-01-11T00:00:00",
          "2023-01-12T00:00:00",
          "2023-01-13T00:00:00",
          "2023-01-17T00:00:00",
          "2023-01-18T00:00:00",
          "2023-01-19T00:00:00",
          "2023-01-20T00:00:00",
          "2023-01-23T00:00:00",
          "2023-01-24T00:00:00",
          "2023-01-25T00:00:00",
          "2023-01-26T00:00:00",
          "2023-01-27T00:00:00",
          "2023-01-30T00:00:00",
          "2023-01-31T00:00:00",
          "2023-02-01T00:00:00"
         ],
         "y": [
          3839.5,
          3840.68943801637,
          3745.9721958457276,
          3792.3755368772518,
          3770.422480388769,
          3809.010143339824,
          3833.375080140066,
          3798.585811018755,
          3761.857329190659,
          3709.592135812422,
          3755.0066496137156,
          3721.5126490920106,
          3664.6938259458816,
          3711.5730663872278,
          3752.8268624848174,
          3799.003567310847,
          3795.0788992024827,
          3721.8065134233257,
          3727.4087352217216,
          3690.3758821853003,
          3721.4467044193257
         ]
        },
        {
         "line": {
          "color": "rgba(255, 0, 0, 0.1)"
         },
         "mode": "lines",
         "name": "Simulation 75",
         "showlegend": false,
         "type": "scatter",
         "x": [
          "2023-01-03T00:00:00",
          "2023-01-04T00:00:00",
          "2023-01-05T00:00:00",
          "2023-01-06T00:00:00",
          "2023-01-09T00:00:00",
          "2023-01-10T00:00:00",
          "2023-01-11T00:00:00",
          "2023-01-12T00:00:00",
          "2023-01-13T00:00:00",
          "2023-01-17T00:00:00",
          "2023-01-18T00:00:00",
          "2023-01-19T00:00:00",
          "2023-01-20T00:00:00",
          "2023-01-23T00:00:00",
          "2023-01-24T00:00:00",
          "2023-01-25T00:00:00",
          "2023-01-26T00:00:00",
          "2023-01-27T00:00:00",
          "2023-01-30T00:00:00",
          "2023-01-31T00:00:00",
          "2023-02-01T00:00:00"
         ],
         "y": [
          3839.5,
          3840.68943801637,
          3807.856032275793,
          3679.242723443684,
          3675.7685541796845,
          3687.927623269947,
          3681.0104430494985,
          3657.8201292052936,
          3594.845498746173,
          3616.4092872307415,
          3602.977012602781,
          3606.464634241794,
          3610.3073901024977,
          3567.8272193213543,
          3551.093210634758,
          3560.3239198986043,
          3554.4128936089182,
          3537.6427327812826,
          3523.545341756247,
          3489.217435412137,
          3492.0530250601596
         ]
        },
        {
         "line": {
          "color": "rgba(255, 0, 0, 0.1)"
         },
         "mode": "lines",
         "name": "Simulation 76",
         "showlegend": false,
         "type": "scatter",
         "x": [
          "2023-01-03T00:00:00",
          "2023-01-04T00:00:00",
          "2023-01-05T00:00:00",
          "2023-01-06T00:00:00",
          "2023-01-09T00:00:00",
          "2023-01-10T00:00:00",
          "2023-01-11T00:00:00",
          "2023-01-12T00:00:00",
          "2023-01-13T00:00:00",
          "2023-01-17T00:00:00",
          "2023-01-18T00:00:00",
          "2023-01-19T00:00:00",
          "2023-01-20T00:00:00",
          "2023-01-23T00:00:00",
          "2023-01-24T00:00:00",
          "2023-01-25T00:00:00",
          "2023-01-26T00:00:00",
          "2023-01-27T00:00:00",
          "2023-01-30T00:00:00",
          "2023-01-31T00:00:00",
          "2023-02-01T00:00:00"
         ],
         "y": [
          3839.5,
          3840.68943801637,
          3940.096363185447,
          3916.752743095686,
          3923.9924222908517,
          3903.407217474755,
          3965.6946713946572,
          3987.4953933108054,
          4034.6278171887,
          4048.697255083518,
          4085.1159767579265,
          4154.774560933929,
          4218.711769769052,
          4162.703468639536,
          4159.144926318955,
          4174.491885571473,
          4179.087529722355,
          4162.304971613496,
          4146.804251103643,
          4060.0341842412204,
          3989.778952877833
         ]
        },
        {
         "line": {
          "color": "rgba(255, 0, 0, 0.1)"
         },
         "mode": "lines",
         "name": "Simulation 77",
         "showlegend": false,
         "type": "scatter",
         "x": [
          "2023-01-03T00:00:00",
          "2023-01-04T00:00:00",
          "2023-01-05T00:00:00",
          "2023-01-06T00:00:00",
          "2023-01-09T00:00:00",
          "2023-01-10T00:00:00",
          "2023-01-11T00:00:00",
          "2023-01-12T00:00:00",
          "2023-01-13T00:00:00",
          "2023-01-17T00:00:00",
          "2023-01-18T00:00:00",
          "2023-01-19T00:00:00",
          "2023-01-20T00:00:00",
          "2023-01-23T00:00:00",
          "2023-01-24T00:00:00",
          "2023-01-25T00:00:00",
          "2023-01-26T00:00:00",
          "2023-01-27T00:00:00",
          "2023-01-30T00:00:00",
          "2023-01-31T00:00:00",
          "2023-02-01T00:00:00"
         ],
         "y": [
          3839.5,
          3840.68943801637,
          3848.751027609515,
          3890.0470739845814,
          3934.2398873322713,
          3943.1254936430933,
          3931.294392613086,
          3919.5901103739047,
          3981.899289097411,
          4036.0007715275983,
          4055.532543364692,
          4103.600532321204,
          4080.015881515417,
          4115.698468474477,
          4074.9737285330593,
          3983.093427186266,
          4076.379534460881,
          4081.536340331919,
          4087.6400306645423,
          4083.603660251094,
          4094.2656326085453
         ]
        },
        {
         "line": {
          "color": "rgba(255, 0, 0, 0.1)"
         },
         "mode": "lines",
         "name": "Simulation 78",
         "showlegend": false,
         "type": "scatter",
         "x": [
          "2023-01-03T00:00:00",
          "2023-01-04T00:00:00",
          "2023-01-05T00:00:00",
          "2023-01-06T00:00:00",
          "2023-01-09T00:00:00",
          "2023-01-10T00:00:00",
          "2023-01-11T00:00:00",
          "2023-01-12T00:00:00",
          "2023-01-13T00:00:00",
          "2023-01-17T00:00:00",
          "2023-01-18T00:00:00",
          "2023-01-19T00:00:00",
          "2023-01-20T00:00:00",
          "2023-01-23T00:00:00",
          "2023-01-24T00:00:00",
          "2023-01-25T00:00:00",
          "2023-01-26T00:00:00",
          "2023-01-27T00:00:00",
          "2023-01-30T00:00:00",
          "2023-01-31T00:00:00",
          "2023-02-01T00:00:00"
         ],
         "y": [
          3839.5,
          3840.68943801637,
          3791.115061339422,
          3761.8401511412844,
          3730.0049950418706,
          3697.409809535568,
          3699.8143392871093,
          3663.8814287511404,
          3656.885849709069,
          3596.896170191288,
          3592.5680437004658,
          3529.407463115117,
          3482.2711211110004,
          3494.2820759283886,
          3497.8066285572936,
          3561.2360082360456,
          3614.7885897101396,
          3606.4959889261477,
          3624.0840893226227,
          3643.274773676638,
          3683.5339630840845
         ]
        },
        {
         "line": {
          "color": "rgba(255, 0, 0, 0.1)"
         },
         "mode": "lines",
         "name": "Simulation 79",
         "showlegend": false,
         "type": "scatter",
         "x": [
          "2023-01-03T00:00:00",
          "2023-01-04T00:00:00",
          "2023-01-05T00:00:00",
          "2023-01-06T00:00:00",
          "2023-01-09T00:00:00",
          "2023-01-10T00:00:00",
          "2023-01-11T00:00:00",
          "2023-01-12T00:00:00",
          "2023-01-13T00:00:00",
          "2023-01-17T00:00:00",
          "2023-01-18T00:00:00",
          "2023-01-19T00:00:00",
          "2023-01-20T00:00:00",
          "2023-01-23T00:00:00",
          "2023-01-24T00:00:00",
          "2023-01-25T00:00:00",
          "2023-01-26T00:00:00",
          "2023-01-27T00:00:00",
          "2023-01-30T00:00:00",
          "2023-01-31T00:00:00",
          "2023-02-01T00:00:00"
         ],
         "y": [
          3839.5,
          3840.68943801637,
          3803.3942229326094,
          3764.9407278176236,
          3826.6668322288524,
          3839.5627558418896,
          3783.3828553785766,
          3674.6540997615302,
          3644.104256067289,
          3597.1257472295647,
          3655.9003572754273,
          3641.4815480748275,
          3638.9821799712363,
          3588.8045779266263,
          3555.9777371628725,
          3593.7679852184306,
          3584.124433046618,
          3633.8584176557956,
          3564.3188273122573,
          3509.018545906503,
          3492.9889798386666
         ]
        },
        {
         "line": {
          "color": "rgba(255, 0, 0, 0.1)"
         },
         "mode": "lines",
         "name": "Simulation 80",
         "showlegend": false,
         "type": "scatter",
         "x": [
          "2023-01-03T00:00:00",
          "2023-01-04T00:00:00",
          "2023-01-05T00:00:00",
          "2023-01-06T00:00:00",
          "2023-01-09T00:00:00",
          "2023-01-10T00:00:00",
          "2023-01-11T00:00:00",
          "2023-01-12T00:00:00",
          "2023-01-13T00:00:00",
          "2023-01-17T00:00:00",
          "2023-01-18T00:00:00",
          "2023-01-19T00:00:00",
          "2023-01-20T00:00:00",
          "2023-01-23T00:00:00",
          "2023-01-24T00:00:00",
          "2023-01-25T00:00:00",
          "2023-01-26T00:00:00",
          "2023-01-27T00:00:00",
          "2023-01-30T00:00:00",
          "2023-01-31T00:00:00",
          "2023-02-01T00:00:00"
         ],
         "y": [
          3839.5,
          3840.68943801637,
          3870.32542929153,
          3847.693128153158,
          3876.0219368218673,
          3859.293185068384,
          3925.019186438579,
          3976.2283171514814,
          4006.21540067007,
          4033.3996299601044,
          4022.3263079128915,
          3990.9329284918313,
          4027.9317755723423,
          3999.9716081766896,
          3902.0445226056468,
          3810.4444661031157,
          3803.51089298412,
          3816.038214852351,
          3820.152829596627,
          3699.005582047981,
          3653.917745728124
         ]
        },
        {
         "line": {
          "color": "rgba(255, 0, 0, 0.1)"
         },
         "mode": "lines",
         "name": "Simulation 81",
         "showlegend": false,
         "type": "scatter",
         "x": [
          "2023-01-03T00:00:00",
          "2023-01-04T00:00:00",
          "2023-01-05T00:00:00",
          "2023-01-06T00:00:00",
          "2023-01-09T00:00:00",
          "2023-01-10T00:00:00",
          "2023-01-11T00:00:00",
          "2023-01-12T00:00:00",
          "2023-01-13T00:00:00",
          "2023-01-17T00:00:00",
          "2023-01-18T00:00:00",
          "2023-01-19T00:00:00",
          "2023-01-20T00:00:00",
          "2023-01-23T00:00:00",
          "2023-01-24T00:00:00",
          "2023-01-25T00:00:00",
          "2023-01-26T00:00:00",
          "2023-01-27T00:00:00",
          "2023-01-30T00:00:00",
          "2023-01-31T00:00:00",
          "2023-02-01T00:00:00"
         ],
         "y": [
          3839.5,
          3840.68943801637,
          3863.802790915507,
          3960.2754423630263,
          3935.479080428604,
          3870.821288311455,
          3818.0105817629697,
          3824.1324137167585,
          3774.036125164526,
          3734.367448156152,
          3660.291097136768,
          3657.6822731327193,
          3666.0950707586485,
          3631.6797142296627,
          3666.2891875007317,
          3695.1712356365283,
          3649.6120820098886,
          3642.8738696607315,
          3640.44795633992,
          3548.2346811274697,
          3542.962064608818
         ]
        },
        {
         "line": {
          "color": "rgba(255, 0, 0, 0.1)"
         },
         "mode": "lines",
         "name": "Simulation 82",
         "showlegend": false,
         "type": "scatter",
         "x": [
          "2023-01-03T00:00:00",
          "2023-01-04T00:00:00",
          "2023-01-05T00:00:00",
          "2023-01-06T00:00:00",
          "2023-01-09T00:00:00",
          "2023-01-10T00:00:00",
          "2023-01-11T00:00:00",
          "2023-01-12T00:00:00",
          "2023-01-13T00:00:00",
          "2023-01-17T00:00:00",
          "2023-01-18T00:00:00",
          "2023-01-19T00:00:00",
          "2023-01-20T00:00:00",
          "2023-01-23T00:00:00",
          "2023-01-24T00:00:00",
          "2023-01-25T00:00:00",
          "2023-01-26T00:00:00",
          "2023-01-27T00:00:00",
          "2023-01-30T00:00:00",
          "2023-01-31T00:00:00",
          "2023-02-01T00:00:00"
         ],
         "y": [
          3839.5,
          3840.68943801637,
          3802.469925583478,
          3701.648684206293,
          3707.327497306752,
          3739.3493161029683,
          3669.5767409259165,
          3645.460758475912,
          3680.760384235709,
          3610.975914257915,
          3679.5888696222887,
          3692.9387562351008,
          3719.301672861303,
          3709.544214519461,
          3660.963387857377,
          3689.5075433160528,
          3713.861424340504,
          3669.3689563067005,
          3701.088489622768,
          3683.275573476485,
          3708.465748467783
         ]
        },
        {
         "line": {
          "color": "rgba(255, 0, 0, 0.1)"
         },
         "mode": "lines",
         "name": "Simulation 83",
         "showlegend": false,
         "type": "scatter",
         "x": [
          "2023-01-03T00:00:00",
          "2023-01-04T00:00:00",
          "2023-01-05T00:00:00",
          "2023-01-06T00:00:00",
          "2023-01-09T00:00:00",
          "2023-01-10T00:00:00",
          "2023-01-11T00:00:00",
          "2023-01-12T00:00:00",
          "2023-01-13T00:00:00",
          "2023-01-17T00:00:00",
          "2023-01-18T00:00:00",
          "2023-01-19T00:00:00",
          "2023-01-20T00:00:00",
          "2023-01-23T00:00:00",
          "2023-01-24T00:00:00",
          "2023-01-25T00:00:00",
          "2023-01-26T00:00:00",
          "2023-01-27T00:00:00",
          "2023-01-30T00:00:00",
          "2023-01-31T00:00:00",
          "2023-02-01T00:00:00"
         ],
         "y": [
          3839.5,
          3840.68943801637,
          3863.209260489339,
          3923.6601462985645,
          3948.761243621217,
          3955.2260658642113,
          4027.582877846631,
          3958.7370178076294,
          3922.1866285967017,
          3984.53071780006,
          3978.0390157690467,
          3956.8884511206825,
          3961.811712029689,
          3947.7912969682206,
          3994.0560616649764,
          4052.5899421319764,
          4084.6296746429744,
          4058.2410859434963,
          4021.443242377661,
          4072.2330058478074,
          3958.0830628476183
         ]
        },
        {
         "line": {
          "color": "rgba(255, 0, 0, 0.1)"
         },
         "mode": "lines",
         "name": "Simulation 84",
         "showlegend": false,
         "type": "scatter",
         "x": [
          "2023-01-03T00:00:00",
          "2023-01-04T00:00:00",
          "2023-01-05T00:00:00",
          "2023-01-06T00:00:00",
          "2023-01-09T00:00:00",
          "2023-01-10T00:00:00",
          "2023-01-11T00:00:00",
          "2023-01-12T00:00:00",
          "2023-01-13T00:00:00",
          "2023-01-17T00:00:00",
          "2023-01-18T00:00:00",
          "2023-01-19T00:00:00",
          "2023-01-20T00:00:00",
          "2023-01-23T00:00:00",
          "2023-01-24T00:00:00",
          "2023-01-25T00:00:00",
          "2023-01-26T00:00:00",
          "2023-01-27T00:00:00",
          "2023-01-30T00:00:00",
          "2023-01-31T00:00:00",
          "2023-02-01T00:00:00"
         ],
         "y": [
          3839.5,
          3840.68943801637,
          3846.5798856686515,
          3769.901965573528,
          3749.232958459733,
          3710.666956306217,
          3737.0176417124667,
          3704.579176036481,
          3703.2815528567685,
          3622.343649862781,
          3634.7396865304304,
          3561.252083928396,
          3505.296167307329,
          3562.9225921438374,
          3616.1063356220543,
          3605.766498434315,
          3600.2931943178323,
          3585.718226392109,
          3631.4497502804056,
          3664.4133778106716,
          3578.3051887086867
         ]
        },
        {
         "line": {
          "color": "rgba(255, 0, 0, 0.1)"
         },
         "mode": "lines",
         "name": "Simulation 85",
         "showlegend": false,
         "type": "scatter",
         "x": [
          "2023-01-03T00:00:00",
          "2023-01-04T00:00:00",
          "2023-01-05T00:00:00",
          "2023-01-06T00:00:00",
          "2023-01-09T00:00:00",
          "2023-01-10T00:00:00",
          "2023-01-11T00:00:00",
          "2023-01-12T00:00:00",
          "2023-01-13T00:00:00",
          "2023-01-17T00:00:00",
          "2023-01-18T00:00:00",
          "2023-01-19T00:00:00",
          "2023-01-20T00:00:00",
          "2023-01-23T00:00:00",
          "2023-01-24T00:00:00",
          "2023-01-25T00:00:00",
          "2023-01-26T00:00:00",
          "2023-01-27T00:00:00",
          "2023-01-30T00:00:00",
          "2023-01-31T00:00:00",
          "2023-02-01T00:00:00"
         ],
         "y": [
          3839.5,
          3840.68943801637,
          3810.556730057986,
          3837.525797122513,
          3837.1497034227227,
          3857.750545128157,
          3916.9714810593027,
          3857.312804643166,
          3850.847970124893,
          3902.642292617245,
          3893.36783376251,
          3841.439152853299,
          3763.8373581718593,
          3777.891849539901,
          3748.4852276135616,
          3843.3469670746304,
          3836.3917748914073,
          3895.211942605443,
          3962.9177481988622,
          3974.1236659601095,
          4024.581474699462
         ]
        },
        {
         "line": {
          "color": "rgba(255, 0, 0, 0.1)"
         },
         "mode": "lines",
         "name": "Simulation 86",
         "showlegend": false,
         "type": "scatter",
         "x": [
          "2023-01-03T00:00:00",
          "2023-01-04T00:00:00",
          "2023-01-05T00:00:00",
          "2023-01-06T00:00:00",
          "2023-01-09T00:00:00",
          "2023-01-10T00:00:00",
          "2023-01-11T00:00:00",
          "2023-01-12T00:00:00",
          "2023-01-13T00:00:00",
          "2023-01-17T00:00:00",
          "2023-01-18T00:00:00",
          "2023-01-19T00:00:00",
          "2023-01-20T00:00:00",
          "2023-01-23T00:00:00",
          "2023-01-24T00:00:00",
          "2023-01-25T00:00:00",
          "2023-01-26T00:00:00",
          "2023-01-27T00:00:00",
          "2023-01-30T00:00:00",
          "2023-01-31T00:00:00",
          "2023-02-01T00:00:00"
         ],
         "y": [
          3839.5,
          3840.68943801637,
          3861.854989013305,
          3890.370537352432,
          3896.599170192789,
          3876.023417764786,
          3890.4965068995916,
          3896.0437764563553,
          3919.4761953613797,
          3867.835801350469,
          4003.6508377372465,
          4114.443509963617,
          4173.836754470523,
          4119.268684310425,
          4081.724529111087,
          4076.2769323110065,
          3959.7158691370455,
          3931.9420438919415,
          3898.6413099781203,
          3942.355211479974,
          3858.5177471232364
         ]
        },
        {
         "line": {
          "color": "rgba(255, 0, 0, 0.1)"
         },
         "mode": "lines",
         "name": "Simulation 87",
         "showlegend": false,
         "type": "scatter",
         "x": [
          "2023-01-03T00:00:00",
          "2023-01-04T00:00:00",
          "2023-01-05T00:00:00",
          "2023-01-06T00:00:00",
          "2023-01-09T00:00:00",
          "2023-01-10T00:00:00",
          "2023-01-11T00:00:00",
          "2023-01-12T00:00:00",
          "2023-01-13T00:00:00",
          "2023-01-17T00:00:00",
          "2023-01-18T00:00:00",
          "2023-01-19T00:00:00",
          "2023-01-20T00:00:00",
          "2023-01-23T00:00:00",
          "2023-01-24T00:00:00",
          "2023-01-25T00:00:00",
          "2023-01-26T00:00:00",
          "2023-01-27T00:00:00",
          "2023-01-30T00:00:00",
          "2023-01-31T00:00:00",
          "2023-02-01T00:00:00"
         ],
         "y": [
          3839.5,
          3840.68943801637,
          3845.749066550184,
          3879.822939164978,
          3905.5709348981973,
          3896.337294297106,
          3856.4837272248546,
          3813.3231082677976,
          3823.102158656927,
          3773.6023492672457,
          3769.3315556261764,
          3790.364821355831,
          3745.823459039195,
          3797.6559031312436,
          3861.8282545439306,
          3898.6638541316706,
          3903.633504739573,
          3954.375481234123,
          3952.9655305645906,
          3943.149256640468,
          3949.010359194593
         ]
        },
        {
         "line": {
          "color": "rgba(255, 0, 0, 0.1)"
         },
         "mode": "lines",
         "name": "Simulation 88",
         "showlegend": false,
         "type": "scatter",
         "x": [
          "2023-01-03T00:00:00",
          "2023-01-04T00:00:00",
          "2023-01-05T00:00:00",
          "2023-01-06T00:00:00",
          "2023-01-09T00:00:00",
          "2023-01-10T00:00:00",
          "2023-01-11T00:00:00",
          "2023-01-12T00:00:00",
          "2023-01-13T00:00:00",
          "2023-01-17T00:00:00",
          "2023-01-18T00:00:00",
          "2023-01-19T00:00:00",
          "2023-01-20T00:00:00",
          "2023-01-23T00:00:00",
          "2023-01-24T00:00:00",
          "2023-01-25T00:00:00",
          "2023-01-26T00:00:00",
          "2023-01-27T00:00:00",
          "2023-01-30T00:00:00",
          "2023-01-31T00:00:00",
          "2023-02-01T00:00:00"
         ],
         "y": [
          3839.5,
          3840.68943801637,
          3795.8449446200266,
          3773.8101671574555,
          3792.927255756787,
          3833.5246105489755,
          3796.312424520769,
          3743.6128691945514,
          3761.994920011632,
          3807.0353945986267,
          3742.2779493158087,
          3713.9180522582124,
          3714.2685335017477,
          3753.043054861812,
          3749.742187130676,
          3844.148089479536,
          3876.316256238829,
          3886.9918759103834,
          3957.2214278341635,
          3879.100482309593,
          3862.179843329668
         ]
        },
        {
         "line": {
          "color": "rgba(255, 0, 0, 0.1)"
         },
         "mode": "lines",
         "name": "Simulation 89",
         "showlegend": false,
         "type": "scatter",
         "x": [
          "2023-01-03T00:00:00",
          "2023-01-04T00:00:00",
          "2023-01-05T00:00:00",
          "2023-01-06T00:00:00",
          "2023-01-09T00:00:00",
          "2023-01-10T00:00:00",
          "2023-01-11T00:00:00",
          "2023-01-12T00:00:00",
          "2023-01-13T00:00:00",
          "2023-01-17T00:00:00",
          "2023-01-18T00:00:00",
          "2023-01-19T00:00:00",
          "2023-01-20T00:00:00",
          "2023-01-23T00:00:00",
          "2023-01-24T00:00:00",
          "2023-01-25T00:00:00",
          "2023-01-26T00:00:00",
          "2023-01-27T00:00:00",
          "2023-01-30T00:00:00",
          "2023-01-31T00:00:00",
          "2023-02-01T00:00:00"
         ],
         "y": [
          3839.5,
          3840.68943801637,
          3874.837049060384,
          3818.223891815643,
          3854.0389195299686,
          3863.061533943156,
          3834.903617036708,
          3878.4805787655478,
          3849.3231626479387,
          3797.0533757165367,
          3777.193876732748,
          3755.78372510071,
          3718.5875377955276,
          3748.0240749420586,
          3712.1725060780527,
          3684.3678868125376,
          3687.1202110744953,
          3667.2337084546257,
          3646.0437402770235,
          3686.873314989282,
          3558.354232569605
         ]
        },
        {
         "line": {
          "color": "rgba(255, 0, 0, 0.1)"
         },
         "mode": "lines",
         "name": "Simulation 90",
         "showlegend": false,
         "type": "scatter",
         "x": [
          "2023-01-03T00:00:00",
          "2023-01-04T00:00:00",
          "2023-01-05T00:00:00",
          "2023-01-06T00:00:00",
          "2023-01-09T00:00:00",
          "2023-01-10T00:00:00",
          "2023-01-11T00:00:00",
          "2023-01-12T00:00:00",
          "2023-01-13T00:00:00",
          "2023-01-17T00:00:00",
          "2023-01-18T00:00:00",
          "2023-01-19T00:00:00",
          "2023-01-20T00:00:00",
          "2023-01-23T00:00:00",
          "2023-01-24T00:00:00",
          "2023-01-25T00:00:00",
          "2023-01-26T00:00:00",
          "2023-01-27T00:00:00",
          "2023-01-30T00:00:00",
          "2023-01-31T00:00:00",
          "2023-02-01T00:00:00"
         ],
         "y": [
          3839.5,
          3840.68943801637,
          3885.546556448467,
          3864.2870846129317,
          3900.485785445467,
          3931.5856927017953,
          3880.6645488674944,
          3845.3634265560218,
          3828.1267146784385,
          3843.393813914022,
          3864.2266619081597,
          3813.452194853156,
          3769.6948480303827,
          3692.2685234346313,
          3617.60436147027,
          3574.401359273267,
          3601.023636229311,
          3567.2080131834687,
          3535.2190821180457,
          3533.7567267888116,
          3582.834486575522
         ]
        },
        {
         "line": {
          "color": "rgba(255, 0, 0, 0.1)"
         },
         "mode": "lines",
         "name": "Simulation 91",
         "showlegend": false,
         "type": "scatter",
         "x": [
          "2023-01-03T00:00:00",
          "2023-01-04T00:00:00",
          "2023-01-05T00:00:00",
          "2023-01-06T00:00:00",
          "2023-01-09T00:00:00",
          "2023-01-10T00:00:00",
          "2023-01-11T00:00:00",
          "2023-01-12T00:00:00",
          "2023-01-13T00:00:00",
          "2023-01-17T00:00:00",
          "2023-01-18T00:00:00",
          "2023-01-19T00:00:00",
          "2023-01-20T00:00:00",
          "2023-01-23T00:00:00",
          "2023-01-24T00:00:00",
          "2023-01-25T00:00:00",
          "2023-01-26T00:00:00",
          "2023-01-27T00:00:00",
          "2023-01-30T00:00:00",
          "2023-01-31T00:00:00",
          "2023-02-01T00:00:00"
         ],
         "y": [
          3839.5,
          3840.68943801637,
          3834.988974483766,
          3895.758507769375,
          3898.962741308953,
          3966.2013784531,
          3890.1308393242252,
          3872.69433517416,
          3833.8591686120135,
          3885.9794446581764,
          3845.373355253991,
          3802.820103863157,
          3816.447332126224,
          3848.1346008535165,
          3875.91156848068,
          3797.878665526383,
          3736.1681447779074,
          3687.3365606133416,
          3734.4413343398855,
          3723.1361977749602,
          3754.3419047697107
         ]
        },
        {
         "line": {
          "color": "rgba(255, 0, 0, 0.1)"
         },
         "mode": "lines",
         "name": "Simulation 92",
         "showlegend": false,
         "type": "scatter",
         "x": [
          "2023-01-03T00:00:00",
          "2023-01-04T00:00:00",
          "2023-01-05T00:00:00",
          "2023-01-06T00:00:00",
          "2023-01-09T00:00:00",
          "2023-01-10T00:00:00",
          "2023-01-11T00:00:00",
          "2023-01-12T00:00:00",
          "2023-01-13T00:00:00",
          "2023-01-17T00:00:00",
          "2023-01-18T00:00:00",
          "2023-01-19T00:00:00",
          "2023-01-20T00:00:00",
          "2023-01-23T00:00:00",
          "2023-01-24T00:00:00",
          "2023-01-25T00:00:00",
          "2023-01-26T00:00:00",
          "2023-01-27T00:00:00",
          "2023-01-30T00:00:00",
          "2023-01-31T00:00:00",
          "2023-02-01T00:00:00"
         ],
         "y": [
          3839.5,
          3840.68943801637,
          3935.788912795128,
          3945.2013277413616,
          3958.8314092253922,
          4018.242346338178,
          3969.6997303067465,
          3978.0522711475996,
          3988.4755582999433,
          4006.31692615356,
          3957.8943201389616,
          3970.1935801912314,
          4009.652744013998,
          4003.2300673316527,
          4014.7481842924108,
          3999.620666584514,
          3956.6378424769896,
          3988.870139404105,
          3918.1260156415447,
          3838.805799406043,
          3780.746053351715
         ]
        },
        {
         "line": {
          "color": "rgba(255, 0, 0, 0.1)"
         },
         "mode": "lines",
         "name": "Simulation 93",
         "showlegend": false,
         "type": "scatter",
         "x": [
          "2023-01-03T00:00:00",
          "2023-01-04T00:00:00",
          "2023-01-05T00:00:00",
          "2023-01-06T00:00:00",
          "2023-01-09T00:00:00",
          "2023-01-10T00:00:00",
          "2023-01-11T00:00:00",
          "2023-01-12T00:00:00",
          "2023-01-13T00:00:00",
          "2023-01-17T00:00:00",
          "2023-01-18T00:00:00",
          "2023-01-19T00:00:00",
          "2023-01-20T00:00:00",
          "2023-01-23T00:00:00",
          "2023-01-24T00:00:00",
          "2023-01-25T00:00:00",
          "2023-01-26T00:00:00",
          "2023-01-27T00:00:00",
          "2023-01-30T00:00:00",
          "2023-01-31T00:00:00",
          "2023-02-01T00:00:00"
         ],
         "y": [
          3839.5,
          3840.68943801637,
          3856.1164422827337,
          3880.0715336101093,
          3919.404456705379,
          3958.9535667417485,
          4016.8535528835855,
          3979.109891959487,
          3945.6676597397122,
          3850.494339027502,
          3992.2507574935835,
          3969.878200463893,
          3984.6492763145866,
          3977.8600619678796,
          4076.8870385052564,
          4102.500611599265,
          4061.4372247949186,
          4103.506123748453,
          4148.177078017579,
          4156.26663212546,
          4166.124759944731
         ]
        },
        {
         "line": {
          "color": "rgba(255, 0, 0, 0.1)"
         },
         "mode": "lines",
         "name": "Simulation 94",
         "showlegend": false,
         "type": "scatter",
         "x": [
          "2023-01-03T00:00:00",
          "2023-01-04T00:00:00",
          "2023-01-05T00:00:00",
          "2023-01-06T00:00:00",
          "2023-01-09T00:00:00",
          "2023-01-10T00:00:00",
          "2023-01-11T00:00:00",
          "2023-01-12T00:00:00",
          "2023-01-13T00:00:00",
          "2023-01-17T00:00:00",
          "2023-01-18T00:00:00",
          "2023-01-19T00:00:00",
          "2023-01-20T00:00:00",
          "2023-01-23T00:00:00",
          "2023-01-24T00:00:00",
          "2023-01-25T00:00:00",
          "2023-01-26T00:00:00",
          "2023-01-27T00:00:00",
          "2023-01-30T00:00:00",
          "2023-01-31T00:00:00",
          "2023-02-01T00:00:00"
         ],
         "y": [
          3839.5,
          3840.68943801637,
          3832.5964561198957,
          3827.1157488776194,
          3837.938923546497,
          3747.9034671225972,
          3761.9207619208883,
          3749.2198606427387,
          3728.728128409362,
          3682.4151615558753,
          3674.2838803691398,
          3701.1877884565497,
          3704.601480292869,
          3652.9654445625947,
          3648.657232176285,
          3615.370242780146,
          3616.1386116765125,
          3645.5836940611093,
          3707.813548514522,
          3713.803129203833,
          3668.3072910159967
         ]
        },
        {
         "line": {
          "color": "rgba(255, 0, 0, 0.1)"
         },
         "mode": "lines",
         "name": "Simulation 95",
         "showlegend": false,
         "type": "scatter",
         "x": [
          "2023-01-03T00:00:00",
          "2023-01-04T00:00:00",
          "2023-01-05T00:00:00",
          "2023-01-06T00:00:00",
          "2023-01-09T00:00:00",
          "2023-01-10T00:00:00",
          "2023-01-11T00:00:00",
          "2023-01-12T00:00:00",
          "2023-01-13T00:00:00",
          "2023-01-17T00:00:00",
          "2023-01-18T00:00:00",
          "2023-01-19T00:00:00",
          "2023-01-20T00:00:00",
          "2023-01-23T00:00:00",
          "2023-01-24T00:00:00",
          "2023-01-25T00:00:00",
          "2023-01-26T00:00:00",
          "2023-01-27T00:00:00",
          "2023-01-30T00:00:00",
          "2023-01-31T00:00:00",
          "2023-02-01T00:00:00"
         ],
         "y": [
          3839.5,
          3840.68943801637,
          3751.21541871961,
          3743.0449589469063,
          3787.342407210406,
          3765.335041277345,
          3779.086254481592,
          3757.6644887391294,
          3787.876826323694,
          3735.3889740776563,
          3816.455859702094,
          3804.4014793335236,
          3775.170906696552,
          3735.637132602443,
          3753.3529758665313,
          3702.154316064961,
          3716.3453705016345,
          3704.4497605452193,
          3702.2383198333473,
          3708.4996899626854,
          3618.6425852505345
         ]
        },
        {
         "line": {
          "color": "rgba(255, 0, 0, 0.1)"
         },
         "mode": "lines",
         "name": "Simulation 96",
         "showlegend": false,
         "type": "scatter",
         "x": [
          "2023-01-03T00:00:00",
          "2023-01-04T00:00:00",
          "2023-01-05T00:00:00",
          "2023-01-06T00:00:00",
          "2023-01-09T00:00:00",
          "2023-01-10T00:00:00",
          "2023-01-11T00:00:00",
          "2023-01-12T00:00:00",
          "2023-01-13T00:00:00",
          "2023-01-17T00:00:00",
          "2023-01-18T00:00:00",
          "2023-01-19T00:00:00",
          "2023-01-20T00:00:00",
          "2023-01-23T00:00:00",
          "2023-01-24T00:00:00",
          "2023-01-25T00:00:00",
          "2023-01-26T00:00:00",
          "2023-01-27T00:00:00",
          "2023-01-30T00:00:00",
          "2023-01-31T00:00:00",
          "2023-02-01T00:00:00"
         ],
         "y": [
          3839.5,
          3840.68943801637,
          3832.295808931493,
          3787.678163080859,
          3772.199597242476,
          3735.9221998958437,
          3664.440692983925,
          3646.936390638297,
          3621.5508164474977,
          3603.829422272064,
          3589.7931757658685,
          3536.4655919683055,
          3539.5496729342008,
          3564.7540577690706,
          3560.123871220604,
          3508.047043559479,
          3478.449430301385,
          3486.0104881705024,
          3468.7761774453206,
          3457.233000955496,
          3462.438449669521
         ]
        },
        {
         "line": {
          "color": "rgba(255, 0, 0, 0.1)"
         },
         "mode": "lines",
         "name": "Simulation 97",
         "showlegend": false,
         "type": "scatter",
         "x": [
          "2023-01-03T00:00:00",
          "2023-01-04T00:00:00",
          "2023-01-05T00:00:00",
          "2023-01-06T00:00:00",
          "2023-01-09T00:00:00",
          "2023-01-10T00:00:00",
          "2023-01-11T00:00:00",
          "2023-01-12T00:00:00",
          "2023-01-13T00:00:00",
          "2023-01-17T00:00:00",
          "2023-01-18T00:00:00",
          "2023-01-19T00:00:00",
          "2023-01-20T00:00:00",
          "2023-01-23T00:00:00",
          "2023-01-24T00:00:00",
          "2023-01-25T00:00:00",
          "2023-01-26T00:00:00",
          "2023-01-27T00:00:00",
          "2023-01-30T00:00:00",
          "2023-01-31T00:00:00",
          "2023-02-01T00:00:00"
         ],
         "y": [
          3839.5,
          3840.68943801637,
          3850.1195256566502,
          3889.067477191988,
          3939.25442863294,
          3943.5635228293186,
          4007.865773787138,
          4020.778376370656,
          3951.7023476197983,
          3922.330137783261,
          3900.1111839315913,
          3956.228399262785,
          3972.4941791036135,
          3917.698165427238,
          3968.863489998581,
          3994.4235557945576,
          3949.5585268044942,
          3966.9615936517703,
          3981.02908807983,
          4009.8293783489726,
          4072.716966789216
         ]
        },
        {
         "line": {
          "color": "rgba(255, 0, 0, 0.1)"
         },
         "mode": "lines",
         "name": "Simulation 98",
         "showlegend": false,
         "type": "scatter",
         "x": [
          "2023-01-03T00:00:00",
          "2023-01-04T00:00:00",
          "2023-01-05T00:00:00",
          "2023-01-06T00:00:00",
          "2023-01-09T00:00:00",
          "2023-01-10T00:00:00",
          "2023-01-11T00:00:00",
          "2023-01-12T00:00:00",
          "2023-01-13T00:00:00",
          "2023-01-17T00:00:00",
          "2023-01-18T00:00:00",
          "2023-01-19T00:00:00",
          "2023-01-20T00:00:00",
          "2023-01-23T00:00:00",
          "2023-01-24T00:00:00",
          "2023-01-25T00:00:00",
          "2023-01-26T00:00:00",
          "2023-01-27T00:00:00",
          "2023-01-30T00:00:00",
          "2023-01-31T00:00:00",
          "2023-02-01T00:00:00"
         ],
         "y": [
          3839.5,
          3840.68943801637,
          3880.3397114078775,
          3914.7827074029565,
          3930.847793226116,
          4057.1045009670306,
          4116.65203425394,
          4133.18730663313,
          4114.601964962572,
          4126.459589906191,
          4215.990818426338,
          4278.689725747656,
          4317.8770810378,
          4385.67650104163,
          4462.299559482014,
          4516.851169163476,
          4447.787962596917,
          4445.595100551301,
          4452.493420038508,
          4529.177938563006,
          4541.250985704374
         ]
        },
        {
         "line": {
          "color": "rgba(255, 0, 0, 0.1)"
         },
         "mode": "lines",
         "name": "Simulation 99",
         "showlegend": false,
         "type": "scatter",
         "x": [
          "2023-01-03T00:00:00",
          "2023-01-04T00:00:00",
          "2023-01-05T00:00:00",
          "2023-01-06T00:00:00",
          "2023-01-09T00:00:00",
          "2023-01-10T00:00:00",
          "2023-01-11T00:00:00",
          "2023-01-12T00:00:00",
          "2023-01-13T00:00:00",
          "2023-01-17T00:00:00",
          "2023-01-18T00:00:00",
          "2023-01-19T00:00:00",
          "2023-01-20T00:00:00",
          "2023-01-23T00:00:00",
          "2023-01-24T00:00:00",
          "2023-01-25T00:00:00",
          "2023-01-26T00:00:00",
          "2023-01-27T00:00:00",
          "2023-01-30T00:00:00",
          "2023-01-31T00:00:00",
          "2023-02-01T00:00:00"
         ],
         "y": [
          3839.5,
          3840.68943801637,
          3778.255328996466,
          3785.191129961809,
          3746.622515707949,
          3817.8741673408726,
          3772.49057077332,
          3723.341986888096,
          3689.030305169131,
          3613.6071861980636,
          3587.4053324824044,
          3589.009582113965,
          3589.456205669249,
          3589.9119785596467,
          3604.3822593386076,
          3642.752674503997,
          3670.887677445517,
          3707.0104409460746,
          3603.519742726919,
          3515.3342731588714,
          3563.330572664837
         ]
        },
        {
         "line": {
          "color": "rgba(255, 0, 0, 0.1)"
         },
         "mode": "lines",
         "name": "Simulation 100",
         "showlegend": false,
         "type": "scatter",
         "x": [
          "2023-01-03T00:00:00",
          "2023-01-04T00:00:00",
          "2023-01-05T00:00:00",
          "2023-01-06T00:00:00",
          "2023-01-09T00:00:00",
          "2023-01-10T00:00:00",
          "2023-01-11T00:00:00",
          "2023-01-12T00:00:00",
          "2023-01-13T00:00:00",
          "2023-01-17T00:00:00",
          "2023-01-18T00:00:00",
          "2023-01-19T00:00:00",
          "2023-01-20T00:00:00",
          "2023-01-23T00:00:00",
          "2023-01-24T00:00:00",
          "2023-01-25T00:00:00",
          "2023-01-26T00:00:00",
          "2023-01-27T00:00:00",
          "2023-01-30T00:00:00",
          "2023-01-31T00:00:00",
          "2023-02-01T00:00:00"
         ],
         "y": [
          3839.5,
          3840.68943801637,
          3862.0853653889317,
          3828.768432549394,
          3806.4179981877314,
          3696.890447248377,
          3670.0699580375303,
          3690.6442820343627,
          3688.8501905188614,
          3686.4841528414267,
          3674.783103648695,
          3665.0086380215366,
          3617.430465016507,
          3546.669598550563,
          3522.5068917965687,
          3439.07410342711,
          3377.3526074202323,
          3406.1007594366893,
          3432.785203131961,
          3421.9960779600706,
          3446.560191938291
         ]
        },
        {
         "line": {
          "color": "blue",
          "width": 2
         },
         "mode": "lines",
         "name": "Actual Price",
         "type": "scatter",
         "x": [
          "2023-01-03T00:00:00",
          "2023-01-04T00:00:00",
          "2023-01-05T00:00:00",
          "2023-01-06T00:00:00",
          "2023-01-09T00:00:00",
          "2023-01-10T00:00:00",
          "2023-01-11T00:00:00",
          "2023-01-12T00:00:00",
          "2023-01-13T00:00:00",
          "2023-01-17T00:00:00",
          "2023-01-18T00:00:00",
          "2023-01-19T00:00:00",
          "2023-01-20T00:00:00",
          "2023-01-23T00:00:00",
          "2023-01-24T00:00:00",
          "2023-01-25T00:00:00",
          "2023-01-26T00:00:00",
          "2023-01-27T00:00:00",
          "2023-01-30T00:00:00",
          "2023-01-31T00:00:00",
          "2023-02-01T00:00:00"
         ],
         "y": [
          3824.14,
          3852.97,
          3808.1,
          3895.08,
          3892.09,
          3919.25,
          3969.61,
          3983.17,
          3999.09,
          3990.97,
          3928.86,
          3898.85,
          3972.61,
          4019.81,
          4016.95,
          4016.22,
          4060.43,
          4070.56,
          4017.77,
          4076.6,
          4119.21
         ]
        }
       ],
       "layout": {
        "template": {
         "data": {
          "bar": [
           {
            "error_x": {
             "color": "#2a3f5f"
            },
            "error_y": {
             "color": "#2a3f5f"
            },
            "marker": {
             "line": {
              "color": "white",
              "width": 0.5
             },
             "pattern": {
              "fillmode": "overlay",
              "size": 10,
              "solidity": 0.2
             }
            },
            "type": "bar"
           }
          ],
          "barpolar": [
           {
            "marker": {
             "line": {
              "color": "white",
              "width": 0.5
             },
             "pattern": {
              "fillmode": "overlay",
              "size": 10,
              "solidity": 0.2
             }
            },
            "type": "barpolar"
           }
          ],
          "carpet": [
           {
            "aaxis": {
             "endlinecolor": "#2a3f5f",
             "gridcolor": "#C8D4E3",
             "linecolor": "#C8D4E3",
             "minorgridcolor": "#C8D4E3",
             "startlinecolor": "#2a3f5f"
            },
            "baxis": {
             "endlinecolor": "#2a3f5f",
             "gridcolor": "#C8D4E3",
             "linecolor": "#C8D4E3",
             "minorgridcolor": "#C8D4E3",
             "startlinecolor": "#2a3f5f"
            },
            "type": "carpet"
           }
          ],
          "choropleth": [
           {
            "colorbar": {
             "outlinewidth": 0,
             "ticks": ""
            },
            "type": "choropleth"
           }
          ],
          "contour": [
           {
            "colorbar": {
             "outlinewidth": 0,
             "ticks": ""
            },
            "colorscale": [
             [
              0,
              "#0d0887"
             ],
             [
              0.1111111111111111,
              "#46039f"
             ],
             [
              0.2222222222222222,
              "#7201a8"
             ],
             [
              0.3333333333333333,
              "#9c179e"
             ],
             [
              0.4444444444444444,
              "#bd3786"
             ],
             [
              0.5555555555555556,
              "#d8576b"
             ],
             [
              0.6666666666666666,
              "#ed7953"
             ],
             [
              0.7777777777777778,
              "#fb9f3a"
             ],
             [
              0.8888888888888888,
              "#fdca26"
             ],
             [
              1,
              "#f0f921"
             ]
            ],
            "type": "contour"
           }
          ],
          "contourcarpet": [
           {
            "colorbar": {
             "outlinewidth": 0,
             "ticks": ""
            },
            "type": "contourcarpet"
           }
          ],
          "heatmap": [
           {
            "colorbar": {
             "outlinewidth": 0,
             "ticks": ""
            },
            "colorscale": [
             [
              0,
              "#0d0887"
             ],
             [
              0.1111111111111111,
              "#46039f"
             ],
             [
              0.2222222222222222,
              "#7201a8"
             ],
             [
              0.3333333333333333,
              "#9c179e"
             ],
             [
              0.4444444444444444,
              "#bd3786"
             ],
             [
              0.5555555555555556,
              "#d8576b"
             ],
             [
              0.6666666666666666,
              "#ed7953"
             ],
             [
              0.7777777777777778,
              "#fb9f3a"
             ],
             [
              0.8888888888888888,
              "#fdca26"
             ],
             [
              1,
              "#f0f921"
             ]
            ],
            "type": "heatmap"
           }
          ],
          "heatmapgl": [
           {
            "colorbar": {
             "outlinewidth": 0,
             "ticks": ""
            },
            "colorscale": [
             [
              0,
              "#0d0887"
             ],
             [
              0.1111111111111111,
              "#46039f"
             ],
             [
              0.2222222222222222,
              "#7201a8"
             ],
             [
              0.3333333333333333,
              "#9c179e"
             ],
             [
              0.4444444444444444,
              "#bd3786"
             ],
             [
              0.5555555555555556,
              "#d8576b"
             ],
             [
              0.6666666666666666,
              "#ed7953"
             ],
             [
              0.7777777777777778,
              "#fb9f3a"
             ],
             [
              0.8888888888888888,
              "#fdca26"
             ],
             [
              1,
              "#f0f921"
             ]
            ],
            "type": "heatmapgl"
           }
          ],
          "histogram": [
           {
            "marker": {
             "pattern": {
              "fillmode": "overlay",
              "size": 10,
              "solidity": 0.2
             }
            },
            "type": "histogram"
           }
          ],
          "histogram2d": [
           {
            "colorbar": {
             "outlinewidth": 0,
             "ticks": ""
            },
            "colorscale": [
             [
              0,
              "#0d0887"
             ],
             [
              0.1111111111111111,
              "#46039f"
             ],
             [
              0.2222222222222222,
              "#7201a8"
             ],
             [
              0.3333333333333333,
              "#9c179e"
             ],
             [
              0.4444444444444444,
              "#bd3786"
             ],
             [
              0.5555555555555556,
              "#d8576b"
             ],
             [
              0.6666666666666666,
              "#ed7953"
             ],
             [
              0.7777777777777778,
              "#fb9f3a"
             ],
             [
              0.8888888888888888,
              "#fdca26"
             ],
             [
              1,
              "#f0f921"
             ]
            ],
            "type": "histogram2d"
           }
          ],
          "histogram2dcontour": [
           {
            "colorbar": {
             "outlinewidth": 0,
             "ticks": ""
            },
            "colorscale": [
             [
              0,
              "#0d0887"
             ],
             [
              0.1111111111111111,
              "#46039f"
             ],
             [
              0.2222222222222222,
              "#7201a8"
             ],
             [
              0.3333333333333333,
              "#9c179e"
             ],
             [
              0.4444444444444444,
              "#bd3786"
             ],
             [
              0.5555555555555556,
              "#d8576b"
             ],
             [
              0.6666666666666666,
              "#ed7953"
             ],
             [
              0.7777777777777778,
              "#fb9f3a"
             ],
             [
              0.8888888888888888,
              "#fdca26"
             ],
             [
              1,
              "#f0f921"
             ]
            ],
            "type": "histogram2dcontour"
           }
          ],
          "mesh3d": [
           {
            "colorbar": {
             "outlinewidth": 0,
             "ticks": ""
            },
            "type": "mesh3d"
           }
          ],
          "parcoords": [
           {
            "line": {
             "colorbar": {
              "outlinewidth": 0,
              "ticks": ""
             }
            },
            "type": "parcoords"
           }
          ],
          "pie": [
           {
            "automargin": true,
            "type": "pie"
           }
          ],
          "scatter": [
           {
            "fillpattern": {
             "fillmode": "overlay",
             "size": 10,
             "solidity": 0.2
            },
            "type": "scatter"
           }
          ],
          "scatter3d": [
           {
            "line": {
             "colorbar": {
              "outlinewidth": 0,
              "ticks": ""
             }
            },
            "marker": {
             "colorbar": {
              "outlinewidth": 0,
              "ticks": ""
             }
            },
            "type": "scatter3d"
           }
          ],
          "scattercarpet": [
           {
            "marker": {
             "colorbar": {
              "outlinewidth": 0,
              "ticks": ""
             }
            },
            "type": "scattercarpet"
           }
          ],
          "scattergeo": [
           {
            "marker": {
             "colorbar": {
              "outlinewidth": 0,
              "ticks": ""
             }
            },
            "type": "scattergeo"
           }
          ],
          "scattergl": [
           {
            "marker": {
             "colorbar": {
              "outlinewidth": 0,
              "ticks": ""
             }
            },
            "type": "scattergl"
           }
          ],
          "scattermapbox": [
           {
            "marker": {
             "colorbar": {
              "outlinewidth": 0,
              "ticks": ""
             }
            },
            "type": "scattermapbox"
           }
          ],
          "scatterpolar": [
           {
            "marker": {
             "colorbar": {
              "outlinewidth": 0,
              "ticks": ""
             }
            },
            "type": "scatterpolar"
           }
          ],
          "scatterpolargl": [
           {
            "marker": {
             "colorbar": {
              "outlinewidth": 0,
              "ticks": ""
             }
            },
            "type": "scatterpolargl"
           }
          ],
          "scatterternary": [
           {
            "marker": {
             "colorbar": {
              "outlinewidth": 0,
              "ticks": ""
             }
            },
            "type": "scatterternary"
           }
          ],
          "surface": [
           {
            "colorbar": {
             "outlinewidth": 0,
             "ticks": ""
            },
            "colorscale": [
             [
              0,
              "#0d0887"
             ],
             [
              0.1111111111111111,
              "#46039f"
             ],
             [
              0.2222222222222222,
              "#7201a8"
             ],
             [
              0.3333333333333333,
              "#9c179e"
             ],
             [
              0.4444444444444444,
              "#bd3786"
             ],
             [
              0.5555555555555556,
              "#d8576b"
             ],
             [
              0.6666666666666666,
              "#ed7953"
             ],
             [
              0.7777777777777778,
              "#fb9f3a"
             ],
             [
              0.8888888888888888,
              "#fdca26"
             ],
             [
              1,
              "#f0f921"
             ]
            ],
            "type": "surface"
           }
          ],
          "table": [
           {
            "cells": {
             "fill": {
              "color": "#EBF0F8"
             },
             "line": {
              "color": "white"
             }
            },
            "header": {
             "fill": {
              "color": "#C8D4E3"
             },
             "line": {
              "color": "white"
             }
            },
            "type": "table"
           }
          ]
         },
         "layout": {
          "annotationdefaults": {
           "arrowcolor": "#2a3f5f",
           "arrowhead": 0,
           "arrowwidth": 1
          },
          "autotypenumbers": "strict",
          "coloraxis": {
           "colorbar": {
            "outlinewidth": 0,
            "ticks": ""
           }
          },
          "colorscale": {
           "diverging": [
            [
             0,
             "#8e0152"
            ],
            [
             0.1,
             "#c51b7d"
            ],
            [
             0.2,
             "#de77ae"
            ],
            [
             0.3,
             "#f1b6da"
            ],
            [
             0.4,
             "#fde0ef"
            ],
            [
             0.5,
             "#f7f7f7"
            ],
            [
             0.6,
             "#e6f5d0"
            ],
            [
             0.7,
             "#b8e186"
            ],
            [
             0.8,
             "#7fbc41"
            ],
            [
             0.9,
             "#4d9221"
            ],
            [
             1,
             "#276419"
            ]
           ],
           "sequential": [
            [
             0,
             "#0d0887"
            ],
            [
             0.1111111111111111,
             "#46039f"
            ],
            [
             0.2222222222222222,
             "#7201a8"
            ],
            [
             0.3333333333333333,
             "#9c179e"
            ],
            [
             0.4444444444444444,
             "#bd3786"
            ],
            [
             0.5555555555555556,
             "#d8576b"
            ],
            [
             0.6666666666666666,
             "#ed7953"
            ],
            [
             0.7777777777777778,
             "#fb9f3a"
            ],
            [
             0.8888888888888888,
             "#fdca26"
            ],
            [
             1,
             "#f0f921"
            ]
           ],
           "sequentialminus": [
            [
             0,
             "#0d0887"
            ],
            [
             0.1111111111111111,
             "#46039f"
            ],
            [
             0.2222222222222222,
             "#7201a8"
            ],
            [
             0.3333333333333333,
             "#9c179e"
            ],
            [
             0.4444444444444444,
             "#bd3786"
            ],
            [
             0.5555555555555556,
             "#d8576b"
            ],
            [
             0.6666666666666666,
             "#ed7953"
            ],
            [
             0.7777777777777778,
             "#fb9f3a"
            ],
            [
             0.8888888888888888,
             "#fdca26"
            ],
            [
             1,
             "#f0f921"
            ]
           ]
          },
          "colorway": [
           "#636efa",
           "#EF553B",
           "#00cc96",
           "#ab63fa",
           "#FFA15A",
           "#19d3f3",
           "#FF6692",
           "#B6E880",
           "#FF97FF",
           "#FECB52"
          ],
          "font": {
           "color": "#2a3f5f"
          },
          "geo": {
           "bgcolor": "white",
           "lakecolor": "white",
           "landcolor": "white",
           "showlakes": true,
           "showland": true,
           "subunitcolor": "#C8D4E3"
          },
          "hoverlabel": {
           "align": "left"
          },
          "hovermode": "closest",
          "mapbox": {
           "style": "light"
          },
          "paper_bgcolor": "white",
          "plot_bgcolor": "white",
          "polar": {
           "angularaxis": {
            "gridcolor": "#EBF0F8",
            "linecolor": "#EBF0F8",
            "ticks": ""
           },
           "bgcolor": "white",
           "radialaxis": {
            "gridcolor": "#EBF0F8",
            "linecolor": "#EBF0F8",
            "ticks": ""
           }
          },
          "scene": {
           "xaxis": {
            "backgroundcolor": "white",
            "gridcolor": "#DFE8F3",
            "gridwidth": 2,
            "linecolor": "#EBF0F8",
            "showbackground": true,
            "ticks": "",
            "zerolinecolor": "#EBF0F8"
           },
           "yaxis": {
            "backgroundcolor": "white",
            "gridcolor": "#DFE8F3",
            "gridwidth": 2,
            "linecolor": "#EBF0F8",
            "showbackground": true,
            "ticks": "",
            "zerolinecolor": "#EBF0F8"
           },
           "zaxis": {
            "backgroundcolor": "white",
            "gridcolor": "#DFE8F3",
            "gridwidth": 2,
            "linecolor": "#EBF0F8",
            "showbackground": true,
            "ticks": "",
            "zerolinecolor": "#EBF0F8"
           }
          },
          "shapedefaults": {
           "line": {
            "color": "#2a3f5f"
           }
          },
          "ternary": {
           "aaxis": {
            "gridcolor": "#DFE8F3",
            "linecolor": "#A2B1C6",
            "ticks": ""
           },
           "baxis": {
            "gridcolor": "#DFE8F3",
            "linecolor": "#A2B1C6",
            "ticks": ""
           },
           "bgcolor": "white",
           "caxis": {
            "gridcolor": "#DFE8F3",
            "linecolor": "#A2B1C6",
            "ticks": ""
           }
          },
          "title": {
           "x": 0.05
          },
          "xaxis": {
           "automargin": true,
           "gridcolor": "#EBF0F8",
           "linecolor": "#EBF0F8",
           "ticks": "",
           "title": {
            "standoff": 15
           },
           "zerolinecolor": "#EBF0F8",
           "zerolinewidth": 2
          },
          "yaxis": {
           "automargin": true,
           "gridcolor": "#EBF0F8",
           "linecolor": "#EBF0F8",
           "ticks": "",
           "title": {
            "standoff": 15
           },
           "zerolinecolor": "#EBF0F8",
           "zerolinewidth": 2
          }
         }
        },
        "title": {
         "text": "Monte Carlo Simulation of Stock Prices using fBM (H=0.5823111608465197) - 100 Paths"
        },
        "xaxis": {
         "title": {
          "text": "Date"
         }
        },
        "yaxis": {
         "title": {
          "text": "Stock Price"
         }
        }
       }
      }
     },
     "metadata": {},
     "output_type": "display_data"
    }
   ],
   "source": [
    "def montecarlo_simulation_and_plot(train_data, test_data, H, num_simulations=100):\n",
    "    \"\"\"\n",
    "    Perform a Monte Carlo simulation by generating multiple fBM price paths and plot them \n",
    "    alongside the actual stock prices.\n",
    "    \n",
    "    Parameters:\n",
    "        train_data (DataFrame): Training data containing columns 'price' and 'log_returns'.\n",
    "        test_data (DataFrame): Testing data (used to determine the forecast horizon).\n",
    "        H (float): Hurst exponent for the fBM model.\n",
    "        num_simulations (int): Number of simulation paths to generate.\n",
    "    \"\"\"\n",
    "    # Set seeds for reproducibility\n",
    "    random.seed(42)\n",
    "    np.random.seed(42)\n",
    "    \n",
    "    # Calculate drift (μ) and volatility (σ) from training log returns\n",
    "    mu = train_data[\"log_returns\"].mean()\n",
    "    sigma = train_data[\"log_returns\"].std()\n",
    "    \n",
    "    n_days = len(test_data)\n",
    "    time_points = np.arange(n_days)\n",
    "    S0 = train_data['price'].iloc[-1]\n",
    "    \n",
    "    simulation_paths = []\n",
    "    \n",
    "    for i in range(num_simulations):\n",
    "        # For each simulation, sample a new fBM path\n",
    "        fbm = FractionalBrownianMotion(hurst=H, t=n_days - 1)\n",
    "        fbm_values = fbm.sample(n=n_days - 2)\n",
    "        fbm_values = np.insert(fbm_values, 0, 0)  # align with the time vector\n",
    "        sim_prices = S0 * np.exp(mu * time_points + sigma * fbm_values)\n",
    "        simulation_paths.append(sim_prices)\n",
    "    \n",
    "    # Create a Plotly figure for the Monte Carlo simulation\n",
    "    fig = go.Figure()\n",
    "    \n",
    "    # Add each simulated path (using low opacity to avoid clutter)\n",
    "    for i, sim_prices in enumerate(simulation_paths):\n",
    "        fig.add_trace(go.Scatter(\n",
    "            x=test_data.index,\n",
    "            y=sim_prices,\n",
    "            mode='lines',\n",
    "            name=f'Simulation {i+1}',\n",
    "            line=dict(color='rgba(255, 0, 0, 0.1)'),  # Red with transparency\n",
    "            showlegend=False  # Hide individual simulation legends\n",
    "        ))\n",
    "    \n",
    "    # Overlay the actual prices\n",
    "    fig.add_trace(go.Scatter(\n",
    "        x=test_data.index,\n",
    "        y=test_data[\"price\"],\n",
    "        mode='lines',\n",
    "        name='Actual Price',\n",
    "        line=dict(color='blue', width=2)\n",
    "    ))\n",
    "    \n",
    "    # Update plot layout\n",
    "    fig.update_layout(\n",
    "        title=f\"Monte Carlo Simulation of Stock Prices using fBM (H={H}) - {num_simulations} Paths\",\n",
    "        xaxis_title=\"Date\",\n",
    "        yaxis_title=\"Stock Price\",\n",
    "        template=\"plotly_white\"\n",
    "    )\n",
    "    \n",
    "    fig.show()\n",
    "\n",
    "montecarlo_simulation_and_plot(SNP_training_df, SNP_testing_df, SNP_hurst_est, num_simulations=100)"
   ]
  },
  {
   "cell_type": "markdown",
   "metadata": {},
   "source": [
    "### S&P500 VIX Analysis"
   ]
  },
  {
   "cell_type": "code",
   "execution_count": 1013,
   "metadata": {},
   "outputs": [
    {
     "data": {
      "text/html": [
       "<div>\n",
       "<style scoped>\n",
       "    .dataframe tbody tr th:only-of-type {\n",
       "        vertical-align: middle;\n",
       "    }\n",
       "\n",
       "    .dataframe tbody tr th {\n",
       "        vertical-align: top;\n",
       "    }\n",
       "\n",
       "    .dataframe thead th {\n",
       "        text-align: right;\n",
       "    }\n",
       "</style>\n",
       "<table border=\"1\" class=\"dataframe\">\n",
       "  <thead>\n",
       "    <tr style=\"text-align: right;\">\n",
       "      <th></th>\n",
       "      <th>vol</th>\n",
       "      <th>log_vol_diff</th>\n",
       "      <th>log_vol</th>\n",
       "    </tr>\n",
       "  </thead>\n",
       "  <tbody>\n",
       "    <tr>\n",
       "      <th>2015-01-05</th>\n",
       "      <td>19.92</td>\n",
       "      <td>-0.058496</td>\n",
       "      <td>2.991724</td>\n",
       "    </tr>\n",
       "    <tr>\n",
       "      <th>2015-01-06</th>\n",
       "      <td>21.12</td>\n",
       "      <td>0.089597</td>\n",
       "      <td>3.050220</td>\n",
       "    </tr>\n",
       "    <tr>\n",
       "      <th>2015-01-07</th>\n",
       "      <td>19.31</td>\n",
       "      <td>0.126822</td>\n",
       "      <td>2.960623</td>\n",
       "    </tr>\n",
       "    <tr>\n",
       "      <th>2015-01-08</th>\n",
       "      <td>17.01</td>\n",
       "      <td>-0.031253</td>\n",
       "      <td>2.833801</td>\n",
       "    </tr>\n",
       "    <tr>\n",
       "      <th>2015-01-09</th>\n",
       "      <td>17.55</td>\n",
       "      <td>-0.110476</td>\n",
       "      <td>2.865054</td>\n",
       "    </tr>\n",
       "  </tbody>\n",
       "</table>\n",
       "</div>"
      ],
      "text/plain": [
       "              vol  log_vol_diff   log_vol\n",
       "2015-01-05  19.92     -0.058496  2.991724\n",
       "2015-01-06  21.12      0.089597  3.050220\n",
       "2015-01-07  19.31      0.126822  2.960623\n",
       "2015-01-08  17.01     -0.031253  2.833801\n",
       "2015-01-09  17.55     -0.110476  2.865054"
      ]
     },
     "execution_count": 1013,
     "metadata": {},
     "output_type": "execute_result"
    }
   ],
   "source": [
    "# Load the CSV file into df\n",
    "VIX = pd.read_csv(SNP_VIX_file)\n",
    "VIX.columns = [\"vol\"]\n",
    "VIX[\"log_vol_diff\"] = np.log(VIX['vol']/ VIX['vol'].shift(1))\n",
    "VIX.index = pd.to_datetime(VIX.index)\n",
    "VIX = VIX.sort_index(ascending=True)\n",
    "VIX = VIX[1:]\n",
    "VIX['log_vol'] = np.log(VIX['vol'])\n",
    "\n",
    "VIX.head()"
   ]
  },
  {
   "cell_type": "code",
   "execution_count": 1014,
   "metadata": {},
   "outputs": [
    {
     "data": {
      "text/html": [
       "<div>\n",
       "<style scoped>\n",
       "    .dataframe tbody tr th:only-of-type {\n",
       "        vertical-align: middle;\n",
       "    }\n",
       "\n",
       "    .dataframe tbody tr th {\n",
       "        vertical-align: top;\n",
       "    }\n",
       "\n",
       "    .dataframe thead th {\n",
       "        text-align: right;\n",
       "    }\n",
       "</style>\n",
       "<table border=\"1\" class=\"dataframe\">\n",
       "  <thead>\n",
       "    <tr style=\"text-align: right;\">\n",
       "      <th></th>\n",
       "      <th>vol</th>\n",
       "      <th>log_vol_diff</th>\n",
       "      <th>log_vol</th>\n",
       "    </tr>\n",
       "  </thead>\n",
       "  <tbody>\n",
       "    <tr>\n",
       "      <th>2018-01-02</th>\n",
       "      <td>9.77</td>\n",
       "      <td>0.065563</td>\n",
       "      <td>2.279316</td>\n",
       "    </tr>\n",
       "    <tr>\n",
       "      <th>2018-01-03</th>\n",
       "      <td>9.15</td>\n",
       "      <td>-0.007621</td>\n",
       "      <td>2.213754</td>\n",
       "    </tr>\n",
       "    <tr>\n",
       "      <th>2018-01-04</th>\n",
       "      <td>9.22</td>\n",
       "      <td>0.000000</td>\n",
       "      <td>2.221375</td>\n",
       "    </tr>\n",
       "    <tr>\n",
       "      <th>2018-01-05</th>\n",
       "      <td>9.22</td>\n",
       "      <td>-0.032020</td>\n",
       "      <td>2.221375</td>\n",
       "    </tr>\n",
       "    <tr>\n",
       "      <th>2018-01-08</th>\n",
       "      <td>9.52</td>\n",
       "      <td>-0.057158</td>\n",
       "      <td>2.253395</td>\n",
       "    </tr>\n",
       "  </tbody>\n",
       "</table>\n",
       "</div>"
      ],
      "text/plain": [
       "             vol  log_vol_diff   log_vol\n",
       "2018-01-02  9.77      0.065563  2.279316\n",
       "2018-01-03  9.15     -0.007621  2.213754\n",
       "2018-01-04  9.22      0.000000  2.221375\n",
       "2018-01-05  9.22     -0.032020  2.221375\n",
       "2018-01-08  9.52     -0.057158  2.253395"
      ]
     },
     "execution_count": 1014,
     "metadata": {},
     "output_type": "execute_result"
    }
   ],
   "source": [
    "# vix_training_start, vix_training_end = \"2015-01-02\", \"2022-12-30\"\n",
    "vix_training_start, vix_training_end = \"2018-01-01\", \"2020-06-30\"\n",
    "vix_testing_start, vix_testing_end = \"2020-07-01\", \"2020-08-01\"\n",
    "\n",
    "vix_training_df = VIX[(VIX.index >= vix_training_start) & (VIX.index <= vix_training_end)]\n",
    "vix_testing_df = VIX[(VIX.index >= vix_testing_start) & (VIX.index <= vix_testing_end)]\n",
    "vix_training_df.head()"
   ]
  },
  {
   "cell_type": "code",
   "execution_count": 1015,
   "metadata": {},
   "outputs": [
    {
     "name": "stdout",
     "output_type": "stream",
     "text": [
      "Estimated Hurst Exponent: 0.6277\n"
     ]
    }
   ],
   "source": [
    "from hurst import compute_Hc\n",
    "\n",
    "vix_hurst_est, c, data = compute_Hc(vix_training_df[\"log_vol\"], kind='change', simplified=True)\n",
    "print(f\"Estimated Hurst Exponent: {vix_hurst_est:.4f}\")"
   ]
  },
  {
   "cell_type": "code",
   "execution_count": 1016,
   "metadata": {},
   "outputs": [
    {
     "name": "stdout",
     "output_type": "stream",
     "text": [
      "-0.0017060147747200226 0.09294785307769589\n"
     ]
    },
    {
     "data": {
      "application/vnd.plotly.v1+json": {
       "config": {
        "plotlyServerURL": "https://plot.ly"
       },
       "data": [
        {
         "line": {
          "color": "blue"
         },
         "mode": "lines",
         "name": "Actual VIX",
         "type": "scatter",
         "x": [
          "2020-07-01T00:00:00",
          "2020-07-02T00:00:00",
          "2020-07-06T00:00:00",
          "2020-07-07T00:00:00",
          "2020-07-08T00:00:00",
          "2020-07-09T00:00:00",
          "2020-07-10T00:00:00",
          "2020-07-13T00:00:00",
          "2020-07-14T00:00:00",
          "2020-07-15T00:00:00",
          "2020-07-16T00:00:00",
          "2020-07-17T00:00:00",
          "2020-07-20T00:00:00",
          "2020-07-21T00:00:00",
          "2020-07-22T00:00:00",
          "2020-07-23T00:00:00",
          "2020-07-24T00:00:00",
          "2020-07-27T00:00:00",
          "2020-07-28T00:00:00",
          "2020-07-29T00:00:00",
          "2020-07-30T00:00:00",
          "2020-07-31T00:00:00"
         ],
         "y": [
          28.62,
          27.68,
          27.94,
          29.43,
          28.08,
          29.26,
          27.29,
          32.19,
          29.52,
          27.76,
          28,
          25.68,
          24.46,
          24.84,
          24.32,
          26.08,
          25.84,
          24.74,
          25.44,
          24.1,
          24.76,
          24.46
         ]
        },
        {
         "line": {
          "color": "red",
          "dash": "dash"
         },
         "mode": "lines",
         "name": "Forecasted VIX (fBM)",
         "type": "scatter",
         "x": [
          "2020-07-01T00:00:00",
          "2020-07-02T00:00:00",
          "2020-07-06T00:00:00",
          "2020-07-07T00:00:00",
          "2020-07-08T00:00:00",
          "2020-07-09T00:00:00",
          "2020-07-10T00:00:00",
          "2020-07-13T00:00:00",
          "2020-07-14T00:00:00",
          "2020-07-15T00:00:00",
          "2020-07-16T00:00:00",
          "2020-07-17T00:00:00",
          "2020-07-20T00:00:00",
          "2020-07-21T00:00:00",
          "2020-07-22T00:00:00",
          "2020-07-23T00:00:00",
          "2020-07-24T00:00:00",
          "2020-07-27T00:00:00",
          "2020-07-28T00:00:00",
          "2020-07-29T00:00:00",
          "2020-07-30T00:00:00",
          "2020-07-31T00:00:00"
         ],
         "y": [
          30.43,
          32.44324940354009,
          35.626414963371836,
          38.10739832985339,
          37.762030759074065,
          43.65765320549589,
          39.97580676486295,
          39.03255812716776,
          35.4632502130007,
          36.29778746854634,
          40.50513896305857,
          47.15458580259998,
          49.86482370965096,
          52.51018044245069,
          55.12403080699731,
          55.119949783016985,
          50.60426050174638,
          44.7434051935486,
          43.84982117609284,
          43.118513005842345,
          42.87824950416771,
          42.79669954577458
         ]
        }
       ],
       "layout": {
        "template": {
         "data": {
          "bar": [
           {
            "error_x": {
             "color": "#2a3f5f"
            },
            "error_y": {
             "color": "#2a3f5f"
            },
            "marker": {
             "line": {
              "color": "white",
              "width": 0.5
             },
             "pattern": {
              "fillmode": "overlay",
              "size": 10,
              "solidity": 0.2
             }
            },
            "type": "bar"
           }
          ],
          "barpolar": [
           {
            "marker": {
             "line": {
              "color": "white",
              "width": 0.5
             },
             "pattern": {
              "fillmode": "overlay",
              "size": 10,
              "solidity": 0.2
             }
            },
            "type": "barpolar"
           }
          ],
          "carpet": [
           {
            "aaxis": {
             "endlinecolor": "#2a3f5f",
             "gridcolor": "#C8D4E3",
             "linecolor": "#C8D4E3",
             "minorgridcolor": "#C8D4E3",
             "startlinecolor": "#2a3f5f"
            },
            "baxis": {
             "endlinecolor": "#2a3f5f",
             "gridcolor": "#C8D4E3",
             "linecolor": "#C8D4E3",
             "minorgridcolor": "#C8D4E3",
             "startlinecolor": "#2a3f5f"
            },
            "type": "carpet"
           }
          ],
          "choropleth": [
           {
            "colorbar": {
             "outlinewidth": 0,
             "ticks": ""
            },
            "type": "choropleth"
           }
          ],
          "contour": [
           {
            "colorbar": {
             "outlinewidth": 0,
             "ticks": ""
            },
            "colorscale": [
             [
              0,
              "#0d0887"
             ],
             [
              0.1111111111111111,
              "#46039f"
             ],
             [
              0.2222222222222222,
              "#7201a8"
             ],
             [
              0.3333333333333333,
              "#9c179e"
             ],
             [
              0.4444444444444444,
              "#bd3786"
             ],
             [
              0.5555555555555556,
              "#d8576b"
             ],
             [
              0.6666666666666666,
              "#ed7953"
             ],
             [
              0.7777777777777778,
              "#fb9f3a"
             ],
             [
              0.8888888888888888,
              "#fdca26"
             ],
             [
              1,
              "#f0f921"
             ]
            ],
            "type": "contour"
           }
          ],
          "contourcarpet": [
           {
            "colorbar": {
             "outlinewidth": 0,
             "ticks": ""
            },
            "type": "contourcarpet"
           }
          ],
          "heatmap": [
           {
            "colorbar": {
             "outlinewidth": 0,
             "ticks": ""
            },
            "colorscale": [
             [
              0,
              "#0d0887"
             ],
             [
              0.1111111111111111,
              "#46039f"
             ],
             [
              0.2222222222222222,
              "#7201a8"
             ],
             [
              0.3333333333333333,
              "#9c179e"
             ],
             [
              0.4444444444444444,
              "#bd3786"
             ],
             [
              0.5555555555555556,
              "#d8576b"
             ],
             [
              0.6666666666666666,
              "#ed7953"
             ],
             [
              0.7777777777777778,
              "#fb9f3a"
             ],
             [
              0.8888888888888888,
              "#fdca26"
             ],
             [
              1,
              "#f0f921"
             ]
            ],
            "type": "heatmap"
           }
          ],
          "heatmapgl": [
           {
            "colorbar": {
             "outlinewidth": 0,
             "ticks": ""
            },
            "colorscale": [
             [
              0,
              "#0d0887"
             ],
             [
              0.1111111111111111,
              "#46039f"
             ],
             [
              0.2222222222222222,
              "#7201a8"
             ],
             [
              0.3333333333333333,
              "#9c179e"
             ],
             [
              0.4444444444444444,
              "#bd3786"
             ],
             [
              0.5555555555555556,
              "#d8576b"
             ],
             [
              0.6666666666666666,
              "#ed7953"
             ],
             [
              0.7777777777777778,
              "#fb9f3a"
             ],
             [
              0.8888888888888888,
              "#fdca26"
             ],
             [
              1,
              "#f0f921"
             ]
            ],
            "type": "heatmapgl"
           }
          ],
          "histogram": [
           {
            "marker": {
             "pattern": {
              "fillmode": "overlay",
              "size": 10,
              "solidity": 0.2
             }
            },
            "type": "histogram"
           }
          ],
          "histogram2d": [
           {
            "colorbar": {
             "outlinewidth": 0,
             "ticks": ""
            },
            "colorscale": [
             [
              0,
              "#0d0887"
             ],
             [
              0.1111111111111111,
              "#46039f"
             ],
             [
              0.2222222222222222,
              "#7201a8"
             ],
             [
              0.3333333333333333,
              "#9c179e"
             ],
             [
              0.4444444444444444,
              "#bd3786"
             ],
             [
              0.5555555555555556,
              "#d8576b"
             ],
             [
              0.6666666666666666,
              "#ed7953"
             ],
             [
              0.7777777777777778,
              "#fb9f3a"
             ],
             [
              0.8888888888888888,
              "#fdca26"
             ],
             [
              1,
              "#f0f921"
             ]
            ],
            "type": "histogram2d"
           }
          ],
          "histogram2dcontour": [
           {
            "colorbar": {
             "outlinewidth": 0,
             "ticks": ""
            },
            "colorscale": [
             [
              0,
              "#0d0887"
             ],
             [
              0.1111111111111111,
              "#46039f"
             ],
             [
              0.2222222222222222,
              "#7201a8"
             ],
             [
              0.3333333333333333,
              "#9c179e"
             ],
             [
              0.4444444444444444,
              "#bd3786"
             ],
             [
              0.5555555555555556,
              "#d8576b"
             ],
             [
              0.6666666666666666,
              "#ed7953"
             ],
             [
              0.7777777777777778,
              "#fb9f3a"
             ],
             [
              0.8888888888888888,
              "#fdca26"
             ],
             [
              1,
              "#f0f921"
             ]
            ],
            "type": "histogram2dcontour"
           }
          ],
          "mesh3d": [
           {
            "colorbar": {
             "outlinewidth": 0,
             "ticks": ""
            },
            "type": "mesh3d"
           }
          ],
          "parcoords": [
           {
            "line": {
             "colorbar": {
              "outlinewidth": 0,
              "ticks": ""
             }
            },
            "type": "parcoords"
           }
          ],
          "pie": [
           {
            "automargin": true,
            "type": "pie"
           }
          ],
          "scatter": [
           {
            "fillpattern": {
             "fillmode": "overlay",
             "size": 10,
             "solidity": 0.2
            },
            "type": "scatter"
           }
          ],
          "scatter3d": [
           {
            "line": {
             "colorbar": {
              "outlinewidth": 0,
              "ticks": ""
             }
            },
            "marker": {
             "colorbar": {
              "outlinewidth": 0,
              "ticks": ""
             }
            },
            "type": "scatter3d"
           }
          ],
          "scattercarpet": [
           {
            "marker": {
             "colorbar": {
              "outlinewidth": 0,
              "ticks": ""
             }
            },
            "type": "scattercarpet"
           }
          ],
          "scattergeo": [
           {
            "marker": {
             "colorbar": {
              "outlinewidth": 0,
              "ticks": ""
             }
            },
            "type": "scattergeo"
           }
          ],
          "scattergl": [
           {
            "marker": {
             "colorbar": {
              "outlinewidth": 0,
              "ticks": ""
             }
            },
            "type": "scattergl"
           }
          ],
          "scattermapbox": [
           {
            "marker": {
             "colorbar": {
              "outlinewidth": 0,
              "ticks": ""
             }
            },
            "type": "scattermapbox"
           }
          ],
          "scatterpolar": [
           {
            "marker": {
             "colorbar": {
              "outlinewidth": 0,
              "ticks": ""
             }
            },
            "type": "scatterpolar"
           }
          ],
          "scatterpolargl": [
           {
            "marker": {
             "colorbar": {
              "outlinewidth": 0,
              "ticks": ""
             }
            },
            "type": "scatterpolargl"
           }
          ],
          "scatterternary": [
           {
            "marker": {
             "colorbar": {
              "outlinewidth": 0,
              "ticks": ""
             }
            },
            "type": "scatterternary"
           }
          ],
          "surface": [
           {
            "colorbar": {
             "outlinewidth": 0,
             "ticks": ""
            },
            "colorscale": [
             [
              0,
              "#0d0887"
             ],
             [
              0.1111111111111111,
              "#46039f"
             ],
             [
              0.2222222222222222,
              "#7201a8"
             ],
             [
              0.3333333333333333,
              "#9c179e"
             ],
             [
              0.4444444444444444,
              "#bd3786"
             ],
             [
              0.5555555555555556,
              "#d8576b"
             ],
             [
              0.6666666666666666,
              "#ed7953"
             ],
             [
              0.7777777777777778,
              "#fb9f3a"
             ],
             [
              0.8888888888888888,
              "#fdca26"
             ],
             [
              1,
              "#f0f921"
             ]
            ],
            "type": "surface"
           }
          ],
          "table": [
           {
            "cells": {
             "fill": {
              "color": "#EBF0F8"
             },
             "line": {
              "color": "white"
             }
            },
            "header": {
             "fill": {
              "color": "#C8D4E3"
             },
             "line": {
              "color": "white"
             }
            },
            "type": "table"
           }
          ]
         },
         "layout": {
          "annotationdefaults": {
           "arrowcolor": "#2a3f5f",
           "arrowhead": 0,
           "arrowwidth": 1
          },
          "autotypenumbers": "strict",
          "coloraxis": {
           "colorbar": {
            "outlinewidth": 0,
            "ticks": ""
           }
          },
          "colorscale": {
           "diverging": [
            [
             0,
             "#8e0152"
            ],
            [
             0.1,
             "#c51b7d"
            ],
            [
             0.2,
             "#de77ae"
            ],
            [
             0.3,
             "#f1b6da"
            ],
            [
             0.4,
             "#fde0ef"
            ],
            [
             0.5,
             "#f7f7f7"
            ],
            [
             0.6,
             "#e6f5d0"
            ],
            [
             0.7,
             "#b8e186"
            ],
            [
             0.8,
             "#7fbc41"
            ],
            [
             0.9,
             "#4d9221"
            ],
            [
             1,
             "#276419"
            ]
           ],
           "sequential": [
            [
             0,
             "#0d0887"
            ],
            [
             0.1111111111111111,
             "#46039f"
            ],
            [
             0.2222222222222222,
             "#7201a8"
            ],
            [
             0.3333333333333333,
             "#9c179e"
            ],
            [
             0.4444444444444444,
             "#bd3786"
            ],
            [
             0.5555555555555556,
             "#d8576b"
            ],
            [
             0.6666666666666666,
             "#ed7953"
            ],
            [
             0.7777777777777778,
             "#fb9f3a"
            ],
            [
             0.8888888888888888,
             "#fdca26"
            ],
            [
             1,
             "#f0f921"
            ]
           ],
           "sequentialminus": [
            [
             0,
             "#0d0887"
            ],
            [
             0.1111111111111111,
             "#46039f"
            ],
            [
             0.2222222222222222,
             "#7201a8"
            ],
            [
             0.3333333333333333,
             "#9c179e"
            ],
            [
             0.4444444444444444,
             "#bd3786"
            ],
            [
             0.5555555555555556,
             "#d8576b"
            ],
            [
             0.6666666666666666,
             "#ed7953"
            ],
            [
             0.7777777777777778,
             "#fb9f3a"
            ],
            [
             0.8888888888888888,
             "#fdca26"
            ],
            [
             1,
             "#f0f921"
            ]
           ]
          },
          "colorway": [
           "#636efa",
           "#EF553B",
           "#00cc96",
           "#ab63fa",
           "#FFA15A",
           "#19d3f3",
           "#FF6692",
           "#B6E880",
           "#FF97FF",
           "#FECB52"
          ],
          "font": {
           "color": "#2a3f5f"
          },
          "geo": {
           "bgcolor": "white",
           "lakecolor": "white",
           "landcolor": "white",
           "showlakes": true,
           "showland": true,
           "subunitcolor": "#C8D4E3"
          },
          "hoverlabel": {
           "align": "left"
          },
          "hovermode": "closest",
          "mapbox": {
           "style": "light"
          },
          "paper_bgcolor": "white",
          "plot_bgcolor": "white",
          "polar": {
           "angularaxis": {
            "gridcolor": "#EBF0F8",
            "linecolor": "#EBF0F8",
            "ticks": ""
           },
           "bgcolor": "white",
           "radialaxis": {
            "gridcolor": "#EBF0F8",
            "linecolor": "#EBF0F8",
            "ticks": ""
           }
          },
          "scene": {
           "xaxis": {
            "backgroundcolor": "white",
            "gridcolor": "#DFE8F3",
            "gridwidth": 2,
            "linecolor": "#EBF0F8",
            "showbackground": true,
            "ticks": "",
            "zerolinecolor": "#EBF0F8"
           },
           "yaxis": {
            "backgroundcolor": "white",
            "gridcolor": "#DFE8F3",
            "gridwidth": 2,
            "linecolor": "#EBF0F8",
            "showbackground": true,
            "ticks": "",
            "zerolinecolor": "#EBF0F8"
           },
           "zaxis": {
            "backgroundcolor": "white",
            "gridcolor": "#DFE8F3",
            "gridwidth": 2,
            "linecolor": "#EBF0F8",
            "showbackground": true,
            "ticks": "",
            "zerolinecolor": "#EBF0F8"
           }
          },
          "shapedefaults": {
           "line": {
            "color": "#2a3f5f"
           }
          },
          "ternary": {
           "aaxis": {
            "gridcolor": "#DFE8F3",
            "linecolor": "#A2B1C6",
            "ticks": ""
           },
           "baxis": {
            "gridcolor": "#DFE8F3",
            "linecolor": "#A2B1C6",
            "ticks": ""
           },
           "bgcolor": "white",
           "caxis": {
            "gridcolor": "#DFE8F3",
            "linecolor": "#A2B1C6",
            "ticks": ""
           }
          },
          "title": {
           "x": 0.05
          },
          "xaxis": {
           "automargin": true,
           "gridcolor": "#EBF0F8",
           "linecolor": "#EBF0F8",
           "ticks": "",
           "title": {
            "standoff": 15
           },
           "zerolinecolor": "#EBF0F8",
           "zerolinewidth": 2
          },
          "yaxis": {
           "automargin": true,
           "gridcolor": "#EBF0F8",
           "linecolor": "#EBF0F8",
           "ticks": "",
           "title": {
            "standoff": 15
           },
           "zerolinecolor": "#EBF0F8",
           "zerolinewidth": 2
          }
         }
        },
        "title": {
         "text": "VIX Forecast using fBM (H=0.6277461901447904)"
        },
        "xaxis": {
         "title": {
          "text": "Date"
         }
        },
        "yaxis": {
         "title": {
          "text": "VIX Value"
         }
        }
       }
      }
     },
     "metadata": {},
     "output_type": "display_data"
    }
   ],
   "source": [
    "from stochastic.processes.continuous import FractionalBrownianMotion\n",
    "import numpy as np\n",
    "import random\n",
    "import plotly.graph_objects as go\n",
    "\n",
    "def simulate_fbm_vix(train_data, test_data, H):\n",
    "    \"\"\"\n",
    "    Simulates a VIX path using geometric fractional Brownian motion.\n",
    "    \n",
    "    Parameters:\n",
    "        train_data (DataFrame): Training data containing at least 'vol' and 'log_vol_diff'.\n",
    "        test_data (DataFrame): Testing data to determine the simulation length.\n",
    "        H (float): Hurst exponent for the fractional Brownian motion.\n",
    "        \n",
    "    Returns:\n",
    "        np.ndarray: Simulated VIX values.\n",
    "    \"\"\"\n",
    "    # Set fixed seeds for reproducibility\n",
    "    random.seed(42)\n",
    "    np.random.seed(42)\n",
    "\n",
    "    # Calculate drift (μ) and volatility (σ) from training log differences of VIX\n",
    "    mu = train_data[\"log_vol_diff\"].mean()\n",
    "    sigma = train_data[\"log_vol_diff\"].std()\n",
    "\n",
    "    n_days = len(test_data)\n",
    "    # Define and sample from the fBM model\n",
    "    fbm = FractionalBrownianMotion(hurst=H, t=n_days-1)\n",
    "    fbm_values = fbm.sample(n=n_days-1)\n",
    "\n",
    "    # Use the last available VIX value in training data as the starting point\n",
    "    S0 = train_data['vol'].iloc[-1]\n",
    "    # Simulate the VIX path using a geometric fBM model\n",
    "    simulated_vix = S0 * np.exp(mu * np.arange(n_days) + sigma * fbm_values)\n",
    "    print(mu, sigma)\n",
    "    return simulated_vix\n",
    "\n",
    "def plot_fbm_vix(test_data, simulated_vix, H):\n",
    "    \"\"\"\n",
    "    Plots actual vs. simulated VIX values.\n",
    "    \n",
    "    Parameters:\n",
    "        test_data (DataFrame): Testing data containing actual VIX values under 'vol'.\n",
    "        simulated_vix (np.ndarray): Simulated VIX values.\n",
    "        H (float): Hurst exponent used in the simulation (for labeling purposes).\n",
    "    \"\"\"\n",
    "    fig = go.Figure()\n",
    "\n",
    "    # Actual VIX trace\n",
    "    fig.add_trace(go.Scatter(\n",
    "        x=test_data.index,\n",
    "        y=test_data[\"vol\"],\n",
    "        mode='lines',\n",
    "        name='Actual VIX',\n",
    "        line=dict(color='blue')\n",
    "    ))\n",
    "\n",
    "    # Forecasted VIX trace using fBM\n",
    "    fig.add_trace(go.Scatter(\n",
    "        x=test_data.index,\n",
    "        y=simulated_vix,\n",
    "        mode='lines',\n",
    "        name='Forecasted VIX (fBM)',\n",
    "        line=dict(color='red', dash='dash')\n",
    "    ))\n",
    "\n",
    "    # Update layout of the plot\n",
    "    fig.update_layout(\n",
    "        title=f\"VIX Forecast using fBM (H={H})\",\n",
    "        xaxis_title=\"Date\",\n",
    "        yaxis_title=\"VIX Value\",\n",
    "        template=\"plotly_white\"\n",
    "    )\n",
    "\n",
    "    fig.show()\n",
    "\n",
    "# Example usage:\n",
    "simulated_vix = simulate_fbm_vix(vix_training_df, vix_testing_df, vix_hurst_est)\n",
    "plot_fbm_vix(vix_testing_df, simulated_vix, vix_hurst_est)\n"
   ]
  },
  {
   "cell_type": "code",
   "execution_count": 1017,
   "metadata": {},
   "outputs": [
    {
     "data": {
      "application/vnd.plotly.v1+json": {
       "config": {
        "plotlyServerURL": "https://plot.ly"
       },
       "data": [
        {
         "line": {
          "color": "blue"
         },
         "mode": "lines",
         "name": "150 days rolling window",
         "type": "scatter",
         "x": [
          "2015-08-07T00:00:00",
          "2015-08-18T00:00:00",
          "2015-08-27T00:00:00",
          "2015-09-08T00:00:00",
          "2015-09-17T00:00:00",
          "2015-09-28T00:00:00",
          "2015-10-07T00:00:00",
          "2015-10-16T00:00:00",
          "2015-10-27T00:00:00",
          "2015-11-05T00:00:00",
          "2015-11-16T00:00:00",
          "2015-11-25T00:00:00",
          "2015-12-07T00:00:00",
          "2015-12-16T00:00:00",
          "2015-12-28T00:00:00",
          "2016-01-07T00:00:00",
          "2016-01-19T00:00:00",
          "2016-01-28T00:00:00",
          "2016-02-08T00:00:00",
          "2016-02-18T00:00:00",
          "2016-02-29T00:00:00",
          "2016-03-09T00:00:00",
          "2016-03-18T00:00:00",
          "2016-03-30T00:00:00",
          "2016-04-08T00:00:00",
          "2016-04-19T00:00:00",
          "2016-04-28T00:00:00",
          "2016-05-09T00:00:00",
          "2016-05-18T00:00:00",
          "2016-05-27T00:00:00",
          "2016-06-08T00:00:00",
          "2016-06-17T00:00:00",
          "2016-06-28T00:00:00",
          "2016-07-08T00:00:00",
          "2016-07-19T00:00:00",
          "2016-07-28T00:00:00",
          "2016-08-08T00:00:00",
          "2016-08-17T00:00:00",
          "2016-08-26T00:00:00",
          "2016-09-07T00:00:00",
          "2016-09-16T00:00:00",
          "2016-09-27T00:00:00",
          "2016-10-06T00:00:00",
          "2016-10-17T00:00:00",
          "2016-10-26T00:00:00",
          "2016-11-04T00:00:00",
          "2016-11-15T00:00:00",
          "2016-11-25T00:00:00",
          "2016-12-06T00:00:00",
          "2016-12-15T00:00:00",
          "2016-12-27T00:00:00",
          "2017-01-06T00:00:00",
          "2017-01-18T00:00:00",
          "2017-01-27T00:00:00",
          "2017-02-07T00:00:00",
          "2017-02-16T00:00:00",
          "2017-02-28T00:00:00",
          "2017-03-09T00:00:00",
          "2017-03-20T00:00:00",
          "2017-03-29T00:00:00",
          "2017-04-07T00:00:00",
          "2017-04-19T00:00:00",
          "2017-04-28T00:00:00",
          "2017-05-09T00:00:00",
          "2017-05-18T00:00:00",
          "2017-05-30T00:00:00",
          "2017-06-08T00:00:00",
          "2017-06-19T00:00:00",
          "2017-06-28T00:00:00",
          "2017-07-10T00:00:00",
          "2017-07-19T00:00:00",
          "2017-07-28T00:00:00",
          "2017-08-08T00:00:00",
          "2017-08-17T00:00:00",
          "2017-08-28T00:00:00",
          "2017-09-07T00:00:00",
          "2017-09-18T00:00:00",
          "2017-09-27T00:00:00",
          "2017-10-06T00:00:00",
          "2017-10-17T00:00:00",
          "2017-10-26T00:00:00",
          "2017-11-06T00:00:00",
          "2017-11-15T00:00:00",
          "2017-11-27T00:00:00",
          "2017-12-06T00:00:00",
          "2017-12-15T00:00:00",
          "2017-12-27T00:00:00",
          "2018-01-08T00:00:00",
          "2018-01-18T00:00:00",
          "2018-01-29T00:00:00",
          "2018-02-07T00:00:00",
          "2018-02-16T00:00:00",
          "2018-02-28T00:00:00",
          "2018-03-09T00:00:00",
          "2018-03-20T00:00:00",
          "2018-03-29T00:00:00",
          "2018-04-10T00:00:00",
          "2018-04-19T00:00:00",
          "2018-04-30T00:00:00",
          "2018-05-09T00:00:00",
          "2018-05-18T00:00:00",
          "2018-05-30T00:00:00",
          "2018-06-08T00:00:00",
          "2018-06-19T00:00:00",
          "2018-06-28T00:00:00",
          "2018-07-10T00:00:00",
          "2018-07-19T00:00:00",
          "2018-07-30T00:00:00",
          "2018-08-08T00:00:00",
          "2018-08-17T00:00:00",
          "2018-08-28T00:00:00",
          "2018-09-07T00:00:00",
          "2018-09-18T00:00:00",
          "2018-09-27T00:00:00",
          "2018-10-08T00:00:00",
          "2018-10-17T00:00:00",
          "2018-10-26T00:00:00",
          "2018-11-06T00:00:00",
          "2018-11-15T00:00:00",
          "2018-11-27T00:00:00",
          "2018-12-06T00:00:00",
          "2018-12-17T00:00:00",
          "2018-12-27T00:00:00",
          "2019-01-08T00:00:00",
          "2019-01-17T00:00:00",
          "2019-01-29T00:00:00",
          "2019-02-07T00:00:00",
          "2019-02-19T00:00:00",
          "2019-02-28T00:00:00",
          "2019-03-11T00:00:00",
          "2019-03-20T00:00:00",
          "2019-03-29T00:00:00",
          "2019-04-09T00:00:00",
          "2019-04-18T00:00:00",
          "2019-04-29T00:00:00",
          "2019-05-08T00:00:00",
          "2019-05-17T00:00:00",
          "2019-05-29T00:00:00",
          "2019-06-07T00:00:00",
          "2019-06-18T00:00:00",
          "2019-06-27T00:00:00",
          "2019-07-09T00:00:00",
          "2019-07-18T00:00:00",
          "2019-07-29T00:00:00",
          "2019-08-07T00:00:00",
          "2019-08-16T00:00:00",
          "2019-08-27T00:00:00",
          "2019-09-06T00:00:00",
          "2019-09-17T00:00:00",
          "2019-09-26T00:00:00",
          "2019-10-07T00:00:00",
          "2019-10-16T00:00:00",
          "2019-10-25T00:00:00",
          "2019-11-05T00:00:00",
          "2019-11-14T00:00:00",
          "2019-11-25T00:00:00",
          "2019-12-05T00:00:00",
          "2019-12-16T00:00:00",
          "2019-12-26T00:00:00",
          "2020-01-07T00:00:00",
          "2020-01-16T00:00:00",
          "2020-01-28T00:00:00",
          "2020-02-06T00:00:00",
          "2020-02-18T00:00:00",
          "2020-02-27T00:00:00",
          "2020-03-09T00:00:00",
          "2020-03-18T00:00:00",
          "2020-03-27T00:00:00",
          "2020-04-07T00:00:00",
          "2020-04-17T00:00:00",
          "2020-04-28T00:00:00",
          "2020-05-07T00:00:00",
          "2020-05-18T00:00:00",
          "2020-05-28T00:00:00",
          "2020-06-08T00:00:00",
          "2020-06-17T00:00:00",
          "2020-06-26T00:00:00",
          "2020-07-08T00:00:00",
          "2020-07-17T00:00:00",
          "2020-07-28T00:00:00",
          "2020-08-06T00:00:00",
          "2020-08-17T00:00:00",
          "2020-08-26T00:00:00",
          "2020-09-04T00:00:00",
          "2020-09-16T00:00:00",
          "2020-09-25T00:00:00",
          "2020-10-06T00:00:00",
          "2020-10-15T00:00:00",
          "2020-10-26T00:00:00",
          "2020-11-04T00:00:00",
          "2020-11-13T00:00:00",
          "2020-11-24T00:00:00",
          "2020-12-04T00:00:00",
          "2020-12-15T00:00:00",
          "2020-12-24T00:00:00",
          "2021-01-06T00:00:00",
          "2021-01-15T00:00:00",
          "2021-01-27T00:00:00",
          "2021-02-05T00:00:00",
          "2021-02-17T00:00:00",
          "2021-02-26T00:00:00",
          "2021-03-09T00:00:00",
          "2021-03-18T00:00:00",
          "2021-03-29T00:00:00",
          "2021-04-08T00:00:00",
          "2021-04-19T00:00:00",
          "2021-04-28T00:00:00",
          "2021-05-07T00:00:00",
          "2021-05-18T00:00:00",
          "2021-05-27T00:00:00",
          "2021-06-08T00:00:00",
          "2021-06-17T00:00:00",
          "2021-06-28T00:00:00",
          "2021-07-08T00:00:00",
          "2021-07-19T00:00:00",
          "2021-07-28T00:00:00",
          "2021-08-06T00:00:00",
          "2021-08-17T00:00:00",
          "2021-08-26T00:00:00",
          "2021-09-07T00:00:00",
          "2021-09-16T00:00:00",
          "2021-09-27T00:00:00",
          "2021-10-06T00:00:00",
          "2021-10-15T00:00:00",
          "2021-10-26T00:00:00",
          "2021-11-04T00:00:00",
          "2021-11-15T00:00:00",
          "2021-11-24T00:00:00",
          "2021-12-06T00:00:00",
          "2021-12-15T00:00:00",
          "2021-12-27T00:00:00",
          "2022-01-05T00:00:00",
          "2022-01-14T00:00:00",
          "2022-01-26T00:00:00",
          "2022-02-04T00:00:00",
          "2022-02-15T00:00:00",
          "2022-02-25T00:00:00",
          "2022-03-08T00:00:00",
          "2022-03-17T00:00:00",
          "2022-03-28T00:00:00",
          "2022-04-06T00:00:00",
          "2022-04-18T00:00:00",
          "2022-04-27T00:00:00",
          "2022-05-06T00:00:00",
          "2022-05-17T00:00:00",
          "2022-05-26T00:00:00",
          "2022-06-06T00:00:00",
          "2022-06-15T00:00:00",
          "2022-06-24T00:00:00",
          "2022-07-05T00:00:00",
          "2022-07-14T00:00:00",
          "2022-07-25T00:00:00",
          "2022-08-03T00:00:00",
          "2022-08-12T00:00:00",
          "2022-08-23T00:00:00",
          "2022-09-01T00:00:00",
          "2022-09-12T00:00:00",
          "2022-09-21T00:00:00",
          "2022-09-30T00:00:00",
          "2022-10-11T00:00:00",
          "2022-10-20T00:00:00",
          "2022-10-31T00:00:00",
          "2022-11-09T00:00:00",
          "2022-11-18T00:00:00",
          "2022-11-29T00:00:00",
          "2022-12-08T00:00:00",
          "2022-12-19T00:00:00",
          "2022-12-29T00:00:00",
          "2023-01-10T00:00:00",
          "2023-01-19T00:00:00",
          "2023-01-30T00:00:00",
          "2023-02-08T00:00:00",
          "2023-02-17T00:00:00",
          "2023-02-28T00:00:00",
          "2023-03-09T00:00:00",
          "2023-03-20T00:00:00",
          "2023-03-29T00:00:00",
          "2023-04-10T00:00:00",
          "2023-04-19T00:00:00",
          "2023-04-28T00:00:00",
          "2023-05-09T00:00:00",
          "2023-05-18T00:00:00",
          "2023-05-29T00:00:00",
          "2023-06-07T00:00:00",
          "2023-06-16T00:00:00",
          "2023-06-27T00:00:00",
          "2023-07-06T00:00:00",
          "2023-07-17T00:00:00",
          "2023-07-26T00:00:00",
          "2023-08-04T00:00:00",
          "2023-08-15T00:00:00",
          "2023-08-24T00:00:00",
          "2023-09-04T00:00:00",
          "2023-09-13T00:00:00",
          "2023-09-22T00:00:00",
          "2023-10-03T00:00:00",
          "2023-10-12T00:00:00",
          "2023-10-23T00:00:00",
          "2023-11-01T00:00:00",
          "2023-11-10T00:00:00",
          "2023-11-21T00:00:00",
          "2023-11-30T00:00:00",
          "2023-12-11T00:00:00",
          "2023-12-20T00:00:00",
          "2024-01-02T00:00:00",
          "2024-01-11T00:00:00",
          "2024-01-22T00:00:00",
          "2024-01-31T00:00:00",
          "2024-02-09T00:00:00",
          "2024-02-20T00:00:00",
          "2024-02-29T00:00:00",
          "2024-03-11T00:00:00",
          "2024-03-20T00:00:00",
          "2024-04-01T00:00:00",
          "2024-04-10T00:00:00",
          "2024-04-19T00:00:00",
          "2024-04-30T00:00:00",
          "2024-05-09T00:00:00",
          "2024-05-20T00:00:00",
          "2024-05-29T00:00:00",
          "2024-06-07T00:00:00",
          "2024-06-18T00:00:00",
          "2024-06-27T00:00:00",
          "2024-07-08T00:00:00",
          "2024-07-17T00:00:00",
          "2024-07-26T00:00:00",
          "2024-08-06T00:00:00",
          "2024-08-15T00:00:00",
          "2024-08-26T00:00:00",
          "2024-09-04T00:00:00",
          "2024-09-13T00:00:00",
          "2024-09-24T00:00:00",
          "2024-10-03T00:00:00",
          "2024-10-14T00:00:00",
          "2024-10-23T00:00:00",
          "2024-11-01T00:00:00",
          "2024-11-12T00:00:00",
          "2024-11-21T00:00:00",
          "2024-12-02T00:00:00",
          "2024-12-11T00:00:00",
          "2024-12-20T00:00:00"
         ],
         "y": [
          0.6704707410382114,
          0.7458884376741497,
          0.6650925444834649,
          0.6759354498090109,
          0.659976937034818,
          0.6317992550772678,
          0.6616875922581608,
          0.6262507181417825,
          0.6470944957094673,
          0.5229854345109529,
          0.47529844554393025,
          0.49570191960893767,
          0.49990509609362327,
          0.5094597099166462,
          0.5269701075217504,
          0.5557011654465918,
          0.5231765267137767,
          0.5956489455109042,
          0.5723736629482687,
          0.5150738025113228,
          0.6038607430355177,
          0.6013821156793278,
          0.6061498895158577,
          0.5900297276750884,
          0.6555973941847726,
          0.6823494875771702,
          0.5940861502435831,
          0.6608193975609747,
          0.6265664428968625,
          0.5841710834216961,
          0.553629835815281,
          0.6156327354246294,
          0.5848183625559419,
          0.5318152582803293,
          0.6108396677805528,
          0.6154352207721322,
          0.5284237157202258,
          0.4779204978430669,
          0.5463641527407513,
          0.5400582974833688,
          0.5429360277567575,
          0.6895028865936833,
          0.662864031595889,
          0.6375391204784798,
          0.7021149382288999,
          0.6594605493605975,
          0.644145855745151,
          0.6270484884696125,
          0.695745885281609,
          0.6730170682263567,
          0.6203713185920687,
          0.6694118009138317,
          0.6110213137841739,
          0.6644939451032091,
          0.7021155210546821,
          0.6495653859848584,
          0.6566488469236164,
          0.6618432921878918,
          0.6374033809988725,
          0.6530977433939031,
          0.650172157308258,
          0.6486086381623278,
          0.6279120337552203,
          0.6296419011647969,
          0.6501660273042834,
          0.6268040700896254,
          0.6403015715873842,
          0.7750292840590924,
          0.767814349335283,
          0.7499559751778619,
          0.7376970201800398,
          0.7361070851851061,
          0.6759467149149088,
          0.6777836304979722,
          0.6923115339716347,
          0.6815304932499509,
          0.6831950003619565,
          0.6792764274076653,
          0.6696323337592146,
          0.6486966338936758,
          0.6528561751852829,
          0.6466895734621592,
          0.6748579357853484,
          0.7120306186517056,
          0.7603787886113271,
          0.6973741607318591,
          0.704118756880391,
          0.7531906735972536,
          0.7083832553460565,
          0.7606628765320922,
          0.6298102789695299,
          0.5528880295209916,
          0.5628044243666598,
          0.5675175027715201,
          0.60496150395821,
          0.6031306780102149,
          0.5702154727665619,
          0.4285090843374952,
          0.35784791124982923,
          0.41721679743275636,
          0.4398375295865552,
          0.45885372976820454,
          0.47438511187676835,
          0.41554151823117036,
          0.45718105404597126,
          0.47688692258095805,
          0.41907898401466237,
          0.5085772188139881,
          0.5221189886220176,
          0.5591720306885145,
          0.5788026160225064,
          0.6078671991201227,
          0.6313060073102125,
          0.5981473324883194,
          0.6248208161587911,
          0.5896464805821764,
          0.5784336718456256,
          0.646741549513578,
          0.7106767872468954,
          0.6870252981032472,
          0.7019345226884001,
          0.6805695090652929,
          0.5665898223031718,
          0.533147822874665,
          0.5342105520775555,
          0.5232241232254927,
          0.5154650099195506,
          0.5200102207484844,
          0.49996378496593924,
          0.5106775171113123,
          0.4852425511221861,
          0.48953081371953633,
          0.5098657639968006,
          0.5364410034873192,
          0.5190737306308659,
          0.5554129451548687,
          0.58202551452331,
          0.5351576025581787,
          0.525997991503964,
          0.5365785269270811,
          0.545625290141638,
          0.45553022031667156,
          0.46978095401399733,
          0.5265084939957634,
          0.6181568407520163,
          0.6556833571115465,
          0.7075332732417318,
          0.6853012463886767,
          0.7154615059968931,
          0.7385925847241985,
          0.7183475328500312,
          0.6898125411278887,
          0.6589946077180934,
          0.6784763768046539,
          0.6576481451881149,
          0.6783029637375033,
          0.6476248254622587,
          0.6641348918619638,
          0.6655148222716115,
          0.583736791880499,
          0.6434648241398112,
          0.6228988450320263,
          0.5879420956656783,
          0.6676262225116579,
          0.6207562960139437,
          0.5415906043747981,
          0.47405414294526105,
          0.44820926174784675,
          0.4423986359083678,
          0.3735106169882613,
          0.4505087965693308,
          0.3451703449311643,
          0.2072773609963318,
          0.2355816146237159,
          0.1809407637822155,
          0.20849673714274328,
          0.230295060564114,
          0.2756239882843074,
          0.23801524935543267,
          0.17327436484326703,
          0.2798596576291127,
          0.28278775147593216,
          0.2859253695092687,
          0.4009756620175191,
          0.3842723713526539,
          0.4289542067714811,
          0.37881527304127793,
          0.40088317443324495,
          0.4505599562716067,
          0.5024296589114116,
          0.6207200288752145,
          0.637833945352622,
          0.6289777552804753,
          0.6954160644835626,
          0.627653593012524,
          0.6118283803854327,
          0.6072191008019909,
          0.6612158055399325,
          0.5961275641284617,
          0.6033196662787298,
          0.6734522811529384,
          0.6182787471252754,
          0.6384477897140288,
          0.7192230826116633,
          0.6379208139078599,
          0.5748969092727009,
          0.6083701461337505,
          0.6321476417523648,
          0.5524847972947461,
          0.6052864543327365,
          0.7067542951064248,
          0.6368986666897876,
          0.6595561433864656,
          0.6324253768921508,
          0.6427544088225232,
          0.6172398821888534,
          0.690031292252997,
          0.6624117992101045,
          0.628084357550017,
          0.6948886101126731,
          0.6704768622566012,
          0.7312562073635659,
          0.7979771841595288,
          0.809693032454859,
          0.8515622675387005,
          0.803608550379309,
          0.8298107447529331,
          0.7979439981351326,
          0.7810205782453573,
          0.8009431843787173,
          0.7603091699961191,
          0.7720141520507284,
          0.8090916518793647,
          0.7793702877938575,
          0.7569310771093473,
          0.7310539362879487,
          0.6971945470577863,
          0.6806525178793629,
          0.6760405301922539,
          0.6727479987558732,
          0.6956089101008981,
          0.6570397881069627,
          0.660446671288294,
          0.634571970881353,
          0.6049028198344722,
          0.6011099747199578,
          0.6402964014839367,
          0.6782936887612231,
          0.6820447208911226,
          0.6708792836442597,
          0.6507692240969618,
          0.6332560471398139,
          0.6198527655974443,
          0.7062373470384055,
          0.7065770822790997,
          0.6626730392748623,
          0.6886907530277775,
          0.6843357475144068,
          0.6582576576333341,
          0.6549202154890639,
          0.6167597294541779,
          0.6830643988990781,
          0.6430364772894324,
          0.6675502815098954,
          0.6654415186071564,
          0.6271388174602213,
          0.6299354432555847,
          0.6222830276922546,
          0.6258119739688346,
          0.5674757841422015,
          0.5604182633684871,
          0.5765615125343098,
          0.5269338802751053,
          0.5489089295083666,
          0.5710969179067245,
          0.5616539219924056,
          0.5497927499554668,
          0.535447995991997,
          0.5448248293218413,
          0.5107223560704625,
          0.5223736875763161,
          0.6133309046578974,
          0.6710788411087737,
          0.6848067566874675,
          0.6950168366242723,
          0.643456724138157,
          0.613854671690718,
          0.5825620297298609,
          0.5673270484012503,
          0.6220888478824952,
          0.519405427757229,
          0.5481234144388879,
          0.5572881131766036,
          0.46942001898300634,
          0.5132310952355729,
          0.5259886776709012,
          0.6113293253549555,
          0.608372331268456,
          0.6217585757942469,
          0.719168011331031,
          0.6366289919640026,
          0.6361315253521217,
          0.6767064842757892,
          0.6213665019241469,
          0.5791928863894772,
          0.5427075414250287,
          0.605931536404434,
          0.5478366039001966,
          0.5388022074248884,
          0.5790472278237783,
          0.5016046873759262,
          0.5457776748554931,
          0.5387160343839063,
          0.544195967122496,
          0.5515910208098277,
          0.5238228958809322,
          0.5356927271717964,
          0.5481796796806772,
          0.5989013389279902,
          0.7289496989391024,
          0.781853731620477,
          0.7568924599340797,
          0.6993759969792815,
          0.6985231339828353,
          0.7236857743182884,
          0.6854370467027907,
          0.5816493927793951,
          0.621373955164518,
          0.5902545505232994,
          0.6330781746302949,
          0.6376357392791757,
          0.5992612904271316,
          0.5915115879485598,
          0.5080346229641461,
          0.5166779290506857,
          0.5016558721846653,
          0.46715739394537903,
          0.5396534006802713,
          0.506612744375948,
          0.48803880747950656,
          0.524484295041747
         ]
        },
        {
         "line": {
          "color": "red"
         },
         "mode": "lines",
         "name": "350 days rolling window",
         "type": "scatter",
         "x": [
          "2016-05-24T00:00:00",
          "2016-06-03T00:00:00",
          "2016-06-14T00:00:00",
          "2016-06-23T00:00:00",
          "2016-07-05T00:00:00",
          "2016-07-14T00:00:00",
          "2016-07-25T00:00:00",
          "2016-08-03T00:00:00",
          "2016-08-12T00:00:00",
          "2016-08-23T00:00:00",
          "2016-09-01T00:00:00",
          "2016-09-13T00:00:00",
          "2016-09-22T00:00:00",
          "2016-10-03T00:00:00",
          "2016-10-12T00:00:00",
          "2016-10-21T00:00:00",
          "2016-11-01T00:00:00",
          "2016-11-10T00:00:00",
          "2016-11-21T00:00:00",
          "2016-12-01T00:00:00",
          "2016-12-12T00:00:00",
          "2016-12-21T00:00:00",
          "2017-01-03T00:00:00",
          "2017-01-12T00:00:00",
          "2017-01-24T00:00:00",
          "2017-02-02T00:00:00",
          "2017-02-13T00:00:00",
          "2017-02-23T00:00:00",
          "2017-03-06T00:00:00",
          "2017-03-15T00:00:00",
          "2017-03-24T00:00:00",
          "2017-04-04T00:00:00",
          "2017-04-13T00:00:00",
          "2017-04-25T00:00:00",
          "2017-05-04T00:00:00",
          "2017-05-15T00:00:00",
          "2017-05-24T00:00:00",
          "2017-06-05T00:00:00",
          "2017-06-14T00:00:00",
          "2017-06-23T00:00:00",
          "2017-07-05T00:00:00",
          "2017-07-14T00:00:00",
          "2017-07-25T00:00:00",
          "2017-08-03T00:00:00",
          "2017-08-14T00:00:00",
          "2017-08-23T00:00:00",
          "2017-09-01T00:00:00",
          "2017-09-13T00:00:00",
          "2017-09-22T00:00:00",
          "2017-10-03T00:00:00",
          "2017-10-12T00:00:00",
          "2017-10-23T00:00:00",
          "2017-11-01T00:00:00",
          "2017-11-10T00:00:00",
          "2017-11-21T00:00:00",
          "2017-12-01T00:00:00",
          "2017-12-12T00:00:00",
          "2017-12-21T00:00:00",
          "2018-01-03T00:00:00",
          "2018-01-12T00:00:00",
          "2018-01-24T00:00:00",
          "2018-02-02T00:00:00",
          "2018-02-13T00:00:00",
          "2018-02-23T00:00:00",
          "2018-03-06T00:00:00",
          "2018-03-15T00:00:00",
          "2018-03-26T00:00:00",
          "2018-04-05T00:00:00",
          "2018-04-16T00:00:00",
          "2018-04-25T00:00:00",
          "2018-05-04T00:00:00",
          "2018-05-15T00:00:00",
          "2018-05-24T00:00:00",
          "2018-06-05T00:00:00",
          "2018-06-14T00:00:00",
          "2018-06-25T00:00:00",
          "2018-07-05T00:00:00",
          "2018-07-16T00:00:00",
          "2018-07-25T00:00:00",
          "2018-08-03T00:00:00",
          "2018-08-14T00:00:00",
          "2018-08-23T00:00:00",
          "2018-09-04T00:00:00",
          "2018-09-13T00:00:00",
          "2018-09-24T00:00:00",
          "2018-10-03T00:00:00",
          "2018-10-12T00:00:00",
          "2018-10-23T00:00:00",
          "2018-11-01T00:00:00",
          "2018-11-12T00:00:00",
          "2018-11-21T00:00:00",
          "2018-12-03T00:00:00",
          "2018-12-12T00:00:00",
          "2018-12-21T00:00:00",
          "2019-01-03T00:00:00",
          "2019-01-14T00:00:00",
          "2019-01-24T00:00:00",
          "2019-02-04T00:00:00",
          "2019-02-13T00:00:00",
          "2019-02-25T00:00:00",
          "2019-03-06T00:00:00",
          "2019-03-15T00:00:00",
          "2019-03-26T00:00:00",
          "2019-04-04T00:00:00",
          "2019-04-15T00:00:00",
          "2019-04-24T00:00:00",
          "2019-05-03T00:00:00",
          "2019-05-14T00:00:00",
          "2019-05-23T00:00:00",
          "2019-06-04T00:00:00",
          "2019-06-13T00:00:00",
          "2019-06-24T00:00:00",
          "2019-07-03T00:00:00",
          "2019-07-15T00:00:00",
          "2019-07-24T00:00:00",
          "2019-08-02T00:00:00",
          "2019-08-13T00:00:00",
          "2019-08-22T00:00:00",
          "2019-09-03T00:00:00",
          "2019-09-12T00:00:00",
          "2019-09-23T00:00:00",
          "2019-10-02T00:00:00",
          "2019-10-11T00:00:00",
          "2019-10-22T00:00:00",
          "2019-10-31T00:00:00",
          "2019-11-11T00:00:00",
          "2019-11-20T00:00:00",
          "2019-12-02T00:00:00",
          "2019-12-11T00:00:00",
          "2019-12-20T00:00:00",
          "2020-01-02T00:00:00",
          "2020-01-13T00:00:00",
          "2020-01-23T00:00:00",
          "2020-02-03T00:00:00",
          "2020-02-12T00:00:00",
          "2020-02-24T00:00:00",
          "2020-03-04T00:00:00",
          "2020-03-13T00:00:00",
          "2020-03-24T00:00:00",
          "2020-04-02T00:00:00",
          "2020-04-14T00:00:00",
          "2020-04-23T00:00:00",
          "2020-05-04T00:00:00",
          "2020-05-13T00:00:00",
          "2020-05-22T00:00:00",
          "2020-06-03T00:00:00",
          "2020-06-12T00:00:00",
          "2020-06-23T00:00:00",
          "2020-07-02T00:00:00",
          "2020-07-14T00:00:00",
          "2020-07-23T00:00:00",
          "2020-08-03T00:00:00",
          "2020-08-12T00:00:00",
          "2020-08-21T00:00:00",
          "2020-09-01T00:00:00",
          "2020-09-11T00:00:00",
          "2020-09-22T00:00:00",
          "2020-10-01T00:00:00",
          "2020-10-12T00:00:00",
          "2020-10-21T00:00:00",
          "2020-10-30T00:00:00",
          "2020-11-10T00:00:00",
          "2020-11-19T00:00:00",
          "2020-12-01T00:00:00",
          "2020-12-10T00:00:00",
          "2020-12-21T00:00:00",
          "2020-12-31T00:00:00",
          "2021-01-12T00:00:00",
          "2021-01-22T00:00:00",
          "2021-02-02T00:00:00",
          "2021-02-11T00:00:00",
          "2021-02-23T00:00:00",
          "2021-03-04T00:00:00",
          "2021-03-15T00:00:00",
          "2021-03-24T00:00:00",
          "2021-04-05T00:00:00",
          "2021-04-14T00:00:00",
          "2021-04-23T00:00:00",
          "2021-05-04T00:00:00",
          "2021-05-13T00:00:00",
          "2021-05-24T00:00:00",
          "2021-06-03T00:00:00",
          "2021-06-14T00:00:00",
          "2021-06-23T00:00:00",
          "2021-07-02T00:00:00",
          "2021-07-14T00:00:00",
          "2021-07-23T00:00:00",
          "2021-08-03T00:00:00",
          "2021-08-12T00:00:00",
          "2021-08-23T00:00:00",
          "2021-09-01T00:00:00",
          "2021-09-13T00:00:00",
          "2021-09-22T00:00:00",
          "2021-10-01T00:00:00",
          "2021-10-12T00:00:00",
          "2021-10-21T00:00:00",
          "2021-11-01T00:00:00",
          "2021-11-10T00:00:00",
          "2021-11-19T00:00:00",
          "2021-12-01T00:00:00",
          "2021-12-10T00:00:00",
          "2021-12-21T00:00:00",
          "2021-12-31T00:00:00",
          "2022-01-11T00:00:00",
          "2022-01-21T00:00:00",
          "2022-02-01T00:00:00",
          "2022-02-10T00:00:00",
          "2022-02-22T00:00:00",
          "2022-03-03T00:00:00",
          "2022-03-14T00:00:00",
          "2022-03-23T00:00:00",
          "2022-04-01T00:00:00",
          "2022-04-12T00:00:00",
          "2022-04-22T00:00:00",
          "2022-05-03T00:00:00",
          "2022-05-12T00:00:00",
          "2022-05-23T00:00:00",
          "2022-06-01T00:00:00",
          "2022-06-10T00:00:00",
          "2022-06-21T00:00:00",
          "2022-06-30T00:00:00",
          "2022-07-11T00:00:00",
          "2022-07-20T00:00:00",
          "2022-07-29T00:00:00",
          "2022-08-09T00:00:00",
          "2022-08-18T00:00:00",
          "2022-08-29T00:00:00",
          "2022-09-07T00:00:00",
          "2022-09-16T00:00:00",
          "2022-09-27T00:00:00",
          "2022-10-06T00:00:00",
          "2022-10-17T00:00:00",
          "2022-10-26T00:00:00",
          "2022-11-04T00:00:00",
          "2022-11-15T00:00:00",
          "2022-11-24T00:00:00",
          "2022-12-05T00:00:00",
          "2022-12-14T00:00:00",
          "2022-12-23T00:00:00",
          "2023-01-05T00:00:00",
          "2023-01-16T00:00:00",
          "2023-01-25T00:00:00",
          "2023-02-03T00:00:00",
          "2023-02-14T00:00:00",
          "2023-02-23T00:00:00",
          "2023-03-06T00:00:00",
          "2023-03-15T00:00:00",
          "2023-03-24T00:00:00",
          "2023-04-04T00:00:00",
          "2023-04-14T00:00:00",
          "2023-04-25T00:00:00",
          "2023-05-04T00:00:00",
          "2023-05-15T00:00:00",
          "2023-05-24T00:00:00",
          "2023-06-02T00:00:00",
          "2023-06-13T00:00:00",
          "2023-06-22T00:00:00",
          "2023-07-03T00:00:00",
          "2023-07-12T00:00:00",
          "2023-07-21T00:00:00",
          "2023-08-01T00:00:00",
          "2023-08-10T00:00:00",
          "2023-08-21T00:00:00",
          "2023-08-30T00:00:00",
          "2023-09-08T00:00:00",
          "2023-09-19T00:00:00",
          "2023-09-28T00:00:00",
          "2023-10-09T00:00:00",
          "2023-10-18T00:00:00",
          "2023-10-27T00:00:00",
          "2023-11-07T00:00:00",
          "2023-11-16T00:00:00",
          "2023-11-27T00:00:00",
          "2023-12-06T00:00:00",
          "2023-12-15T00:00:00",
          "2023-12-27T00:00:00",
          "2024-01-08T00:00:00",
          "2024-01-17T00:00:00",
          "2024-01-26T00:00:00",
          "2024-02-06T00:00:00",
          "2024-02-15T00:00:00",
          "2024-02-26T00:00:00",
          "2024-03-06T00:00:00",
          "2024-03-15T00:00:00",
          "2024-03-26T00:00:00",
          "2024-04-05T00:00:00",
          "2024-04-16T00:00:00",
          "2024-04-25T00:00:00",
          "2024-05-06T00:00:00",
          "2024-05-15T00:00:00",
          "2024-05-24T00:00:00",
          "2024-06-04T00:00:00",
          "2024-06-13T00:00:00",
          "2024-06-24T00:00:00",
          "2024-07-03T00:00:00",
          "2024-07-12T00:00:00",
          "2024-07-23T00:00:00",
          "2024-08-01T00:00:00",
          "2024-08-12T00:00:00",
          "2024-08-21T00:00:00",
          "2024-08-30T00:00:00",
          "2024-09-10T00:00:00",
          "2024-09-19T00:00:00",
          "2024-09-30T00:00:00",
          "2024-10-09T00:00:00",
          "2024-10-18T00:00:00",
          "2024-10-29T00:00:00",
          "2024-11-07T00:00:00",
          "2024-11-18T00:00:00",
          "2024-11-27T00:00:00",
          "2024-12-06T00:00:00",
          "2024-12-17T00:00:00",
          "2024-12-27T00:00:00"
         ],
         "y": [
          0.6459059318498798,
          0.662068883617518,
          0.6377923214469365,
          0.6326814254542901,
          0.6561068966798482,
          0.6555389912430079,
          0.6561849449637753,
          0.646635230557658,
          0.6651306834661198,
          0.6266613470083493,
          0.6116245967329319,
          0.6480552020289302,
          0.6468686885303627,
          0.6419954232623724,
          0.6580251996112526,
          0.6619240767178427,
          0.645035770661392,
          0.6787029612132011,
          0.6767576966090687,
          0.639765942132419,
          0.6426935649161103,
          0.6722049298422114,
          0.6673790360937053,
          0.6294975841545559,
          0.6767192837778155,
          0.6810405524183324,
          0.6684012235408474,
          0.6754452544113939,
          0.6532526896787072,
          0.6439510639132124,
          0.6394467644553975,
          0.6461266171662725,
          0.6191244908729449,
          0.5970677643780763,
          0.6283186212666864,
          0.6236421718826881,
          0.6103142700468874,
          0.6070503285760146,
          0.6504654662910956,
          0.6599313884347138,
          0.6704912244414721,
          0.7155377635733506,
          0.6918097498386133,
          0.6802098690819479,
          0.7190825777397001,
          0.6858410719913828,
          0.6910696656840651,
          0.6737439614702103,
          0.6946240723161439,
          0.683315897997707,
          0.6677478713697482,
          0.6863418863511623,
          0.6585950879711285,
          0.7073281177022156,
          0.7281471205206138,
          0.7088389330424824,
          0.7104371831850488,
          0.7047457687210786,
          0.7147446867821471,
          0.6908705662657512,
          0.7115366666171536,
          0.7194008119652826,
          0.668783872972909,
          0.6821949613997378,
          0.6765621321502955,
          0.6740712614481039,
          0.6756197503583259,
          0.6671287706225357,
          0.6510022334922896,
          0.6241976469203753,
          0.6371116425051777,
          0.6347976736281907,
          0.6177793226536629,
          0.6188527617409384,
          0.6157624757211534,
          0.6197812521254362,
          0.6116291318961578,
          0.6347758530630497,
          0.6312531580554426,
          0.6200235604326421,
          0.641779520501992,
          0.65040850259476,
          0.6523591370734831,
          0.6361385038873516,
          0.6564084989948573,
          0.6418889500464081,
          0.5739958883160744,
          0.5879431204194744,
          0.5790067666742177,
          0.5905516916716088,
          0.6025198780425456,
          0.5825169052079784,
          0.5798122833745295,
          0.5761380428266688,
          0.5786509324123762,
          0.563998897446624,
          0.5544747709382375,
          0.5597191281398258,
          0.5462326112608996,
          0.5743247326676638,
          0.5763765755660265,
          0.5750504496034963,
          0.5923361351453533,
          0.589744633823706,
          0.5975478427791768,
          0.6093128418911641,
          0.6137537379968407,
          0.6345944342146214,
          0.6375069105559684,
          0.6591360428209453,
          0.6622053253751007,
          0.6380888153843883,
          0.6639557286925669,
          0.6457081152276283,
          0.6587172877261473,
          0.6521401928525113,
          0.650359835854538,
          0.6741083384083817,
          0.6548882976401069,
          0.6619279073446991,
          0.6553181001049193,
          0.6593310255921002,
          0.6621535433414961,
          0.6660456754776941,
          0.6577264902802221,
          0.646764189992033,
          0.6372812631635443,
          0.6461605808226264,
          0.6432445959165514,
          0.6543018684625217,
          0.6600806804729927,
          0.6549021372405304,
          0.6508482300174171,
          0.6697026152689983,
          0.6761644184877571,
          0.6790803054345851,
          0.6729047178345409,
          0.6401210566351008,
          0.6086086749503491,
          0.6108828799631064,
          0.6183756773189946,
          0.5734558763879779,
          0.536772979529347,
          0.5499070265079893,
          0.5348830549099646,
          0.5207757588339241,
          0.5273411304031996,
          0.5128037947673304,
          0.5163748802450369,
          0.5065348045302855,
          0.5175118031275362,
          0.49991657005712514,
          0.4838968369261813,
          0.5139102525109196,
          0.5079428768765394,
          0.490185854330618,
          0.5126298310617686,
          0.5044387104303446,
          0.49191211012580544,
          0.450106365761516,
          0.4726763206514994,
          0.46701663750365097,
          0.4186138655366797,
          0.4479098546881149,
          0.417591238914561,
          0.40175036833264943,
          0.42437179023385524,
          0.40965346663841123,
          0.38457073494570426,
          0.38362708379736093,
          0.4503439599501399,
          0.41486330649472286,
          0.3757253742471194,
          0.431233500331554,
          0.4155254629777583,
          0.43540583023725116,
          0.46616911179070475,
          0.4719449085227526,
          0.4581228838580152,
          0.4643634467888836,
          0.5185878794898218,
          0.5082431026195947,
          0.5123757144269052,
          0.560757238875214,
          0.5286407591985558,
          0.5369831327834121,
          0.5349042460160203,
          0.5488224769621797,
          0.5827569739900295,
          0.5972367074075294,
          0.649263401570255,
          0.6339616232852199,
          0.6554495018863765,
          0.6824624850907196,
          0.6664237216848117,
          0.6654547417537757,
          0.6634751831138287,
          0.6949336792723053,
          0.671072445256839,
          0.6841476621775524,
          0.7021056820591298,
          0.6791907621810018,
          0.689134875995804,
          0.7005414922624151,
          0.6814947705135138,
          0.6842004987053182,
          0.7067923843854709,
          0.7153340245286098,
          0.6906739168501717,
          0.7144690634283459,
          0.7509422218831346,
          0.736823161745806,
          0.7543152266689697,
          0.7359888536957998,
          0.728655400920199,
          0.7244950814626326,
          0.7473676448772437,
          0.7354762425051091,
          0.724495345790379,
          0.7419522543627549,
          0.7281181548557756,
          0.7261557509635127,
          0.7214874669607654,
          0.7179232178693251,
          0.7113239038849931,
          0.6870431230412118,
          0.706583317594185,
          0.7068072345089399,
          0.7130317433277301,
          0.69694882288126,
          0.6679324561532474,
          0.6903439119476283,
          0.6687890606641329,
          0.6757993371613049,
          0.67519839516747,
          0.660718310861974,
          0.6641076677014877,
          0.6772623892304801,
          0.6793696458551999,
          0.6691159754795315,
          0.6660878930413449,
          0.6689116804722186,
          0.6601720063327892,
          0.6590626118130617,
          0.6616789036443779,
          0.6439611432958777,
          0.6701182491499462,
          0.6924573267510643,
          0.7065336458493885,
          0.692333686994102,
          0.6849813856154253,
          0.6892911668010904,
          0.6879061796955737,
          0.6891561712677658,
          0.6974400534476235,
          0.6769899084937926,
          0.6683488362291942,
          0.6530509439891691,
          0.636158621640461,
          0.6406093716686106,
          0.5968374377675485,
          0.6121014404733393,
          0.6012944100086979,
          0.5723966723063297,
          0.5723760734078471,
          0.56198007327791,
          0.5748032859777764,
          0.5716859396445423,
          0.5804335346172077,
          0.5798367436169223,
          0.5757596855449113,
          0.5867437250738488,
          0.6052792983871143,
          0.5764802315476667,
          0.5813620858207146,
          0.5590413222186931,
          0.5433820943024193,
          0.5329358132187457,
          0.5396821481500986,
          0.5452977406005133,
          0.522372460108101,
          0.5464533474560241,
          0.5764477357485054,
          0.5767264252847999,
          0.592387250808894,
          0.5854853287668997,
          0.5897545772944385,
          0.5985378446500853,
          0.6111797653404638,
          0.6368607884492705,
          0.6067101125282456,
          0.638369397815687,
          0.6568430280978504,
          0.6262120690899436,
          0.6340128896030348,
          0.630357927745298,
          0.6613103502792667,
          0.6793609694169903,
          0.6674888982910214,
          0.6906239916245797,
          0.6774675804354563,
          0.6852896123152086,
          0.70650364864911,
          0.6766676831652464,
          0.6682237611905801,
          0.6700409342517146,
          0.6787765134467256,
          0.6730704867415418,
          0.6700190063304415,
          0.6813738918767426,
          0.6662859250761354,
          0.6705293369663686,
          0.6631837415788582
         ]
        },
        {
         "line": {
          "color": "green"
         },
         "mode": "lines",
         "name": "500 days rolling window",
         "type": "scatter",
         "x": [
          "2016-12-27T00:00:00",
          "2017-01-06T00:00:00",
          "2017-01-18T00:00:00",
          "2017-01-27T00:00:00",
          "2017-02-07T00:00:00",
          "2017-02-16T00:00:00",
          "2017-02-28T00:00:00",
          "2017-03-09T00:00:00",
          "2017-03-20T00:00:00",
          "2017-03-29T00:00:00",
          "2017-04-07T00:00:00",
          "2017-04-19T00:00:00",
          "2017-04-28T00:00:00",
          "2017-05-09T00:00:00",
          "2017-05-18T00:00:00",
          "2017-05-30T00:00:00",
          "2017-06-08T00:00:00",
          "2017-06-19T00:00:00",
          "2017-06-28T00:00:00",
          "2017-07-10T00:00:00",
          "2017-07-19T00:00:00",
          "2017-07-28T00:00:00",
          "2017-08-08T00:00:00",
          "2017-08-17T00:00:00",
          "2017-08-28T00:00:00",
          "2017-09-07T00:00:00",
          "2017-09-18T00:00:00",
          "2017-09-27T00:00:00",
          "2017-10-06T00:00:00",
          "2017-10-17T00:00:00",
          "2017-10-26T00:00:00",
          "2017-11-06T00:00:00",
          "2017-11-15T00:00:00",
          "2017-11-27T00:00:00",
          "2017-12-06T00:00:00",
          "2017-12-15T00:00:00",
          "2017-12-27T00:00:00",
          "2018-01-08T00:00:00",
          "2018-01-18T00:00:00",
          "2018-01-29T00:00:00",
          "2018-02-07T00:00:00",
          "2018-02-16T00:00:00",
          "2018-02-28T00:00:00",
          "2018-03-09T00:00:00",
          "2018-03-20T00:00:00",
          "2018-03-29T00:00:00",
          "2018-04-10T00:00:00",
          "2018-04-19T00:00:00",
          "2018-04-30T00:00:00",
          "2018-05-09T00:00:00",
          "2018-05-18T00:00:00",
          "2018-05-30T00:00:00",
          "2018-06-08T00:00:00",
          "2018-06-19T00:00:00",
          "2018-06-28T00:00:00",
          "2018-07-10T00:00:00",
          "2018-07-19T00:00:00",
          "2018-07-30T00:00:00",
          "2018-08-08T00:00:00",
          "2018-08-17T00:00:00",
          "2018-08-28T00:00:00",
          "2018-09-07T00:00:00",
          "2018-09-18T00:00:00",
          "2018-09-27T00:00:00",
          "2018-10-08T00:00:00",
          "2018-10-17T00:00:00",
          "2018-10-26T00:00:00",
          "2018-11-06T00:00:00",
          "2018-11-15T00:00:00",
          "2018-11-27T00:00:00",
          "2018-12-06T00:00:00",
          "2018-12-17T00:00:00",
          "2018-12-27T00:00:00",
          "2019-01-08T00:00:00",
          "2019-01-17T00:00:00",
          "2019-01-29T00:00:00",
          "2019-02-07T00:00:00",
          "2019-02-19T00:00:00",
          "2019-02-28T00:00:00",
          "2019-03-11T00:00:00",
          "2019-03-20T00:00:00",
          "2019-03-29T00:00:00",
          "2019-04-09T00:00:00",
          "2019-04-18T00:00:00",
          "2019-04-29T00:00:00",
          "2019-05-08T00:00:00",
          "2019-05-17T00:00:00",
          "2019-05-29T00:00:00",
          "2019-06-07T00:00:00",
          "2019-06-18T00:00:00",
          "2019-06-27T00:00:00",
          "2019-07-09T00:00:00",
          "2019-07-18T00:00:00",
          "2019-07-29T00:00:00",
          "2019-08-07T00:00:00",
          "2019-08-16T00:00:00",
          "2019-08-27T00:00:00",
          "2019-09-06T00:00:00",
          "2019-09-17T00:00:00",
          "2019-09-26T00:00:00",
          "2019-10-07T00:00:00",
          "2019-10-16T00:00:00",
          "2019-10-25T00:00:00",
          "2019-11-05T00:00:00",
          "2019-11-14T00:00:00",
          "2019-11-25T00:00:00",
          "2019-12-05T00:00:00",
          "2019-12-16T00:00:00",
          "2019-12-26T00:00:00",
          "2020-01-07T00:00:00",
          "2020-01-16T00:00:00",
          "2020-01-28T00:00:00",
          "2020-02-06T00:00:00",
          "2020-02-18T00:00:00",
          "2020-02-27T00:00:00",
          "2020-03-09T00:00:00",
          "2020-03-18T00:00:00",
          "2020-03-27T00:00:00",
          "2020-04-07T00:00:00",
          "2020-04-17T00:00:00",
          "2020-04-28T00:00:00",
          "2020-05-07T00:00:00",
          "2020-05-18T00:00:00",
          "2020-05-28T00:00:00",
          "2020-06-08T00:00:00",
          "2020-06-17T00:00:00",
          "2020-06-26T00:00:00",
          "2020-07-08T00:00:00",
          "2020-07-17T00:00:00",
          "2020-07-28T00:00:00",
          "2020-08-06T00:00:00",
          "2020-08-17T00:00:00",
          "2020-08-26T00:00:00",
          "2020-09-04T00:00:00",
          "2020-09-16T00:00:00",
          "2020-09-25T00:00:00",
          "2020-10-06T00:00:00",
          "2020-10-15T00:00:00",
          "2020-10-26T00:00:00",
          "2020-11-04T00:00:00",
          "2020-11-13T00:00:00",
          "2020-11-24T00:00:00",
          "2020-12-04T00:00:00",
          "2020-12-15T00:00:00",
          "2020-12-24T00:00:00",
          "2021-01-06T00:00:00",
          "2021-01-15T00:00:00",
          "2021-01-27T00:00:00",
          "2021-02-05T00:00:00",
          "2021-02-17T00:00:00",
          "2021-02-26T00:00:00",
          "2021-03-09T00:00:00",
          "2021-03-18T00:00:00",
          "2021-03-29T00:00:00",
          "2021-04-08T00:00:00",
          "2021-04-19T00:00:00",
          "2021-04-28T00:00:00",
          "2021-05-07T00:00:00",
          "2021-05-18T00:00:00",
          "2021-05-27T00:00:00",
          "2021-06-08T00:00:00",
          "2021-06-17T00:00:00",
          "2021-06-28T00:00:00",
          "2021-07-08T00:00:00",
          "2021-07-19T00:00:00",
          "2021-07-28T00:00:00",
          "2021-08-06T00:00:00",
          "2021-08-17T00:00:00",
          "2021-08-26T00:00:00",
          "2021-09-07T00:00:00",
          "2021-09-16T00:00:00",
          "2021-09-27T00:00:00",
          "2021-10-06T00:00:00",
          "2021-10-15T00:00:00",
          "2021-10-26T00:00:00",
          "2021-11-04T00:00:00",
          "2021-11-15T00:00:00",
          "2021-11-24T00:00:00",
          "2021-12-06T00:00:00",
          "2021-12-15T00:00:00",
          "2021-12-27T00:00:00",
          "2022-01-05T00:00:00",
          "2022-01-14T00:00:00",
          "2022-01-26T00:00:00",
          "2022-02-04T00:00:00",
          "2022-02-15T00:00:00",
          "2022-02-25T00:00:00",
          "2022-03-08T00:00:00",
          "2022-03-17T00:00:00",
          "2022-03-28T00:00:00",
          "2022-04-06T00:00:00",
          "2022-04-18T00:00:00",
          "2022-04-27T00:00:00",
          "2022-05-06T00:00:00",
          "2022-05-17T00:00:00",
          "2022-05-26T00:00:00",
          "2022-06-06T00:00:00",
          "2022-06-15T00:00:00",
          "2022-06-24T00:00:00",
          "2022-07-05T00:00:00",
          "2022-07-14T00:00:00",
          "2022-07-25T00:00:00",
          "2022-08-03T00:00:00",
          "2022-08-12T00:00:00",
          "2022-08-23T00:00:00",
          "2022-09-01T00:00:00",
          "2022-09-12T00:00:00",
          "2022-09-21T00:00:00",
          "2022-09-30T00:00:00",
          "2022-10-11T00:00:00",
          "2022-10-20T00:00:00",
          "2022-10-31T00:00:00",
          "2022-11-09T00:00:00",
          "2022-11-18T00:00:00",
          "2022-11-29T00:00:00",
          "2022-12-08T00:00:00",
          "2022-12-19T00:00:00",
          "2022-12-29T00:00:00",
          "2023-01-10T00:00:00",
          "2023-01-19T00:00:00",
          "2023-01-30T00:00:00",
          "2023-02-08T00:00:00",
          "2023-02-17T00:00:00",
          "2023-02-28T00:00:00",
          "2023-03-09T00:00:00",
          "2023-03-20T00:00:00",
          "2023-03-29T00:00:00",
          "2023-04-10T00:00:00",
          "2023-04-19T00:00:00",
          "2023-04-28T00:00:00",
          "2023-05-09T00:00:00",
          "2023-05-18T00:00:00",
          "2023-05-29T00:00:00",
          "2023-06-07T00:00:00",
          "2023-06-16T00:00:00",
          "2023-06-27T00:00:00",
          "2023-07-06T00:00:00",
          "2023-07-17T00:00:00",
          "2023-07-26T00:00:00",
          "2023-08-04T00:00:00",
          "2023-08-15T00:00:00",
          "2023-08-24T00:00:00",
          "2023-09-04T00:00:00",
          "2023-09-13T00:00:00",
          "2023-09-22T00:00:00",
          "2023-10-03T00:00:00",
          "2023-10-12T00:00:00",
          "2023-10-23T00:00:00",
          "2023-11-01T00:00:00",
          "2023-11-10T00:00:00",
          "2023-11-21T00:00:00",
          "2023-11-30T00:00:00",
          "2023-12-11T00:00:00",
          "2023-12-20T00:00:00",
          "2024-01-02T00:00:00",
          "2024-01-11T00:00:00",
          "2024-01-22T00:00:00",
          "2024-01-31T00:00:00",
          "2024-02-09T00:00:00",
          "2024-02-20T00:00:00",
          "2024-02-29T00:00:00",
          "2024-03-11T00:00:00",
          "2024-03-20T00:00:00",
          "2024-04-01T00:00:00",
          "2024-04-10T00:00:00",
          "2024-04-19T00:00:00",
          "2024-04-30T00:00:00",
          "2024-05-09T00:00:00",
          "2024-05-20T00:00:00",
          "2024-05-29T00:00:00",
          "2024-06-07T00:00:00",
          "2024-06-18T00:00:00",
          "2024-06-27T00:00:00",
          "2024-07-08T00:00:00",
          "2024-07-17T00:00:00",
          "2024-07-26T00:00:00",
          "2024-08-06T00:00:00",
          "2024-08-15T00:00:00",
          "2024-08-26T00:00:00",
          "2024-09-04T00:00:00",
          "2024-09-13T00:00:00",
          "2024-09-24T00:00:00",
          "2024-10-03T00:00:00",
          "2024-10-14T00:00:00",
          "2024-10-23T00:00:00",
          "2024-11-01T00:00:00",
          "2024-11-12T00:00:00",
          "2024-11-21T00:00:00",
          "2024-12-02T00:00:00",
          "2024-12-11T00:00:00",
          "2024-12-20T00:00:00"
         ],
         "y": [
          0.680194337808276,
          0.6926107720169608,
          0.6680869490514983,
          0.6635718497472637,
          0.6800014486748919,
          0.6673650303399842,
          0.6537944277676132,
          0.6521108436251635,
          0.6620083261142494,
          0.6373974071544598,
          0.6354921347343455,
          0.6526243863891594,
          0.6541363144232021,
          0.6495181012901264,
          0.6598498957825361,
          0.6650612404163673,
          0.648812115688097,
          0.6646035220027104,
          0.6589752892484478,
          0.6273552461360851,
          0.6333561960635508,
          0.6500081675596531,
          0.6341701939073068,
          0.6222286306080627,
          0.6689137405740747,
          0.6559158935109208,
          0.6632773309901964,
          0.6681555428320689,
          0.6540189197706173,
          0.6558996659507788,
          0.6443702532233485,
          0.6649894551222452,
          0.6347800802322063,
          0.6270707912059464,
          0.6477240621731204,
          0.6293044052632439,
          0.6303281531696153,
          0.6250879499886832,
          0.6596891352483625,
          0.6667609466483291,
          0.6716589644757299,
          0.7083308464199657,
          0.6922651750419591,
          0.6932191153092775,
          0.7124765586118784,
          0.6872006722514756,
          0.6848270000004337,
          0.6698125292099323,
          0.685763790558397,
          0.6839444787612611,
          0.6776230642502103,
          0.7006968025800486,
          0.673506576371315,
          0.7084349372823336,
          0.7143969661070677,
          0.7020484397107628,
          0.6961845053873387,
          0.6997526790522632,
          0.7166027549900769,
          0.6986291192894022,
          0.7175843293521971,
          0.6985936475450276,
          0.6738700342153362,
          0.6821063948995428,
          0.6791849494144087,
          0.6809259918356277,
          0.6708225171568573,
          0.6619020768888831,
          0.6525593320580185,
          0.6219853313180164,
          0.6348558872215744,
          0.6312953478566291,
          0.6100542433029668,
          0.6083572335575523,
          0.6125376340007948,
          0.6143588280878514,
          0.6091357340240544,
          0.6245490739377503,
          0.6162079361509374,
          0.6091339552757057,
          0.6299399873113039,
          0.6242939038928349,
          0.6296897123022982,
          0.6282314472089848,
          0.629130480491291,
          0.6262054148465337,
          0.5963805086170366,
          0.6079357896077677,
          0.6013951702378947,
          0.6127962723795053,
          0.6239980118780691,
          0.59992109017268,
          0.6169495491115254,
          0.6082636377833751,
          0.6038328059973378,
          0.6003023096444827,
          0.591184990037341,
          0.6000588918625508,
          0.5912046735371193,
          0.6106577291571479,
          0.6203912169903851,
          0.6232691738105917,
          0.6349364740366371,
          0.6369217081608081,
          0.6358770944658317,
          0.6475466152552898,
          0.6403829119704176,
          0.6674663584251782,
          0.6581242806028453,
          0.6773716359689572,
          0.6811949147370063,
          0.6649671802964247,
          0.6927474528042513,
          0.6866401382322483,
          0.6900568677969614,
          0.6669855142530499,
          0.6380334415654392,
          0.6429829979041621,
          0.6213430649106666,
          0.6180430460453569,
          0.62704351579627,
          0.614848615241443,
          0.6191921281775701,
          0.6208836294584168,
          0.6134896326865562,
          0.6076735049394428,
          0.6032488856493666,
          0.6195810898292238,
          0.6051208980109054,
          0.6007915813671095,
          0.6188363431294863,
          0.6032185389825336,
          0.6002673114980002,
          0.6084623199234057,
          0.6222938124629268,
          0.599234860863426,
          0.5934200881003322,
          0.574314068230452,
          0.5524297824370316,
          0.5664530950611986,
          0.5822159532823034,
          0.5456213192161841,
          0.5072767711623244,
          0.5143427380915794,
          0.5053890401734822,
          0.4845125560867464,
          0.4956618389702369,
          0.49187047431606834,
          0.4854348395578084,
          0.48798640280843425,
          0.504220346483776,
          0.48632882171554837,
          0.4847217705050403,
          0.5204120217730164,
          0.5107673421080309,
          0.4917770993472248,
          0.5133778205675323,
          0.5155583624612589,
          0.5010956262618864,
          0.49346130983583814,
          0.5150476530866445,
          0.5097412218386619,
          0.4777141749853124,
          0.5236013025466675,
          0.507563581744765,
          0.5047220032860311,
          0.5362950101011574,
          0.517893949314276,
          0.5129996288182614,
          0.5008566769917026,
          0.5445920952638746,
          0.5291789355810093,
          0.5023162861974507,
          0.5448738672114599,
          0.5227740528371512,
          0.5319758356444211,
          0.5509742099588679,
          0.5434061021817712,
          0.5478483093898515,
          0.5542609249069049,
          0.5873309761699681,
          0.5748387494512509,
          0.576038466175952,
          0.611756579839633,
          0.5924740221806427,
          0.6050571067451896,
          0.6042685164133911,
          0.6159497302584522,
          0.6418604442062688,
          0.6573307589599934,
          0.6962526260763483,
          0.6817192760108668,
          0.7004826525920228,
          0.7204348581380452,
          0.7106284347362423,
          0.7040878578464735,
          0.7073345071388815,
          0.73400468290253,
          0.7171277919914937,
          0.7174247152300195,
          0.7217235750210456,
          0.7050503575125725,
          0.7087830696241202,
          0.7234990930254327,
          0.7046899013375257,
          0.6937272221178693,
          0.7077712818233671,
          0.712229051884887,
          0.6925822561313331,
          0.7093441768118005,
          0.7172159462336432,
          0.7168309555929511,
          0.7142142799769674,
          0.7042646763931876,
          0.7021715432570862,
          0.6902300421955613,
          0.7037864287250172,
          0.701987149910356,
          0.6900173115164187,
          0.6955099180755073,
          0.6873166811982732,
          0.6911192095404496,
          0.6874623196571777,
          0.6870912191444584,
          0.6862970088562899,
          0.6743426570049087,
          0.6868276606010061,
          0.691463700997139,
          0.7022290620421892,
          0.683726627570379,
          0.6693913450970733,
          0.6781866763200718,
          0.6749249774456704,
          0.677645758866809,
          0.68242637667065,
          0.6665250061750136,
          0.6531610259827512,
          0.6601519316260036,
          0.6581683895056031,
          0.6589686495229571,
          0.6539022055441371,
          0.6544090483519063,
          0.651403600377682,
          0.6453405958757028,
          0.6516942053688703,
          0.6466202668825104,
          0.6603074130655404,
          0.6536846657825788,
          0.6668822593320057,
          0.6647586616147947,
          0.6519552615318769,
          0.6469797877194552,
          0.6438157247850729,
          0.6372229193473012,
          0.6346335678486411,
          0.6263099552809199,
          0.6234885379701199,
          0.6128016819996709,
          0.604453654954381,
          0.609921760795581,
          0.5863506024615753,
          0.593138605820588,
          0.5850773658256094,
          0.5634757619825306,
          0.5636515319018056,
          0.5672430206430487,
          0.5701910104210667,
          0.5703870388619806,
          0.5710208331076538,
          0.5735402420463516,
          0.5667257339598363,
          0.5747129291972181,
          0.583760574949541,
          0.5659622810413026,
          0.5789796029835207,
          0.5698414916718338,
          0.560927823168061,
          0.569347499545193,
          0.5795355029261937,
          0.5854435501518501,
          0.5808381602971493,
          0.5957096564260773,
          0.6197998104131051,
          0.6219339918841764,
          0.6435340932409965,
          0.6378930442398446,
          0.6353737056308711,
          0.6471160576539229,
          0.6567358429246375,
          0.669034982516554,
          0.6514779831477057
         ]
        }
       ],
       "layout": {
        "template": {
         "data": {
          "bar": [
           {
            "error_x": {
             "color": "#2a3f5f"
            },
            "error_y": {
             "color": "#2a3f5f"
            },
            "marker": {
             "line": {
              "color": "white",
              "width": 0.5
             },
             "pattern": {
              "fillmode": "overlay",
              "size": 10,
              "solidity": 0.2
             }
            },
            "type": "bar"
           }
          ],
          "barpolar": [
           {
            "marker": {
             "line": {
              "color": "white",
              "width": 0.5
             },
             "pattern": {
              "fillmode": "overlay",
              "size": 10,
              "solidity": 0.2
             }
            },
            "type": "barpolar"
           }
          ],
          "carpet": [
           {
            "aaxis": {
             "endlinecolor": "#2a3f5f",
             "gridcolor": "#C8D4E3",
             "linecolor": "#C8D4E3",
             "minorgridcolor": "#C8D4E3",
             "startlinecolor": "#2a3f5f"
            },
            "baxis": {
             "endlinecolor": "#2a3f5f",
             "gridcolor": "#C8D4E3",
             "linecolor": "#C8D4E3",
             "minorgridcolor": "#C8D4E3",
             "startlinecolor": "#2a3f5f"
            },
            "type": "carpet"
           }
          ],
          "choropleth": [
           {
            "colorbar": {
             "outlinewidth": 0,
             "ticks": ""
            },
            "type": "choropleth"
           }
          ],
          "contour": [
           {
            "colorbar": {
             "outlinewidth": 0,
             "ticks": ""
            },
            "colorscale": [
             [
              0,
              "#0d0887"
             ],
             [
              0.1111111111111111,
              "#46039f"
             ],
             [
              0.2222222222222222,
              "#7201a8"
             ],
             [
              0.3333333333333333,
              "#9c179e"
             ],
             [
              0.4444444444444444,
              "#bd3786"
             ],
             [
              0.5555555555555556,
              "#d8576b"
             ],
             [
              0.6666666666666666,
              "#ed7953"
             ],
             [
              0.7777777777777778,
              "#fb9f3a"
             ],
             [
              0.8888888888888888,
              "#fdca26"
             ],
             [
              1,
              "#f0f921"
             ]
            ],
            "type": "contour"
           }
          ],
          "contourcarpet": [
           {
            "colorbar": {
             "outlinewidth": 0,
             "ticks": ""
            },
            "type": "contourcarpet"
           }
          ],
          "heatmap": [
           {
            "colorbar": {
             "outlinewidth": 0,
             "ticks": ""
            },
            "colorscale": [
             [
              0,
              "#0d0887"
             ],
             [
              0.1111111111111111,
              "#46039f"
             ],
             [
              0.2222222222222222,
              "#7201a8"
             ],
             [
              0.3333333333333333,
              "#9c179e"
             ],
             [
              0.4444444444444444,
              "#bd3786"
             ],
             [
              0.5555555555555556,
              "#d8576b"
             ],
             [
              0.6666666666666666,
              "#ed7953"
             ],
             [
              0.7777777777777778,
              "#fb9f3a"
             ],
             [
              0.8888888888888888,
              "#fdca26"
             ],
             [
              1,
              "#f0f921"
             ]
            ],
            "type": "heatmap"
           }
          ],
          "heatmapgl": [
           {
            "colorbar": {
             "outlinewidth": 0,
             "ticks": ""
            },
            "colorscale": [
             [
              0,
              "#0d0887"
             ],
             [
              0.1111111111111111,
              "#46039f"
             ],
             [
              0.2222222222222222,
              "#7201a8"
             ],
             [
              0.3333333333333333,
              "#9c179e"
             ],
             [
              0.4444444444444444,
              "#bd3786"
             ],
             [
              0.5555555555555556,
              "#d8576b"
             ],
             [
              0.6666666666666666,
              "#ed7953"
             ],
             [
              0.7777777777777778,
              "#fb9f3a"
             ],
             [
              0.8888888888888888,
              "#fdca26"
             ],
             [
              1,
              "#f0f921"
             ]
            ],
            "type": "heatmapgl"
           }
          ],
          "histogram": [
           {
            "marker": {
             "pattern": {
              "fillmode": "overlay",
              "size": 10,
              "solidity": 0.2
             }
            },
            "type": "histogram"
           }
          ],
          "histogram2d": [
           {
            "colorbar": {
             "outlinewidth": 0,
             "ticks": ""
            },
            "colorscale": [
             [
              0,
              "#0d0887"
             ],
             [
              0.1111111111111111,
              "#46039f"
             ],
             [
              0.2222222222222222,
              "#7201a8"
             ],
             [
              0.3333333333333333,
              "#9c179e"
             ],
             [
              0.4444444444444444,
              "#bd3786"
             ],
             [
              0.5555555555555556,
              "#d8576b"
             ],
             [
              0.6666666666666666,
              "#ed7953"
             ],
             [
              0.7777777777777778,
              "#fb9f3a"
             ],
             [
              0.8888888888888888,
              "#fdca26"
             ],
             [
              1,
              "#f0f921"
             ]
            ],
            "type": "histogram2d"
           }
          ],
          "histogram2dcontour": [
           {
            "colorbar": {
             "outlinewidth": 0,
             "ticks": ""
            },
            "colorscale": [
             [
              0,
              "#0d0887"
             ],
             [
              0.1111111111111111,
              "#46039f"
             ],
             [
              0.2222222222222222,
              "#7201a8"
             ],
             [
              0.3333333333333333,
              "#9c179e"
             ],
             [
              0.4444444444444444,
              "#bd3786"
             ],
             [
              0.5555555555555556,
              "#d8576b"
             ],
             [
              0.6666666666666666,
              "#ed7953"
             ],
             [
              0.7777777777777778,
              "#fb9f3a"
             ],
             [
              0.8888888888888888,
              "#fdca26"
             ],
             [
              1,
              "#f0f921"
             ]
            ],
            "type": "histogram2dcontour"
           }
          ],
          "mesh3d": [
           {
            "colorbar": {
             "outlinewidth": 0,
             "ticks": ""
            },
            "type": "mesh3d"
           }
          ],
          "parcoords": [
           {
            "line": {
             "colorbar": {
              "outlinewidth": 0,
              "ticks": ""
             }
            },
            "type": "parcoords"
           }
          ],
          "pie": [
           {
            "automargin": true,
            "type": "pie"
           }
          ],
          "scatter": [
           {
            "fillpattern": {
             "fillmode": "overlay",
             "size": 10,
             "solidity": 0.2
            },
            "type": "scatter"
           }
          ],
          "scatter3d": [
           {
            "line": {
             "colorbar": {
              "outlinewidth": 0,
              "ticks": ""
             }
            },
            "marker": {
             "colorbar": {
              "outlinewidth": 0,
              "ticks": ""
             }
            },
            "type": "scatter3d"
           }
          ],
          "scattercarpet": [
           {
            "marker": {
             "colorbar": {
              "outlinewidth": 0,
              "ticks": ""
             }
            },
            "type": "scattercarpet"
           }
          ],
          "scattergeo": [
           {
            "marker": {
             "colorbar": {
              "outlinewidth": 0,
              "ticks": ""
             }
            },
            "type": "scattergeo"
           }
          ],
          "scattergl": [
           {
            "marker": {
             "colorbar": {
              "outlinewidth": 0,
              "ticks": ""
             }
            },
            "type": "scattergl"
           }
          ],
          "scattermapbox": [
           {
            "marker": {
             "colorbar": {
              "outlinewidth": 0,
              "ticks": ""
             }
            },
            "type": "scattermapbox"
           }
          ],
          "scatterpolar": [
           {
            "marker": {
             "colorbar": {
              "outlinewidth": 0,
              "ticks": ""
             }
            },
            "type": "scatterpolar"
           }
          ],
          "scatterpolargl": [
           {
            "marker": {
             "colorbar": {
              "outlinewidth": 0,
              "ticks": ""
             }
            },
            "type": "scatterpolargl"
           }
          ],
          "scatterternary": [
           {
            "marker": {
             "colorbar": {
              "outlinewidth": 0,
              "ticks": ""
             }
            },
            "type": "scatterternary"
           }
          ],
          "surface": [
           {
            "colorbar": {
             "outlinewidth": 0,
             "ticks": ""
            },
            "colorscale": [
             [
              0,
              "#0d0887"
             ],
             [
              0.1111111111111111,
              "#46039f"
             ],
             [
              0.2222222222222222,
              "#7201a8"
             ],
             [
              0.3333333333333333,
              "#9c179e"
             ],
             [
              0.4444444444444444,
              "#bd3786"
             ],
             [
              0.5555555555555556,
              "#d8576b"
             ],
             [
              0.6666666666666666,
              "#ed7953"
             ],
             [
              0.7777777777777778,
              "#fb9f3a"
             ],
             [
              0.8888888888888888,
              "#fdca26"
             ],
             [
              1,
              "#f0f921"
             ]
            ],
            "type": "surface"
           }
          ],
          "table": [
           {
            "cells": {
             "fill": {
              "color": "#EBF0F8"
             },
             "line": {
              "color": "white"
             }
            },
            "header": {
             "fill": {
              "color": "#C8D4E3"
             },
             "line": {
              "color": "white"
             }
            },
            "type": "table"
           }
          ]
         },
         "layout": {
          "annotationdefaults": {
           "arrowcolor": "#2a3f5f",
           "arrowhead": 0,
           "arrowwidth": 1
          },
          "autotypenumbers": "strict",
          "coloraxis": {
           "colorbar": {
            "outlinewidth": 0,
            "ticks": ""
           }
          },
          "colorscale": {
           "diverging": [
            [
             0,
             "#8e0152"
            ],
            [
             0.1,
             "#c51b7d"
            ],
            [
             0.2,
             "#de77ae"
            ],
            [
             0.3,
             "#f1b6da"
            ],
            [
             0.4,
             "#fde0ef"
            ],
            [
             0.5,
             "#f7f7f7"
            ],
            [
             0.6,
             "#e6f5d0"
            ],
            [
             0.7,
             "#b8e186"
            ],
            [
             0.8,
             "#7fbc41"
            ],
            [
             0.9,
             "#4d9221"
            ],
            [
             1,
             "#276419"
            ]
           ],
           "sequential": [
            [
             0,
             "#0d0887"
            ],
            [
             0.1111111111111111,
             "#46039f"
            ],
            [
             0.2222222222222222,
             "#7201a8"
            ],
            [
             0.3333333333333333,
             "#9c179e"
            ],
            [
             0.4444444444444444,
             "#bd3786"
            ],
            [
             0.5555555555555556,
             "#d8576b"
            ],
            [
             0.6666666666666666,
             "#ed7953"
            ],
            [
             0.7777777777777778,
             "#fb9f3a"
            ],
            [
             0.8888888888888888,
             "#fdca26"
            ],
            [
             1,
             "#f0f921"
            ]
           ],
           "sequentialminus": [
            [
             0,
             "#0d0887"
            ],
            [
             0.1111111111111111,
             "#46039f"
            ],
            [
             0.2222222222222222,
             "#7201a8"
            ],
            [
             0.3333333333333333,
             "#9c179e"
            ],
            [
             0.4444444444444444,
             "#bd3786"
            ],
            [
             0.5555555555555556,
             "#d8576b"
            ],
            [
             0.6666666666666666,
             "#ed7953"
            ],
            [
             0.7777777777777778,
             "#fb9f3a"
            ],
            [
             0.8888888888888888,
             "#fdca26"
            ],
            [
             1,
             "#f0f921"
            ]
           ]
          },
          "colorway": [
           "#636efa",
           "#EF553B",
           "#00cc96",
           "#ab63fa",
           "#FFA15A",
           "#19d3f3",
           "#FF6692",
           "#B6E880",
           "#FF97FF",
           "#FECB52"
          ],
          "font": {
           "color": "#2a3f5f"
          },
          "geo": {
           "bgcolor": "white",
           "lakecolor": "white",
           "landcolor": "white",
           "showlakes": true,
           "showland": true,
           "subunitcolor": "#C8D4E3"
          },
          "hoverlabel": {
           "align": "left"
          },
          "hovermode": "closest",
          "mapbox": {
           "style": "light"
          },
          "paper_bgcolor": "white",
          "plot_bgcolor": "white",
          "polar": {
           "angularaxis": {
            "gridcolor": "#EBF0F8",
            "linecolor": "#EBF0F8",
            "ticks": ""
           },
           "bgcolor": "white",
           "radialaxis": {
            "gridcolor": "#EBF0F8",
            "linecolor": "#EBF0F8",
            "ticks": ""
           }
          },
          "scene": {
           "xaxis": {
            "backgroundcolor": "white",
            "gridcolor": "#DFE8F3",
            "gridwidth": 2,
            "linecolor": "#EBF0F8",
            "showbackground": true,
            "ticks": "",
            "zerolinecolor": "#EBF0F8"
           },
           "yaxis": {
            "backgroundcolor": "white",
            "gridcolor": "#DFE8F3",
            "gridwidth": 2,
            "linecolor": "#EBF0F8",
            "showbackground": true,
            "ticks": "",
            "zerolinecolor": "#EBF0F8"
           },
           "zaxis": {
            "backgroundcolor": "white",
            "gridcolor": "#DFE8F3",
            "gridwidth": 2,
            "linecolor": "#EBF0F8",
            "showbackground": true,
            "ticks": "",
            "zerolinecolor": "#EBF0F8"
           }
          },
          "shapedefaults": {
           "line": {
            "color": "#2a3f5f"
           }
          },
          "ternary": {
           "aaxis": {
            "gridcolor": "#DFE8F3",
            "linecolor": "#A2B1C6",
            "ticks": ""
           },
           "baxis": {
            "gridcolor": "#DFE8F3",
            "linecolor": "#A2B1C6",
            "ticks": ""
           },
           "bgcolor": "white",
           "caxis": {
            "gridcolor": "#DFE8F3",
            "linecolor": "#A2B1C6",
            "ticks": ""
           }
          },
          "title": {
           "x": 0.05
          },
          "xaxis": {
           "automargin": true,
           "gridcolor": "#EBF0F8",
           "linecolor": "#EBF0F8",
           "ticks": "",
           "title": {
            "standoff": 15
           },
           "zerolinecolor": "#EBF0F8",
           "zerolinewidth": 2
          },
          "yaxis": {
           "automargin": true,
           "gridcolor": "#EBF0F8",
           "linecolor": "#EBF0F8",
           "ticks": "",
           "title": {
            "standoff": 15
           },
           "zerolinecolor": "#EBF0F8",
           "zerolinewidth": 2
          }
         }
        },
        "title": {
         "text": "Hurst exponent for volatility"
        },
        "xaxis": {
         "title": {
          "text": "Date"
         }
        },
        "yaxis": {
         "title": {
          "text": "Hurst Value"
         }
        }
       }
      }
     },
     "metadata": {},
     "output_type": "display_data"
    }
   ],
   "source": [
    "import pandas as pd\n",
    "import numpy as np\n",
    "from hurst import compute_Hc\n",
    "\n",
    "def compute_rolling_hurst(df, window, col='log_vol_diff', lag=0):\n",
    "    hurst_values = []\n",
    "    times = []\n",
    "    \n",
    "    # Loop through the DataFrame using the rolling window\n",
    "    for i in range(window - 1, len(df), lag+1):\n",
    "        # Extract the window slice from the series\n",
    "        window_series = df[col].iloc[i - window + 1 : i + 1]\n",
    "        # Compute the Hurst exponent using the 'change' method and simplified calculation\n",
    "        h, c, data = compute_Hc(window_series, kind='change', simplified=True)\n",
    "        \n",
    "        hurst_values.append(h)\n",
    "        times.append(df.index[i])\n",
    "    \n",
    "    # Create and return a new DataFrame with the computed Hurst exponents\n",
    "    result_df = pd.DataFrame({'hurst': hurst_values}, index=times)\n",
    "    return result_df\n",
    "\n",
    "rolling_hurst_150 = compute_rolling_hurst(VIX, window=150, col='log_vol', lag=6)\n",
    "rolling_hurst_350 = compute_rolling_hurst(VIX, window=350, col='log_vol', lag=6)\n",
    "rolling_hurst_500 = compute_rolling_hurst(VIX, window=500, col='log_vol', lag=6)\n",
    "\n",
    "fig = go.Figure()\n",
    "fig.add_trace(go.Scatter(\n",
    "    x=rolling_hurst_150.index,\n",
    "    y=rolling_hurst_150[\"hurst\"],\n",
    "    mode='lines',\n",
    "    name='150 days rolling window',\n",
    "    line=dict(color='blue')\n",
    "))\n",
    "fig.add_trace(go.Scatter(\n",
    "    x=rolling_hurst_350.index,\n",
    "    y=rolling_hurst_350[\"hurst\"],\n",
    "    mode='lines',\n",
    "    name='350 days rolling window',\n",
    "    line=dict(color='red')\n",
    "))\n",
    "fig.add_trace(go.Scatter(\n",
    "    x=rolling_hurst_500.index,\n",
    "    y=rolling_hurst_500[\"hurst\"],\n",
    "    mode='lines',\n",
    "    name='500 days rolling window',\n",
    "    line=dict(color='green')\n",
    "))\n",
    "fig.update_layout(\n",
    "    title=f\"Hurst exponent for volatility\",\n",
    "    xaxis_title=\"Date\",\n",
    "    yaxis_title=\"Hurst Value\",\n",
    "    template=\"plotly_white\"\n",
    ")\n"
   ]
  }
 ],
 "metadata": {
  "kernelspec": {
   "display_name": "base",
   "language": "python",
   "name": "python3"
  },
  "language_info": {
   "codemirror_mode": {
    "name": "ipython",
    "version": 3
   },
   "file_extension": ".py",
   "mimetype": "text/x-python",
   "name": "python",
   "nbconvert_exporter": "python",
   "pygments_lexer": "ipython3",
   "version": "3.9.12"
  }
 },
 "nbformat": 4,
 "nbformat_minor": 2
}
